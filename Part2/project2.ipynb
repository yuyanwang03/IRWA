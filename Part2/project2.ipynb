{
 "cells": [
  {
   "cell_type": "markdown",
   "metadata": {},
   "source": [
    "# IRWA Project Part 2"
   ]
  },
  {
   "cell_type": "markdown",
   "metadata": {},
   "source": [
    "|Name | Email | UPF uNum |\n",
    "| --- | --- | --- |\n",
    "| Clara Pena | clara.pena01@estudiant.upf.edu | u186416 |\n",
    "| Yuyan Wang | yuyan.wang01@estudiant.upf.edu | u199907 |"
   ]
  },
  {
   "cell_type": "markdown",
   "metadata": {},
   "source": [
    "## Import Libraries and Load Data"
   ]
  },
  {
   "cell_type": "code",
   "execution_count": 1,
   "metadata": {},
   "outputs": [],
   "source": [
    "import pandas as pd\n",
    "import numpy as np\n",
    "from collections import defaultdict\n",
    "from array import array\n",
    "from nltk import PorterStemmer, word_tokenize, SnowballStemmer\n",
    "from nltk.corpus import stopwords\n",
    "from collections import Counter\n",
    "import math\n",
    "import numpy.linalg as la\n",
    "import string\n",
    "import textwrap\n",
    "import re"
   ]
  },
  {
   "cell_type": "code",
   "execution_count": 2,
   "metadata": {},
   "outputs": [
    {
     "name": "stdout",
     "output_type": "stream",
     "text": [
      "<class 'pandas.core.frame.DataFrame'>\n",
      "RangeIndex: 117405 entries, 0 to 117404\n",
      "Data columns (total 9 columns):\n",
      " #   Column    Non-Null Count   Dtype \n",
      "---  ------    --------------   ----- \n",
      " 0   id        117405 non-null  int64 \n",
      " 1   content   117404 non-null  object\n",
      " 2   date      117405 non-null  object\n",
      " 3   hashtags  116794 non-null  object\n",
      " 4   likes     117405 non-null  int64 \n",
      " 5   retweets  117405 non-null  int64 \n",
      " 6   url       117405 non-null  object\n",
      " 7   language  117405 non-null  object\n",
      " 8   docId     48427 non-null   object\n",
      "dtypes: int64(3), object(6)\n",
      "memory usage: 8.1+ MB\n"
     ]
    }
   ],
   "source": [
    "df = pd.read_csv(\"./data/processed_data.csv\")\n",
    "\n",
    "df.info()"
   ]
  },
  {
   "cell_type": "markdown",
   "metadata": {},
   "source": [
    "We'll be working with those tweets that have a document ID associated with them; that is, the value in the docID column should not be NaN. This is basically taking those tweets in English. Besides that, for simplicity, we're not using the column language anymore, so it can be dropped."
   ]
  },
  {
   "cell_type": "code",
   "execution_count": 3,
   "metadata": {},
   "outputs": [],
   "source": [
    "tweets_df = df.dropna(subset=['docId']).drop(columns=['language'])"
   ]
  },
  {
   "cell_type": "code",
   "execution_count": 4,
   "metadata": {},
   "outputs": [
    {
     "data": {
      "text/html": [
       "<div>\n",
       "<style scoped>\n",
       "    .dataframe tbody tr th:only-of-type {\n",
       "        vertical-align: middle;\n",
       "    }\n",
       "\n",
       "    .dataframe tbody tr th {\n",
       "        vertical-align: top;\n",
       "    }\n",
       "\n",
       "    .dataframe thead th {\n",
       "        text-align: right;\n",
       "    }\n",
       "</style>\n",
       "<table border=\"1\" class=\"dataframe\">\n",
       "  <thead>\n",
       "    <tr style=\"text-align: right;\">\n",
       "      <th></th>\n",
       "      <th>id</th>\n",
       "      <th>content</th>\n",
       "      <th>date</th>\n",
       "      <th>hashtags</th>\n",
       "      <th>likes</th>\n",
       "      <th>retweets</th>\n",
       "      <th>url</th>\n",
       "      <th>docId</th>\n",
       "    </tr>\n",
       "  </thead>\n",
       "  <tbody>\n",
       "    <tr>\n",
       "      <th>1</th>\n",
       "      <td>1364506167226032128</td>\n",
       "      <td>watch full video farmersprotest nofarmersnofoo...</td>\n",
       "      <td>2021-02-24T09:23:16+00:00</td>\n",
       "      <td>#farmersprotest #NoFarmersNoFood</td>\n",
       "      <td>0</td>\n",
       "      <td>0</td>\n",
       "      <td>https://twitter.com/anmoldhaliwal/status/13645...</td>\n",
       "      <td>doc_2</td>\n",
       "    </tr>\n",
       "    <tr>\n",
       "      <th>6</th>\n",
       "      <td>1364505991887347714</td>\n",
       "      <td>watch full video farmersprotest nofarmersnofood</td>\n",
       "      <td>2021-02-24T09:22:34+00:00</td>\n",
       "      <td>#farmersprotest #NoFarmersNoFood</td>\n",
       "      <td>0</td>\n",
       "      <td>0</td>\n",
       "      <td>https://twitter.com/anmoldhaliwal/status/13645...</td>\n",
       "      <td>doc_3</td>\n",
       "    </tr>\n",
       "    <tr>\n",
       "      <th>9</th>\n",
       "      <td>1364505813834989568</td>\n",
       "      <td>watch full video farmersprotest nofarmersnofood</td>\n",
       "      <td>2021-02-24T09:21:51+00:00</td>\n",
       "      <td>#farmersprotest #NoFarmersNoFood</td>\n",
       "      <td>0</td>\n",
       "      <td>0</td>\n",
       "      <td>https://twitter.com/anmoldhaliwal/status/13645...</td>\n",
       "      <td>doc_4</td>\n",
       "    </tr>\n",
       "    <tr>\n",
       "      <th>10</th>\n",
       "      <td>1364505749359976448</td>\n",
       "      <td>anoth farmer malkeet singh mahilpur hoshiarpur...</td>\n",
       "      <td>2021-02-24T09:21:36+00:00</td>\n",
       "      <td>#FarmersProtest</td>\n",
       "      <td>3</td>\n",
       "      <td>3</td>\n",
       "      <td>https://twitter.com/ShariaActivist/status/1364...</td>\n",
       "      <td>doc_5</td>\n",
       "    </tr>\n",
       "    <tr>\n",
       "      <th>14</th>\n",
       "      <td>1364505676375076867</td>\n",
       "      <td>hi tell boss modidontsellfarm thank farmerspro...</td>\n",
       "      <td>2021-02-24T09:21:19+00:00</td>\n",
       "      <td>#ModiDontSellFarmers #FarmersProtest</td>\n",
       "      <td>0</td>\n",
       "      <td>0</td>\n",
       "      <td>https://twitter.com/KaurDosanjh1979/status/136...</td>\n",
       "      <td>doc_6</td>\n",
       "    </tr>\n",
       "    <tr>\n",
       "      <th>16</th>\n",
       "      <td>1364505511073300481</td>\n",
       "      <td>watch full video farmersprotest nofarmersnofood</td>\n",
       "      <td>2021-02-24T09:20:39+00:00</td>\n",
       "      <td>#farmersprotest #NoFarmersNoFood</td>\n",
       "      <td>0</td>\n",
       "      <td>0</td>\n",
       "      <td>https://twitter.com/anmoldhaliwal/status/13645...</td>\n",
       "      <td>doc_7</td>\n",
       "    </tr>\n",
       "    <tr>\n",
       "      <th>18</th>\n",
       "      <td>1364505452134817795</td>\n",
       "      <td>despit increas tax petroldiesel must increas t...</td>\n",
       "      <td>2021-02-24T09:20:25+00:00</td>\n",
       "      <td>#taxes #petrolDiesel #taxes #alcohol #cigarett...</td>\n",
       "      <td>1</td>\n",
       "      <td>1</td>\n",
       "      <td>https://twitter.com/Satende09192805/status/136...</td>\n",
       "      <td>doc_8</td>\n",
       "    </tr>\n",
       "    <tr>\n",
       "      <th>20</th>\n",
       "      <td>1364505443997937669</td>\n",
       "      <td>mockeri menac sedit charg farmersprotest</td>\n",
       "      <td>2021-02-24T09:20:23+00:00</td>\n",
       "      <td>#sedition #FarmersProtest</td>\n",
       "      <td>0</td>\n",
       "      <td>0</td>\n",
       "      <td>https://twitter.com/algo_121/status/1364505443...</td>\n",
       "      <td>doc_9</td>\n",
       "    </tr>\n",
       "    <tr>\n",
       "      <th>25</th>\n",
       "      <td>1364505314586951680</td>\n",
       "      <td>watch full video farmersprotest nofarmersnofood</td>\n",
       "      <td>2021-02-24T09:19:52+00:00</td>\n",
       "      <td>#farmersprotest #NoFarmersNoFood</td>\n",
       "      <td>0</td>\n",
       "      <td>0</td>\n",
       "      <td>https://twitter.com/anmoldhaliwal/status/13645...</td>\n",
       "      <td>doc_10</td>\n",
       "    </tr>\n",
       "    <tr>\n",
       "      <th>26</th>\n",
       "      <td>1364505255946379268</td>\n",
       "      <td>left hear modi lol farmersprotest</td>\n",
       "      <td>2021-02-24T09:19:38+00:00</td>\n",
       "      <td>#FarmersProtest</td>\n",
       "      <td>1</td>\n",
       "      <td>0</td>\n",
       "      <td>https://twitter.com/kdhanjal12/status/13645052...</td>\n",
       "      <td>doc_11</td>\n",
       "    </tr>\n",
       "  </tbody>\n",
       "</table>\n",
       "</div>"
      ],
      "text/plain": [
       "                     id                                            content  \\\n",
       "1   1364506167226032128  watch full video farmersprotest nofarmersnofoo...   \n",
       "6   1364505991887347714    watch full video farmersprotest nofarmersnofood   \n",
       "9   1364505813834989568    watch full video farmersprotest nofarmersnofood   \n",
       "10  1364505749359976448  anoth farmer malkeet singh mahilpur hoshiarpur...   \n",
       "14  1364505676375076867  hi tell boss modidontsellfarm thank farmerspro...   \n",
       "16  1364505511073300481    watch full video farmersprotest nofarmersnofood   \n",
       "18  1364505452134817795  despit increas tax petroldiesel must increas t...   \n",
       "20  1364505443997937669           mockeri menac sedit charg farmersprotest   \n",
       "25  1364505314586951680    watch full video farmersprotest nofarmersnofood   \n",
       "26  1364505255946379268                  left hear modi lol farmersprotest   \n",
       "\n",
       "                         date  \\\n",
       "1   2021-02-24T09:23:16+00:00   \n",
       "6   2021-02-24T09:22:34+00:00   \n",
       "9   2021-02-24T09:21:51+00:00   \n",
       "10  2021-02-24T09:21:36+00:00   \n",
       "14  2021-02-24T09:21:19+00:00   \n",
       "16  2021-02-24T09:20:39+00:00   \n",
       "18  2021-02-24T09:20:25+00:00   \n",
       "20  2021-02-24T09:20:23+00:00   \n",
       "25  2021-02-24T09:19:52+00:00   \n",
       "26  2021-02-24T09:19:38+00:00   \n",
       "\n",
       "                                             hashtags  likes  retweets  \\\n",
       "1                    #farmersprotest #NoFarmersNoFood      0         0   \n",
       "6                    #farmersprotest #NoFarmersNoFood      0         0   \n",
       "9                    #farmersprotest #NoFarmersNoFood      0         0   \n",
       "10                                    #FarmersProtest      3         3   \n",
       "14               #ModiDontSellFarmers #FarmersProtest      0         0   \n",
       "16                   #farmersprotest #NoFarmersNoFood      0         0   \n",
       "18  #taxes #petrolDiesel #taxes #alcohol #cigarett...      1         1   \n",
       "20                          #sedition #FarmersProtest      0         0   \n",
       "25                   #farmersprotest #NoFarmersNoFood      0         0   \n",
       "26                                    #FarmersProtest      1         0   \n",
       "\n",
       "                                                  url   docId  \n",
       "1   https://twitter.com/anmoldhaliwal/status/13645...   doc_2  \n",
       "6   https://twitter.com/anmoldhaliwal/status/13645...   doc_3  \n",
       "9   https://twitter.com/anmoldhaliwal/status/13645...   doc_4  \n",
       "10  https://twitter.com/ShariaActivist/status/1364...   doc_5  \n",
       "14  https://twitter.com/KaurDosanjh1979/status/136...   doc_6  \n",
       "16  https://twitter.com/anmoldhaliwal/status/13645...   doc_7  \n",
       "18  https://twitter.com/Satende09192805/status/136...   doc_8  \n",
       "20  https://twitter.com/algo_121/status/1364505443...   doc_9  \n",
       "25  https://twitter.com/anmoldhaliwal/status/13645...  doc_10  \n",
       "26  https://twitter.com/kdhanjal12/status/13645052...  doc_11  "
      ]
     },
     "execution_count": 4,
     "metadata": {},
     "output_type": "execute_result"
    }
   ],
   "source": [
    "tweets_df.head(10)"
   ]
  },
  {
   "cell_type": "code",
   "execution_count": 5,
   "metadata": {},
   "outputs": [
    {
     "name": "stdout",
     "output_type": "stream",
     "text": [
      "<class 'pandas.core.frame.DataFrame'>\n",
      "Index: 48427 entries, 1 to 117404\n",
      "Data columns (total 8 columns):\n",
      " #   Column    Non-Null Count  Dtype \n",
      "---  ------    --------------  ----- \n",
      " 0   id        48427 non-null  int64 \n",
      " 1   content   48427 non-null  object\n",
      " 2   date      48427 non-null  object\n",
      " 3   hashtags  48153 non-null  object\n",
      " 4   likes     48427 non-null  int64 \n",
      " 5   retweets  48427 non-null  int64 \n",
      " 6   url       48427 non-null  object\n",
      " 7   docId     48427 non-null  object\n",
      "dtypes: int64(3), object(5)\n",
      "memory usage: 3.3+ MB\n"
     ]
    }
   ],
   "source": [
    "tweets_df.info()"
   ]
  },
  {
   "cell_type": "markdown",
   "metadata": {},
   "source": [
    "## Indexing"
   ]
  },
  {
   "cell_type": "markdown",
   "metadata": {},
   "source": [
    "### Build inverted index"
   ]
  },
  {
   "cell_type": "code",
   "execution_count": 6,
   "metadata": {},
   "outputs": [],
   "source": [
    "def create_index(df):\n",
    "    index = defaultdict(list)\n",
    "    \n",
    "    for idx, row in df.iterrows():\n",
    "        doc_id = row['docId']\n",
    "        terms = row['content'].split()\n",
    "        \n",
    "        current_page_index = {}\n",
    "        for position, term in enumerate(terms):\n",
    "            if term in current_page_index:\n",
    "                current_page_index[term][1].append(position)\n",
    "            else:\n",
    "                current_page_index[term] = [doc_id, array('I', [position])]  # 'I' for array of unsigned ints.\n",
    "\n",
    "        # Merge the current page index with the main index\n",
    "        for term_page, posting_page in current_page_index.items():\n",
    "            index[term_page].append(posting_page)\n",
    "\n",
    "    return index"
   ]
  },
  {
   "cell_type": "code",
   "execution_count": 7,
   "metadata": {},
   "outputs": [],
   "source": [
    "index = create_index(tweets_df)"
   ]
  },
  {
   "cell_type": "code",
   "execution_count": 8,
   "metadata": {},
   "outputs": [
    {
     "name": "stdout",
     "output_type": "stream",
     "text": [
      "30477\n"
     ]
    }
   ],
   "source": [
    "print(len(index))"
   ]
  },
  {
   "cell_type": "code",
   "execution_count": 9,
   "metadata": {},
   "outputs": [],
   "source": [
    "def build_terms(line):\n",
    "    # stemmer = PorterStemmer()\n",
    "    stemmer = SnowballStemmer(\"english\")\n",
    "    stop_words = set(stopwords.words(\"english\"))\n",
    "    line = line.lower()\n",
    "\n",
    "    # Handle contractions by removing possessive endings and common contractions\n",
    "    line = re.sub(r\"\\b(\\w+)'s\\b\", r'\\1', line)  # Changes \"people's\" to \"people\"\n",
    "    line = re.sub(r\"\\b(\\w+)n't\\b\", r'\\1 not', line)  # Changes \"isn't\" to \"is not\"\n",
    "    line = re.sub(r\"\\b(\\w+)'ll\\b\", r'\\1 will', line)  # Changes \"I'll\" to \"I will\"\n",
    "    line = re.sub(r\"\\b(\\w+)'d\\b\", r'\\1 would', line)  # Changes \"I'd\" to \"I would\"\n",
    "    line = re.sub(r\"\\b(\\w+)'re\\b\", r'\\1 are', line)  # Changes \"you're\" to \"you are\"\n",
    "    line = re.sub(r\"\\b(\\w+)'ve\\b\", r'\\1 have', line)  # Changes \"I've\" to \"I have\"\n",
    "\n",
    "    line = line.split()\n",
    "\n",
    "    table = str.maketrans('', '', string.punctuation)\n",
    "    line = [w.translate(table) for w in line]\n",
    "    line = [w for w in line if w not in stop_words]\n",
    "    line = [stemmer.stem(w) for w in line] \n",
    "    return line"
   ]
  },
  {
   "cell_type": "code",
   "execution_count": 10,
   "metadata": {},
   "outputs": [],
   "source": [
    "def search(query, index):\n",
    "    query = build_terms(query)  # Normalize and tokenize the query.\n",
    "    docs = None  # Initialize docs as None to handle the intersection.\n",
    "\n",
    "    for term in query:\n",
    "        try:\n",
    "            # Extract the document IDs for the term.\n",
    "            term_docs = set([posting[0] for posting in index[term]])\n",
    "\n",
    "            if docs is None:\n",
    "                # Initialize docs with the set of document IDs for the first term.\n",
    "                docs = term_docs\n",
    "            else:\n",
    "                # Intersect the sets of document IDs.\n",
    "                docs = docs.intersection(term_docs)\n",
    "        except KeyError:\n",
    "            # If the term is not in the index, return an empty list because no documents can satisfy the query.\n",
    "            return []\n",
    "\n",
    "    if docs is None:\n",
    "        return []  # If no terms were processed, return an empty list.\n",
    "    else:\n",
    "        return list(docs)  # Convert the set to a list before returning."
   ]
  },
  {
   "cell_type": "markdown",
   "metadata": {},
   "source": [
    "### Propose test queries"
   ]
  },
  {
   "cell_type": "code",
   "execution_count": 11,
   "metadata": {},
   "outputs": [
    {
     "name": "stdout",
     "output_type": "stream",
     "text": [
      "[('farmersprotest', 50272), ('farmer', 17421), ('india', 7724), ('support', 6004), ('protest', 4787), ('amp', 4728), ('right', 3594), ('peopl', 3526), ('modi', 3113), ('indian', 3008), ('govern', 2753), ('bjp', 2649), ('law', 2570), ('releasedetainedfarm', 2432), ('govt', 2338), ('stand', 2207), ('farmersmakeindia', 2133), ('indiabeingsilenc', 2133), ('thank', 2129), ('farm', 2066)]\n"
     ]
    }
   ],
   "source": [
    "# Calculate the top n terms in the DataFrame for the specified column.\n",
    "def get_top_terms(df, column='content', top_n=10):\n",
    "    text = ' '.join(df[column].dropna())  # Combine all text and convert to lower case.\n",
    "    words = text.split()\n",
    "    # Get a count of all words\n",
    "    word_count = Counter(words)\n",
    "    # Return the most common words\n",
    "    return word_count.most_common(top_n)\n",
    "\n",
    "top_terms = get_top_terms(tweets_df, column='content', top_n=20)\n",
    "print(top_terms)"
   ]
  },
  {
   "cell_type": "markdown",
   "metadata": {},
   "source": [
    "* “farmers protest India”: This query integrates the most frequent term ‘farmersprotest’ with ‘India’, capturing a broad perspective of the geographical context. It is designed to test the engine’s capability to fetch documents that discuss the nationwide impact and scale of the protests. The inclusion of ‘India’ helps to ensure that the search results are not just about protests in general but specifically about the farmers’ protests within the Indian context.\n",
    "\t\n",
    "* “support farmer rights”: By combining ‘support’ with ‘farmer’ and ‘rights’, this query delves into the solidarity and advocacy aspects surrounding the protests. It focuses on the socio-political dimensions of the farmers’ rights being debated or upheld. This query is intended to evaluate how well the search engine can identify and retrieve content that discusses support mechanisms, both local and global, for the farmers amidst the protests.\n",
    "\t\n",
    "* “Modi government response”: Including ‘Modi’ and ‘government’ targets discussions related to the administrative and political response to the protests. Given that government actions and policies are central to the unfolding of the protests, this query checks the engine’s effectiveness in pulling up content that critically examines or reports on the government’s strategies and reactions, providing a lens into the political narrative.\n",
    "\t\n",
    "* “BJP agricultural laws”: Merging ‘BJP’ with ‘laws’ specifically focuses on the political party in power and the controversial agricultural laws that sparked the protests. This query is crafted to test the search engine’s precision in sifting through discussions related to legislative actions and political affiliations that are pivotal to understanding the core issues of the protests. It aims to highlight documents that discuss the legal frameworks and political viewpoints that define the conflict.\n",
    "\t\n",
    "* “Indian farmers rally”: This query combines ‘Indian’ with ‘farmers’ and adds a dynamic aspect with ‘rally’, pointing to organized protest events. It is designed to retrieve documents that detail specific events, their significance, and the participation dynamics during the protests. This tests the search engine’s ability to focus on event-based reporting and narratives that capture the mobilization and active participation of the farming community."
   ]
  },
  {
   "cell_type": "code",
   "execution_count": 12,
   "metadata": {},
   "outputs": [
    {
     "name": "stdout",
     "output_type": "stream",
     "text": [
      "\n",
      "======================\n",
      "Sample of 10 results out of 663 for the searched query 'farmers protest India':\n",
      "\n",
      "docId = doc_15320\n",
      "docId = doc_30044\n",
      "docId = doc_26409\n",
      "docId = doc_46080\n",
      "docId = doc_27747\n",
      "docId = doc_28251\n",
      "docId = doc_26993\n",
      "docId = doc_9707\n",
      "docId = doc_11599\n",
      "docId = doc_23208\n",
      "\n",
      "======================\n",
      "Sample of 10 results out of 191 for the searched query 'support farmer rights':\n",
      "\n",
      "docId = doc_36518\n",
      "docId = doc_17966\n",
      "docId = doc_9696\n",
      "docId = doc_10428\n",
      "docId = doc_10318\n",
      "docId = doc_1982\n",
      "docId = doc_28348\n",
      "docId = doc_18507\n",
      "docId = doc_25859\n",
      "docId = doc_1164\n",
      "\n",
      "======================\n",
      "Sample of 3 results out of 3 for the searched query 'Modi government response':\n",
      "\n",
      "docId = doc_41021\n",
      "docId = doc_6051\n",
      "docId = doc_34963\n",
      "\n",
      "======================\n",
      "Sample of 1 results out of 1 for the searched query 'BJP agricultural laws':\n",
      "\n",
      "docId = doc_36520\n",
      "\n",
      "======================\n",
      "Sample of 8 results out of 8 for the searched query 'Indian farmers rally':\n",
      "\n",
      "docId = doc_10473\n",
      "docId = doc_6054\n",
      "docId = doc_6164\n",
      "docId = doc_8358\n",
      "docId = doc_21895\n",
      "docId = doc_9166\n",
      "docId = doc_40580\n",
      "docId = doc_17704\n"
     ]
    }
   ],
   "source": [
    "def simulate_search(queries, index):\n",
    "    for query in queries:\n",
    "        docs = search(query, index)\n",
    "        top = 10  # Number of results to display\n",
    "        num_results = len(docs)\n",
    "        \n",
    "        print(\"\\n======================\\nSample of {} results out of {} for the searched query '{}':\\n\".format(min(top, num_results), num_results, query))\n",
    "        for d_id in docs[:top]:\n",
    "            print(\"docId = {}\".format(d_id))\n",
    "\n",
    "# List of queries to be processed\n",
    "queries = [\n",
    "    \"farmers protest India\",\n",
    "    \"support farmer rights\",\n",
    "    \"Modi government response\",\n",
    "    \"BJP agricultural laws\",\n",
    "    \"Indian farmers rally\"\n",
    "]\n",
    "\n",
    "simulate_search(queries, index)"
   ]
  },
  {
   "cell_type": "markdown",
   "metadata": {},
   "source": [
    "### Rank your results"
   ]
  },
  {
   "cell_type": "code",
   "execution_count": 13,
   "metadata": {},
   "outputs": [],
   "source": [
    "def create_index_tfidf(dataframe):\n",
    "    # num_documents = len(df)\n",
    "    num_documents = dataframe['docId'].nunique()\n",
    "    index = defaultdict(list)\n",
    "    # tf = defaultdict(dict)  # Normalized term frequencies of terms in documents\n",
    "    tf = defaultdict(list)\n",
    "    df = defaultdict(int)  # Document frequencies of terms\n",
    "    idf = defaultdict(float)\n",
    "\n",
    "    for idx, row in dataframe.iterrows():\n",
    "        doc_id = row['docId']\n",
    "        terms = row['content'].split()\n",
    "        \n",
    "        current_page_index = {}\n",
    "\n",
    "        for position, term in enumerate(terms):\n",
    "            if term in current_page_index:\n",
    "                # Append the position to the corresponding list in the array\n",
    "                current_page_index[term][1].append(position)\n",
    "            else:\n",
    "                # Initialize the list with page_id and a new array\n",
    "                current_page_index[term] = [doc_id, array('I', [position])]\n",
    "\n",
    "        # Calculate the norm for the terms in the document\n",
    "        norm = math.sqrt(sum(len(positions[1])**2 for positions in current_page_index.values()))\n",
    "\n",
    "        # calculate the tf(dividing the term frequency by the above computed norm) and df weights\n",
    "        for term, posting in current_page_index.items():\n",
    "            # append the tf for current term (tf = term frequency in current doc/norm)\n",
    "            tf[term].append(np.round(len(posting[1])/norm,4)) ## SEE formula (1) above\n",
    "            #increment the document frequency of current term (number of documents containing the current term)\n",
    "            df[term] += 1 # increment DF for current term\n",
    "        \n",
    "        # Merge the current page index with the main index\n",
    "        for term_page, posting_page in current_page_index.items():\n",
    "            index[term_page].append(posting_page)\n",
    "\n",
    "    # Calculate IDF for each term\n",
    "    for term in df:\n",
    "        idf[term] = math.log(num_documents / (1 + df[term]))  # Smoothing by adding 1 to denominator\n",
    "\n",
    "    return index, tf, df, idf"
   ]
  },
  {
   "cell_type": "code",
   "execution_count": 14,
   "metadata": {},
   "outputs": [],
   "source": [
    "index, tf, df, idf = create_index_tfidf(tweets_df)"
   ]
  },
  {
   "cell_type": "code",
   "execution_count": 15,
   "metadata": {},
   "outputs": [],
   "source": [
    "def rank_documents(terms, docs, index, idf, tf):\n",
    "    \"\"\"\n",
    "    Perform the ranking of the results of a search based on the tf-idf weights\n",
    "    \n",
    "    Arguments:\n",
    "    terms -- list of query terms\n",
    "    docs -- list of documents, to rank, matching the query\n",
    "    index -- inverted index data structure\n",
    "    idf -- inverted document frequencies\n",
    "    tf -- term frequencies\n",
    "    \n",
    "    Returns:\n",
    "    List of ranked documents based on the relevance\n",
    "    \"\"\"\n",
    "    doc_vectors = defaultdict(lambda: np.zeros(len(terms)))\n",
    "    query_vector = np.zeros(len(terms))\n",
    "    query_terms_count = Counter(terms)\n",
    "    query_norm = la.norm(list(query_terms_count.values()))\n",
    "\n",
    "    # Compute the tf-idf for the query vector\n",
    "    for term_index, term in enumerate(terms):\n",
    "        if term in idf:\n",
    "            query_vector[term_index] = query_terms_count[term] / query_norm * idf[term]\n",
    "            if term not in index:\n",
    "                continue\n",
    "    \n",
    "            for doc_index, (doc, postings) in enumerate(index[term]):\n",
    "                if doc in docs:\n",
    "                    doc_vectors[doc][term_index] = tf[term][doc_index] * idf[term]  # T\n",
    "            \n",
    "    # Calculate the score of each doc using cosine similarity (dot product of normalized vectors)\n",
    "    doc_scores = [[np.dot(cur_doc_vec, query_vector), doc] for doc, cur_doc_vec in doc_vectors.items()]\n",
    "    doc_scores.sort(reverse=True, key=lambda x: x[0])\n",
    "    # print(doc_scores)\n",
    "    result_docs = [x[1] for x in doc_scores]\n",
    "\n",
    "    if len(result_docs) == 0:\n",
    "        print(\"No results found, try again\")\n",
    "    else:\n",
    "        return result_docs"
   ]
  },
  {
   "cell_type": "code",
   "execution_count": 16,
   "metadata": {},
   "outputs": [],
   "source": [
    "def search_tf_idf(query, index, idf, tf):\n",
    "    \"\"\"\n",
    "    Output is the list of documents that contain all of the query terms. \n",
    "    This requires taking the intersection of the lists of documents for each query term.\n",
    "    \"\"\"\n",
    "    query = build_terms(query)\n",
    "    # print(query)\n",
    "    docs = None  # Initialize to None to handle the first term's document set initialization\n",
    "\n",
    "    for term in query:\n",
    "        if term in index:\n",
    "            term_docs = set([posting[0] for posting in index[term]])  # Collect all document IDs containing this term\n",
    "            if docs is None:\n",
    "                docs = term_docs\n",
    "            else:\n",
    "                docs = docs.intersection(term_docs)  # Intersection with the accumulated set of documents\n",
    "        else:\n",
    "            return []  # If any term is not found, the intersection is empty\n",
    "\n",
    "    if docs is None:\n",
    "        return []  # No terms found, return empty list\n",
    "\n",
    "    docs = list(docs)  # Convert set to list if necessary\n",
    "    ranked_docs = rank_documents(query, docs, index, idf, tf)  # Rank the documents based on the relevance\n",
    "    return ranked_docs"
   ]
  },
  {
   "cell_type": "code",
   "execution_count": 17,
   "metadata": {},
   "outputs": [],
   "source": [
    "def simulate_search_tf_idf(queries, index, idf, tf):\n",
    "    for query in queries:\n",
    "        ranked_docs = search_tf_idf(query, index, idf, tf)\n",
    "        top = 10  # Number of results to display\n",
    "        num_results = len(ranked_docs)\n",
    "        \n",
    "        print(\"\\n======================\\nSample of {} results out of {} for the searched query '{}':\\n\".format(min(top, num_results), num_results, query))\n",
    "        for d_id in ranked_docs[:top]:\n",
    "            print(\"docId = {}\".format(d_id))\n",
    "\n",
    "# List of queries to be processed\n",
    "queries = [\n",
    "    \"farmers protest India\",\n",
    "    \"support farmer rights\",\n",
    "    \"Modi government response\",\n",
    "    \"BJP agricultural laws\",\n",
    "    \"Indian farmers rally\"\n",
    "]"
   ]
  },
  {
   "cell_type": "code",
   "execution_count": 18,
   "metadata": {},
   "outputs": [
    {
     "name": "stdout",
     "output_type": "stream",
     "text": [
      "\n",
      "======================\n",
      "Sample of 10 results out of 663 for the searched query 'farmers protest India':\n",
      "\n",
      "docId = doc_32847\n",
      "docId = doc_445\n",
      "docId = doc_46574\n",
      "docId = doc_14709\n",
      "docId = doc_25292\n",
      "docId = doc_39810\n",
      "docId = doc_44918\n",
      "docId = doc_20117\n",
      "docId = doc_27852\n",
      "docId = doc_44493\n",
      "\n",
      "======================\n",
      "Sample of 10 results out of 191 for the searched query 'support farmer rights':\n",
      "\n",
      "docId = doc_28329\n",
      "docId = doc_46347\n",
      "docId = doc_14131\n",
      "docId = doc_14740\n",
      "docId = doc_46478\n",
      "docId = doc_27922\n",
      "docId = doc_10402\n",
      "docId = doc_40408\n",
      "docId = doc_7452\n",
      "docId = doc_41111\n",
      "\n",
      "======================\n",
      "Sample of 3 results out of 3 for the searched query 'Modi government response':\n",
      "\n",
      "docId = doc_41021\n",
      "docId = doc_34963\n",
      "docId = doc_6051\n",
      "\n",
      "======================\n",
      "Sample of 1 results out of 1 for the searched query 'BJP agricultural laws':\n",
      "\n",
      "docId = doc_36520\n",
      "\n",
      "======================\n",
      "Sample of 8 results out of 8 for the searched query 'Indian farmers rally':\n",
      "\n",
      "docId = doc_17704\n",
      "docId = doc_8358\n",
      "docId = doc_6164\n",
      "docId = doc_40580\n",
      "docId = doc_9166\n",
      "docId = doc_10473\n",
      "docId = doc_6054\n",
      "docId = doc_21895\n"
     ]
    }
   ],
   "source": [
    "simulate_search_tf_idf(queries, index, idf, tf)"
   ]
  },
  {
   "cell_type": "markdown",
   "metadata": {},
   "source": [
    "## Evaluation"
   ]
  },
  {
   "cell_type": "code",
   "execution_count": 19,
   "metadata": {},
   "outputs": [],
   "source": [
    "evaluation_gt = pd.read_csv('./data/evaluation_gt.csv', sep=';')\n",
    "df_eva = pd.merge(tweets_df, evaluation_gt, on='docId', how='left')\n",
    "\n",
    "pd.set_option('display.max_colwidth', None)\n",
    "\n",
    "query_1_relevant = (df_eva[(df_eva['query_id'] == 1) & (df_eva['label'] == 1)])['docId'].unique()\n",
    "query_1_not_relevant = (df_eva[(df_eva['query_id'] == 1) & (df_eva['label'] == 0)])['docId'].unique()\n",
    "\n",
    "query_2_relevant = (df_eva[(df_eva['query_id'] == 2) & (df_eva['label'] == 1)])['docId'].unique()\n",
    "query_2_not_relevant = (df_eva[(df_eva['query_id'] == 2) & (df_eva['label'] == 0)])['docId'].unique()\n"
   ]
  },
  {
   "cell_type": "code",
   "execution_count": 20,
   "metadata": {},
   "outputs": [],
   "source": [
    "# Keep in mind that for the evaluation part we will be using only the subset of documents that are being defined in the evaluation_gt.csv\n",
    "df_subset_documents = df_eva[df_eva['query_id'].notnull()]\n",
    "subset_documents = df_subset_documents['docId'].unique()"
   ]
  },
  {
   "cell_type": "code",
   "execution_count": 21,
   "metadata": {},
   "outputs": [],
   "source": [
    "index, tf, df, idf = create_index_tfidf(df_subset_documents)"
   ]
  },
  {
   "cell_type": "code",
   "execution_count": 24,
   "metadata": {},
   "outputs": [],
   "source": [
    "query_1_results = search_tf_idf(\"people's rights\", index, idf, tf)\n",
    "query_2_results = search_tf_idf(\"Indian government\", index, idf, tf)"
   ]
  },
  {
   "cell_type": "code",
   "execution_count": 27,
   "metadata": {},
   "outputs": [
    {
     "name": "stdout",
     "output_type": "stream",
     "text": [
      "Ground Truth Files Query 1 (subset): ['doc_1047' 'doc_2100' 'doc_3287' 'doc_3474' 'doc_3570' 'doc_4053'\n",
      " 'doc_5480' 'doc_5512' 'doc_5751' 'doc_6477' 'doc_8066' 'doc_9696'\n",
      " 'doc_9850' 'doc_9937' 'doc_10048']\n",
      "\n",
      "Our Obtained Results Query 1: ['doc_4053', 'doc_9850', 'doc_9696', 'doc_6477', 'doc_2100', 'doc_2732', 'doc_8819',\n",
      "'doc_43341', 'doc_8066', 'doc_5480', 'doc_3474', 'doc_43540', 'doc_5751', 'doc_10048',\n",
      "'doc_5512', 'doc_1047', 'doc_3287', 'doc_3570', 'doc_9937']\n",
      "\n",
      "Ground Truth Files Query 2 (subset): ['doc_103' 'doc_1566' 'doc_1651' 'doc_1666' 'doc_1785' 'doc_2528'\n",
      " 'doc_2653' 'doc_3005' 'doc_3076' 'doc_3116' 'doc_3646' 'doc_3682'\n",
      " 'doc_3927' 'doc_4176' 'doc_4304']\n",
      "\n",
      "Our Obtained Results Query 2: ['doc_3116', 'doc_103', 'doc_1566', 'doc_3076', 'doc_3682', 'doc_3646', 'doc_2653',\n",
      "'doc_3927', 'doc_1666', 'doc_3005', 'doc_1651', 'doc_4304', 'doc_1785', 'doc_4176',\n",
      "'doc_2528']\n",
      "\n"
     ]
    }
   ],
   "source": [
    "def print_wrapped(title, data):\n",
    "    wrapper = textwrap.TextWrapper(width=90)\n",
    "    wrapped_text = wrapper.fill(str(data))\n",
    "    print(f\"{title} {wrapped_text}\\n\")\n",
    "\n",
    "print(f\"Ground Truth Files Query 1 (subset): {query_1_relevant}\\n\")\n",
    "print_wrapped(\"Our Obtained Results Query 1:\", query_1_results)\n",
    "\n",
    "print(f\"Ground Truth Files Query 2 (subset): {query_2_relevant}\\n\")\n",
    "print_wrapped(\"Our Obtained Results Query 2:\", query_2_results)\n"
   ]
  }
 ],
 "metadata": {
  "kernelspec": {
   "display_name": "venv",
   "language": "python",
   "name": "python3"
  },
  "language_info": {
   "codemirror_mode": {
    "name": "ipython",
    "version": 3
   },
   "file_extension": ".py",
   "mimetype": "text/x-python",
   "name": "python",
   "nbconvert_exporter": "python",
   "pygments_lexer": "ipython3",
   "version": "3.9.6"
  }
 },
 "nbformat": 4,
 "nbformat_minor": 2
}
