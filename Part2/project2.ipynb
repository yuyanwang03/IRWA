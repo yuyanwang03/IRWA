{
 "cells": [
  {
   "cell_type": "markdown",
   "metadata": {},
   "source": [
    "# IRWA Project Part 2"
   ]
  },
  {
   "cell_type": "markdown",
   "metadata": {},
   "source": [
    "|Name | Email | UPF uNum |\n",
    "| --- | --- | --- |\n",
    "| Clara Pena | clara.pena01@estudiant.upf.edu | u186416 |\n",
    "| Yuyan Wang | yuyan.wang01@estudiant.upf.edu | u199907 |"
   ]
  },
  {
   "cell_type": "markdown",
   "metadata": {},
   "source": [
    "## Import Libraries and Load Data"
   ]
  },
  {
   "cell_type": "code",
   "execution_count": 1,
   "metadata": {},
   "outputs": [],
   "source": [
    "import pandas as pd\n",
    "import numpy as np"
   ]
  },
  {
   "cell_type": "code",
   "execution_count": 2,
   "metadata": {},
   "outputs": [
    {
     "name": "stdout",
     "output_type": "stream",
     "text": [
      "<class 'pandas.core.frame.DataFrame'>\n",
      "RangeIndex: 117405 entries, 0 to 117404\n",
      "Data columns (total 9 columns):\n",
      " #   Column    Non-Null Count   Dtype \n",
      "---  ------    --------------   ----- \n",
      " 0   id        117405 non-null  int64 \n",
      " 1   content   117404 non-null  object\n",
      " 2   date      117405 non-null  object\n",
      " 3   hashtags  116794 non-null  object\n",
      " 4   likes     117405 non-null  int64 \n",
      " 5   retweets  117405 non-null  int64 \n",
      " 6   url       117405 non-null  object\n",
      " 7   language  117405 non-null  object\n",
      " 8   docId     48427 non-null   object\n",
      "dtypes: int64(3), object(6)\n",
      "memory usage: 8.1+ MB\n"
     ]
    }
   ],
   "source": [
    "df = pd.read_csv(\"./data/processed_data.csv\")\n",
    "\n",
    "df.info()"
   ]
  },
  {
   "cell_type": "markdown",
   "metadata": {},
   "source": [
    "We'll be working with those tweets that have a document ID associated with them; that is, the value in the docID column should not be NaN. This is basically taking those tweets in English. Besides that, for simplicity, we're not using the column language anymore, so it can be dropped."
   ]
  },
  {
   "cell_type": "code",
   "execution_count": 5,
   "metadata": {},
   "outputs": [],
   "source": [
    "df = df.dropna(subset=['docId']).drop(columns=['language'])"
   ]
  },
  {
   "cell_type": "code",
   "execution_count": 6,
   "metadata": {},
   "outputs": [
    {
     "data": {
      "text/html": [
       "<div>\n",
       "<style scoped>\n",
       "    .dataframe tbody tr th:only-of-type {\n",
       "        vertical-align: middle;\n",
       "    }\n",
       "\n",
       "    .dataframe tbody tr th {\n",
       "        vertical-align: top;\n",
       "    }\n",
       "\n",
       "    .dataframe thead th {\n",
       "        text-align: right;\n",
       "    }\n",
       "</style>\n",
       "<table border=\"1\" class=\"dataframe\">\n",
       "  <thead>\n",
       "    <tr style=\"text-align: right;\">\n",
       "      <th></th>\n",
       "      <th>id</th>\n",
       "      <th>content</th>\n",
       "      <th>date</th>\n",
       "      <th>hashtags</th>\n",
       "      <th>likes</th>\n",
       "      <th>retweets</th>\n",
       "      <th>url</th>\n",
       "      <th>docId</th>\n",
       "    </tr>\n",
       "  </thead>\n",
       "  <tbody>\n",
       "    <tr>\n",
       "      <th>1</th>\n",
       "      <td>1364506167226032128</td>\n",
       "      <td>watch full video farmersprotest nofarmersnofoo...</td>\n",
       "      <td>2021-02-24T09:23:16+00:00</td>\n",
       "      <td>#farmersprotest #NoFarmersNoFood</td>\n",
       "      <td>0</td>\n",
       "      <td>0</td>\n",
       "      <td>https://twitter.com/anmoldhaliwal/status/13645...</td>\n",
       "      <td>doc_2</td>\n",
       "    </tr>\n",
       "    <tr>\n",
       "      <th>6</th>\n",
       "      <td>1364505991887347714</td>\n",
       "      <td>watch full video farmersprotest nofarmersnofood</td>\n",
       "      <td>2021-02-24T09:22:34+00:00</td>\n",
       "      <td>#farmersprotest #NoFarmersNoFood</td>\n",
       "      <td>0</td>\n",
       "      <td>0</td>\n",
       "      <td>https://twitter.com/anmoldhaliwal/status/13645...</td>\n",
       "      <td>doc_3</td>\n",
       "    </tr>\n",
       "    <tr>\n",
       "      <th>9</th>\n",
       "      <td>1364505813834989568</td>\n",
       "      <td>watch full video farmersprotest nofarmersnofood</td>\n",
       "      <td>2021-02-24T09:21:51+00:00</td>\n",
       "      <td>#farmersprotest #NoFarmersNoFood</td>\n",
       "      <td>0</td>\n",
       "      <td>0</td>\n",
       "      <td>https://twitter.com/anmoldhaliwal/status/13645...</td>\n",
       "      <td>doc_4</td>\n",
       "    </tr>\n",
       "    <tr>\n",
       "      <th>10</th>\n",
       "      <td>1364505749359976448</td>\n",
       "      <td>anoth farmer malkeet singh mahilpur hoshiarpur...</td>\n",
       "      <td>2021-02-24T09:21:36+00:00</td>\n",
       "      <td>#FarmersProtest</td>\n",
       "      <td>3</td>\n",
       "      <td>3</td>\n",
       "      <td>https://twitter.com/ShariaActivist/status/1364...</td>\n",
       "      <td>doc_5</td>\n",
       "    </tr>\n",
       "    <tr>\n",
       "      <th>14</th>\n",
       "      <td>1364505676375076867</td>\n",
       "      <td>hi tell boss modidontsellfarm thank farmerspro...</td>\n",
       "      <td>2021-02-24T09:21:19+00:00</td>\n",
       "      <td>#ModiDontSellFarmers #FarmersProtest</td>\n",
       "      <td>0</td>\n",
       "      <td>0</td>\n",
       "      <td>https://twitter.com/KaurDosanjh1979/status/136...</td>\n",
       "      <td>doc_6</td>\n",
       "    </tr>\n",
       "    <tr>\n",
       "      <th>16</th>\n",
       "      <td>1364505511073300481</td>\n",
       "      <td>watch full video farmersprotest nofarmersnofood</td>\n",
       "      <td>2021-02-24T09:20:39+00:00</td>\n",
       "      <td>#farmersprotest #NoFarmersNoFood</td>\n",
       "      <td>0</td>\n",
       "      <td>0</td>\n",
       "      <td>https://twitter.com/anmoldhaliwal/status/13645...</td>\n",
       "      <td>doc_7</td>\n",
       "    </tr>\n",
       "    <tr>\n",
       "      <th>18</th>\n",
       "      <td>1364505452134817795</td>\n",
       "      <td>despit increas tax petroldiesel must increas t...</td>\n",
       "      <td>2021-02-24T09:20:25+00:00</td>\n",
       "      <td>#taxes #petrolDiesel #taxes #alcohol #cigarett...</td>\n",
       "      <td>1</td>\n",
       "      <td>1</td>\n",
       "      <td>https://twitter.com/Satende09192805/status/136...</td>\n",
       "      <td>doc_8</td>\n",
       "    </tr>\n",
       "    <tr>\n",
       "      <th>20</th>\n",
       "      <td>1364505443997937669</td>\n",
       "      <td>mockeri menac sedit charg farmersprotest</td>\n",
       "      <td>2021-02-24T09:20:23+00:00</td>\n",
       "      <td>#sedition #FarmersProtest</td>\n",
       "      <td>0</td>\n",
       "      <td>0</td>\n",
       "      <td>https://twitter.com/algo_121/status/1364505443...</td>\n",
       "      <td>doc_9</td>\n",
       "    </tr>\n",
       "    <tr>\n",
       "      <th>25</th>\n",
       "      <td>1364505314586951680</td>\n",
       "      <td>watch full video farmersprotest nofarmersnofood</td>\n",
       "      <td>2021-02-24T09:19:52+00:00</td>\n",
       "      <td>#farmersprotest #NoFarmersNoFood</td>\n",
       "      <td>0</td>\n",
       "      <td>0</td>\n",
       "      <td>https://twitter.com/anmoldhaliwal/status/13645...</td>\n",
       "      <td>doc_10</td>\n",
       "    </tr>\n",
       "    <tr>\n",
       "      <th>26</th>\n",
       "      <td>1364505255946379268</td>\n",
       "      <td>left hear modi lol farmersprotest</td>\n",
       "      <td>2021-02-24T09:19:38+00:00</td>\n",
       "      <td>#FarmersProtest</td>\n",
       "      <td>1</td>\n",
       "      <td>0</td>\n",
       "      <td>https://twitter.com/kdhanjal12/status/13645052...</td>\n",
       "      <td>doc_11</td>\n",
       "    </tr>\n",
       "  </tbody>\n",
       "</table>\n",
       "</div>"
      ],
      "text/plain": [
       "                     id                                            content  \\\n",
       "1   1364506167226032128  watch full video farmersprotest nofarmersnofoo...   \n",
       "6   1364505991887347714    watch full video farmersprotest nofarmersnofood   \n",
       "9   1364505813834989568    watch full video farmersprotest nofarmersnofood   \n",
       "10  1364505749359976448  anoth farmer malkeet singh mahilpur hoshiarpur...   \n",
       "14  1364505676375076867  hi tell boss modidontsellfarm thank farmerspro...   \n",
       "16  1364505511073300481    watch full video farmersprotest nofarmersnofood   \n",
       "18  1364505452134817795  despit increas tax petroldiesel must increas t...   \n",
       "20  1364505443997937669           mockeri menac sedit charg farmersprotest   \n",
       "25  1364505314586951680    watch full video farmersprotest nofarmersnofood   \n",
       "26  1364505255946379268                  left hear modi lol farmersprotest   \n",
       "\n",
       "                         date  \\\n",
       "1   2021-02-24T09:23:16+00:00   \n",
       "6   2021-02-24T09:22:34+00:00   \n",
       "9   2021-02-24T09:21:51+00:00   \n",
       "10  2021-02-24T09:21:36+00:00   \n",
       "14  2021-02-24T09:21:19+00:00   \n",
       "16  2021-02-24T09:20:39+00:00   \n",
       "18  2021-02-24T09:20:25+00:00   \n",
       "20  2021-02-24T09:20:23+00:00   \n",
       "25  2021-02-24T09:19:52+00:00   \n",
       "26  2021-02-24T09:19:38+00:00   \n",
       "\n",
       "                                             hashtags  likes  retweets  \\\n",
       "1                    #farmersprotest #NoFarmersNoFood      0         0   \n",
       "6                    #farmersprotest #NoFarmersNoFood      0         0   \n",
       "9                    #farmersprotest #NoFarmersNoFood      0         0   \n",
       "10                                    #FarmersProtest      3         3   \n",
       "14               #ModiDontSellFarmers #FarmersProtest      0         0   \n",
       "16                   #farmersprotest #NoFarmersNoFood      0         0   \n",
       "18  #taxes #petrolDiesel #taxes #alcohol #cigarett...      1         1   \n",
       "20                          #sedition #FarmersProtest      0         0   \n",
       "25                   #farmersprotest #NoFarmersNoFood      0         0   \n",
       "26                                    #FarmersProtest      1         0   \n",
       "\n",
       "                                                  url   docId  \n",
       "1   https://twitter.com/anmoldhaliwal/status/13645...   doc_2  \n",
       "6   https://twitter.com/anmoldhaliwal/status/13645...   doc_3  \n",
       "9   https://twitter.com/anmoldhaliwal/status/13645...   doc_4  \n",
       "10  https://twitter.com/ShariaActivist/status/1364...   doc_5  \n",
       "14  https://twitter.com/KaurDosanjh1979/status/136...   doc_6  \n",
       "16  https://twitter.com/anmoldhaliwal/status/13645...   doc_7  \n",
       "18  https://twitter.com/Satende09192805/status/136...   doc_8  \n",
       "20  https://twitter.com/algo_121/status/1364505443...   doc_9  \n",
       "25  https://twitter.com/anmoldhaliwal/status/13645...  doc_10  \n",
       "26  https://twitter.com/kdhanjal12/status/13645052...  doc_11  "
      ]
     },
     "execution_count": 6,
     "metadata": {},
     "output_type": "execute_result"
    }
   ],
   "source": [
    "df.head(10)"
   ]
  },
  {
   "cell_type": "markdown",
   "metadata": {},
   "source": [
    "## Indexing"
   ]
  }
 ],
 "metadata": {
  "kernelspec": {
   "display_name": "venv",
   "language": "python",
   "name": "python3"
  },
  "language_info": {
   "codemirror_mode": {
    "name": "ipython",
    "version": 3
   },
   "file_extension": ".py",
   "mimetype": "text/x-python",
   "name": "python",
   "nbconvert_exporter": "python",
   "pygments_lexer": "ipython3",
   "version": "3.9.6"
  }
 },
 "nbformat": 4,
 "nbformat_minor": 2
}
