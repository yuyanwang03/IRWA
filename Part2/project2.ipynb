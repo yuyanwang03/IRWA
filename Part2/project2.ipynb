{
 "cells": [
  {
   "cell_type": "markdown",
   "metadata": {},
   "source": [
    "# IRWA Project Part 2"
   ]
  },
  {
   "cell_type": "markdown",
   "metadata": {},
   "source": [
    "|Name | Email | UPF uNum |\n",
    "| --- | --- | --- |\n",
    "| Clara Pena | clara.pena01@estudiant.upf.edu | u186416 |\n",
    "| Yuyan Wang | yuyan.wang01@estudiant.upf.edu | u199907 |"
   ]
  },
  {
   "cell_type": "markdown",
   "metadata": {},
   "source": [
    "## Import Libraries and Load Data"
   ]
  },
  {
   "cell_type": "code",
   "execution_count": 19,
   "metadata": {},
   "outputs": [],
   "source": [
    "import pandas as pd\n",
    "import numpy as np\n",
    "from collections import defaultdict\n",
    "from array import array\n",
    "from nltk import PorterStemmer, word_tokenize, SnowballStemmer\n",
    "from nltk.corpus import stopwords\n",
    "from collections import Counter\n",
    "import math\n",
    "import numpy.linalg as la\n",
    "import string\n",
    "import textwrap\n",
    "import re\n",
    "import warnings"
   ]
  },
  {
   "cell_type": "code",
   "execution_count": 20,
   "metadata": {},
   "outputs": [
    {
     "name": "stdout",
     "output_type": "stream",
     "text": [
      "<class 'pandas.core.frame.DataFrame'>\n",
      "RangeIndex: 117405 entries, 0 to 117404\n",
      "Data columns (total 9 columns):\n",
      " #   Column    Non-Null Count   Dtype \n",
      "---  ------    --------------   ----- \n",
      " 0   id        117405 non-null  int64 \n",
      " 1   content   117404 non-null  object\n",
      " 2   date      117405 non-null  object\n",
      " 3   hashtags  116794 non-null  object\n",
      " 4   likes     117405 non-null  int64 \n",
      " 5   retweets  117405 non-null  int64 \n",
      " 6   url       117405 non-null  object\n",
      " 7   language  117405 non-null  object\n",
      " 8   docId     48427 non-null   object\n",
      "dtypes: int64(3), object(6)\n",
      "memory usage: 8.1+ MB\n"
     ]
    }
   ],
   "source": [
    "df = pd.read_csv(\"./data/processed_data.csv\")\n",
    "\n",
    "df.info()"
   ]
  },
  {
   "cell_type": "markdown",
   "metadata": {},
   "source": [
    "We'll be working with those tweets that have a document ID associated with them; that is, the value in the docID column should not be NaN. This is basically taking those tweets in English. Besides that, for simplicity, we're not using the column language anymore, so it can be dropped."
   ]
  },
  {
   "cell_type": "code",
   "execution_count": 21,
   "metadata": {},
   "outputs": [],
   "source": [
    "tweets_df = df.dropna(subset=['docId']).drop(columns=['language'])"
   ]
  },
  {
   "cell_type": "code",
   "execution_count": 22,
   "metadata": {},
   "outputs": [
    {
     "data": {
      "text/html": [
       "<div>\n",
       "<style scoped>\n",
       "    .dataframe tbody tr th:only-of-type {\n",
       "        vertical-align: middle;\n",
       "    }\n",
       "\n",
       "    .dataframe tbody tr th {\n",
       "        vertical-align: top;\n",
       "    }\n",
       "\n",
       "    .dataframe thead th {\n",
       "        text-align: right;\n",
       "    }\n",
       "</style>\n",
       "<table border=\"1\" class=\"dataframe\">\n",
       "  <thead>\n",
       "    <tr style=\"text-align: right;\">\n",
       "      <th></th>\n",
       "      <th>id</th>\n",
       "      <th>content</th>\n",
       "      <th>date</th>\n",
       "      <th>hashtags</th>\n",
       "      <th>likes</th>\n",
       "      <th>retweets</th>\n",
       "      <th>url</th>\n",
       "      <th>docId</th>\n",
       "    </tr>\n",
       "  </thead>\n",
       "  <tbody>\n",
       "    <tr>\n",
       "      <th>1</th>\n",
       "      <td>1364506167226032128</td>\n",
       "      <td>watch full video farmersprotest nofarmersnofoo...</td>\n",
       "      <td>2021-02-24T09:23:16+00:00</td>\n",
       "      <td>#farmersprotest #NoFarmersNoFood</td>\n",
       "      <td>0</td>\n",
       "      <td>0</td>\n",
       "      <td>https://twitter.com/anmoldhaliwal/status/13645...</td>\n",
       "      <td>doc_2</td>\n",
       "    </tr>\n",
       "    <tr>\n",
       "      <th>6</th>\n",
       "      <td>1364505991887347714</td>\n",
       "      <td>watch full video farmersprotest nofarmersnofood</td>\n",
       "      <td>2021-02-24T09:22:34+00:00</td>\n",
       "      <td>#farmersprotest #NoFarmersNoFood</td>\n",
       "      <td>0</td>\n",
       "      <td>0</td>\n",
       "      <td>https://twitter.com/anmoldhaliwal/status/13645...</td>\n",
       "      <td>doc_3</td>\n",
       "    </tr>\n",
       "    <tr>\n",
       "      <th>9</th>\n",
       "      <td>1364505813834989568</td>\n",
       "      <td>watch full video farmersprotest nofarmersnofood</td>\n",
       "      <td>2021-02-24T09:21:51+00:00</td>\n",
       "      <td>#farmersprotest #NoFarmersNoFood</td>\n",
       "      <td>0</td>\n",
       "      <td>0</td>\n",
       "      <td>https://twitter.com/anmoldhaliwal/status/13645...</td>\n",
       "      <td>doc_4</td>\n",
       "    </tr>\n",
       "    <tr>\n",
       "      <th>10</th>\n",
       "      <td>1364505749359976448</td>\n",
       "      <td>anoth farmer malkeet singh mahilpur hoshiarpur...</td>\n",
       "      <td>2021-02-24T09:21:36+00:00</td>\n",
       "      <td>#FarmersProtest</td>\n",
       "      <td>3</td>\n",
       "      <td>3</td>\n",
       "      <td>https://twitter.com/ShariaActivist/status/1364...</td>\n",
       "      <td>doc_5</td>\n",
       "    </tr>\n",
       "    <tr>\n",
       "      <th>14</th>\n",
       "      <td>1364505676375076867</td>\n",
       "      <td>hi tell boss modidontsellfarm thank farmerspro...</td>\n",
       "      <td>2021-02-24T09:21:19+00:00</td>\n",
       "      <td>#ModiDontSellFarmers #FarmersProtest</td>\n",
       "      <td>0</td>\n",
       "      <td>0</td>\n",
       "      <td>https://twitter.com/KaurDosanjh1979/status/136...</td>\n",
       "      <td>doc_6</td>\n",
       "    </tr>\n",
       "    <tr>\n",
       "      <th>16</th>\n",
       "      <td>1364505511073300481</td>\n",
       "      <td>watch full video farmersprotest nofarmersnofood</td>\n",
       "      <td>2021-02-24T09:20:39+00:00</td>\n",
       "      <td>#farmersprotest #NoFarmersNoFood</td>\n",
       "      <td>0</td>\n",
       "      <td>0</td>\n",
       "      <td>https://twitter.com/anmoldhaliwal/status/13645...</td>\n",
       "      <td>doc_7</td>\n",
       "    </tr>\n",
       "    <tr>\n",
       "      <th>18</th>\n",
       "      <td>1364505452134817795</td>\n",
       "      <td>despit increas tax petroldiesel must increas t...</td>\n",
       "      <td>2021-02-24T09:20:25+00:00</td>\n",
       "      <td>#taxes #petrolDiesel #taxes #alcohol #cigarett...</td>\n",
       "      <td>1</td>\n",
       "      <td>1</td>\n",
       "      <td>https://twitter.com/Satende09192805/status/136...</td>\n",
       "      <td>doc_8</td>\n",
       "    </tr>\n",
       "    <tr>\n",
       "      <th>20</th>\n",
       "      <td>1364505443997937669</td>\n",
       "      <td>mockeri menac sedit charg farmersprotest</td>\n",
       "      <td>2021-02-24T09:20:23+00:00</td>\n",
       "      <td>#sedition #FarmersProtest</td>\n",
       "      <td>0</td>\n",
       "      <td>0</td>\n",
       "      <td>https://twitter.com/algo_121/status/1364505443...</td>\n",
       "      <td>doc_9</td>\n",
       "    </tr>\n",
       "    <tr>\n",
       "      <th>25</th>\n",
       "      <td>1364505314586951680</td>\n",
       "      <td>watch full video farmersprotest nofarmersnofood</td>\n",
       "      <td>2021-02-24T09:19:52+00:00</td>\n",
       "      <td>#farmersprotest #NoFarmersNoFood</td>\n",
       "      <td>0</td>\n",
       "      <td>0</td>\n",
       "      <td>https://twitter.com/anmoldhaliwal/status/13645...</td>\n",
       "      <td>doc_10</td>\n",
       "    </tr>\n",
       "    <tr>\n",
       "      <th>26</th>\n",
       "      <td>1364505255946379268</td>\n",
       "      <td>left hear modi lol farmersprotest</td>\n",
       "      <td>2021-02-24T09:19:38+00:00</td>\n",
       "      <td>#FarmersProtest</td>\n",
       "      <td>1</td>\n",
       "      <td>0</td>\n",
       "      <td>https://twitter.com/kdhanjal12/status/13645052...</td>\n",
       "      <td>doc_11</td>\n",
       "    </tr>\n",
       "  </tbody>\n",
       "</table>\n",
       "</div>"
      ],
      "text/plain": [
       "                     id                                            content  \\\n",
       "1   1364506167226032128  watch full video farmersprotest nofarmersnofoo...   \n",
       "6   1364505991887347714    watch full video farmersprotest nofarmersnofood   \n",
       "9   1364505813834989568    watch full video farmersprotest nofarmersnofood   \n",
       "10  1364505749359976448  anoth farmer malkeet singh mahilpur hoshiarpur...   \n",
       "14  1364505676375076867  hi tell boss modidontsellfarm thank farmerspro...   \n",
       "16  1364505511073300481    watch full video farmersprotest nofarmersnofood   \n",
       "18  1364505452134817795  despit increas tax petroldiesel must increas t...   \n",
       "20  1364505443997937669           mockeri menac sedit charg farmersprotest   \n",
       "25  1364505314586951680    watch full video farmersprotest nofarmersnofood   \n",
       "26  1364505255946379268                  left hear modi lol farmersprotest   \n",
       "\n",
       "                         date  \\\n",
       "1   2021-02-24T09:23:16+00:00   \n",
       "6   2021-02-24T09:22:34+00:00   \n",
       "9   2021-02-24T09:21:51+00:00   \n",
       "10  2021-02-24T09:21:36+00:00   \n",
       "14  2021-02-24T09:21:19+00:00   \n",
       "16  2021-02-24T09:20:39+00:00   \n",
       "18  2021-02-24T09:20:25+00:00   \n",
       "20  2021-02-24T09:20:23+00:00   \n",
       "25  2021-02-24T09:19:52+00:00   \n",
       "26  2021-02-24T09:19:38+00:00   \n",
       "\n",
       "                                             hashtags  likes  retweets  \\\n",
       "1                    #farmersprotest #NoFarmersNoFood      0         0   \n",
       "6                    #farmersprotest #NoFarmersNoFood      0         0   \n",
       "9                    #farmersprotest #NoFarmersNoFood      0         0   \n",
       "10                                    #FarmersProtest      3         3   \n",
       "14               #ModiDontSellFarmers #FarmersProtest      0         0   \n",
       "16                   #farmersprotest #NoFarmersNoFood      0         0   \n",
       "18  #taxes #petrolDiesel #taxes #alcohol #cigarett...      1         1   \n",
       "20                          #sedition #FarmersProtest      0         0   \n",
       "25                   #farmersprotest #NoFarmersNoFood      0         0   \n",
       "26                                    #FarmersProtest      1         0   \n",
       "\n",
       "                                                  url   docId  \n",
       "1   https://twitter.com/anmoldhaliwal/status/13645...   doc_2  \n",
       "6   https://twitter.com/anmoldhaliwal/status/13645...   doc_3  \n",
       "9   https://twitter.com/anmoldhaliwal/status/13645...   doc_4  \n",
       "10  https://twitter.com/ShariaActivist/status/1364...   doc_5  \n",
       "14  https://twitter.com/KaurDosanjh1979/status/136...   doc_6  \n",
       "16  https://twitter.com/anmoldhaliwal/status/13645...   doc_7  \n",
       "18  https://twitter.com/Satende09192805/status/136...   doc_8  \n",
       "20  https://twitter.com/algo_121/status/1364505443...   doc_9  \n",
       "25  https://twitter.com/anmoldhaliwal/status/13645...  doc_10  \n",
       "26  https://twitter.com/kdhanjal12/status/13645052...  doc_11  "
      ]
     },
     "execution_count": 22,
     "metadata": {},
     "output_type": "execute_result"
    }
   ],
   "source": [
    "tweets_df.head(10)"
   ]
  },
  {
   "cell_type": "code",
   "execution_count": 23,
   "metadata": {},
   "outputs": [
    {
     "name": "stdout",
     "output_type": "stream",
     "text": [
      "<class 'pandas.core.frame.DataFrame'>\n",
      "Index: 48427 entries, 1 to 117404\n",
      "Data columns (total 8 columns):\n",
      " #   Column    Non-Null Count  Dtype \n",
      "---  ------    --------------  ----- \n",
      " 0   id        48427 non-null  int64 \n",
      " 1   content   48427 non-null  object\n",
      " 2   date      48427 non-null  object\n",
      " 3   hashtags  48153 non-null  object\n",
      " 4   likes     48427 non-null  int64 \n",
      " 5   retweets  48427 non-null  int64 \n",
      " 6   url       48427 non-null  object\n",
      " 7   docId     48427 non-null  object\n",
      "dtypes: int64(3), object(5)\n",
      "memory usage: 3.3+ MB\n"
     ]
    }
   ],
   "source": [
    "tweets_df.info()"
   ]
  },
  {
   "cell_type": "markdown",
   "metadata": {},
   "source": [
    "## Indexing"
   ]
  },
  {
   "cell_type": "markdown",
   "metadata": {},
   "source": [
    "### Build inverted index"
   ]
  },
  {
   "cell_type": "code",
   "execution_count": 24,
   "metadata": {},
   "outputs": [],
   "source": [
    "def create_index(df):\n",
    "    index = defaultdict(list)\n",
    "    \n",
    "    for idx, row in df.iterrows():\n",
    "        doc_id = row['docId']\n",
    "        terms = row['content'].split()\n",
    "        \n",
    "        current_page_index = {}\n",
    "        for position, term in enumerate(terms):\n",
    "            if term in current_page_index:\n",
    "                current_page_index[term][1].append(position)\n",
    "            else:\n",
    "                current_page_index[term] = [doc_id, array('I', [position])]  # 'I' for array of unsigned ints.\n",
    "\n",
    "        # Merge the current page index with the main index\n",
    "        for term_page, posting_page in current_page_index.items():\n",
    "            index[term_page].append(posting_page)\n",
    "\n",
    "    return index"
   ]
  },
  {
   "cell_type": "code",
   "execution_count": 25,
   "metadata": {},
   "outputs": [],
   "source": [
    "index = create_index(tweets_df)"
   ]
  },
  {
   "cell_type": "code",
   "execution_count": 26,
   "metadata": {},
   "outputs": [
    {
     "name": "stdout",
     "output_type": "stream",
     "text": [
      "30477\n"
     ]
    }
   ],
   "source": [
    "print(len(index))"
   ]
  },
  {
   "cell_type": "code",
   "execution_count": 27,
   "metadata": {},
   "outputs": [],
   "source": [
    "def build_terms(line):\n",
    "    # stemmer = PorterStemmer()\n",
    "    stemmer = SnowballStemmer(\"english\")\n",
    "    stop_words = set(stopwords.words(\"english\"))\n",
    "    line = line.lower()\n",
    "\n",
    "    # Handle contractions by removing possessive endings and common contractions\n",
    "    line = re.sub(r\"\\b(\\w+)'s\\b\", r'\\1', line)  # Changes \"people's\" to \"people\"\n",
    "    line = re.sub(r\"\\b(\\w+)n't\\b\", r'\\1 not', line)  # Changes \"isn't\" to \"is not\"\n",
    "    line = re.sub(r\"\\b(\\w+)'ll\\b\", r'\\1 will', line)  # Changes \"I'll\" to \"I will\"\n",
    "    line = re.sub(r\"\\b(\\w+)'d\\b\", r'\\1 would', line)  # Changes \"I'd\" to \"I would\"\n",
    "    line = re.sub(r\"\\b(\\w+)'re\\b\", r'\\1 are', line)  # Changes \"you're\" to \"you are\"\n",
    "    line = re.sub(r\"\\b(\\w+)'ve\\b\", r'\\1 have', line)  # Changes \"I've\" to \"I have\"\n",
    "\n",
    "    line = line.split()\n",
    "\n",
    "    table = str.maketrans('', '', string.punctuation)\n",
    "    line = [w.translate(table) for w in line]\n",
    "    line = [w for w in line if w not in stop_words]\n",
    "    line = [stemmer.stem(w) for w in line] \n",
    "    return line"
   ]
  },
  {
   "cell_type": "code",
   "execution_count": 28,
   "metadata": {},
   "outputs": [],
   "source": [
    "def search(query, index):\n",
    "    query = build_terms(query)  # Normalize and tokenize the query.\n",
    "    docs = None  # Initialize docs as None to handle the intersection.\n",
    "\n",
    "    for term in query:\n",
    "        try:\n",
    "            # Extract the document IDs for the term.\n",
    "            term_docs = set([posting[0] for posting in index[term]])\n",
    "\n",
    "            if docs is None:\n",
    "                # Initialize docs with the set of document IDs for the first term.\n",
    "                docs = term_docs\n",
    "            else:\n",
    "                # Intersect the sets of document IDs.\n",
    "                docs = docs.intersection(term_docs)\n",
    "        except KeyError:\n",
    "            # If the term is not in the index, return an empty list because no documents can satisfy the query.\n",
    "            return []\n",
    "\n",
    "    if docs is None:\n",
    "        return []  # If no terms were processed, return an empty list.\n",
    "    else:\n",
    "        return list(docs)  # Convert the set to a list before returning."
   ]
  },
  {
   "cell_type": "markdown",
   "metadata": {},
   "source": [
    "### Propose test queries"
   ]
  },
  {
   "cell_type": "code",
   "execution_count": 29,
   "metadata": {},
   "outputs": [
    {
     "name": "stdout",
     "output_type": "stream",
     "text": [
      "[('farmersprotest', 50272), ('farmer', 17421), ('india', 7724), ('support', 6004), ('protest', 4787), ('amp', 4728), ('right', 3594), ('peopl', 3526), ('modi', 3113), ('indian', 3008), ('govern', 2753), ('bjp', 2649), ('law', 2570), ('releasedetainedfarm', 2432), ('govt', 2338), ('stand', 2207), ('farmersmakeindia', 2133), ('indiabeingsilenc', 2133), ('thank', 2129), ('farm', 2066)]\n"
     ]
    }
   ],
   "source": [
    "# Calculate the top n terms in the DataFrame for the specified column.\n",
    "def get_top_terms(df, column='content', top_n=10):\n",
    "    text = ' '.join(df[column].dropna())  # Combine all text and convert to lower case.\n",
    "    words = text.split()\n",
    "    # Get a count of all words\n",
    "    word_count = Counter(words)\n",
    "    # Return the most common words\n",
    "    return word_count.most_common(top_n)\n",
    "\n",
    "top_terms = get_top_terms(tweets_df, column='content', top_n=20)\n",
    "print(top_terms)"
   ]
  },
  {
   "cell_type": "markdown",
   "metadata": {},
   "source": [
    "1.\t“India protest”: This query aligns with the high frequency of terms like ‘india’ (7724 occurrences) and ‘protest’ (4787 occurrences). It targets the significant discussion around protests in India, capturing a broad yet significant topic within your dataset. This is crucial for understanding general sentiments or events related to protests in the region.\n",
    "2.\t“support farmers”: Given the prevalence of terms such as ‘farmersprotest’ (50272 occurrences) and ‘support’ (6004 occurrences), this query is highly relevant. It specifically addresses the widespread discourse on supporting farmers, likely related to agricultural policies or farmer welfare, which seems to be a prominent issue in your data.\n",
    "3.\t“Modi shame”: This query is crafted around the high occurrence of ‘modi’ (3113 occurrences). Including a sentiment or descriptive term like ‘shame’ might target specific discussions or criticisms related to policies or actions associated with Modi, the Prime Minister of India, offering insights into public sentiment regarding his administration.\n",
    "4.\t“BJP party”: With ‘bjp’ being mentioned 2649 times, focusing on the political party directly allows for an analysis of content specifically related to the Bharatiya Janata Party. This could reveal discussions on political activities, policies, or public opinions directly connected to the party’s actions and governance.\n",
    "5.\t“human rights violated”: Although ‘right’ appears 3594 times, coupling it with ‘violated’ expands the context to human rights issues. This query is intended to explore discussions or reports on human rights violations, a topic of critical importance that may encompass various aspects of social and political discourse."
   ]
  },
  {
   "cell_type": "code",
   "execution_count": 30,
   "metadata": {},
   "outputs": [
    {
     "name": "stdout",
     "output_type": "stream",
     "text": [
      "\n",
      "======================\n",
      "Sample of 10 results out of 951 for the searched query 'India protest':\n",
      "\n",
      "docId = doc_27670\n",
      "docId = doc_18245\n",
      "docId = doc_967\n",
      "docId = doc_9359\n",
      "docId = doc_10498\n",
      "docId = doc_5473\n",
      "docId = doc_1288\n",
      "docId = doc_28394\n",
      "docId = doc_25497\n",
      "docId = doc_12355\n",
      "\n",
      "======================\n",
      "Sample of 10 results out of 3197 for the searched query 'support farmers':\n",
      "\n",
      "docId = doc_24847\n",
      "docId = doc_967\n",
      "docId = doc_20588\n",
      "docId = doc_23016\n",
      "docId = doc_15631\n",
      "docId = doc_33309\n",
      "docId = doc_24915\n",
      "docId = doc_10691\n",
      "docId = doc_12189\n",
      "docId = doc_44587\n",
      "\n",
      "======================\n",
      "Sample of 10 results out of 193 for the searched query 'Modi shame':\n",
      "\n",
      "docId = doc_39088\n",
      "docId = doc_8716\n",
      "docId = doc_39897\n",
      "docId = doc_8904\n",
      "docId = doc_12199\n",
      "docId = doc_36486\n",
      "docId = doc_5262\n",
      "docId = doc_9038\n",
      "docId = doc_33714\n",
      "docId = doc_3646\n",
      "\n",
      "======================\n",
      "Sample of 10 results out of 128 for the searched query 'BJP party':\n",
      "\n",
      "docId = doc_2338\n",
      "docId = doc_37627\n",
      "docId = doc_45542\n",
      "docId = doc_5734\n",
      "docId = doc_45535\n",
      "docId = doc_41697\n",
      "docId = doc_18560\n",
      "docId = doc_17194\n",
      "docId = doc_13834\n",
      "docId = doc_9304\n",
      "\n",
      "======================\n",
      "Sample of 10 results out of 254 for the searched query 'human rights violated':\n",
      "\n",
      "docId = doc_43751\n",
      "docId = doc_26606\n",
      "docId = doc_13290\n",
      "docId = doc_18623\n",
      "docId = doc_37175\n",
      "docId = doc_8207\n",
      "docId = doc_13281\n",
      "docId = doc_22526\n",
      "docId = doc_18093\n",
      "docId = doc_25873\n"
     ]
    }
   ],
   "source": [
    "def simulate_search(queries, index):\n",
    "    for query in queries:\n",
    "        docs = search(query, index)\n",
    "        top = 10  # Number of results to display\n",
    "        num_results = len(docs)\n",
    "        \n",
    "        print(\"\\n======================\\nSample of {} results out of {} for the searched query '{}':\\n\".format(min(top, num_results), num_results, query))\n",
    "        for d_id in docs[:top]:\n",
    "            print(\"docId = {}\".format(d_id))\n",
    "\n",
    "# List of queries to be processed\n",
    "queries = [\n",
    "    \"India protest\",\n",
    "    \"support farmers\",\n",
    "    \"Modi shame\",\n",
    "    \"BJP party\",\n",
    "    \"human rights violated\"\n",
    "]\n",
    "\n",
    "simulate_search(queries, index)"
   ]
  },
  {
   "cell_type": "markdown",
   "metadata": {},
   "source": [
    "### Rank your results"
   ]
  },
  {
   "cell_type": "code",
   "execution_count": 31,
   "metadata": {},
   "outputs": [],
   "source": [
    "def create_index_tfidf(dataframe):\n",
    "    # num_documents = len(df)\n",
    "    num_documents = dataframe['docId'].nunique()\n",
    "    index = defaultdict(list)\n",
    "    # tf = defaultdict(dict)  # Normalized term frequencies of terms in documents\n",
    "    tf = defaultdict(list)\n",
    "    df = defaultdict(int)  # Document frequencies of terms\n",
    "    idf = defaultdict(float)\n",
    "\n",
    "    for idx, row in dataframe.iterrows():\n",
    "        doc_id = row['docId']\n",
    "        terms = row['content'].split()\n",
    "        \n",
    "        current_page_index = {}\n",
    "\n",
    "        for position, term in enumerate(terms):\n",
    "            if term in current_page_index:\n",
    "                # Append the position to the corresponding list in the array\n",
    "                current_page_index[term][1].append(position)\n",
    "            else:\n",
    "                # Initialize the list with page_id and a new array\n",
    "                current_page_index[term] = [doc_id, array('I', [position])]\n",
    "\n",
    "        # Calculate the norm for the terms in the document\n",
    "        norm = math.sqrt(sum(len(positions[1])**2 for positions in current_page_index.values()))\n",
    "\n",
    "        # calculate the tf(dividing the term frequency by the above computed norm) and df weights\n",
    "        for term, posting in current_page_index.items():\n",
    "            # append the tf for current term (tf = term frequency in current doc/norm)\n",
    "            tf[term].append(np.round(len(posting[1])/norm,4)) ## SEE formula (1) above\n",
    "            #increment the document frequency of current term (number of documents containing the current term)\n",
    "            df[term] += 1 # increment DF for current term\n",
    "        \n",
    "        # Merge the current page index with the main index\n",
    "        for term_page, posting_page in current_page_index.items():\n",
    "            index[term_page].append(posting_page)\n",
    "\n",
    "    # Calculate IDF for each term\n",
    "    for term in df:\n",
    "        idf[term] = math.log(num_documents / (1 + df[term]))  # Smoothing by adding 1 to denominator\n",
    "\n",
    "    return index, tf, df, idf"
   ]
  },
  {
   "cell_type": "code",
   "execution_count": 32,
   "metadata": {},
   "outputs": [],
   "source": [
    "index, tf, df, idf = create_index_tfidf(tweets_df)"
   ]
  },
  {
   "cell_type": "code",
   "execution_count": 33,
   "metadata": {},
   "outputs": [],
   "source": [
    "def rank_documents(terms, docs, index, idf, tf):\n",
    "    doc_vectors = defaultdict(lambda: np.zeros(len(terms)))\n",
    "    query_vector = np.zeros(len(terms))\n",
    "    query_terms_count = Counter(terms)\n",
    "    query_norm = la.norm(list(query_terms_count.values()))\n",
    "\n",
    "    # Compute the tf-idf for the query vector\n",
    "    for term_index, term in enumerate(terms):\n",
    "        if term in idf:\n",
    "            query_vector[term_index] = query_terms_count[term] / query_norm * idf[term]\n",
    "            if term not in index:\n",
    "                continue\n",
    "    \n",
    "            for doc_index, (doc, postings) in enumerate(index[term]):\n",
    "                if doc in docs:\n",
    "                    doc_vectors[doc][term_index] = tf[term][doc_index] * idf[term]  # T\n",
    "            \n",
    "    # Calculate the score of each doc using cosine similarity (dot product of normalized vectors)\n",
    "    doc_scores = [[np.dot(cur_doc_vec, query_vector), doc] for doc, cur_doc_vec in doc_vectors.items()]\n",
    "    doc_scores.sort(reverse=True, key=lambda x: x[0])\n",
    "    # print(doc_scores)\n",
    "    result_docs = [x[1] for x in doc_scores if x[0] >= 0.5]\n",
    "\n",
    "    if len(result_docs) == 0: print(\"No results found, try again\")\n",
    "    else:\n",
    "        return result_docs"
   ]
  },
  {
   "cell_type": "code",
   "execution_count": 34,
   "metadata": {},
   "outputs": [],
   "source": [
    "def search_tf_idf(query, index, idf, tf):\n",
    "    query = build_terms(query)\n",
    "    # print(query)\n",
    "    docs = None  # Initialize to None to handle the first term's document set initialization\n",
    "\n",
    "    for term in query:\n",
    "        if term in index:\n",
    "            term_docs = set([posting[0] for posting in index[term]])  # Collect all document IDs containing this term\n",
    "            if docs is None:\n",
    "                docs = term_docs\n",
    "            else:\n",
    "                docs = docs.intersection(term_docs)  # Intersection with the accumulated set of documents\n",
    "        else:\n",
    "            return []  # If any term is not found, the intersection is empty\n",
    "\n",
    "    if docs is None: return []  # No terms found, return empty list\n",
    "\n",
    "    docs = list(docs)  # Convert set to list if necessary\n",
    "    ranked_docs = rank_documents(query, docs, index, idf, tf)  # Rank the documents based on the relevance\n",
    "    return ranked_docs"
   ]
  },
  {
   "cell_type": "code",
   "execution_count": 35,
   "metadata": {},
   "outputs": [],
   "source": [
    "def simulate_search_tf_idf(queries, index, idf, tf):\n",
    "    for query in queries:\n",
    "        ranked_docs = search_tf_idf(query, index, idf, tf)\n",
    "        top = 10  # Number of results to display\n",
    "        num_results = len(ranked_docs)\n",
    "        \n",
    "        print(\"\\n======================\\nSample of {} results out of {} for the searched query '{}':\\n\".format(min(top, num_results), num_results, query))\n",
    "        for d_id in ranked_docs[:top]:\n",
    "            print(\"docId = {}\".format(d_id))\n",
    "\n",
    "# List of queries to be processed\n",
    "queries = [\n",
    "    \"India protest\",\n",
    "    \"support farmers\",\n",
    "    \"Modi shame\",\n",
    "    \"BJP party\",\n",
    "    \"human rights violated\"\n",
    "]"
   ]
  },
  {
   "cell_type": "code",
   "execution_count": 36,
   "metadata": {},
   "outputs": [
    {
     "name": "stdout",
     "output_type": "stream",
     "text": [
      "\n",
      "======================\n",
      "Sample of 10 results out of 951 for the searched query 'India protest':\n",
      "\n",
      "docId = doc_17093\n",
      "docId = doc_17097\n",
      "docId = doc_38842\n",
      "docId = doc_40320\n",
      "docId = doc_32847\n",
      "docId = doc_445\n",
      "docId = doc_27693\n",
      "docId = doc_46574\n",
      "docId = doc_13552\n",
      "docId = doc_29037\n",
      "\n",
      "======================\n",
      "Sample of 10 results out of 3196 for the searched query 'support farmers':\n",
      "\n",
      "docId = doc_38864\n",
      "docId = doc_43187\n",
      "docId = doc_31878\n",
      "docId = doc_47382\n",
      "docId = doc_47396\n",
      "docId = doc_47423\n",
      "docId = doc_30210\n",
      "docId = doc_24459\n",
      "docId = doc_3699\n",
      "docId = doc_4430\n",
      "\n",
      "======================\n",
      "Sample of 10 results out of 193 for the searched query 'Modi shame':\n",
      "\n",
      "docId = doc_7810\n",
      "docId = doc_37129\n",
      "docId = doc_38556\n",
      "docId = doc_39102\n",
      "docId = doc_41693\n",
      "docId = doc_42459\n",
      "docId = doc_42461\n",
      "docId = doc_42463\n",
      "docId = doc_45856\n",
      "docId = doc_45858\n",
      "\n",
      "======================\n",
      "Sample of 10 results out of 128 for the searched query 'BJP party':\n",
      "\n",
      "docId = doc_39703\n",
      "docId = doc_14912\n",
      "docId = doc_35686\n",
      "docId = doc_19862\n",
      "docId = doc_27074\n",
      "docId = doc_43419\n",
      "docId = doc_29032\n",
      "docId = doc_38429\n",
      "docId = doc_42112\n",
      "docId = doc_4683\n",
      "\n",
      "======================\n",
      "Sample of 10 results out of 254 for the searched query 'human rights violated':\n",
      "\n",
      "docId = doc_5643\n",
      "docId = doc_14008\n",
      "docId = doc_23717\n",
      "docId = doc_30836\n",
      "docId = doc_46246\n",
      "docId = doc_26878\n",
      "docId = doc_7150\n",
      "docId = doc_14648\n",
      "docId = doc_16758\n",
      "docId = doc_19102\n"
     ]
    }
   ],
   "source": [
    "simulate_search_tf_idf(queries, index, idf, tf)"
   ]
  },
  {
   "cell_type": "markdown",
   "metadata": {},
   "source": [
    "## Evaluation"
   ]
  },
  {
   "cell_type": "code",
   "execution_count": 37,
   "metadata": {},
   "outputs": [],
   "source": [
    "evaluation_gt = pd.read_csv('./data/evaluation_gt.csv', sep=';')\n",
    "df_eva = pd.merge(tweets_df, evaluation_gt, on='docId', how='left')\n",
    "\n",
    "pd.set_option('display.max_colwidth', None)\n",
    "\n",
    "query_1_relevant = (df_eva[(df_eva['query_id'] == 1) & (df_eva['label'] == 1)])['docId'].unique()\n",
    "query_1_not_relevant = (df_eva[(df_eva['query_id'] == 1) & (df_eva['label'] == 0)])['docId'].unique()\n",
    "\n",
    "query_2_relevant = (df_eva[(df_eva['query_id'] == 2) & (df_eva['label'] == 1)])['docId'].unique()\n",
    "query_2_not_relevant = (df_eva[(df_eva['query_id'] == 2) & (df_eva['label'] == 0)])['docId'].unique()"
   ]
  },
  {
   "cell_type": "code",
   "execution_count": 38,
   "metadata": {},
   "outputs": [
    {
     "name": "stdout",
     "output_type": "stream",
     "text": [
      "60\n"
     ]
    }
   ],
   "source": [
    "# Keep in mind that for the evaluation part we will be using only the subset of documents that are being defined in the evaluation_gt.csv\n",
    "df_subset_documents = df_eva[df_eva['query_id'].notnull()]\n",
    "subset_documents = df_subset_documents['docId'].unique()\n",
    "print(len(subset_documents))\n",
    "\n",
    "query_1_results = search_tf_idf(\"people's rights\", index, idf, tf)\n",
    "query_2_results = search_tf_idf(\"Indian government\", index, idf, tf)"
   ]
  },
  {
   "cell_type": "code",
   "execution_count": 39,
   "metadata": {},
   "outputs": [
    {
     "name": "stdout",
     "output_type": "stream",
     "text": [
      "Ground Truth Files Query 1 (subset): ['doc_1047' 'doc_2100' 'doc_3287' 'doc_3474' 'doc_3570' 'doc_4053'\n",
      " 'doc_5480' 'doc_5512' 'doc_5751' 'doc_6477' 'doc_8066' 'doc_9696'\n",
      " 'doc_9850' 'doc_9937' 'doc_10048']\n",
      "\n",
      "Our Obtained Results Query 1: ['doc_8894', 'doc_11633', 'doc_14469', 'doc_27577', 'doc_45806', 'doc_46347', 'doc_10178',\n",
      "'doc_10180', 'doc_10181', 'doc_10184', 'doc_10185', 'doc_10188', 'doc_10189', 'doc_27566',\n",
      "'doc_47221', 'doc_4053', 'doc_12676', 'doc_10179', 'doc_10182', 'doc_27922', 'doc_41111',\n",
      "'doc_2100', 'doc_16330', 'doc_13361', 'doc_18881', 'doc_40001', 'doc_44224', 'doc_15120',\n",
      "'doc_18045', 'doc_12879', 'doc_30957', 'doc_21418', 'doc_31420', 'doc_38048', 'doc_26975',\n",
      "'doc_40576', 'doc_23316', 'doc_2171', 'doc_9850', 'doc_11890', 'doc_23087', 'doc_25486',\n",
      "'doc_2459', 'doc_2732', 'doc_16748', 'doc_20332', 'doc_27608', 'doc_28193', 'doc_31457',\n",
      "'doc_35354', 'doc_38383', 'doc_41749', 'doc_48169', 'doc_9696', 'doc_25954', 'doc_17403',\n",
      "'doc_6840', 'doc_8819', 'doc_15414', 'doc_17105', 'doc_17462', 'doc_18606', 'doc_19128',\n",
      "'doc_30427', 'doc_32900', 'doc_34945', 'doc_19298', 'doc_44076', 'doc_27963', 'doc_35269',\n",
      "'doc_6477', 'doc_3474', 'doc_11440', 'doc_21756', 'doc_28419', 'doc_29082', 'doc_32467',\n",
      "'doc_32598', 'doc_35443', 'doc_43341', 'doc_19080', 'doc_47271', 'doc_15234', 'doc_48316',\n",
      "'doc_18848', 'doc_20699', 'doc_31942', 'doc_44863', 'doc_45663', 'doc_13636', 'doc_6899',\n",
      "'doc_32894', 'doc_2828', 'doc_8066', 'doc_18336', 'doc_18905', 'doc_22746', 'doc_29129',\n",
      "'doc_32058', 'doc_37165', 'doc_10402', 'doc_30248', 'doc_41831', 'doc_32843', 'doc_5480',\n",
      "'doc_27795', 'doc_39179', 'doc_42648', 'doc_18646', 'doc_18921', 'doc_18967', 'doc_19034',\n",
      "'doc_19110', 'doc_19293', 'doc_19300', 'doc_19302', 'doc_19307', 'doc_19310', 'doc_19314',\n",
      "'doc_19323', 'doc_19327', 'doc_19329', 'doc_19338', 'doc_19343', 'doc_19349', 'doc_19350',\n",
      "'doc_19352', 'doc_19354', 'doc_20340', 'doc_20460', 'doc_20465', 'doc_20471', 'doc_20486',\n",
      "'doc_20502', 'doc_20509', 'doc_20651', 'doc_40766', 'doc_10403', 'doc_10409', 'doc_10423',\n",
      "'doc_10428', 'doc_10431', 'doc_10455', 'doc_10456', 'doc_10459', 'doc_18689', 'doc_18971',\n",
      "'doc_18982', 'doc_18997', 'doc_19299', 'doc_19305', 'doc_19346', 'doc_19356', 'doc_19358',\n",
      "'doc_20455', 'doc_20478', 'doc_20495', 'doc_3678', 'doc_16918', 'doc_25971', 'doc_33067',\n",
      "'doc_33753', 'doc_44603', 'doc_28672', 'doc_29789', 'doc_10386', 'doc_10419', 'doc_10438',\n",
      "'doc_11180', 'doc_12963', 'doc_18772', 'doc_22841', 'doc_24581', 'doc_25497', 'doc_33636',\n",
      "'doc_37174', 'doc_37689', 'doc_38002', 'doc_20570', 'doc_44487', 'doc_2710', 'doc_11094',\n",
      "'doc_22385', 'doc_28626', 'doc_31257', 'doc_36410', 'doc_36542', 'doc_39864', 'doc_44416',\n",
      "'doc_10332', 'doc_12960', 'doc_21198', 'doc_22257', 'doc_25541', 'doc_27175', 'doc_34371',\n",
      "'doc_37312', 'doc_39809', 'doc_39824', 'doc_43540', 'doc_6700', 'doc_11681', 'doc_14969',\n",
      "'doc_19005', 'doc_21551', 'doc_30019', 'doc_32033', 'doc_32294', 'doc_33656', 'doc_35602',\n",
      "'doc_39630', 'doc_41873', 'doc_42468', 'doc_44604', 'doc_44608', 'doc_46025', 'doc_46675',\n",
      "'doc_5751', 'doc_11916', 'doc_18902', 'doc_24046', 'doc_26919', 'doc_6204', 'doc_10048',\n",
      "'doc_17371', 'doc_20726', 'doc_31405', 'doc_41871', 'doc_18506', 'doc_27428', 'doc_31721',\n",
      "'doc_34478', 'doc_36047', 'doc_36741', 'doc_44928', 'doc_47355', 'doc_1934', 'doc_17742',\n",
      "'doc_26061', 'doc_27899', 'doc_36103', 'doc_27955', 'doc_31986', 'doc_32672', 'doc_44217',\n",
      "'doc_5512', 'doc_12052', 'doc_32529', 'doc_32877', 'doc_35903', 'doc_634', 'doc_15507',\n",
      "'doc_36777', 'doc_1047', 'doc_3287', 'doc_6510', 'doc_7211', 'doc_32955', 'doc_36849',\n",
      "'doc_33375', 'doc_36495', 'doc_36498', 'doc_36518', 'doc_36524', 'doc_45761', 'doc_46793',\n",
      "'doc_47629', 'doc_18093', 'doc_48158', 'doc_10404', 'doc_36727', 'doc_35151', 'doc_36527',\n",
      "'doc_36715', 'doc_36724', 'doc_22526', 'doc_29509', 'doc_30522', 'doc_11719', 'doc_3570',\n",
      "'doc_11997', 'doc_9937', 'doc_9955', 'doc_11705', 'doc_11736', 'doc_12050', 'doc_12051',\n",
      "'doc_27802', 'doc_11700']\n",
      "\n",
      "Ground Truth Files Query 2 (subset): ['doc_103' 'doc_1566' 'doc_1651' 'doc_1666' 'doc_1785' 'doc_2528'\n",
      " 'doc_2653' 'doc_3005' 'doc_3076' 'doc_3116' 'doc_3646' 'doc_3682'\n",
      " 'doc_3927' 'doc_4176' 'doc_4304']\n",
      "\n",
      "Our Obtained Results Query 2: ['doc_38971', 'doc_11484', 'doc_17769', 'doc_29545', 'doc_31188', 'doc_38240',\n",
      "'doc_44082', 'doc_15947', 'doc_3116', 'doc_8470', 'doc_14237', 'doc_14748', 'doc_18946',\n",
      "'doc_27778', 'doc_31710', 'doc_34728', 'doc_36211', 'doc_37414', 'doc_40124', 'doc_40125',\n",
      "'doc_42096', 'doc_32623', 'doc_30164', 'doc_8150', 'doc_13788', 'doc_15861', 'doc_29563',\n",
      "'doc_30422', 'doc_33274', 'doc_35081', 'doc_39624', 'doc_47048', 'doc_48204', 'doc_37209',\n",
      "'doc_37219', 'doc_37232', 'doc_37241', 'doc_17156', 'doc_36696', 'doc_37117', 'doc_16376',\n",
      "'doc_34350', 'doc_5306', 'doc_9824', 'doc_11291', 'doc_21248', 'doc_28392', 'doc_30419',\n",
      "'doc_35825', 'doc_39942', 'doc_41580', 'doc_42587', 'doc_47380', 'doc_47837', 'doc_47839',\n",
      "'doc_47841', 'doc_47843', 'doc_47845', 'doc_47848', 'doc_48027', 'doc_48059', 'doc_48070',\n",
      "'doc_48074', 'doc_48079', 'doc_48084', 'doc_48089', 'doc_48093', 'doc_48113', 'doc_48150',\n",
      "'doc_48157', 'doc_48165', 'doc_37090', 'doc_6703', 'doc_11569', 'doc_37337', 'doc_37338',\n",
      "'doc_37345', 'doc_103', 'doc_13912', 'doc_18293', 'doc_22636', 'doc_27745', 'doc_28455',\n",
      "'doc_30230', 'doc_30820', 'doc_31560', 'doc_37332', 'doc_40628', 'doc_41848', 'doc_43834',\n",
      "'doc_44173', 'doc_45119', 'doc_47687', 'doc_28413', 'doc_1566', 'doc_11017', 'doc_34869',\n",
      "'doc_32295', 'doc_35411', 'doc_37346', 'doc_21486', 'doc_29100', 'doc_33116', 'doc_6749',\n",
      "'doc_9630', 'doc_12228', 'doc_17324', 'doc_18061', 'doc_22487', 'doc_25651', 'doc_26951',\n",
      "'doc_26952', 'doc_29983', 'doc_30304', 'doc_34576', 'doc_34902', 'doc_37092', 'doc_38158',\n",
      "'doc_38954', 'doc_41946', 'doc_45184', 'doc_46621', 'doc_23946', 'doc_28833', 'doc_46000',\n",
      "'doc_9453', 'doc_22724', 'doc_40110', 'doc_6838', 'doc_8177', 'doc_11662', 'doc_18920',\n",
      "'doc_23539', 'doc_26758', 'doc_26945', 'doc_27384', 'doc_30768', 'doc_35243', 'doc_36091',\n",
      "'doc_37306', 'doc_37307', 'doc_37405', 'doc_37875', 'doc_40345', 'doc_41945', 'doc_43382',\n",
      "'doc_43703', 'doc_46983', 'doc_37270', 'doc_44428', 'doc_46929', 'doc_47193', 'doc_47286',\n",
      "'doc_26377', 'doc_27118', 'doc_46756', 'doc_3076', 'doc_7086', 'doc_7483', 'doc_7568',\n",
      "'doc_9960', 'doc_11473', 'doc_11753', 'doc_13301', 'doc_15526', 'doc_17680', 'doc_19988',\n",
      "'doc_22740', 'doc_24273', 'doc_31238', 'doc_31358', 'doc_31499', 'doc_33558', 'doc_33578',\n",
      "'doc_33596', 'doc_34188', 'doc_36457', 'doc_37101', 'doc_39317', 'doc_40325', 'doc_46576',\n",
      "'doc_47515', 'doc_5324', 'doc_11774', 'doc_22395', 'doc_22399', 'doc_40614', 'doc_22650',\n",
      "'doc_31349', 'doc_6587', 'doc_10821', 'doc_12022', 'doc_12213', 'doc_18642', 'doc_23439',\n",
      "'doc_23499', 'doc_26636', 'doc_34457', 'doc_36196', 'doc_37065', 'doc_38452', 'doc_40203',\n",
      "'doc_35655', 'doc_27054', 'doc_37441', 'doc_39501', 'doc_45136', 'doc_45137', 'doc_47642',\n",
      "'doc_6025', 'doc_7104', 'doc_7710', 'doc_11105', 'doc_11106', 'doc_22579', 'doc_22708',\n",
      "'doc_28419', 'doc_30457', 'doc_32162', 'doc_36081', 'doc_37094', 'doc_39228', 'doc_45302',\n",
      "'doc_46657', 'doc_31489', 'doc_11517', 'doc_42274', 'doc_43076', 'doc_43084', 'doc_21006',\n",
      "'doc_3682', 'doc_6512', 'doc_7402', 'doc_9399', 'doc_13158', 'doc_21900', 'doc_25955',\n",
      "'doc_29130', 'doc_31331', 'doc_35161', 'doc_35447', 'doc_37136', 'doc_37676', 'doc_38462',\n",
      "'doc_39044', 'doc_39819', 'doc_40373', 'doc_45811', 'doc_46225', 'doc_31568', 'doc_33641',\n",
      "'doc_3646', 'doc_5169', 'doc_8428', 'doc_10923', 'doc_13445', 'doc_13857', 'doc_15121',\n",
      "'doc_15319', 'doc_16451', 'doc_19071', 'doc_24456', 'doc_35249', 'doc_35250', 'doc_35251',\n",
      "'doc_35252', 'doc_35255', 'doc_35256', 'doc_35257', 'doc_35259', 'doc_35260', 'doc_35261',\n",
      "'doc_35264', 'doc_35265', 'doc_35266', 'doc_35267', 'doc_35268', 'doc_35270', 'doc_35272',\n",
      "'doc_35273', 'doc_35879', 'doc_36311', 'doc_37638', 'doc_37933', 'doc_38206', 'doc_39320',\n",
      "'doc_40630', 'doc_40993', 'doc_44666', 'doc_44816', 'doc_45968', 'doc_46570', 'doc_47419',\n",
      "'doc_46909', 'doc_3927', 'doc_9836', 'doc_12815', 'doc_23397', 'doc_23444', 'doc_23780',\n",
      "'doc_27959', 'doc_29991', 'doc_34156', 'doc_35027', 'doc_35731', 'doc_36127', 'doc_38078',\n",
      "'doc_38492', 'doc_40580', 'doc_43112', 'doc_44337', 'doc_45620', 'doc_6758', 'doc_6968',\n",
      "'doc_11665', 'doc_22209', 'doc_23464', 'doc_30952', 'doc_36986', 'doc_37365', 'doc_38068',\n",
      "'doc_44603', 'doc_45479', 'doc_2653', 'doc_6084', 'doc_7570', 'doc_7778', 'doc_11750',\n",
      "'doc_13833', 'doc_14792', 'doc_19361', 'doc_25380', 'doc_27113', 'doc_27732', 'doc_28260',\n",
      "'doc_31021', 'doc_32088', 'doc_32586', 'doc_35586', 'doc_37558', 'doc_38807', 'doc_39173',\n",
      "'doc_41444', 'doc_41823', 'doc_44904', 'doc_45134', 'doc_45239', 'doc_46094', 'doc_46344',\n",
      "'doc_7255', 'doc_9394', 'doc_11703', 'doc_12268', 'doc_22560', 'doc_22563', 'doc_29010',\n",
      "'doc_30210', 'doc_31510', 'doc_36410', 'doc_44087', 'doc_44983', 'doc_45909', 'doc_37257',\n",
      "'doc_23083', 'doc_8921', 'doc_11635', 'doc_15195', 'doc_16055', 'doc_22233', 'doc_23033',\n",
      "'doc_23734', 'doc_24328', 'doc_26697', 'doc_27992', 'doc_28464', 'doc_31682', 'doc_39361',\n",
      "'doc_39627', 'doc_45529', 'doc_46211', 'doc_1666', 'doc_6357', 'doc_6734', 'doc_12279',\n",
      "'doc_14907', 'doc_15145', 'doc_21153', 'doc_22215', 'doc_22336', 'doc_31329', 'doc_34322',\n",
      "'doc_35312', 'doc_38030', 'doc_40064', 'doc_44045', 'doc_45154', 'doc_45417', 'doc_45929',\n",
      "'doc_47319', 'doc_3005', 'doc_4329', 'doc_7237', 'doc_18047', 'doc_22978', 'doc_23037',\n",
      "'doc_23520', 'doc_25069', 'doc_26860', 'doc_27080', 'doc_28764', 'doc_29702', 'doc_30729',\n",
      "'doc_31955', 'doc_32541', 'doc_36387', 'doc_36881', 'doc_37000', 'doc_39694', 'doc_39883',\n",
      "'doc_40695', 'doc_41106', 'doc_42985', 'doc_1651', 'doc_6038', 'doc_7212', 'doc_12543',\n",
      "'doc_14153', 'doc_19385', 'doc_23005', 'doc_27190', 'doc_27362', 'doc_27616', 'doc_27692',\n",
      "'doc_34331', 'doc_35171', 'doc_36408', 'doc_37268', 'doc_38945', 'doc_41965', 'doc_43971',\n",
      "'doc_44281', 'doc_44648', 'doc_45233', 'doc_46662', 'doc_6066', 'doc_6373', 'doc_10963',\n",
      "'doc_11093', 'doc_14213', 'doc_14245', 'doc_16824', 'doc_18078', 'doc_25711', 'doc_26967',\n",
      "'doc_27066', 'doc_31767', 'doc_33232', 'doc_37062', 'doc_39978', 'doc_40950', 'doc_46310',\n",
      "'doc_47015', 'doc_47424', 'doc_47966', 'doc_4304', 'doc_5078', 'doc_5370', 'doc_8247',\n",
      "'doc_10453', 'doc_11191', 'doc_16057', 'doc_27338', 'doc_30044', 'doc_32046', 'doc_34236',\n",
      "'doc_36103', 'doc_38266', 'doc_41973', 'doc_46846', 'doc_1785', 'doc_4176', 'doc_7618',\n",
      "'doc_7630', 'doc_7634', 'doc_8775', 'doc_11822', 'doc_11968', 'doc_14097', 'doc_17666',\n",
      "'doc_18205', 'doc_21848', 'doc_25954', 'doc_33573', 'doc_35172', 'doc_35730', 'doc_36838',\n",
      "'doc_43710', 'doc_7977', 'doc_10018', 'doc_11616', 'doc_19058', 'doc_25934', 'doc_30435',\n",
      "'doc_35754', 'doc_36267', 'doc_38105', 'doc_39094', 'doc_44031', 'doc_46130', 'doc_46315',\n",
      "'doc_5180', 'doc_27968', 'doc_34493', 'doc_32956', 'doc_40472', 'doc_11185', 'doc_16865',\n",
      "'doc_23109', 'doc_37919', 'doc_1273', 'doc_11265', 'doc_36286', 'doc_39003', 'doc_32203',\n",
      "'doc_32354', 'doc_25601', 'doc_2528', 'doc_8654', 'doc_14263', 'doc_35882', 'doc_11643',\n",
      "'doc_43491', 'doc_23847', 'doc_36032', 'doc_26363']\n",
      "\n"
     ]
    }
   ],
   "source": [
    "def print_wrapped(title, data):\n",
    "    wrapper = textwrap.TextWrapper(width=90)\n",
    "    wrapped_text = wrapper.fill(str(data))\n",
    "    print(f\"{title} {wrapped_text}\\n\")\n",
    "\n",
    "print(f\"Ground Truth Files Query 1 (subset): {query_1_relevant}\\n\")\n",
    "print_wrapped(\"Our Obtained Results Query 1:\", query_1_results)\n",
    "\n",
    "print(f\"Ground Truth Files Query 2 (subset): {query_2_relevant}\\n\")\n",
    "print_wrapped(\"Our Obtained Results Query 2:\", query_2_results)"
   ]
  },
  {
   "cell_type": "code",
   "execution_count": 40,
   "metadata": {},
   "outputs": [
    {
     "data": {
      "text/html": [
       "<div>\n",
       "<style scoped>\n",
       "    .dataframe tbody tr th:only-of-type {\n",
       "        vertical-align: middle;\n",
       "    }\n",
       "\n",
       "    .dataframe tbody tr th {\n",
       "        vertical-align: top;\n",
       "    }\n",
       "\n",
       "    .dataframe thead th {\n",
       "        text-align: right;\n",
       "    }\n",
       "</style>\n",
       "<table border=\"1\" class=\"dataframe\">\n",
       "  <thead>\n",
       "    <tr style=\"text-align: right;\">\n",
       "      <th></th>\n",
       "      <th>id</th>\n",
       "      <th>content</th>\n",
       "      <th>date</th>\n",
       "      <th>hashtags</th>\n",
       "      <th>likes</th>\n",
       "      <th>retweets</th>\n",
       "      <th>url</th>\n",
       "      <th>docId</th>\n",
       "      <th>query_id</th>\n",
       "      <th>label</th>\n",
       "    </tr>\n",
       "  </thead>\n",
       "  <tbody>\n",
       "    <tr>\n",
       "      <th>9</th>\n",
       "      <td>1364505255946379268</td>\n",
       "      <td>left hear modi lol farmersprotest</td>\n",
       "      <td>2021-02-24T09:19:38+00:00</td>\n",
       "      <td>#FarmersProtest</td>\n",
       "      <td>1</td>\n",
       "      <td>0</td>\n",
       "      <td>https://twitter.com/kdhanjal12/status/1364505255946379268</td>\n",
       "      <td>doc_11</td>\n",
       "      <td>3.0</td>\n",
       "      <td>0.0</td>\n",
       "    </tr>\n",
       "    <tr>\n",
       "      <th>15</th>\n",
       "      <td>1364504281618001921</td>\n",
       "      <td>know tiger wood accid what go ten thousand indian farmer protest farmersprotest</td>\n",
       "      <td>2021-02-24T09:15:46+00:00</td>\n",
       "      <td>#FarmersProtest</td>\n",
       "      <td>0</td>\n",
       "      <td>0</td>\n",
       "      <td>https://twitter.com/GregMitchell62/status/1364504281618001921</td>\n",
       "      <td>doc_17</td>\n",
       "      <td>1.0</td>\n",
       "      <td>1.0</td>\n",
       "    </tr>\n",
       "  </tbody>\n",
       "</table>\n",
       "</div>"
      ],
      "text/plain": [
       "                     id  \\\n",
       "9   1364505255946379268   \n",
       "15  1364504281618001921   \n",
       "\n",
       "                                                                            content  \\\n",
       "9                                                 left hear modi lol farmersprotest   \n",
       "15  know tiger wood accid what go ten thousand indian farmer protest farmersprotest   \n",
       "\n",
       "                         date         hashtags  likes  retweets  \\\n",
       "9   2021-02-24T09:19:38+00:00  #FarmersProtest      1         0   \n",
       "15  2021-02-24T09:15:46+00:00  #FarmersProtest      0         0   \n",
       "\n",
       "                                                              url   docId  \\\n",
       "9       https://twitter.com/kdhanjal12/status/1364505255946379268  doc_11   \n",
       "15  https://twitter.com/GregMitchell62/status/1364504281618001921  doc_17   \n",
       "\n",
       "    query_id  label  \n",
       "9        3.0    0.0  \n",
       "15       1.0    1.0  "
      ]
     },
     "execution_count": 40,
     "metadata": {},
     "output_type": "execute_result"
    }
   ],
   "source": [
    "personalized_eva_gt = pd.read_csv('./data/personalized_evaluation_gt.csv', sep=';')\n",
    "df_personalized_eva = pd.merge(tweets_df, personalized_eva_gt, on='docId', how='left')\n",
    "df_personalized_eva = df_personalized_eva[df_personalized_eva['query_id'].notnull()]\n",
    "df_personalized_eva.head(2)"
   ]
  },
  {
   "cell_type": "code",
   "execution_count": 41,
   "metadata": {},
   "outputs": [],
   "source": [
    "# Dictionaries to hold relevant documents and results\n",
    "personalized_query_text = {}\n",
    "personalized_query_relevant = {}\n",
    "personalized_query_results = {}\n",
    "\n",
    "query_texts = [\"India protest\", \"support farmers\", \"Modi shame\", \"BJP party\", \"human rights violated\"]\n",
    "\n",
    "# Populate the dictionaries\n",
    "for i, query_text in enumerate(query_texts, start=1):\n",
    "    personalized_query_text[i] = query_texts[i-1]\n",
    "    df_query = df_personalized_eva[df_personalized_eva['query_id'] == i]\n",
    "    personalized_query_relevant[i] = df_query[df_query['label'] == 1]['docId'].unique()\n",
    "    # index, tf, df, idf = create_index_tfidf(df_query)\n",
    "    personalized_query_results[i] = search_tf_idf(query_text, index, idf, tf)"
   ]
  },
  {
   "cell_type": "markdown",
   "metadata": {},
   "source": [
    "### Precision@K (P@K)"
   ]
  },
  {
   "cell_type": "markdown",
   "metadata": {},
   "source": [
    "Keep in mind here that we are computing the Binary Relevance."
   ]
  },
  {
   "cell_type": "code",
   "execution_count": 42,
   "metadata": {},
   "outputs": [],
   "source": [
    "def precision_at_k(ground_truth, results, K=10):\n",
    "    top_k_results = results[:K]\n",
    "    # Calculate the number of relevant documents in the top K results\n",
    "    relevant_documents = [doc for doc in top_k_results if doc in ground_truth]\n",
    "    precision = len(relevant_documents) / K if K > 0 else 0\n",
    "    return precision"
   ]
  },
  {
   "cell_type": "code",
   "execution_count": 43,
   "metadata": {},
   "outputs": [
    {
     "name": "stdout",
     "output_type": "stream",
     "text": [
      "Query 1 Precision@5: 0.0000\n",
      "Query 1 Precision@10: 0.0000\n",
      "Query 1 Precision@15: 0.0000\n",
      "Query 1 Precision@20: 0.0500\n",
      "Query 1 Precision@50: 0.0600\n",
      "Query 1 Precision@100: 0.0700\n",
      "Query 1 Precision@150: 0.0533\n",
      "Query 1 Precision@289: 0.0519\n"
     ]
    }
   ],
   "source": [
    "K_values = list(sorted(set([5, 10, 15, 20, 50, 100, 150, len(query_1_results)])))\n",
    "for K in K_values:\n",
    "    precision = precision_at_k(query_1_relevant, query_1_results, K)\n",
    "    print(f\"Query 1 Precision@{K}: {precision:.4f}\")"
   ]
  },
  {
   "cell_type": "code",
   "execution_count": 44,
   "metadata": {},
   "outputs": [
    {
     "name": "stdout",
     "output_type": "stream",
     "text": [
      "Query 2 Precision@5: 0.0000\n",
      "Query 2 Precision@10: 0.1000\n",
      "Query 2 Precision@15: 0.0667\n",
      "Query 2 Precision@20: 0.0500\n",
      "Query 2 Precision@50: 0.0200\n",
      "Query 2 Precision@100: 0.0300\n",
      "Query 2 Precision@150: 0.0200\n",
      "Query 2 Precision@535: 0.0280\n"
     ]
    }
   ],
   "source": [
    "K_values = list(sorted(set([5, 10, 15, 20, 50, 100, 150, len(query_2_results)])))\n",
    "for K in K_values:\n",
    "    precision = precision_at_k(query_2_relevant, query_2_results, K)\n",
    "    print(f\"Query 2 Precision@{K}: {precision:.4f}\")"
   ]
  },
  {
   "cell_type": "code",
   "execution_count": 45,
   "metadata": {},
   "outputs": [
    {
     "name": "stdout",
     "output_type": "stream",
     "text": [
      "Personalized Query 1 - India protest             - Precision@5  : 0.0000\n",
      "Personalized Query 1 - India protest             - Precision@10 : 0.0000\n",
      "Personalized Query 1 - India protest             - Precision@15 : 0.0000\n",
      "Personalized Query 1 - India protest             - Precision@20 : 0.0000\n",
      "Personalized Query 1 - India protest             - Precision@50 : 0.0000\n",
      "Personalized Query 1 - India protest             - Precision@100: 0.0100\n",
      "Personalized Query 1 - India protest             - Precision@150: 0.0067\n",
      "Personalized Query 1 - India protest             - Precision@951: 0.0053\n",
      "\n",
      "Personalized Query 2 - support farmers           - Precision@5  : 0.0000\n",
      "Personalized Query 2 - support farmers           - Precision@10 : 0.0000\n",
      "Personalized Query 2 - support farmers           - Precision@15 : 0.0000\n",
      "Personalized Query 2 - support farmers           - Precision@20 : 0.0000\n",
      "Personalized Query 2 - support farmers           - Precision@50 : 0.0000\n",
      "Personalized Query 2 - support farmers           - Precision@100: 0.0000\n",
      "Personalized Query 2 - support farmers           - Precision@150: 0.0000\n",
      "Personalized Query 2 - support farmers           - Precision@3196: 0.0031\n",
      "\n",
      "Personalized Query 3 - Modi shame                - Precision@5  : 0.0000\n",
      "Personalized Query 3 - Modi shame                - Precision@10 : 0.0000\n",
      "Personalized Query 3 - Modi shame                - Precision@15 : 0.0000\n",
      "Personalized Query 3 - Modi shame                - Precision@20 : 0.0000\n",
      "Personalized Query 3 - Modi shame                - Precision@50 : 0.0200\n",
      "Personalized Query 3 - Modi shame                - Precision@100: 0.0400\n",
      "Personalized Query 3 - Modi shame                - Precision@150: 0.0533\n",
      "Personalized Query 3 - Modi shame                - Precision@193: 0.0518\n",
      "\n",
      "Personalized Query 4 - BJP party                 - Precision@5  : 0.0000\n",
      "Personalized Query 4 - BJP party                 - Precision@10 : 0.0000\n",
      "Personalized Query 4 - BJP party                 - Precision@15 : 0.0667\n",
      "Personalized Query 4 - BJP party                 - Precision@20 : 0.1000\n",
      "Personalized Query 4 - BJP party                 - Precision@50 : 0.0600\n",
      "Personalized Query 4 - BJP party                 - Precision@100: 0.0900\n",
      "Personalized Query 4 - BJP party                 - Precision@128: 0.0703\n",
      "Personalized Query 4 - BJP party                 - Precision@150: 0.0600\n",
      "\n",
      "Personalized Query 5 - human rights violated     - Precision@5  : 0.0000\n",
      "Personalized Query 5 - human rights violated     - Precision@10 : 0.0000\n",
      "Personalized Query 5 - human rights violated     - Precision@15 : 0.0000\n",
      "Personalized Query 5 - human rights violated     - Precision@20 : 0.0000\n",
      "Personalized Query 5 - human rights violated     - Precision@50 : 0.0200\n",
      "Personalized Query 5 - human rights violated     - Precision@100: 0.0100\n",
      "Personalized Query 5 - human rights violated     - Precision@150: 0.0333\n",
      "Personalized Query 5 - human rights violated     - Precision@254: 0.0394\n",
      "\n"
     ]
    }
   ],
   "source": [
    "for i, query_text in enumerate(query_texts, start=1):\n",
    "    # Retrieve relevant documents and results from the dictionaries\n",
    "    relevant_docs = personalized_query_relevant[i]\n",
    "    results = personalized_query_results[i]\n",
    "    \n",
    "    K_values = list(sorted(set([5, 10, 15, 20, 50, 100, 150, len(results)])))\n",
    "    \n",
    "    for K in K_values:\n",
    "        precision = precision_at_k(relevant_docs, results, K)\n",
    "        print(f\"Personalized Query {i} - {query_text:<25} - Precision@{K:<3}: {precision:.4f}\")\n",
    "    print()\n"
   ]
  },
  {
   "cell_type": "markdown",
   "metadata": {},
   "source": [
    "### Recall@K (R@K)"
   ]
  },
  {
   "cell_type": "code",
   "execution_count": 46,
   "metadata": {},
   "outputs": [],
   "source": [
    "def recall_at_k(ground_truth, results, K=10):\n",
    "    if K > len(results): K = len(results)\n",
    "    top_k_results = results[:K]\n",
    "    relevant_documents_retrieved = sum(1 for doc in top_k_results if doc in ground_truth)\n",
    "    total_relevant_documents = len(ground_truth)\n",
    "    if total_relevant_documents == 0: return 0\n",
    "    recall = relevant_documents_retrieved / total_relevant_documents\n",
    "    return recall"
   ]
  },
  {
   "cell_type": "code",
   "execution_count": 47,
   "metadata": {},
   "outputs": [
    {
     "name": "stdout",
     "output_type": "stream",
     "text": [
      "Query 1 Recall@5: 0.0000\n",
      "Query 1 Recall@10: 0.0000\n",
      "Query 1 Recall@15: 0.0000\n",
      "Query 1 Recall@20: 0.0667\n",
      "Query 1 Recall@50: 0.2000\n",
      "Query 1 Recall@100: 0.4667\n",
      "Query 1 Recall@150: 0.5333\n",
      "Query 1 Recall@289: 1.0000\n"
     ]
    }
   ],
   "source": [
    "K_values = list(sorted(set([5, 10, 15, 20, 50, 100, 150, len(query_1_results)])))\n",
    "for K in K_values:\n",
    "    recall_value = recall_at_k(query_1_relevant, query_1_results, K)\n",
    "    print(f\"Query 1 Recall@{K}: {recall_value:.4f}\")"
   ]
  },
  {
   "cell_type": "code",
   "execution_count": 48,
   "metadata": {},
   "outputs": [
    {
     "name": "stdout",
     "output_type": "stream",
     "text": [
      "Query 2 Recall@5: 0.0000\n",
      "Query 2 Recall@10: 0.0667\n",
      "Query 2 Recall@15: 0.0667\n",
      "Query 2 Recall@20: 0.0667\n",
      "Query 2 Recall@50: 0.0667\n",
      "Query 2 Recall@100: 0.2000\n",
      "Query 2 Recall@150: 0.2000\n",
      "Query 2 Recall@535: 1.0000\n"
     ]
    }
   ],
   "source": [
    "K_values = list(sorted(set([5, 10, 15, 20, 50, 100, 150, len(query_2_results)])))\n",
    "for K in K_values:\n",
    "    recall_value = recall_at_k(query_2_relevant, query_2_results, K)\n",
    "    print(f\"Query 2 Recall@{K}: {recall_value:.4f}\")"
   ]
  },
  {
   "cell_type": "code",
   "execution_count": 49,
   "metadata": {},
   "outputs": [
    {
     "name": "stdout",
     "output_type": "stream",
     "text": [
      "Personalized Query 1 - India protest             - Recall@5  : 0.0000\n",
      "Personalized Query 1 - India protest             - Recall@10 : 0.0000\n",
      "Personalized Query 1 - India protest             - Recall@15 : 0.0000\n",
      "Personalized Query 1 - India protest             - Recall@20 : 0.0000\n",
      "Personalized Query 1 - India protest             - Recall@50 : 0.0000\n",
      "Personalized Query 1 - India protest             - Recall@100: 0.1000\n",
      "Personalized Query 1 - India protest             - Recall@150: 0.1000\n",
      "Personalized Query 1 - India protest             - Recall@951: 0.5000\n",
      "\n",
      "Personalized Query 2 - support farmers           - Recall@5  : 0.0000\n",
      "Personalized Query 2 - support farmers           - Recall@10 : 0.0000\n",
      "Personalized Query 2 - support farmers           - Recall@15 : 0.0000\n",
      "Personalized Query 2 - support farmers           - Recall@20 : 0.0000\n",
      "Personalized Query 2 - support farmers           - Recall@50 : 0.0000\n",
      "Personalized Query 2 - support farmers           - Recall@100: 0.0000\n",
      "Personalized Query 2 - support farmers           - Recall@150: 0.0000\n",
      "Personalized Query 2 - support farmers           - Recall@3196: 1.0000\n",
      "\n",
      "Personalized Query 3 - Modi shame                - Recall@5  : 0.0000\n",
      "Personalized Query 3 - Modi shame                - Recall@10 : 0.0000\n",
      "Personalized Query 3 - Modi shame                - Recall@15 : 0.0000\n",
      "Personalized Query 3 - Modi shame                - Recall@20 : 0.0000\n",
      "Personalized Query 3 - Modi shame                - Recall@50 : 0.1000\n",
      "Personalized Query 3 - Modi shame                - Recall@100: 0.4000\n",
      "Personalized Query 3 - Modi shame                - Recall@150: 0.8000\n",
      "Personalized Query 3 - Modi shame                - Recall@193: 1.0000\n",
      "\n",
      "Personalized Query 4 - BJP party                 - Recall@5  : 0.0000\n",
      "Personalized Query 4 - BJP party                 - Recall@10 : 0.0000\n",
      "Personalized Query 4 - BJP party                 - Recall@15 : 0.1111\n",
      "Personalized Query 4 - BJP party                 - Recall@20 : 0.2222\n",
      "Personalized Query 4 - BJP party                 - Recall@50 : 0.3333\n",
      "Personalized Query 4 - BJP party                 - Recall@100: 1.0000\n",
      "Personalized Query 4 - BJP party                 - Recall@128: 1.0000\n",
      "Personalized Query 4 - BJP party                 - Recall@150: 1.0000\n",
      "\n",
      "Personalized Query 5 - human rights violated     - Recall@5  : 0.0000\n",
      "Personalized Query 5 - human rights violated     - Recall@10 : 0.0000\n",
      "Personalized Query 5 - human rights violated     - Recall@15 : 0.0000\n",
      "Personalized Query 5 - human rights violated     - Recall@20 : 0.0000\n",
      "Personalized Query 5 - human rights violated     - Recall@50 : 0.1000\n",
      "Personalized Query 5 - human rights violated     - Recall@100: 0.1000\n",
      "Personalized Query 5 - human rights violated     - Recall@150: 0.5000\n",
      "Personalized Query 5 - human rights violated     - Recall@254: 1.0000\n",
      "\n"
     ]
    }
   ],
   "source": [
    "for i, query_text in enumerate(query_texts, start=1):\n",
    "    relevant_docs = personalized_query_relevant[i]\n",
    "    results = personalized_query_results[i]\n",
    "    \n",
    "    K_values = list(sorted(set([5, 10, 15, 20, 50, 100, 150, len(results)])))\n",
    "    \n",
    "    for K in K_values:\n",
    "        recall_value = recall_at_k(relevant_docs, results, K)\n",
    "        print(f\"Personalized Query {i} - {query_text:<25} - Recall@{K:<3}: {recall_value:.4f}\")\n",
    "    print()"
   ]
  },
  {
   "cell_type": "markdown",
   "metadata": {},
   "source": [
    "### Average Precision@K (P@K)"
   ]
  },
  {
   "cell_type": "code",
   "execution_count": 50,
   "metadata": {},
   "outputs": [],
   "source": [
    "def average_precision_at_k(ground_truth, results, K=None):\n",
    "    if K is None: K = len(results)\n",
    "\n",
    "    ground_truth_set = set(ground_truth)\n",
    "    relevant_documents_retrieved = 0\n",
    "    cumulative_precision = 0.0\n",
    "\n",
    "    # Iterate over the list of results up to K\n",
    "    for i, doc_id in enumerate(results[:K]):\n",
    "        if doc_id in ground_truth_set:\n",
    "            relevant_documents_retrieved += 1\n",
    "            precision_at_i = relevant_documents_retrieved / (i + 1)\n",
    "            cumulative_precision += precision_at_i\n",
    "\n",
    "    # Calculate average precision\n",
    "    total_relevant = len(ground_truth_set)\n",
    "    if total_relevant > 0:\n",
    "        average_precision = cumulative_precision / total_relevant\n",
    "    else:\n",
    "        average_precision = 0\n",
    "\n",
    "    return average_precision"
   ]
  },
  {
   "cell_type": "code",
   "execution_count": 51,
   "metadata": {},
   "outputs": [
    {
     "name": "stdout",
     "output_type": "stream",
     "text": [
      "Query 1 Average Precision@5: 0.0000\n",
      "Query 1 Average Precision@10: 0.0000\n",
      "Query 1 Average Precision@15: 0.0000\n",
      "Query 1 Average Precision@20: 0.0042\n",
      "Query 1 Average Precision@50: 0.0154\n",
      "Query 1 Average Precision@100: 0.0355\n",
      "Query 1 Average Precision@150: 0.0406\n",
      "Query 1 Average Precision@289: 0.0627\n"
     ]
    }
   ],
   "source": [
    "K_values = list(sorted(set([5, 10, 15, 20, 50, 100, 150, len(query_1_results)])))\n",
    "for K in K_values:\n",
    "    precision = average_precision_at_k(query_1_relevant, query_1_results, K)\n",
    "    print(f\"Query 1 Average Precision@{K}: {precision:.4f}\")"
   ]
  },
  {
   "cell_type": "code",
   "execution_count": 52,
   "metadata": {},
   "outputs": [
    {
     "name": "stdout",
     "output_type": "stream",
     "text": [
      "Query 2 Average Precision@5: 0.0000\n",
      "Query 2 Average Precision@10: 0.0074\n",
      "Query 2 Average Precision@15: 0.0074\n",
      "Query 2 Average Precision@20: 0.0074\n",
      "Query 2 Average Precision@50: 0.0074\n",
      "Query 2 Average Precision@100: 0.0112\n",
      "Query 2 Average Precision@150: 0.0112\n",
      "Query 2 Average Precision@535: 0.0315\n"
     ]
    }
   ],
   "source": [
    "K_values = list(sorted(set([5, 10, 15, 20, 50, 100, 150, len(query_2_results)])))\n",
    "for K in K_values:\n",
    "    precision = average_precision_at_k(query_2_relevant, query_2_results, K)\n",
    "    print(f\"Query 2 Average Precision@{K}: {precision:.4f}\")"
   ]
  },
  {
   "cell_type": "code",
   "execution_count": 53,
   "metadata": {},
   "outputs": [
    {
     "name": "stdout",
     "output_type": "stream",
     "text": [
      "Personalized Query 1 - India protest             - Average Precision@5  : 0.0000\n",
      "Personalized Query 1 - India protest             - Average Precision@10 : 0.0000\n",
      "Personalized Query 1 - India protest             - Average Precision@15 : 0.0000\n",
      "Personalized Query 1 - India protest             - Average Precision@20 : 0.0000\n",
      "Personalized Query 1 - India protest             - Average Precision@50 : 0.0000\n",
      "Personalized Query 1 - India protest             - Average Precision@100: 0.0012\n",
      "Personalized Query 1 - India protest             - Average Precision@150: 0.0012\n",
      "Personalized Query 1 - India protest             - Average Precision@951: 0.0031\n",
      "\n",
      "Personalized Query 2 - support farmers           - Average Precision@5  : 0.0000\n",
      "Personalized Query 2 - support farmers           - Average Precision@10 : 0.0000\n",
      "Personalized Query 2 - support farmers           - Average Precision@15 : 0.0000\n",
      "Personalized Query 2 - support farmers           - Average Precision@20 : 0.0000\n",
      "Personalized Query 2 - support farmers           - Average Precision@50 : 0.0000\n",
      "Personalized Query 2 - support farmers           - Average Precision@100: 0.0000\n",
      "Personalized Query 2 - support farmers           - Average Precision@150: 0.0000\n",
      "Personalized Query 2 - support farmers           - Average Precision@3196: 0.0025\n",
      "\n",
      "Personalized Query 3 - Modi shame                - Average Precision@5  : 0.0000\n",
      "Personalized Query 3 - Modi shame                - Average Precision@10 : 0.0000\n",
      "Personalized Query 3 - Modi shame                - Average Precision@15 : 0.0000\n",
      "Personalized Query 3 - Modi shame                - Average Precision@20 : 0.0000\n",
      "Personalized Query 3 - Modi shame                - Average Precision@50 : 0.0026\n",
      "Personalized Query 3 - Modi shame                - Average Precision@100: 0.0164\n",
      "Personalized Query 3 - Modi shame                - Average Precision@150: 0.0352\n",
      "Personalized Query 3 - Modi shame                - Average Precision@193: 0.0463\n",
      "\n",
      "Personalized Query 4 - BJP party                 - Average Precision@5  : 0.0000\n",
      "Personalized Query 4 - BJP party                 - Average Precision@10 : 0.0000\n",
      "Personalized Query 4 - BJP party                 - Average Precision@15 : 0.0085\n",
      "Personalized Query 4 - BJP party                 - Average Precision@20 : 0.0197\n",
      "Personalized Query 4 - BJP party                 - Average Precision@50 : 0.0280\n",
      "Personalized Query 4 - BJP party                 - Average Precision@100: 0.0824\n",
      "Personalized Query 4 - BJP party                 - Average Precision@128: 0.0824\n",
      "Personalized Query 4 - BJP party                 - Average Precision@150: 0.0824\n",
      "\n",
      "Personalized Query 5 - human rights violated     - Average Precision@5  : 0.0000\n",
      "Personalized Query 5 - human rights violated     - Average Precision@10 : 0.0000\n",
      "Personalized Query 5 - human rights violated     - Average Precision@15 : 0.0000\n",
      "Personalized Query 5 - human rights violated     - Average Precision@20 : 0.0000\n",
      "Personalized Query 5 - human rights violated     - Average Precision@50 : 0.0040\n",
      "Personalized Query 5 - human rights violated     - Average Precision@100: 0.0040\n",
      "Personalized Query 5 - human rights violated     - Average Precision@150: 0.0142\n",
      "Personalized Query 5 - human rights violated     - Average Precision@254: 0.0349\n",
      "\n"
     ]
    }
   ],
   "source": [
    "# TODO: Check if results make sense\n",
    "\n",
    "for i, query_text in enumerate(query_texts, start=1):\n",
    "    relevant_docs = personalized_query_relevant[i]\n",
    "    results = personalized_query_results[i]\n",
    "    \n",
    "    K_values = list(sorted(set([5, 10, 15, 20, 50, 100, 150, len(results)])))\n",
    "    for K in K_values:\n",
    "        precision = average_precision_at_k(relevant_docs, results, K)\n",
    "        print(f\"Personalized Query {i} - {query_text:<25} - Average Precision@{K:<3}: {precision:.4f}\")\n",
    "    print()"
   ]
  },
  {
   "cell_type": "markdown",
   "metadata": {},
   "source": [
    "### F1-Score@K"
   ]
  },
  {
   "cell_type": "code",
   "execution_count": 54,
   "metadata": {},
   "outputs": [],
   "source": [
    "def f1_score_at_k(ground_truth, results, K=None):\n",
    "    if K is None: K = len(results)\n",
    "\n",
    "    ground_truth_set = set(ground_truth)\n",
    "    relevant_documents_retrieved = 0\n",
    "    results_considered = results[:K]\n",
    "\n",
    "    # We can be also using defined precision and recall at k functions\n",
    "    # Compute precision at K\n",
    "    for doc_id in results_considered:\n",
    "        if doc_id in ground_truth_set: relevant_documents_retrieved += 1\n",
    "    precision = relevant_documents_retrieved / len(results_considered) if results_considered else 0\n",
    "\n",
    "    # Compute recall at K\n",
    "    total_relevant = len(ground_truth_set)\n",
    "    recall = relevant_documents_retrieved / total_relevant if total_relevant > 0 else 0\n",
    "\n",
    "    # Calculate F1 score\n",
    "    if precision + recall == 0: return 0\n",
    "    f1 = 2 * (precision * recall) / (precision + recall)\n",
    "\n",
    "    return f1"
   ]
  },
  {
   "cell_type": "code",
   "execution_count": 55,
   "metadata": {},
   "outputs": [
    {
     "name": "stdout",
     "output_type": "stream",
     "text": [
      "Query 2 F1Score@5: 0.0000\n",
      "Query 2 F1Score@10: 0.0000\n",
      "Query 2 F1Score@15: 0.0000\n",
      "Query 2 F1Score@20: 0.0571\n",
      "Query 2 F1Score@50: 0.0923\n",
      "Query 2 F1Score@100: 0.1217\n",
      "Query 2 F1Score@150: 0.0970\n",
      "Query 2 F1Score@289: 0.0987\n"
     ]
    }
   ],
   "source": [
    "K_values = list(sorted(set([5, 10, 15, 20, 50, 100, 150, len(query_1_results)])))\n",
    "for K in K_values:\n",
    "    f1 = f1_score_at_k(query_1_relevant, query_1_results, K)\n",
    "    print(f\"Query 2 F1Score@{K}: {f1:.4f}\")"
   ]
  },
  {
   "cell_type": "code",
   "execution_count": 56,
   "metadata": {},
   "outputs": [
    {
     "name": "stdout",
     "output_type": "stream",
     "text": [
      "Query 2 F1Score@5: 0.0000\n",
      "Query 2 F1Score@10: 0.0800\n",
      "Query 2 F1Score@15: 0.0667\n",
      "Query 2 F1Score@20: 0.0571\n",
      "Query 2 F1Score@50: 0.0308\n",
      "Query 2 F1Score@100: 0.0522\n",
      "Query 2 F1Score@150: 0.0364\n",
      "Query 2 F1Score@535: 0.0545\n"
     ]
    }
   ],
   "source": [
    "K_values = list(sorted(set([5, 10, 15, 20, 50, 100, 150, len(query_2_results)])))\n",
    "for K in K_values:\n",
    "    f1 = f1_score_at_k(query_2_relevant, query_2_results, K)\n",
    "    print(f\"Query 2 F1Score@{K}: {f1:.4f}\")"
   ]
  },
  {
   "cell_type": "code",
   "execution_count": 57,
   "metadata": {},
   "outputs": [
    {
     "name": "stdout",
     "output_type": "stream",
     "text": [
      "Personalized Query 1 - India protest             - F1Score@5  : 0.0000\n",
      "Personalized Query 1 - India protest             - F1Score@10 : 0.0000\n",
      "Personalized Query 1 - India protest             - F1Score@15 : 0.0000\n",
      "Personalized Query 1 - India protest             - F1Score@20 : 0.0000\n",
      "Personalized Query 1 - India protest             - F1Score@50 : 0.0000\n",
      "Personalized Query 1 - India protest             - F1Score@100: 0.0182\n",
      "Personalized Query 1 - India protest             - F1Score@150: 0.0125\n",
      "Personalized Query 1 - India protest             - F1Score@951: 0.0104\n",
      "\n",
      "Personalized Query 2 - support farmers           - F1Score@5  : 0.0000\n",
      "Personalized Query 2 - support farmers           - F1Score@10 : 0.0000\n",
      "Personalized Query 2 - support farmers           - F1Score@15 : 0.0000\n",
      "Personalized Query 2 - support farmers           - F1Score@20 : 0.0000\n",
      "Personalized Query 2 - support farmers           - F1Score@50 : 0.0000\n",
      "Personalized Query 2 - support farmers           - F1Score@100: 0.0000\n",
      "Personalized Query 2 - support farmers           - F1Score@150: 0.0000\n",
      "Personalized Query 2 - support farmers           - F1Score@3196: 0.0062\n",
      "\n",
      "Personalized Query 3 - Modi shame                - F1Score@5  : 0.0000\n",
      "Personalized Query 3 - Modi shame                - F1Score@10 : 0.0000\n",
      "Personalized Query 3 - Modi shame                - F1Score@15 : 0.0000\n",
      "Personalized Query 3 - Modi shame                - F1Score@20 : 0.0000\n",
      "Personalized Query 3 - Modi shame                - F1Score@50 : 0.0333\n",
      "Personalized Query 3 - Modi shame                - F1Score@100: 0.0727\n",
      "Personalized Query 3 - Modi shame                - F1Score@150: 0.1000\n",
      "Personalized Query 3 - Modi shame                - F1Score@193: 0.0985\n",
      "\n",
      "Personalized Query 4 - BJP party                 - F1Score@5  : 0.0000\n",
      "Personalized Query 4 - BJP party                 - F1Score@10 : 0.0000\n",
      "Personalized Query 4 - BJP party                 - F1Score@15 : 0.0833\n",
      "Personalized Query 4 - BJP party                 - F1Score@20 : 0.1379\n",
      "Personalized Query 4 - BJP party                 - F1Score@50 : 0.1017\n",
      "Personalized Query 4 - BJP party                 - F1Score@100: 0.1651\n",
      "Personalized Query 4 - BJP party                 - F1Score@128: 0.1314\n",
      "Personalized Query 4 - BJP party                 - F1Score@150: 0.1314\n",
      "\n",
      "Personalized Query 5 - human rights violated     - F1Score@5  : 0.0000\n",
      "Personalized Query 5 - human rights violated     - F1Score@10 : 0.0000\n",
      "Personalized Query 5 - human rights violated     - F1Score@15 : 0.0000\n",
      "Personalized Query 5 - human rights violated     - F1Score@20 : 0.0000\n",
      "Personalized Query 5 - human rights violated     - F1Score@50 : 0.0333\n",
      "Personalized Query 5 - human rights violated     - F1Score@100: 0.0182\n",
      "Personalized Query 5 - human rights violated     - F1Score@150: 0.0625\n",
      "Personalized Query 5 - human rights violated     - F1Score@254: 0.0758\n",
      "\n"
     ]
    }
   ],
   "source": [
    "for i, query_text in enumerate(query_texts, start=1):\n",
    "    relevant_docs = personalized_query_relevant[i]\n",
    "    results = personalized_query_results[i]\n",
    "    \n",
    "    K_values = list(sorted(set([5, 10, 15, 20, 50, 100, 150, len(results)])))\n",
    "    for K in K_values:\n",
    "        f1 = f1_score_at_k(relevant_docs, results, K)\n",
    "        print(f\"Personalized Query {i} - {query_text:<25} - F1Score@{K:<3}: {f1:.4f}\")\n",
    "    print()"
   ]
  },
  {
   "cell_type": "markdown",
   "metadata": {},
   "source": [
    "### Mean Average Precision (MAP)"
   ]
  },
  {
   "cell_type": "code",
   "execution_count": 58,
   "metadata": {},
   "outputs": [],
   "source": [
    "def mean_average_precision_at_k(queries_ground_truth, queries_results, K=10):\n",
    "    ap_scores = []\n",
    "    for ground_truth, results in zip(queries_ground_truth, queries_results):\n",
    "        ap = average_precision_at_k(ground_truth, results, K=K)\n",
    "        ap_scores.append(ap)\n",
    "    \n",
    "    if ap_scores: return sum(ap_scores) / len(ap_scores)\n",
    "    return 0"
   ]
  },
  {
   "cell_type": "code",
   "execution_count": 59,
   "metadata": {},
   "outputs": [],
   "source": [
    "queries_ground_truth = (query_1_relevant, query_2_relevant)\n",
    "queries_results = (query_1_results, query_2_results)"
   ]
  },
  {
   "cell_type": "code",
   "execution_count": 60,
   "metadata": {},
   "outputs": [
    {
     "name": "stdout",
     "output_type": "stream",
     "text": [
      "Query 1 & 2 MAP@5: 0.0000\n",
      "Query 1 & 2 MAP@10: 0.0037\n",
      "Query 1 & 2 MAP@15: 0.0037\n",
      "Query 1 & 2 MAP@20: 0.0058\n",
      "Query 1 & 2 MAP@50: 0.0114\n",
      "Query 1 & 2 MAP@100: 0.0234\n",
      "Query 1 & 2 MAP@150: 0.0259\n",
      "Query 1 & 2 MAP@535: 0.0471\n"
     ]
    }
   ],
   "source": [
    "K_values = list(sorted(set([5, 10, 15, 20, 50, 100, 150, min(len(query_2_results), len(query_2_results))])))\n",
    "for K in K_values:\n",
    "    precision = mean_average_precision_at_k(queries_ground_truth, queries_results, K)\n",
    "    print(f\"Query 1 & 2 MAP@{K}: {precision:.4f}\")"
   ]
  },
  {
   "cell_type": "code",
   "execution_count": 61,
   "metadata": {},
   "outputs": [
    {
     "name": "stdout",
     "output_type": "stream",
     "text": [
      "Personalized Queries MAP@5: 0.0000\n",
      "Personalized Queries MAP@10: 0.0000\n",
      "Personalized Queries MAP@15: 0.0017\n",
      "Personalized Queries MAP@20: 0.0039\n",
      "Personalized Queries MAP@50: 0.0069\n",
      "Personalized Queries MAP@100: 0.0208\n",
      "Personalized Queries MAP@150: 0.0266\n"
     ]
    }
   ],
   "source": [
    "K_values = list(sorted(set([5, 10, 15, 20, 50, 100, 150])))\n",
    "for K in K_values:\n",
    "    precision = mean_average_precision_at_k(list(personalized_query_relevant.values()), list(personalized_query_results.values()), K)\n",
    "    print(f\"Personalized Queries MAP@{K}: {precision:.4f}\")"
   ]
  },
  {
   "cell_type": "markdown",
   "metadata": {},
   "source": [
    "### Mean Reciprocal Rank (MRR)"
   ]
  },
  {
   "cell_type": "code",
   "execution_count": 62,
   "metadata": {},
   "outputs": [],
   "source": [
    "def mean_reciprocal_rank(queries_results, queries_ground_truth):\n",
    "    reciprocal_ranks = []\n",
    "    \n",
    "    for results, ground_truth in zip(queries_results, queries_ground_truth):\n",
    "        ground_truth_set = set(ground_truth)\n",
    "        reciprocal_rank = 0\n",
    "        for rank, doc_id in enumerate(results, start=1):\n",
    "            if doc_id in ground_truth_set:\n",
    "                reciprocal_rank = 1 / rank\n",
    "                break\n",
    "        reciprocal_ranks.append(reciprocal_rank)\n",
    "    \n",
    "    mrr = sum(reciprocal_ranks) / len(reciprocal_ranks) if reciprocal_ranks else 0\n",
    "    return mrr"
   ]
  },
  {
   "cell_type": "code",
   "execution_count": 63,
   "metadata": {},
   "outputs": [
    {
     "name": "stdout",
     "output_type": "stream",
     "text": [
      "Query 1 & 2 MRR: 1.0\n"
     ]
    }
   ],
   "source": [
    "print(f\"Query 1 & 2 MRR: {mean_reciprocal_rank(queries_ground_truth, queries_results)}\")"
   ]
  },
  {
   "cell_type": "code",
   "execution_count": 64,
   "metadata": {},
   "outputs": [
    {
     "name": "stdout",
     "output_type": "stream",
     "text": [
      "Personalized Queries MRR: 0.8400\n"
     ]
    }
   ],
   "source": [
    "print(f\"Personalized Queries MRR: {mean_reciprocal_rank(list(personalized_query_relevant.values()), list(personalized_query_results.values())):.4f}\")"
   ]
  },
  {
   "cell_type": "markdown",
   "metadata": {},
   "source": [
    "### Normalized Discounted Cumulative Gain (NDCG)"
   ]
  },
  {
   "cell_type": "code",
   "execution_count": 65,
   "metadata": {},
   "outputs": [],
   "source": [
    "def dcg_at_k(relevances, k, method=1):\n",
    "    relevances = np.asarray(relevances)[:k]\n",
    "    if relevances.size:\n",
    "        if method == 1:  # Standard method\n",
    "            return relevances[0] + np.sum(relevances[1:] / np.log2(np.arange(2, k + 1)))\n",
    "        elif method == 2:  # Alternative method\n",
    "            return np.sum((2**relevances - 1) / np.log(np.arange(1, k + 1) + 1))\n",
    "    return 0\n",
    "\n",
    "def ndcg_at_k(ground_truth, results, k, method=1):\n",
    "    # assert k <= len(results)\n",
    "    if k > len(results): \n",
    "        warnings.warn(\"k is greater than the number of results. Adjusting to maximum available.\")\n",
    "        k = min(k, len(results))\n",
    "    \n",
    "    ground_truth_set = set(ground_truth)\n",
    "    # Get binary relevance for the actual results\n",
    "    actual_relevance = [1 if doc_id in ground_truth_set else 0 for doc_id in results[:k]]\n",
    "    \n",
    "    # Compute DCG for actual results\n",
    "    actual_dcg = dcg_at_k(actual_relevance, k, method)\n",
    "    \n",
    "    # Sort the binary relevance to compute ideal DCG\n",
    "    ideal_relevance = sorted(actual_relevance, reverse=True)\n",
    "    ideal_dcg = dcg_at_k(ideal_relevance, k, method)\n",
    "    \n",
    "    if ideal_dcg == 0: return 0 \n",
    "    return actual_dcg / ideal_dcg"
   ]
  },
  {
   "cell_type": "code",
   "execution_count": 66,
   "metadata": {},
   "outputs": [
    {
     "name": "stdout",
     "output_type": "stream",
     "text": [
      "Query 1 NDCG@5: 0.0000\n",
      "Query 1 NDCG@10: 0.0000\n",
      "Query 1 NDCG@15: 0.0000\n",
      "Query 1 NDCG@20: 0.2500\n",
      "Query 1 NDCG@50: 0.2522\n",
      "Query 1 NDCG@100: 0.3054\n",
      "Query 1 NDCG@150: 0.3155\n",
      "Query 1 NDCG@289: 0.3543\n"
     ]
    }
   ],
   "source": [
    "K_values = list(sorted(set([5, 10, 15, 20, 50, 100, 150, len(query_1_results)])))\n",
    "for K in K_values:\n",
    "    ndcg = ndcg_at_k(query_1_relevant, query_1_results, K)\n",
    "    print(f\"Query 1 NDCG@{K}: {ndcg:.4f}\")"
   ]
  },
  {
   "cell_type": "code",
   "execution_count": 67,
   "metadata": {},
   "outputs": [
    {
     "name": "stdout",
     "output_type": "stream",
     "text": [
      "Query 2 NDCG@5: 0.0000\n",
      "Query 2 NDCG@10: 0.3155\n",
      "Query 2 NDCG@15: 0.3155\n",
      "Query 2 NDCG@20: 0.3155\n",
      "Query 2 NDCG@50: 0.3155\n",
      "Query 2 NDCG@100: 0.2382\n",
      "Query 2 NDCG@150: 0.2382\n",
      "Query 2 NDCG@535: 0.3106\n"
     ]
    }
   ],
   "source": [
    "K_values = list(sorted(set([5, 10, 15, 20, 50, 100, 150, len(query_2_results)])))\n",
    "for K in K_values:\n",
    "    ndcg = ndcg_at_k(query_2_relevant, query_2_results, K)\n",
    "    print(f\"Query 2 NDCG@{K}: {ndcg:.4f}\")"
   ]
  },
  {
   "cell_type": "code",
   "execution_count": 68,
   "metadata": {},
   "outputs": [
    {
     "name": "stdout",
     "output_type": "stream",
     "text": [
      "Personalized Query 1 - India protest             - NDCG@5  : 0.0000\n",
      "Personalized Query 1 - India protest             - NDCG@10 : 0.0000\n",
      "Personalized Query 1 - India protest             - NDCG@15 : 0.0000\n",
      "Personalized Query 1 - India protest             - NDCG@20 : 0.0000\n",
      "Personalized Query 1 - India protest             - NDCG@50 : 0.0000\n",
      "Personalized Query 1 - India protest             - NDCG@100: 0.1560\n",
      "Personalized Query 1 - India protest             - NDCG@150: 0.1560\n",
      "Personalized Query 1 - India protest             - NDCG@951: 0.1627\n",
      "\n",
      "Personalized Query 2 - support farmers           - NDCG@5  : 0.0000\n",
      "Personalized Query 2 - support farmers           - NDCG@10 : 0.0000\n",
      "Personalized Query 2 - support farmers           - NDCG@15 : 0.0000\n",
      "Personalized Query 2 - support farmers           - NDCG@20 : 0.0000\n",
      "Personalized Query 2 - support farmers           - NDCG@50 : 0.0000\n",
      "Personalized Query 2 - support farmers           - NDCG@100: 0.0000\n",
      "Personalized Query 2 - support farmers           - NDCG@150: 0.0000\n",
      "Personalized Query 2 - support farmers           - NDCG@3196: 0.1757\n",
      "\n",
      "Personalized Query 3 - Modi shame                - NDCG@5  : 0.0000\n",
      "Personalized Query 3 - Modi shame                - NDCG@10 : 0.0000\n",
      "Personalized Query 3 - Modi shame                - NDCG@15 : 0.0000\n",
      "Personalized Query 3 - Modi shame                - NDCG@20 : 0.0000\n",
      "Personalized Query 3 - Modi shame                - NDCG@50 : 0.1906\n",
      "Personalized Query 3 - Modi shame                - NDCG@100: 0.2210\n",
      "Personalized Query 3 - Modi shame                - NDCG@150: 0.2708\n",
      "Personalized Query 3 - Modi shame                - NDCG@193: 0.2904\n",
      "\n",
      "Personalized Query 4 - BJP party                 - NDCG@5  : 0.0000\n",
      "Personalized Query 4 - BJP party                 - NDCG@10 : 0.0000\n",
      "Personalized Query 4 - BJP party                 - NDCG@15 : 0.2702\n",
      "Personalized Query 4 - BJP party                 - NDCG@20 : 0.2508\n",
      "Personalized Query 4 - BJP party                 - NDCG@50 : 0.2621\n",
      "Personalized Query 4 - BJP party                 - NDCG@100: 0.3329\n",
      "Personalized Query 4 - BJP party                 - NDCG@128: 0.3329\n",
      "Personalized Query 4 - BJP party                 - NDCG@150: 0.3329\n",
      "\n",
      "Personalized Query 5 - human rights violated     - NDCG@5  : 0.0000\n",
      "Personalized Query 5 - human rights violated     - NDCG@10 : 0.0000\n",
      "Personalized Query 5 - human rights violated     - NDCG@15 : 0.0000\n",
      "Personalized Query 5 - human rights violated     - NDCG@20 : 0.0000\n",
      "Personalized Query 5 - human rights violated     - NDCG@50 : 0.2153\n",
      "Personalized Query 5 - human rights violated     - NDCG@100: 0.2153\n",
      "Personalized Query 5 - human rights violated     - NDCG@150: 0.2192\n",
      "Personalized Query 5 - human rights violated     - NDCG@254: 0.2742\n",
      "\n"
     ]
    },
    {
     "name": "stderr",
     "output_type": "stream",
     "text": [
      "/var/folders/t1/rkwffv314k333khdlgxlw40m0000gn/T/ipykernel_21318/3727027718.py:13: UserWarning: k is greater than the number of results. Adjusting to maximum available.\n",
      "  warnings.warn(\"k is greater than the number of results. Adjusting to maximum available.\")\n"
     ]
    }
   ],
   "source": [
    "for i, query_text in enumerate(query_texts, start=1):\n",
    "    relevant_docs = personalized_query_relevant[i]\n",
    "    results = personalized_query_results[i]\n",
    "    \n",
    "    K_values = list(sorted(set([5, 10, 15, 20, 50, 100, 150, len(results)])))\n",
    "    for K in K_values:\n",
    "        ndcg = ndcg_at_k(relevant_docs, results, K)\n",
    "        print(f\"Personalized Query {i} - {query_text:<25} - NDCG@{K:<3}: {ndcg:.4f}\")\n",
    "    print()"
   ]
  },
  {
   "cell_type": "markdown",
   "metadata": {},
   "source": [
    "## Vector Representation using T-distributed Stochastic Neighbor Embedding (T-SNE)"
   ]
  },
  {
   "cell_type": "code",
   "execution_count": 69,
   "metadata": {},
   "outputs": [],
   "source": [
    "import gensim\n",
    "from nltk.tokenize import sent_tokenize, word_tokenize\n",
    "import warnings"
   ]
  },
  {
   "cell_type": "code",
   "execution_count": 70,
   "metadata": {},
   "outputs": [],
   "source": [
    "from sklearn.feature_extraction.text import TfidfVectorizer\n",
    "\n",
    "# Sample data: Replace this with your actual dataframe column\n",
    "tweets = [\"This is a sample tweet\", \"Another tweet for analysis\", \"Machine learning with Python\", \"Text data visualization\"]\n",
    "\n",
    "# Create TF-IDF model\n",
    "vectorizer = TfidfVectorizer(max_features=100)\n",
    "tfidf_matrix = vectorizer.fit_transform(tweets)\n",
    "\n",
    "# tfidf_matrix is a sparse matrix of shape (n_samples, n_features)"
   ]
  },
  {
   "cell_type": "code",
   "execution_count": 71,
   "metadata": {},
   "outputs": [
    {
     "name": "stderr",
     "output_type": "stream",
     "text": [
      "/Users/yuyi/Desktop/IRWA/IRWA/venv/lib/python3.9/site-packages/sklearn/manifold/_t_sne.py:1162: FutureWarning: 'n_iter' was renamed to 'max_iter' in version 1.5 and will be removed in 1.7.\n",
      "  warnings.warn(\n"
     ]
    },
    {
     "ename": "ValueError",
     "evalue": "perplexity must be less than n_samples",
     "output_type": "error",
     "traceback": [
      "\u001b[0;31m---------------------------------------------------------------------------\u001b[0m",
      "\u001b[0;31mValueError\u001b[0m                                Traceback (most recent call last)",
      "Cell \u001b[0;32mIn[71], line 6\u001b[0m\n\u001b[1;32m      4\u001b[0m \u001b[38;5;66;03m# Create a TSNE model: set perplexity and n_iter according to your dataset size\u001b[39;00m\n\u001b[1;32m      5\u001b[0m tsne_model \u001b[38;5;241m=\u001b[39m TSNE(n_components\u001b[38;5;241m=\u001b[39m\u001b[38;5;241m2\u001b[39m, verbose\u001b[38;5;241m=\u001b[39m\u001b[38;5;241m1\u001b[39m, perplexity\u001b[38;5;241m=\u001b[39m\u001b[38;5;241m40\u001b[39m, n_iter\u001b[38;5;241m=\u001b[39m\u001b[38;5;241m300\u001b[39m)\n\u001b[0;32m----> 6\u001b[0m tsne_results \u001b[38;5;241m=\u001b[39m \u001b[43mtsne_model\u001b[49m\u001b[38;5;241;43m.\u001b[39;49m\u001b[43mfit_transform\u001b[49m\u001b[43m(\u001b[49m\u001b[43mtfidf_matrix\u001b[49m\u001b[38;5;241;43m.\u001b[39;49m\u001b[43mtoarray\u001b[49m\u001b[43m(\u001b[49m\u001b[43m)\u001b[49m\u001b[43m)\u001b[49m  \u001b[38;5;66;03m# convert to array if necessary\u001b[39;00m\n\u001b[1;32m      8\u001b[0m \u001b[38;5;66;03m# tsne_results now holds the 2D coordinates of your tweets\u001b[39;00m\n",
      "File \u001b[0;32m~/Desktop/IRWA/IRWA/venv/lib/python3.9/site-packages/sklearn/utils/_set_output.py:316\u001b[0m, in \u001b[0;36m_wrap_method_output.<locals>.wrapped\u001b[0;34m(self, X, *args, **kwargs)\u001b[0m\n\u001b[1;32m    314\u001b[0m \u001b[38;5;129m@wraps\u001b[39m(f)\n\u001b[1;32m    315\u001b[0m \u001b[38;5;28;01mdef\u001b[39;00m \u001b[38;5;21mwrapped\u001b[39m(\u001b[38;5;28mself\u001b[39m, X, \u001b[38;5;241m*\u001b[39margs, \u001b[38;5;241m*\u001b[39m\u001b[38;5;241m*\u001b[39mkwargs):\n\u001b[0;32m--> 316\u001b[0m     data_to_wrap \u001b[38;5;241m=\u001b[39m \u001b[43mf\u001b[49m\u001b[43m(\u001b[49m\u001b[38;5;28;43mself\u001b[39;49m\u001b[43m,\u001b[49m\u001b[43m \u001b[49m\u001b[43mX\u001b[49m\u001b[43m,\u001b[49m\u001b[43m \u001b[49m\u001b[38;5;241;43m*\u001b[39;49m\u001b[43margs\u001b[49m\u001b[43m,\u001b[49m\u001b[43m \u001b[49m\u001b[38;5;241;43m*\u001b[39;49m\u001b[38;5;241;43m*\u001b[39;49m\u001b[43mkwargs\u001b[49m\u001b[43m)\u001b[49m\n\u001b[1;32m    317\u001b[0m     \u001b[38;5;28;01mif\u001b[39;00m \u001b[38;5;28misinstance\u001b[39m(data_to_wrap, \u001b[38;5;28mtuple\u001b[39m):\n\u001b[1;32m    318\u001b[0m         \u001b[38;5;66;03m# only wrap the first output for cross decomposition\u001b[39;00m\n\u001b[1;32m    319\u001b[0m         return_tuple \u001b[38;5;241m=\u001b[39m (\n\u001b[1;32m    320\u001b[0m             _wrap_data_with_container(method, data_to_wrap[\u001b[38;5;241m0\u001b[39m], X, \u001b[38;5;28mself\u001b[39m),\n\u001b[1;32m    321\u001b[0m             \u001b[38;5;241m*\u001b[39mdata_to_wrap[\u001b[38;5;241m1\u001b[39m:],\n\u001b[1;32m    322\u001b[0m         )\n",
      "File \u001b[0;32m~/Desktop/IRWA/IRWA/venv/lib/python3.9/site-packages/sklearn/base.py:1473\u001b[0m, in \u001b[0;36m_fit_context.<locals>.decorator.<locals>.wrapper\u001b[0;34m(estimator, *args, **kwargs)\u001b[0m\n\u001b[1;32m   1466\u001b[0m     estimator\u001b[38;5;241m.\u001b[39m_validate_params()\n\u001b[1;32m   1468\u001b[0m \u001b[38;5;28;01mwith\u001b[39;00m config_context(\n\u001b[1;32m   1469\u001b[0m     skip_parameter_validation\u001b[38;5;241m=\u001b[39m(\n\u001b[1;32m   1470\u001b[0m         prefer_skip_nested_validation \u001b[38;5;129;01mor\u001b[39;00m global_skip_validation\n\u001b[1;32m   1471\u001b[0m     )\n\u001b[1;32m   1472\u001b[0m ):\n\u001b[0;32m-> 1473\u001b[0m     \u001b[38;5;28;01mreturn\u001b[39;00m \u001b[43mfit_method\u001b[49m\u001b[43m(\u001b[49m\u001b[43mestimator\u001b[49m\u001b[43m,\u001b[49m\u001b[43m \u001b[49m\u001b[38;5;241;43m*\u001b[39;49m\u001b[43margs\u001b[49m\u001b[43m,\u001b[49m\u001b[43m \u001b[49m\u001b[38;5;241;43m*\u001b[39;49m\u001b[38;5;241;43m*\u001b[39;49m\u001b[43mkwargs\u001b[49m\u001b[43m)\u001b[49m\n",
      "File \u001b[0;32m~/Desktop/IRWA/IRWA/venv/lib/python3.9/site-packages/sklearn/manifold/_t_sne.py:1175\u001b[0m, in \u001b[0;36mTSNE.fit_transform\u001b[0;34m(self, X, y)\u001b[0m\n\u001b[1;32m   1172\u001b[0m \u001b[38;5;28;01melse\u001b[39;00m:\n\u001b[1;32m   1173\u001b[0m     \u001b[38;5;28mself\u001b[39m\u001b[38;5;241m.\u001b[39m_max_iter \u001b[38;5;241m=\u001b[39m \u001b[38;5;28mself\u001b[39m\u001b[38;5;241m.\u001b[39mmax_iter\n\u001b[0;32m-> 1175\u001b[0m \u001b[38;5;28;43mself\u001b[39;49m\u001b[38;5;241;43m.\u001b[39;49m\u001b[43m_check_params_vs_input\u001b[49m\u001b[43m(\u001b[49m\u001b[43mX\u001b[49m\u001b[43m)\u001b[49m\n\u001b[1;32m   1176\u001b[0m embedding \u001b[38;5;241m=\u001b[39m \u001b[38;5;28mself\u001b[39m\u001b[38;5;241m.\u001b[39m_fit(X)\n\u001b[1;32m   1177\u001b[0m \u001b[38;5;28mself\u001b[39m\u001b[38;5;241m.\u001b[39membedding_ \u001b[38;5;241m=\u001b[39m embedding\n",
      "File \u001b[0;32m~/Desktop/IRWA/IRWA/venv/lib/python3.9/site-packages/sklearn/manifold/_t_sne.py:864\u001b[0m, in \u001b[0;36mTSNE._check_params_vs_input\u001b[0;34m(self, X)\u001b[0m\n\u001b[1;32m    862\u001b[0m \u001b[38;5;28;01mdef\u001b[39;00m \u001b[38;5;21m_check_params_vs_input\u001b[39m(\u001b[38;5;28mself\u001b[39m, X):\n\u001b[1;32m    863\u001b[0m     \u001b[38;5;28;01mif\u001b[39;00m \u001b[38;5;28mself\u001b[39m\u001b[38;5;241m.\u001b[39mperplexity \u001b[38;5;241m>\u001b[39m\u001b[38;5;241m=\u001b[39m X\u001b[38;5;241m.\u001b[39mshape[\u001b[38;5;241m0\u001b[39m]:\n\u001b[0;32m--> 864\u001b[0m         \u001b[38;5;28;01mraise\u001b[39;00m \u001b[38;5;167;01mValueError\u001b[39;00m(\u001b[38;5;124m\"\u001b[39m\u001b[38;5;124mperplexity must be less than n_samples\u001b[39m\u001b[38;5;124m\"\u001b[39m)\n",
      "\u001b[0;31mValueError\u001b[0m: perplexity must be less than n_samples"
     ]
    }
   ],
   "source": [
    "from sklearn.manifold import TSNE\n",
    "import matplotlib.pyplot as plt\n",
    "\n",
    "# Create a TSNE model: set perplexity and n_iter according to your dataset size\n",
    "tsne_model = TSNE(n_components=2, verbose=1, perplexity=40, n_iter=300)\n",
    "tsne_results = tsne_model.fit_transform(tfidf_matrix.toarray())  # convert to array if necessary\n",
    "\n",
    "# tsne_results now holds the 2D coordinates of your tweets"
   ]
  },
  {
   "cell_type": "code",
   "execution_count": null,
   "metadata": {},
   "outputs": [],
   "source": [
    "# Plotting\n",
    "plt.figure(figsize=(10, 6))\n",
    "plt.scatter(tsne_results[:, 0], tsne_results[:, 1], edgecolor='k', alpha=0.5)\n",
    "plt.title('Tweet Visualization using T-SNE')\n",
    "plt.xlabel('TSNE Component 1')\n",
    "plt.ylabel('TSNE Component 2')\n",
    "plt.show()"
   ]
  }
 ],
 "metadata": {
  "kernelspec": {
   "display_name": "venv",
   "language": "python",
   "name": "python3"
  },
  "language_info": {
   "codemirror_mode": {
    "name": "ipython",
    "version": 3
   },
   "file_extension": ".py",
   "mimetype": "text/x-python",
   "name": "python",
   "nbconvert_exporter": "python",
   "pygments_lexer": "ipython3",
   "version": "3.9.6"
  }
 },
 "nbformat": 4,
 "nbformat_minor": 2
}
