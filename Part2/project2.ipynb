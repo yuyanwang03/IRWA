{
 "cells": [
  {
   "cell_type": "markdown",
   "metadata": {},
   "source": [
    "# IRWA Project Part 2"
   ]
  },
  {
   "cell_type": "markdown",
   "metadata": {},
   "source": [
    "|Name | Email | UPF uNum |\n",
    "| --- | --- | --- |\n",
    "| Clara Pena | clara.pena01@estudiant.upf.edu | u186416 |\n",
    "| Yuyan Wang | yuyan.wang01@estudiant.upf.edu | u199907 |"
   ]
  },
  {
   "cell_type": "markdown",
   "metadata": {},
   "source": [
    "## Import Libraries and Load Data"
   ]
  },
  {
   "cell_type": "code",
   "execution_count": 1,
   "metadata": {},
   "outputs": [],
   "source": [
    "import pandas as pd\n",
    "import numpy as np\n",
    "from collections import defaultdict\n",
    "from array import array\n",
    "from nltk import PorterStemmer, word_tokenize, SnowballStemmer\n",
    "from nltk.corpus import stopwords\n",
    "from collections import Counter\n",
    "import math\n",
    "import numpy.linalg as la\n",
    "import string\n",
    "import textwrap\n",
    "import re\n",
    "import warnings\n",
    "from numpy.linalg import norm\n",
    "from nltk.tokenize import TweetTokenizer\n",
    "from gensim.models import Word2Vec\n",
    "from sklearn.manifold import TSNE\n",
    "import matplotlib.pyplot as plt\n",
    "import altair as alt"
   ]
  },
  {
   "cell_type": "code",
   "execution_count": 2,
   "metadata": {},
   "outputs": [
    {
     "name": "stdout",
     "output_type": "stream",
     "text": [
      "<class 'pandas.core.frame.DataFrame'>\n",
      "RangeIndex: 117405 entries, 0 to 117404\n",
      "Data columns (total 9 columns):\n",
      " #   Column    Non-Null Count   Dtype \n",
      "---  ------    --------------   ----- \n",
      " 0   id        117405 non-null  int64 \n",
      " 1   content   117404 non-null  object\n",
      " 2   date      117405 non-null  object\n",
      " 3   hashtags  116794 non-null  object\n",
      " 4   likes     117405 non-null  int64 \n",
      " 5   retweets  117405 non-null  int64 \n",
      " 6   url       117405 non-null  object\n",
      " 7   language  117405 non-null  object\n",
      " 8   docId     48427 non-null   object\n",
      "dtypes: int64(3), object(6)\n",
      "memory usage: 8.1+ MB\n"
     ]
    }
   ],
   "source": [
    "df = pd.read_csv(\"./data/processed_data.csv\")\n",
    "\n",
    "df.info()"
   ]
  },
  {
   "cell_type": "markdown",
   "metadata": {},
   "source": [
    "We'll be working with those tweets that have a document ID associated with them; that is, the value in the docID column should not be NaN. This is basically taking those tweets in English. Besides that, for simplicity, we're not using the column language anymore, so it can be dropped."
   ]
  },
  {
   "cell_type": "code",
   "execution_count": 3,
   "metadata": {},
   "outputs": [],
   "source": [
    "tweets_df = df.dropna(subset=['docId']).drop(columns=['language'])"
   ]
  },
  {
   "cell_type": "code",
   "execution_count": 4,
   "metadata": {},
   "outputs": [
    {
     "data": {
      "text/html": [
       "<div>\n",
       "<style scoped>\n",
       "    .dataframe tbody tr th:only-of-type {\n",
       "        vertical-align: middle;\n",
       "    }\n",
       "\n",
       "    .dataframe tbody tr th {\n",
       "        vertical-align: top;\n",
       "    }\n",
       "\n",
       "    .dataframe thead th {\n",
       "        text-align: right;\n",
       "    }\n",
       "</style>\n",
       "<table border=\"1\" class=\"dataframe\">\n",
       "  <thead>\n",
       "    <tr style=\"text-align: right;\">\n",
       "      <th></th>\n",
       "      <th>id</th>\n",
       "      <th>content</th>\n",
       "      <th>date</th>\n",
       "      <th>hashtags</th>\n",
       "      <th>likes</th>\n",
       "      <th>retweets</th>\n",
       "      <th>url</th>\n",
       "      <th>docId</th>\n",
       "    </tr>\n",
       "  </thead>\n",
       "  <tbody>\n",
       "    <tr>\n",
       "      <th>1</th>\n",
       "      <td>1364506167226032128</td>\n",
       "      <td>watch full video farmersprotest nofarmersnofoo...</td>\n",
       "      <td>2021-02-24T09:23:16+00:00</td>\n",
       "      <td>#farmersprotest #NoFarmersNoFood</td>\n",
       "      <td>0</td>\n",
       "      <td>0</td>\n",
       "      <td>https://twitter.com/anmoldhaliwal/status/13645...</td>\n",
       "      <td>doc_2</td>\n",
       "    </tr>\n",
       "    <tr>\n",
       "      <th>6</th>\n",
       "      <td>1364505991887347714</td>\n",
       "      <td>watch full video farmersprotest nofarmersnofood</td>\n",
       "      <td>2021-02-24T09:22:34+00:00</td>\n",
       "      <td>#farmersprotest #NoFarmersNoFood</td>\n",
       "      <td>0</td>\n",
       "      <td>0</td>\n",
       "      <td>https://twitter.com/anmoldhaliwal/status/13645...</td>\n",
       "      <td>doc_3</td>\n",
       "    </tr>\n",
       "    <tr>\n",
       "      <th>9</th>\n",
       "      <td>1364505813834989568</td>\n",
       "      <td>watch full video farmersprotest nofarmersnofood</td>\n",
       "      <td>2021-02-24T09:21:51+00:00</td>\n",
       "      <td>#farmersprotest #NoFarmersNoFood</td>\n",
       "      <td>0</td>\n",
       "      <td>0</td>\n",
       "      <td>https://twitter.com/anmoldhaliwal/status/13645...</td>\n",
       "      <td>doc_4</td>\n",
       "    </tr>\n",
       "    <tr>\n",
       "      <th>10</th>\n",
       "      <td>1364505749359976448</td>\n",
       "      <td>anoth farmer malkeet singh mahilpur hoshiarpur...</td>\n",
       "      <td>2021-02-24T09:21:36+00:00</td>\n",
       "      <td>#FarmersProtest</td>\n",
       "      <td>3</td>\n",
       "      <td>3</td>\n",
       "      <td>https://twitter.com/ShariaActivist/status/1364...</td>\n",
       "      <td>doc_5</td>\n",
       "    </tr>\n",
       "    <tr>\n",
       "      <th>14</th>\n",
       "      <td>1364505676375076867</td>\n",
       "      <td>hi tell boss modidontsellfarm thank farmerspro...</td>\n",
       "      <td>2021-02-24T09:21:19+00:00</td>\n",
       "      <td>#ModiDontSellFarmers #FarmersProtest</td>\n",
       "      <td>0</td>\n",
       "      <td>0</td>\n",
       "      <td>https://twitter.com/KaurDosanjh1979/status/136...</td>\n",
       "      <td>doc_6</td>\n",
       "    </tr>\n",
       "    <tr>\n",
       "      <th>16</th>\n",
       "      <td>1364505511073300481</td>\n",
       "      <td>watch full video farmersprotest nofarmersnofood</td>\n",
       "      <td>2021-02-24T09:20:39+00:00</td>\n",
       "      <td>#farmersprotest #NoFarmersNoFood</td>\n",
       "      <td>0</td>\n",
       "      <td>0</td>\n",
       "      <td>https://twitter.com/anmoldhaliwal/status/13645...</td>\n",
       "      <td>doc_7</td>\n",
       "    </tr>\n",
       "    <tr>\n",
       "      <th>18</th>\n",
       "      <td>1364505452134817795</td>\n",
       "      <td>despit increas tax petroldiesel must increas t...</td>\n",
       "      <td>2021-02-24T09:20:25+00:00</td>\n",
       "      <td>#taxes #petrolDiesel #taxes #alcohol #cigarett...</td>\n",
       "      <td>1</td>\n",
       "      <td>1</td>\n",
       "      <td>https://twitter.com/Satende09192805/status/136...</td>\n",
       "      <td>doc_8</td>\n",
       "    </tr>\n",
       "    <tr>\n",
       "      <th>20</th>\n",
       "      <td>1364505443997937669</td>\n",
       "      <td>mockeri menac sedit charg farmersprotest</td>\n",
       "      <td>2021-02-24T09:20:23+00:00</td>\n",
       "      <td>#sedition #FarmersProtest</td>\n",
       "      <td>0</td>\n",
       "      <td>0</td>\n",
       "      <td>https://twitter.com/algo_121/status/1364505443...</td>\n",
       "      <td>doc_9</td>\n",
       "    </tr>\n",
       "    <tr>\n",
       "      <th>25</th>\n",
       "      <td>1364505314586951680</td>\n",
       "      <td>watch full video farmersprotest nofarmersnofood</td>\n",
       "      <td>2021-02-24T09:19:52+00:00</td>\n",
       "      <td>#farmersprotest #NoFarmersNoFood</td>\n",
       "      <td>0</td>\n",
       "      <td>0</td>\n",
       "      <td>https://twitter.com/anmoldhaliwal/status/13645...</td>\n",
       "      <td>doc_10</td>\n",
       "    </tr>\n",
       "    <tr>\n",
       "      <th>26</th>\n",
       "      <td>1364505255946379268</td>\n",
       "      <td>left hear modi lol farmersprotest</td>\n",
       "      <td>2021-02-24T09:19:38+00:00</td>\n",
       "      <td>#FarmersProtest</td>\n",
       "      <td>1</td>\n",
       "      <td>0</td>\n",
       "      <td>https://twitter.com/kdhanjal12/status/13645052...</td>\n",
       "      <td>doc_11</td>\n",
       "    </tr>\n",
       "  </tbody>\n",
       "</table>\n",
       "</div>"
      ],
      "text/plain": [
       "                     id                                            content  \\\n",
       "1   1364506167226032128  watch full video farmersprotest nofarmersnofoo...   \n",
       "6   1364505991887347714    watch full video farmersprotest nofarmersnofood   \n",
       "9   1364505813834989568    watch full video farmersprotest nofarmersnofood   \n",
       "10  1364505749359976448  anoth farmer malkeet singh mahilpur hoshiarpur...   \n",
       "14  1364505676375076867  hi tell boss modidontsellfarm thank farmerspro...   \n",
       "16  1364505511073300481    watch full video farmersprotest nofarmersnofood   \n",
       "18  1364505452134817795  despit increas tax petroldiesel must increas t...   \n",
       "20  1364505443997937669           mockeri menac sedit charg farmersprotest   \n",
       "25  1364505314586951680    watch full video farmersprotest nofarmersnofood   \n",
       "26  1364505255946379268                  left hear modi lol farmersprotest   \n",
       "\n",
       "                         date  \\\n",
       "1   2021-02-24T09:23:16+00:00   \n",
       "6   2021-02-24T09:22:34+00:00   \n",
       "9   2021-02-24T09:21:51+00:00   \n",
       "10  2021-02-24T09:21:36+00:00   \n",
       "14  2021-02-24T09:21:19+00:00   \n",
       "16  2021-02-24T09:20:39+00:00   \n",
       "18  2021-02-24T09:20:25+00:00   \n",
       "20  2021-02-24T09:20:23+00:00   \n",
       "25  2021-02-24T09:19:52+00:00   \n",
       "26  2021-02-24T09:19:38+00:00   \n",
       "\n",
       "                                             hashtags  likes  retweets  \\\n",
       "1                    #farmersprotest #NoFarmersNoFood      0         0   \n",
       "6                    #farmersprotest #NoFarmersNoFood      0         0   \n",
       "9                    #farmersprotest #NoFarmersNoFood      0         0   \n",
       "10                                    #FarmersProtest      3         3   \n",
       "14               #ModiDontSellFarmers #FarmersProtest      0         0   \n",
       "16                   #farmersprotest #NoFarmersNoFood      0         0   \n",
       "18  #taxes #petrolDiesel #taxes #alcohol #cigarett...      1         1   \n",
       "20                          #sedition #FarmersProtest      0         0   \n",
       "25                   #farmersprotest #NoFarmersNoFood      0         0   \n",
       "26                                    #FarmersProtest      1         0   \n",
       "\n",
       "                                                  url   docId  \n",
       "1   https://twitter.com/anmoldhaliwal/status/13645...   doc_2  \n",
       "6   https://twitter.com/anmoldhaliwal/status/13645...   doc_3  \n",
       "9   https://twitter.com/anmoldhaliwal/status/13645...   doc_4  \n",
       "10  https://twitter.com/ShariaActivist/status/1364...   doc_5  \n",
       "14  https://twitter.com/KaurDosanjh1979/status/136...   doc_6  \n",
       "16  https://twitter.com/anmoldhaliwal/status/13645...   doc_7  \n",
       "18  https://twitter.com/Satende09192805/status/136...   doc_8  \n",
       "20  https://twitter.com/algo_121/status/1364505443...   doc_9  \n",
       "25  https://twitter.com/anmoldhaliwal/status/13645...  doc_10  \n",
       "26  https://twitter.com/kdhanjal12/status/13645052...  doc_11  "
      ]
     },
     "execution_count": 4,
     "metadata": {},
     "output_type": "execute_result"
    }
   ],
   "source": [
    "tweets_df.head(10)"
   ]
  },
  {
   "cell_type": "code",
   "execution_count": 5,
   "metadata": {},
   "outputs": [
    {
     "name": "stdout",
     "output_type": "stream",
     "text": [
      "<class 'pandas.core.frame.DataFrame'>\n",
      "Index: 48427 entries, 1 to 117404\n",
      "Data columns (total 8 columns):\n",
      " #   Column    Non-Null Count  Dtype \n",
      "---  ------    --------------  ----- \n",
      " 0   id        48427 non-null  int64 \n",
      " 1   content   48427 non-null  object\n",
      " 2   date      48427 non-null  object\n",
      " 3   hashtags  48153 non-null  object\n",
      " 4   likes     48427 non-null  int64 \n",
      " 5   retweets  48427 non-null  int64 \n",
      " 6   url       48427 non-null  object\n",
      " 7   docId     48427 non-null  object\n",
      "dtypes: int64(3), object(5)\n",
      "memory usage: 3.3+ MB\n"
     ]
    }
   ],
   "source": [
    "tweets_df.info()"
   ]
  },
  {
   "cell_type": "markdown",
   "metadata": {},
   "source": [
    "## Indexing"
   ]
  },
  {
   "cell_type": "markdown",
   "metadata": {},
   "source": [
    "### Build inverted index"
   ]
  },
  {
   "cell_type": "code",
   "execution_count": 6,
   "metadata": {},
   "outputs": [],
   "source": [
    "def create_index(df):\n",
    "    index = defaultdict(list)\n",
    "    \n",
    "    for idx, row in df.iterrows():\n",
    "        doc_id = row['docId']\n",
    "        terms = row['content'].split()\n",
    "        \n",
    "        current_page_index = {}\n",
    "        for position, term in enumerate(terms):\n",
    "            if term in current_page_index:\n",
    "                current_page_index[term][1].append(position)\n",
    "            else:\n",
    "                current_page_index[term] = [doc_id, array('I', [position])]  # 'I' for array of unsigned ints.\n",
    "\n",
    "        # Merge the current page index with the main index\n",
    "        for term_page, posting_page in current_page_index.items():\n",
    "            index[term_page].append(posting_page)\n",
    "\n",
    "    return index"
   ]
  },
  {
   "cell_type": "code",
   "execution_count": 7,
   "metadata": {},
   "outputs": [],
   "source": [
    "index = create_index(tweets_df)"
   ]
  },
  {
   "cell_type": "code",
   "execution_count": 8,
   "metadata": {},
   "outputs": [
    {
     "name": "stdout",
     "output_type": "stream",
     "text": [
      "30477\n"
     ]
    }
   ],
   "source": [
    "print(len(index))"
   ]
  },
  {
   "cell_type": "code",
   "execution_count": 9,
   "metadata": {},
   "outputs": [],
   "source": [
    "def build_terms(line):\n",
    "    # stemmer = PorterStemmer()\n",
    "    stemmer = SnowballStemmer(\"english\")\n",
    "    stop_words = set(stopwords.words(\"english\"))\n",
    "    line = line.lower()\n",
    "\n",
    "    # Handle contractions by removing possessive endings and common contractions\n",
    "    line = re.sub(r\"\\b(\\w+)'s\\b\", r'\\1', line)  # Changes \"people's\" to \"people\"\n",
    "    line = re.sub(r\"\\b(\\w+)n't\\b\", r'\\1 not', line)  # Changes \"isn't\" to \"is not\"\n",
    "    line = re.sub(r\"\\b(\\w+)'ll\\b\", r'\\1 will', line)  # Changes \"I'll\" to \"I will\"\n",
    "    line = re.sub(r\"\\b(\\w+)'d\\b\", r'\\1 would', line)  # Changes \"I'd\" to \"I would\"\n",
    "    line = re.sub(r\"\\b(\\w+)'re\\b\", r'\\1 are', line)  # Changes \"you're\" to \"you are\"\n",
    "    line = re.sub(r\"\\b(\\w+)'ve\\b\", r'\\1 have', line)  # Changes \"I've\" to \"I have\"\n",
    "\n",
    "    line = line.split()\n",
    "\n",
    "    table = str.maketrans('', '', string.punctuation)\n",
    "    line = [w.translate(table) for w in line]\n",
    "    line = [w for w in line if w not in stop_words]\n",
    "    line = [stemmer.stem(w) for w in line] \n",
    "    return line"
   ]
  },
  {
   "cell_type": "code",
   "execution_count": 10,
   "metadata": {},
   "outputs": [],
   "source": [
    "def search(query, index):\n",
    "    query = build_terms(query)  # Normalize and tokenize the query.\n",
    "    docs = None  # Initialize docs as None to handle the intersection.\n",
    "\n",
    "    for term in query:\n",
    "        try:\n",
    "            # Extract the document IDs for the term.\n",
    "            term_docs = set([posting[0] for posting in index[term]])\n",
    "\n",
    "            if docs is None:\n",
    "                # Initialize docs with the set of document IDs for the first term.\n",
    "                docs = term_docs\n",
    "            else:\n",
    "                # Intersect the sets of document IDs.\n",
    "                docs = docs.intersection(term_docs)\n",
    "        except KeyError:\n",
    "            # If the term is not in the index, return an empty list because no documents can satisfy the query.\n",
    "            return []\n",
    "\n",
    "    if docs is None:\n",
    "        return []  # If no terms were processed, return an empty list.\n",
    "    else:\n",
    "        return list(docs)  # Convert the set to a list before returning."
   ]
  },
  {
   "cell_type": "markdown",
   "metadata": {},
   "source": [
    "### Propose test queries"
   ]
  },
  {
   "cell_type": "code",
   "execution_count": 11,
   "metadata": {},
   "outputs": [
    {
     "name": "stdout",
     "output_type": "stream",
     "text": [
      "[('farmersprotest', 50272), ('farmer', 17421), ('india', 7724), ('support', 6004), ('protest', 4787), ('amp', 4728), ('right', 3594), ('peopl', 3526), ('modi', 3113), ('indian', 3008), ('govern', 2753), ('bjp', 2649), ('law', 2570), ('releasedetainedfarm', 2432), ('govt', 2338), ('stand', 2207), ('farmersmakeindia', 2133), ('indiabeingsilenc', 2133), ('thank', 2129), ('farm', 2066)]\n"
     ]
    }
   ],
   "source": [
    "# Calculate the top n terms in the DataFrame for the specified column.\n",
    "def get_top_terms(df, column='content', top_n=10):\n",
    "    text = ' '.join(df[column].dropna())  # Combine all text and convert to lower case.\n",
    "    words = text.split()\n",
    "    # Get a count of all words\n",
    "    word_count = Counter(words)\n",
    "    # Return the most common words\n",
    "    return word_count.most_common(top_n)\n",
    "\n",
    "top_terms = get_top_terms(tweets_df, column='content', top_n=20)\n",
    "print(top_terms)"
   ]
  },
  {
   "cell_type": "markdown",
   "metadata": {},
   "source": [
    "1.\t“India protest”: This query aligns with the high frequency of terms like ‘india’ (7724 occurrences) and ‘protest’ (4787 occurrences). It targets the significant discussion around protests in India, capturing a broad yet significant topic within your dataset. This is crucial for understanding general sentiments or events related to protests in the region.\n",
    "2.\t“support farmers”: Given the prevalence of terms such as ‘farmersprotest’ (50272 occurrences) and ‘support’ (6004 occurrences), this query is highly relevant. It specifically addresses the widespread discourse on supporting farmers, likely related to agricultural policies or farmer welfare, which seems to be a prominent issue in your data.\n",
    "3.\t“Modi shame”: This query is crafted around the high occurrence of ‘modi’ (3113 occurrences). Including a sentiment or descriptive term like ‘shame’ might target specific discussions or criticisms related to policies or actions associated with Modi, the Prime Minister of India, offering insights into public sentiment regarding his administration.\n",
    "4.\t“BJP party”: With ‘bjp’ being mentioned 2649 times, focusing on the political party directly allows for an analysis of content specifically related to the Bharatiya Janata Party. This could reveal discussions on political activities, policies, or public opinions directly connected to the party’s actions and governance.\n",
    "5.\t“human rights violated”: Although ‘right’ appears 3594 times, coupling it with ‘violated’ expands the context to human rights issues. This query is intended to explore discussions or reports on human rights violations, a topic of critical importance that may encompass various aspects of social and political discourse."
   ]
  },
  {
   "cell_type": "code",
   "execution_count": 12,
   "metadata": {},
   "outputs": [
    {
     "name": "stdout",
     "output_type": "stream",
     "text": [
      "\n",
      "======================\n",
      "Sample of 10 results out of 951 for the searched query 'India protest':\n",
      "\n",
      "docId = doc_38184\n",
      "docId = doc_37143\n",
      "docId = doc_8585\n",
      "docId = doc_26824\n",
      "docId = doc_32117\n",
      "docId = doc_6518\n",
      "docId = doc_20758\n",
      "docId = doc_22898\n",
      "docId = doc_37007\n",
      "docId = doc_28437\n",
      "\n",
      "======================\n",
      "Sample of 10 results out of 3197 for the searched query 'support farmers':\n",
      "\n",
      "docId = doc_15085\n",
      "docId = doc_38212\n",
      "docId = doc_39329\n",
      "docId = doc_1862\n",
      "docId = doc_15097\n",
      "docId = doc_28941\n",
      "docId = doc_12483\n",
      "docId = doc_24698\n",
      "docId = doc_7733\n",
      "docId = doc_7686\n",
      "\n",
      "======================\n",
      "Sample of 10 results out of 193 for the searched query 'Modi shame':\n",
      "\n",
      "docId = doc_23032\n",
      "docId = doc_35950\n",
      "docId = doc_12595\n",
      "docId = doc_43520\n",
      "docId = doc_13451\n",
      "docId = doc_13115\n",
      "docId = doc_29788\n",
      "docId = doc_34391\n",
      "docId = doc_42195\n",
      "docId = doc_8528\n",
      "\n",
      "======================\n",
      "Sample of 10 results out of 128 for the searched query 'BJP party':\n",
      "\n",
      "docId = doc_3211\n",
      "docId = doc_13107\n",
      "docId = doc_2938\n",
      "docId = doc_24298\n",
      "docId = doc_44276\n",
      "docId = doc_22897\n",
      "docId = doc_24118\n",
      "docId = doc_29993\n",
      "docId = doc_14757\n",
      "docId = doc_19632\n",
      "\n",
      "======================\n",
      "Sample of 10 results out of 254 for the searched query 'human rights violated':\n",
      "\n",
      "docId = doc_27336\n",
      "docId = doc_28873\n",
      "docId = doc_12616\n",
      "docId = doc_22221\n",
      "docId = doc_13345\n",
      "docId = doc_26854\n",
      "docId = doc_46685\n",
      "docId = doc_13367\n",
      "docId = doc_11350\n",
      "docId = doc_18319\n"
     ]
    }
   ],
   "source": [
    "def simulate_search(queries, index):\n",
    "    for query in queries:\n",
    "        docs = search(query, index)\n",
    "        top = 10  # Number of results to display\n",
    "        num_results = len(docs)\n",
    "        \n",
    "        print(\"\\n======================\\nSample of {} results out of {} for the searched query '{}':\\n\".format(min(top, num_results), num_results, query))\n",
    "        for d_id in docs[:top]:\n",
    "            print(\"docId = {}\".format(d_id))\n",
    "\n",
    "# List of queries to be processed\n",
    "queries = [\n",
    "    \"India protest\",\n",
    "    \"support farmers\",\n",
    "    \"Modi shame\",\n",
    "    \"BJP party\",\n",
    "    \"human rights violated\"\n",
    "]\n",
    "\n",
    "simulate_search(queries, index)"
   ]
  },
  {
   "cell_type": "markdown",
   "metadata": {},
   "source": [
    "### Rank your results"
   ]
  },
  {
   "cell_type": "code",
   "execution_count": 13,
   "metadata": {},
   "outputs": [],
   "source": [
    "def create_index_tfidf(dataframe):\n",
    "    # num_documents = len(df)\n",
    "    num_documents = dataframe['docId'].nunique()\n",
    "    index = defaultdict(list)\n",
    "    # tf = defaultdict(dict)  # Normalized term frequencies of terms in documents\n",
    "    tf = defaultdict(list)\n",
    "    df = defaultdict(int)  # Document frequencies of terms\n",
    "    idf = defaultdict(float)\n",
    "\n",
    "    for idx, row in dataframe.iterrows():\n",
    "        doc_id = row['docId']\n",
    "        terms = row['content'].split()\n",
    "        \n",
    "        current_page_index = {}\n",
    "\n",
    "        for position, term in enumerate(terms):\n",
    "            if term in current_page_index:\n",
    "                # Append the position to the corresponding list in the array\n",
    "                current_page_index[term][1].append(position)\n",
    "            else:\n",
    "                # Initialize the list with page_id and a new array\n",
    "                current_page_index[term] = [doc_id, array('I', [position])]\n",
    "\n",
    "        # Calculate the norm for the terms in the document\n",
    "        norm = math.sqrt(sum(len(positions[1])**2 for positions in current_page_index.values()))\n",
    "\n",
    "        # calculate the tf(dividing the term frequency by the above computed norm) and df weights\n",
    "        for term, posting in current_page_index.items():\n",
    "            # append the tf for current term (tf = term frequency in current doc/norm)\n",
    "            tf[term].append(np.round(len(posting[1])/norm,4)) ## SEE formula (1) above\n",
    "            #increment the document frequency of current term (number of documents containing the current term)\n",
    "            df[term] += 1 # increment DF for current term\n",
    "        \n",
    "        # Merge the current page index with the main index\n",
    "        for term_page, posting_page in current_page_index.items():\n",
    "            index[term_page].append(posting_page)\n",
    "\n",
    "    # Calculate IDF for each term\n",
    "    for term in df:\n",
    "        idf[term] = math.log(num_documents / (1 + df[term]))  # Smoothing by adding 1 to denominator\n",
    "\n",
    "    return index, tf, df, idf"
   ]
  },
  {
   "cell_type": "code",
   "execution_count": 14,
   "metadata": {},
   "outputs": [],
   "source": [
    "index, tf, df, idf = create_index_tfidf(tweets_df)"
   ]
  },
  {
   "cell_type": "code",
   "execution_count": 15,
   "metadata": {},
   "outputs": [],
   "source": [
    "def rank_documents(terms, docs, index, idf, tf):\n",
    "    doc_vectors = defaultdict(lambda: np.zeros(len(terms)))\n",
    "    query_vector = np.zeros(len(terms))\n",
    "    query_terms_count = Counter(terms)\n",
    "\n",
    "    # Compute the tf-idf for the query vector\n",
    "    for term_index, term in enumerate(terms):\n",
    "        if term in index:\n",
    "            # Building the raw query vector with tf-idf weights\n",
    "            query_vector[term_index] = query_terms_count[term] * idf.get(term, 0)\n",
    "\n",
    "    # Normalize the query vector to make it a unit vector\n",
    "    query_norm = norm(query_vector)\n",
    "    if query_norm > 0:\n",
    "        query_vector /= query_norm\n",
    "\n",
    "    # Build and normalize document vectors\n",
    "    for term_index, term in enumerate(terms):\n",
    "        if term in index:\n",
    "            for doc_index, (doc, _) in enumerate(index[term]):\n",
    "                if doc in docs:\n",
    "                    doc_vectors[doc][term_index] = tf[term][doc_index] * idf.get(term, 0)\n",
    "\n",
    "    # Normalize each document vector and calculate cosine similarity\n",
    "    doc_scores = []\n",
    "    for doc, vec in doc_vectors.items():\n",
    "        doc_norm = norm(vec)\n",
    "        if doc_norm > 0:\n",
    "            vec /= doc_norm\n",
    "        # Compute cosine similarity as the dot product of query vector with the document vector\n",
    "        score = np.dot(vec, query_vector)\n",
    "        doc_scores.append([score, doc])\n",
    "\n",
    "    # Sort by score in descending order\n",
    "    doc_scores.sort(reverse=True, key=lambda x: x[0])\n",
    "\n",
    "    # print(doc_scores)\n",
    "    if len(doc_scores) == 0: print(\"No results found, try again\")\n",
    "    else:\n",
    "        return doc_scores"
   ]
  },
  {
   "cell_type": "code",
   "execution_count": 16,
   "metadata": {},
   "outputs": [],
   "source": [
    "def search_tf_idf(query, index, idf, tf):\n",
    "    query = build_terms(query)\n",
    "    # print(query)\n",
    "    docs = None  # Initialize to None to handle the first term's document set initialization\n",
    "\n",
    "    for term in query:\n",
    "        if term in index:\n",
    "            term_docs = set([posting[0] for posting in index[term]])  # Collect all document IDs containing this term\n",
    "            if docs is None:\n",
    "                docs = term_docs\n",
    "            else:\n",
    "                docs = docs.intersection(term_docs)  # Intersection with the accumulated set of documents\n",
    "        else:\n",
    "            return []  # If any term is not found, the intersection is empty\n",
    "\n",
    "    if docs is None: return []  # No terms found, return empty list\n",
    "\n",
    "    docs = list(docs)  # Convert set to list if necessary\n",
    "    ranked_docs = rank_documents(query, docs, index, idf, tf)  # Rank the documents based on the relevance\n",
    "    return ranked_docs"
   ]
  },
  {
   "cell_type": "code",
   "execution_count": 17,
   "metadata": {},
   "outputs": [],
   "source": [
    "def simulate_search_tf_idf(queries, index, idf, tf):\n",
    "    for query in queries:\n",
    "        ranked_docs = search_tf_idf(query, index, idf, tf)\n",
    "        top = 10  # Number of results to display\n",
    "        num_results = len(ranked_docs)\n",
    "        \n",
    "        print(\"\\n======================\\nSample of {} results out of {} for the searched query '{}':\\n\".format(min(top, num_results), num_results, query))\n",
    "        for d_id in ranked_docs[:top]:\n",
    "            print(\"docId: {}\".format(d_id[1]))\n",
    "\n",
    "# List of queries to be processed\n",
    "queries = [\n",
    "    \"India protest\",\n",
    "    \"support farmers\",\n",
    "    \"Modi shame\",\n",
    "    \"BJP party\",\n",
    "    \"human rights violated\"\n",
    "]"
   ]
  },
  {
   "cell_type": "code",
   "execution_count": 18,
   "metadata": {},
   "outputs": [
    {
     "name": "stdout",
     "output_type": "stream",
     "text": [
      "\n",
      "======================\n",
      "Sample of 10 results out of 951 for the searched query 'India protest':\n",
      "\n",
      "docId: doc_1185\n",
      "docId: doc_1288\n",
      "docId: doc_1428\n",
      "docId: doc_2039\n",
      "docId: doc_5263\n",
      "docId: doc_5831\n",
      "docId: doc_6104\n",
      "docId: doc_7718\n",
      "docId: doc_8093\n",
      "docId: doc_8490\n",
      "\n",
      "======================\n",
      "Sample of 10 results out of 3197 for the searched query 'support farmers':\n",
      "\n",
      "docId: doc_221\n",
      "docId: doc_357\n",
      "docId: doc_429\n",
      "docId: doc_487\n",
      "docId: doc_506\n",
      "docId: doc_597\n",
      "docId: doc_659\n",
      "docId: doc_685\n",
      "docId: doc_996\n",
      "docId: doc_1045\n",
      "\n",
      "======================\n",
      "Sample of 10 results out of 193 for the searched query 'Modi shame':\n",
      "\n",
      "docId: doc_77\n",
      "docId: doc_1253\n",
      "docId: doc_3105\n",
      "docId: doc_3646\n",
      "docId: doc_3775\n",
      "docId: doc_3805\n",
      "docId: doc_5262\n",
      "docId: doc_6123\n",
      "docId: doc_6733\n",
      "docId: doc_7013\n",
      "\n",
      "======================\n",
      "Sample of 10 results out of 128 for the searched query 'BJP party':\n",
      "\n",
      "docId: doc_5734\n",
      "docId: doc_12933\n",
      "docId: doc_14912\n",
      "docId: doc_15337\n",
      "docId: doc_17919\n",
      "docId: doc_21073\n",
      "docId: doc_24554\n",
      "docId: doc_35686\n",
      "docId: doc_560\n",
      "docId: doc_861\n",
      "\n",
      "======================\n",
      "Sample of 10 results out of 254 for the searched query 'human rights violated':\n",
      "\n",
      "docId: doc_47\n",
      "docId: doc_565\n",
      "docId: doc_1652\n",
      "docId: doc_1785\n",
      "docId: doc_2395\n",
      "docId: doc_5906\n",
      "docId: doc_6923\n",
      "docId: doc_7618\n",
      "docId: doc_7630\n",
      "docId: doc_7634\n"
     ]
    }
   ],
   "source": [
    "simulate_search_tf_idf(queries, index, idf, tf)"
   ]
  },
  {
   "cell_type": "markdown",
   "metadata": {},
   "source": [
    "## Evaluation"
   ]
  },
  {
   "cell_type": "code",
   "execution_count": 19,
   "metadata": {},
   "outputs": [],
   "source": [
    "evaluation_gt = pd.read_csv('./data/evaluation_gt.csv', sep=';')\n",
    "df_eva = pd.merge(tweets_df, evaluation_gt, on='docId', how='left')\n",
    "\n",
    "pd.set_option('display.max_colwidth', None)\n",
    "\n",
    "query_1_relevant = (df_eva[(df_eva['query_id'] == 1) & (df_eva['label'] == 1)])['docId'].unique()\n",
    "query_1_not_relevant = (df_eva[(df_eva['query_id'] == 1) & (df_eva['label'] == 0)])['docId'].unique()\n",
    "\n",
    "query_2_relevant = (df_eva[(df_eva['query_id'] == 2) & (df_eva['label'] == 1)])['docId'].unique()\n",
    "query_2_not_relevant = (df_eva[(df_eva['query_id'] == 2) & (df_eva['label'] == 0)])['docId'].unique()"
   ]
  },
  {
   "cell_type": "code",
   "execution_count": 20,
   "metadata": {},
   "outputs": [
    {
     "name": "stdout",
     "output_type": "stream",
     "text": [
      "60\n"
     ]
    }
   ],
   "source": [
    "df_subset_documents = df_eva[df_eva['query_id'].notnull()]\n",
    "subset_documents = df_subset_documents['docId'].unique()\n",
    "print(len(subset_documents))\n",
    "\n",
    "query_1_results = search_tf_idf(\"people's rights\", index, idf, tf)\n",
    "query_2_results = search_tf_idf(\"Indian government\", index, idf, tf)"
   ]
  },
  {
   "cell_type": "code",
   "execution_count": 21,
   "metadata": {},
   "outputs": [],
   "source": [
    "# def print_wrapped(title, data):\n",
    "#     wrapper = textwrap.TextWrapper(width=90)\n",
    "#     wrapped_text = wrapper.fill(str(data))\n",
    "#     print(f\"{title} {wrapped_text}\\n\")\n",
    "\n",
    "# print(f\"Ground Truth Files Query 1 (subset): {query_1_relevant}\\n\")\n",
    "# print_wrapped(\"Our Obtained Results Query 1:\", query_1_results)\n",
    "\n",
    "# print(f\"Ground Truth Files Query 2 (subset): {query_2_relevant}\\n\")\n",
    "# print_wrapped(\"Our Obtained Results Query 2:\", query_2_results)"
   ]
  },
  {
   "cell_type": "code",
   "execution_count": 22,
   "metadata": {},
   "outputs": [
    {
     "data": {
      "text/html": [
       "<div>\n",
       "<style scoped>\n",
       "    .dataframe tbody tr th:only-of-type {\n",
       "        vertical-align: middle;\n",
       "    }\n",
       "\n",
       "    .dataframe tbody tr th {\n",
       "        vertical-align: top;\n",
       "    }\n",
       "\n",
       "    .dataframe thead th {\n",
       "        text-align: right;\n",
       "    }\n",
       "</style>\n",
       "<table border=\"1\" class=\"dataframe\">\n",
       "  <thead>\n",
       "    <tr style=\"text-align: right;\">\n",
       "      <th></th>\n",
       "      <th>id</th>\n",
       "      <th>content</th>\n",
       "      <th>date</th>\n",
       "      <th>hashtags</th>\n",
       "      <th>likes</th>\n",
       "      <th>retweets</th>\n",
       "      <th>url</th>\n",
       "      <th>docId</th>\n",
       "      <th>query_id</th>\n",
       "      <th>label</th>\n",
       "    </tr>\n",
       "  </thead>\n",
       "  <tbody>\n",
       "    <tr>\n",
       "      <th>9</th>\n",
       "      <td>1364505255946379268</td>\n",
       "      <td>left hear modi lol farmersprotest</td>\n",
       "      <td>2021-02-24T09:19:38+00:00</td>\n",
       "      <td>#FarmersProtest</td>\n",
       "      <td>1</td>\n",
       "      <td>0</td>\n",
       "      <td>https://twitter.com/kdhanjal12/status/1364505255946379268</td>\n",
       "      <td>doc_11</td>\n",
       "      <td>3.0</td>\n",
       "      <td>0.0</td>\n",
       "    </tr>\n",
       "    <tr>\n",
       "      <th>15</th>\n",
       "      <td>1364504281618001921</td>\n",
       "      <td>know tiger wood accid what go ten thousand indian farmer protest farmersprotest</td>\n",
       "      <td>2021-02-24T09:15:46+00:00</td>\n",
       "      <td>#FarmersProtest</td>\n",
       "      <td>0</td>\n",
       "      <td>0</td>\n",
       "      <td>https://twitter.com/GregMitchell62/status/1364504281618001921</td>\n",
       "      <td>doc_17</td>\n",
       "      <td>1.0</td>\n",
       "      <td>1.0</td>\n",
       "    </tr>\n",
       "  </tbody>\n",
       "</table>\n",
       "</div>"
      ],
      "text/plain": [
       "                     id  \\\n",
       "9   1364505255946379268   \n",
       "15  1364504281618001921   \n",
       "\n",
       "                                                                            content  \\\n",
       "9                                                 left hear modi lol farmersprotest   \n",
       "15  know tiger wood accid what go ten thousand indian farmer protest farmersprotest   \n",
       "\n",
       "                         date         hashtags  likes  retweets  \\\n",
       "9   2021-02-24T09:19:38+00:00  #FarmersProtest      1         0   \n",
       "15  2021-02-24T09:15:46+00:00  #FarmersProtest      0         0   \n",
       "\n",
       "                                                              url   docId  \\\n",
       "9       https://twitter.com/kdhanjal12/status/1364505255946379268  doc_11   \n",
       "15  https://twitter.com/GregMitchell62/status/1364504281618001921  doc_17   \n",
       "\n",
       "    query_id  label  \n",
       "9        3.0    0.0  \n",
       "15       1.0    1.0  "
      ]
     },
     "execution_count": 22,
     "metadata": {},
     "output_type": "execute_result"
    }
   ],
   "source": [
    "personalized_eva_gt = pd.read_csv('./data/personalized_evaluation_gt.csv', sep=';')\n",
    "df_personalized_eva = pd.merge(tweets_df, personalized_eva_gt, on='docId', how='left')\n",
    "df_personalized_eva = df_personalized_eva[df_personalized_eva['query_id'].notnull()]\n",
    "df_personalized_eva.head(2)"
   ]
  },
  {
   "cell_type": "code",
   "execution_count": 23,
   "metadata": {},
   "outputs": [],
   "source": [
    "# Dictionaries to hold relevant documents and results\n",
    "personalized_query_text = {}\n",
    "personalized_query_relevant = {}\n",
    "personalized_query_results = {}\n",
    "\n",
    "query_texts = [\"India protest\", \"support farmers\", \"Modi shame\", \"BJP party\", \"human rights violated\"]\n",
    "\n",
    "# Populate the dictionaries\n",
    "for i, query_text in enumerate(query_texts, start=1):\n",
    "    personalized_query_text[i] = query_texts[i-1]\n",
    "    df_query = df_personalized_eva[df_personalized_eva['query_id'] == i]\n",
    "    personalized_query_relevant[i] = df_query[df_query['label'] == 1]['docId'].unique()\n",
    "    # index, tf, df, idf = create_index_tfidf(df_query)\n",
    "    personalized_query_results[i] = search_tf_idf(query_text, index, idf, tf)"
   ]
  },
  {
   "cell_type": "markdown",
   "metadata": {},
   "source": [
    "### Precision@K (P@K)"
   ]
  },
  {
   "cell_type": "markdown",
   "metadata": {},
   "source": [
    "Keep in mind here that we are computing the Binary Relevance."
   ]
  },
  {
   "cell_type": "code",
   "execution_count": 24,
   "metadata": {},
   "outputs": [],
   "source": [
    "def precision_at_k(ground_truth, results, K=10):\n",
    "    top_k_results = results[:K]\n",
    "    # Calculate the number of relevant documents in the top K results\n",
    "    relevant_documents = [doc for doc in top_k_results if doc[1] in ground_truth]\n",
    "    precision = len(relevant_documents) / K if K > 0 else 0\n",
    "    return precision"
   ]
  },
  {
   "cell_type": "code",
   "execution_count": 25,
   "metadata": {},
   "outputs": [
    {
     "name": "stdout",
     "output_type": "stream",
     "text": [
      "Query 1 Precision@5: 0.2000\n",
      "Query 1 Precision@10: 0.3000\n",
      "Query 1 Precision@15: 0.2000\n",
      "Query 1 Precision@20: 0.1500\n",
      "Query 1 Precision@50: 0.0600\n",
      "Query 1 Precision@100: 0.0800\n",
      "Query 1 Precision@150: 0.0600\n",
      "Query 1 Precision@289: 0.0519\n"
     ]
    }
   ],
   "source": [
    "K_values = list(sorted(set([5, 10, 15, 20, 50, 100, 150, len(query_1_results)])))\n",
    "for K in K_values:\n",
    "    precision = precision_at_k(query_1_relevant, query_1_results, K)\n",
    "    print(f\"Query 1 Precision@{K}: {precision:.4f}\")"
   ]
  },
  {
   "cell_type": "code",
   "execution_count": 26,
   "metadata": {},
   "outputs": [
    {
     "name": "stdout",
     "output_type": "stream",
     "text": [
      "Query 2 Precision@5: 0.4000\n",
      "Query 2 Precision@10: 0.2000\n",
      "Query 2 Precision@15: 0.1333\n",
      "Query 2 Precision@20: 0.1000\n",
      "Query 2 Precision@50: 0.0400\n",
      "Query 2 Precision@100: 0.1300\n",
      "Query 2 Precision@150: 0.0867\n",
      "Query 2 Precision@535: 0.0280\n"
     ]
    }
   ],
   "source": [
    "K_values = list(sorted(set([5, 10, 15, 20, 50, 100, 150, len(query_2_results)])))\n",
    "for K in K_values:\n",
    "    precision = precision_at_k(query_2_relevant, query_2_results, K)\n",
    "    print(f\"Query 2 Precision@{K}: {precision:.4f}\")"
   ]
  },
  {
   "cell_type": "code",
   "execution_count": 27,
   "metadata": {},
   "outputs": [
    {
     "name": "stdout",
     "output_type": "stream",
     "text": [
      "Personalized Query 1 - India protest             - Precision@5  : 0.4000\n",
      "Personalized Query 1 - India protest             - Precision@10 : 0.2000\n",
      "Personalized Query 1 - India protest             - Precision@15 : 0.1333\n",
      "Personalized Query 1 - India protest             - Precision@20 : 0.1000\n",
      "Personalized Query 1 - India protest             - Precision@50 : 0.0400\n",
      "Personalized Query 1 - India protest             - Precision@100: 0.0400\n",
      "Personalized Query 1 - India protest             - Precision@150: 0.0267\n",
      "Personalized Query 1 - India protest             - Precision@951: 0.0053\n",
      "\n",
      "Personalized Query 2 - support farmers           - Precision@5  : 0.2000\n",
      "Personalized Query 2 - support farmers           - Precision@10 : 0.1000\n",
      "Personalized Query 2 - support farmers           - Precision@15 : 0.0667\n",
      "Personalized Query 2 - support farmers           - Precision@20 : 0.0500\n",
      "Personalized Query 2 - support farmers           - Precision@50 : 0.0200\n",
      "Personalized Query 2 - support farmers           - Precision@100: 0.0100\n",
      "Personalized Query 2 - support farmers           - Precision@150: 0.0067\n",
      "Personalized Query 2 - support farmers           - Precision@3197: 0.0031\n",
      "\n",
      "Personalized Query 3 - Modi shame                - Precision@5  : 0.2000\n",
      "Personalized Query 3 - Modi shame                - Precision@10 : 0.1000\n",
      "Personalized Query 3 - Modi shame                - Precision@15 : 0.0667\n",
      "Personalized Query 3 - Modi shame                - Precision@20 : 0.0500\n",
      "Personalized Query 3 - Modi shame                - Precision@50 : 0.1600\n",
      "Personalized Query 3 - Modi shame                - Precision@100: 0.0800\n",
      "Personalized Query 3 - Modi shame                - Precision@150: 0.0667\n",
      "Personalized Query 3 - Modi shame                - Precision@193: 0.0518\n",
      "\n",
      "Personalized Query 4 - BJP party                 - Precision@5  : 0.0000\n",
      "Personalized Query 4 - BJP party                 - Precision@10 : 0.2000\n",
      "Personalized Query 4 - BJP party                 - Precision@15 : 0.3333\n",
      "Personalized Query 4 - BJP party                 - Precision@20 : 0.2500\n",
      "Personalized Query 4 - BJP party                 - Precision@50 : 0.1600\n",
      "Personalized Query 4 - BJP party                 - Precision@100: 0.0800\n",
      "Personalized Query 4 - BJP party                 - Precision@128: 0.0703\n",
      "Personalized Query 4 - BJP party                 - Precision@150: 0.0600\n",
      "\n",
      "Personalized Query 5 - human rights violated     - Precision@5  : 0.0000\n",
      "Personalized Query 5 - human rights violated     - Precision@10 : 0.0000\n",
      "Personalized Query 5 - human rights violated     - Precision@15 : 0.0000\n",
      "Personalized Query 5 - human rights violated     - Precision@20 : 0.0000\n",
      "Personalized Query 5 - human rights violated     - Precision@50 : 0.1000\n",
      "Personalized Query 5 - human rights violated     - Precision@100: 0.0500\n",
      "Personalized Query 5 - human rights violated     - Precision@150: 0.0333\n",
      "Personalized Query 5 - human rights violated     - Precision@254: 0.0394\n",
      "\n"
     ]
    }
   ],
   "source": [
    "for i, query_text in enumerate(query_texts, start=1):\n",
    "    # Retrieve relevant documents and results from the dictionaries\n",
    "    relevant_docs = personalized_query_relevant[i]\n",
    "    results = personalized_query_results[i]\n",
    "    \n",
    "    K_values = list(sorted(set([5, 10, 15, 20, 50, 100, 150, len(results)])))\n",
    "    \n",
    "    for K in K_values:\n",
    "        precision = precision_at_k(relevant_docs, results, K)\n",
    "        print(f\"Personalized Query {i} - {query_text:<25} - Precision@{K:<3}: {precision:.4f}\")\n",
    "    print()\n"
   ]
  },
  {
   "cell_type": "markdown",
   "metadata": {},
   "source": [
    "### Recall@K (R@K)"
   ]
  },
  {
   "cell_type": "code",
   "execution_count": 28,
   "metadata": {},
   "outputs": [],
   "source": [
    "def recall_at_k(ground_truth, results, K=10):\n",
    "    if K > len(results): K = len(results)\n",
    "    top_k_results = results[:K]\n",
    "    relevant_documents_retrieved = sum(1 for doc in top_k_results if doc[1] in ground_truth)\n",
    "    total_relevant_documents = len(ground_truth)\n",
    "    if total_relevant_documents == 0: return 0\n",
    "    recall = relevant_documents_retrieved / total_relevant_documents\n",
    "    return recall"
   ]
  },
  {
   "cell_type": "code",
   "execution_count": 29,
   "metadata": {},
   "outputs": [
    {
     "name": "stdout",
     "output_type": "stream",
     "text": [
      "Query 1 Recall@5: 0.0667\n",
      "Query 1 Recall@10: 0.2000\n",
      "Query 1 Recall@15: 0.2000\n",
      "Query 1 Recall@20: 0.2000\n",
      "Query 1 Recall@50: 0.2000\n",
      "Query 1 Recall@100: 0.5333\n",
      "Query 1 Recall@150: 0.6000\n",
      "Query 1 Recall@289: 1.0000\n"
     ]
    }
   ],
   "source": [
    "K_values = list(sorted(set([5, 10, 15, 20, 50, 100, 150, len(query_1_results)])))\n",
    "for K in K_values:\n",
    "    recall_value = recall_at_k(query_1_relevant, query_1_results, K)\n",
    "    print(f\"Query 1 Recall@{K}: {recall_value:.4f}\")"
   ]
  },
  {
   "cell_type": "code",
   "execution_count": 30,
   "metadata": {},
   "outputs": [
    {
     "name": "stdout",
     "output_type": "stream",
     "text": [
      "Query 2 Recall@5: 0.1333\n",
      "Query 2 Recall@10: 0.1333\n",
      "Query 2 Recall@15: 0.1333\n",
      "Query 2 Recall@20: 0.1333\n",
      "Query 2 Recall@50: 0.1333\n",
      "Query 2 Recall@100: 0.8667\n",
      "Query 2 Recall@150: 0.8667\n",
      "Query 2 Recall@535: 1.0000\n"
     ]
    }
   ],
   "source": [
    "K_values = list(sorted(set([5, 10, 15, 20, 50, 100, 150, len(query_2_results)])))\n",
    "for K in K_values:\n",
    "    recall_value = recall_at_k(query_2_relevant, query_2_results, K)\n",
    "    print(f\"Query 2 Recall@{K}: {recall_value:.4f}\")"
   ]
  },
  {
   "cell_type": "code",
   "execution_count": 31,
   "metadata": {},
   "outputs": [
    {
     "name": "stdout",
     "output_type": "stream",
     "text": [
      "Personalized Query 1 - India protest             - Recall@5  : 0.2000\n",
      "Personalized Query 1 - India protest             - Recall@10 : 0.2000\n",
      "Personalized Query 1 - India protest             - Recall@15 : 0.2000\n",
      "Personalized Query 1 - India protest             - Recall@20 : 0.2000\n",
      "Personalized Query 1 - India protest             - Recall@50 : 0.2000\n",
      "Personalized Query 1 - India protest             - Recall@100: 0.4000\n",
      "Personalized Query 1 - India protest             - Recall@150: 0.4000\n",
      "Personalized Query 1 - India protest             - Recall@951: 0.5000\n",
      "\n",
      "Personalized Query 2 - support farmers           - Recall@5  : 0.1000\n",
      "Personalized Query 2 - support farmers           - Recall@10 : 0.1000\n",
      "Personalized Query 2 - support farmers           - Recall@15 : 0.1000\n",
      "Personalized Query 2 - support farmers           - Recall@20 : 0.1000\n",
      "Personalized Query 2 - support farmers           - Recall@50 : 0.1000\n",
      "Personalized Query 2 - support farmers           - Recall@100: 0.1000\n",
      "Personalized Query 2 - support farmers           - Recall@150: 0.1000\n",
      "Personalized Query 2 - support farmers           - Recall@3197: 1.0000\n",
      "\n",
      "Personalized Query 3 - Modi shame                - Recall@5  : 0.1000\n",
      "Personalized Query 3 - Modi shame                - Recall@10 : 0.1000\n",
      "Personalized Query 3 - Modi shame                - Recall@15 : 0.1000\n",
      "Personalized Query 3 - Modi shame                - Recall@20 : 0.1000\n",
      "Personalized Query 3 - Modi shame                - Recall@50 : 0.8000\n",
      "Personalized Query 3 - Modi shame                - Recall@100: 0.8000\n",
      "Personalized Query 3 - Modi shame                - Recall@150: 1.0000\n",
      "Personalized Query 3 - Modi shame                - Recall@193: 1.0000\n",
      "\n",
      "Personalized Query 4 - BJP party                 - Recall@5  : 0.0000\n",
      "Personalized Query 4 - BJP party                 - Recall@10 : 0.2222\n",
      "Personalized Query 4 - BJP party                 - Recall@15 : 0.5556\n",
      "Personalized Query 4 - BJP party                 - Recall@20 : 0.5556\n",
      "Personalized Query 4 - BJP party                 - Recall@50 : 0.8889\n",
      "Personalized Query 4 - BJP party                 - Recall@100: 0.8889\n",
      "Personalized Query 4 - BJP party                 - Recall@128: 1.0000\n",
      "Personalized Query 4 - BJP party                 - Recall@150: 1.0000\n",
      "\n",
      "Personalized Query 5 - human rights violated     - Recall@5  : 0.0000\n",
      "Personalized Query 5 - human rights violated     - Recall@10 : 0.0000\n",
      "Personalized Query 5 - human rights violated     - Recall@15 : 0.0000\n",
      "Personalized Query 5 - human rights violated     - Recall@20 : 0.0000\n",
      "Personalized Query 5 - human rights violated     - Recall@50 : 0.5000\n",
      "Personalized Query 5 - human rights violated     - Recall@100: 0.5000\n",
      "Personalized Query 5 - human rights violated     - Recall@150: 0.5000\n",
      "Personalized Query 5 - human rights violated     - Recall@254: 1.0000\n",
      "\n"
     ]
    }
   ],
   "source": [
    "for i, query_text in enumerate(query_texts, start=1):\n",
    "    relevant_docs = personalized_query_relevant[i]\n",
    "    results = personalized_query_results[i]\n",
    "    \n",
    "    K_values = list(sorted(set([5, 10, 15, 20, 50, 100, 150, len(results)])))\n",
    "    \n",
    "    for K in K_values:\n",
    "        recall_value = recall_at_k(relevant_docs, results, K)\n",
    "        print(f\"Personalized Query {i} - {query_text:<25} - Recall@{K:<3}: {recall_value:.4f}\")\n",
    "    print()"
   ]
  },
  {
   "cell_type": "markdown",
   "metadata": {},
   "source": [
    "### Average Precision@K (P@K)"
   ]
  },
  {
   "cell_type": "code",
   "execution_count": 32,
   "metadata": {},
   "outputs": [],
   "source": [
    "def average_precision_at_k(ground_truth, results, K=None):\n",
    "    if K is None: K = len(results)\n",
    "\n",
    "    ground_truth_set = set(ground_truth)\n",
    "    relevant_documents_retrieved = 0\n",
    "    cumulative_precision = 0.0\n",
    "\n",
    "    # Iterate over the list of results up to K\n",
    "    for i, doc_id in enumerate(results[:K]):\n",
    "        if doc_id[1] in ground_truth_set:\n",
    "            relevant_documents_retrieved += 1\n",
    "            precision_at_i = relevant_documents_retrieved / (i + 1)\n",
    "            cumulative_precision += precision_at_i\n",
    "\n",
    "    # Calculate average precision\n",
    "    total_relevant = len(ground_truth_set)\n",
    "    if total_relevant > 0:\n",
    "        average_precision = cumulative_precision / total_relevant\n",
    "    else:\n",
    "        average_precision = 0\n",
    "\n",
    "    return average_precision"
   ]
  },
  {
   "cell_type": "code",
   "execution_count": 33,
   "metadata": {},
   "outputs": [
    {
     "name": "stdout",
     "output_type": "stream",
     "text": [
      "Query 1 Average Precision@5: 0.0167\n",
      "Query 1 Average Precision@10: 0.0579\n",
      "Query 1 Average Precision@15: 0.0579\n",
      "Query 1 Average Precision@20: 0.0579\n",
      "Query 1 Average Precision@50: 0.0579\n",
      "Query 1 Average Precision@100: 0.0787\n",
      "Query 1 Average Precision@150: 0.0845\n",
      "Query 1 Average Precision@289: 0.1067\n"
     ]
    }
   ],
   "source": [
    "K_values = list(sorted(set([5, 10, 15, 20, 50, 100, 150, len(query_1_results)])))\n",
    "for K in K_values:\n",
    "    precision = average_precision_at_k(query_1_relevant, query_1_results, K)\n",
    "    print(f\"Query 1 Average Precision@{K}: {precision:.4f}\")"
   ]
  },
  {
   "cell_type": "code",
   "execution_count": 34,
   "metadata": {},
   "outputs": [
    {
     "name": "stdout",
     "output_type": "stream",
     "text": [
      "Query 2 Average Precision@5: 0.0778\n",
      "Query 2 Average Precision@10: 0.0778\n",
      "Query 2 Average Precision@15: 0.0778\n",
      "Query 2 Average Precision@20: 0.0778\n",
      "Query 2 Average Precision@50: 0.0778\n",
      "Query 2 Average Precision@100: 0.1475\n",
      "Query 2 Average Precision@150: 0.1475\n",
      "Query 2 Average Precision@535: 0.1512\n"
     ]
    }
   ],
   "source": [
    "K_values = list(sorted(set([5, 10, 15, 20, 50, 100, 150, len(query_2_results)])))\n",
    "for K in K_values:\n",
    "    precision = average_precision_at_k(query_2_relevant, query_2_results, K)\n",
    "    print(f\"Query 2 Average Precision@{K}: {precision:.4f}\")"
   ]
  },
  {
   "cell_type": "code",
   "execution_count": 35,
   "metadata": {},
   "outputs": [
    {
     "name": "stdout",
     "output_type": "stream",
     "text": [
      "Personalized Query 1 - India protest             - Average Precision@5  : 0.2000\n",
      "Personalized Query 1 - India protest             - Average Precision@10 : 0.2000\n",
      "Personalized Query 1 - India protest             - Average Precision@15 : 0.2000\n",
      "Personalized Query 1 - India protest             - Average Precision@20 : 0.2000\n",
      "Personalized Query 1 - India protest             - Average Precision@50 : 0.2000\n",
      "Personalized Query 1 - India protest             - Average Precision@100: 0.2071\n",
      "Personalized Query 1 - India protest             - Average Precision@150: 0.2071\n",
      "Personalized Query 1 - India protest             - Average Precision@951: 0.2077\n",
      "\n",
      "Personalized Query 2 - support farmers           - Average Precision@5  : 0.0250\n",
      "Personalized Query 2 - support farmers           - Average Precision@10 : 0.0250\n",
      "Personalized Query 2 - support farmers           - Average Precision@15 : 0.0250\n",
      "Personalized Query 2 - support farmers           - Average Precision@20 : 0.0250\n",
      "Personalized Query 2 - support farmers           - Average Precision@50 : 0.0250\n",
      "Personalized Query 2 - support farmers           - Average Precision@100: 0.0250\n",
      "Personalized Query 2 - support farmers           - Average Precision@150: 0.0250\n",
      "Personalized Query 2 - support farmers           - Average Precision@3197: 0.0300\n",
      "\n",
      "Personalized Query 3 - Modi shame                - Average Precision@5  : 0.1000\n",
      "Personalized Query 3 - Modi shame                - Average Precision@10 : 0.1000\n",
      "Personalized Query 3 - Modi shame                - Average Precision@15 : 0.1000\n",
      "Personalized Query 3 - Modi shame                - Average Precision@20 : 0.1000\n",
      "Personalized Query 3 - Modi shame                - Average Precision@50 : 0.1796\n",
      "Personalized Query 3 - Modi shame                - Average Precision@100: 0.1796\n",
      "Personalized Query 3 - Modi shame                - Average Precision@150: 0.1930\n",
      "Personalized Query 3 - Modi shame                - Average Precision@193: 0.1930\n",
      "\n",
      "Personalized Query 4 - BJP party                 - Average Precision@5  : 0.0000\n",
      "Personalized Query 4 - BJP party                 - Average Precision@10 : 0.0346\n",
      "Personalized Query 4 - BJP party                 - Average Precision@15 : 0.1387\n",
      "Personalized Query 4 - BJP party                 - Average Precision@20 : 0.1387\n",
      "Personalized Query 4 - BJP party                 - Average Precision@50 : 0.2249\n",
      "Personalized Query 4 - BJP party                 - Average Precision@100: 0.2249\n",
      "Personalized Query 4 - BJP party                 - Average Precision@128: 0.2341\n",
      "Personalized Query 4 - BJP party                 - Average Precision@150: 0.2341\n",
      "\n",
      "Personalized Query 5 - human rights violated     - Average Precision@5  : 0.0000\n",
      "Personalized Query 5 - human rights violated     - Average Precision@10 : 0.0000\n",
      "Personalized Query 5 - human rights violated     - Average Precision@15 : 0.0000\n",
      "Personalized Query 5 - human rights violated     - Average Precision@20 : 0.0000\n",
      "Personalized Query 5 - human rights violated     - Average Precision@50 : 0.0369\n",
      "Personalized Query 5 - human rights violated     - Average Precision@100: 0.0369\n",
      "Personalized Query 5 - human rights violated     - Average Precision@150: 0.0369\n",
      "Personalized Query 5 - human rights violated     - Average Precision@254: 0.0562\n",
      "\n"
     ]
    }
   ],
   "source": [
    "# TODO: Check if results make sense\n",
    "\n",
    "for i, query_text in enumerate(query_texts, start=1):\n",
    "    relevant_docs = personalized_query_relevant[i]\n",
    "    results = personalized_query_results[i]\n",
    "    \n",
    "    K_values = list(sorted(set([5, 10, 15, 20, 50, 100, 150, len(results)])))\n",
    "    for K in K_values:\n",
    "        precision = average_precision_at_k(relevant_docs, results, K)\n",
    "        print(f\"Personalized Query {i} - {query_text:<25} - Average Precision@{K:<3}: {precision:.4f}\")\n",
    "    print()"
   ]
  },
  {
   "cell_type": "markdown",
   "metadata": {},
   "source": [
    "### F1-Score@K"
   ]
  },
  {
   "cell_type": "code",
   "execution_count": 36,
   "metadata": {},
   "outputs": [],
   "source": [
    "def f1_score_at_k(ground_truth, results, K=None):\n",
    "    if K is None: K = len(results)\n",
    "\n",
    "    ground_truth_set = set(ground_truth)\n",
    "    relevant_documents_retrieved = 0\n",
    "    results_considered = results[:K]\n",
    "\n",
    "    # We can be also using defined precision and recall at k functions\n",
    "    # Compute precision at K\n",
    "    for doc_id in results_considered:\n",
    "        if doc_id[1] in ground_truth_set: relevant_documents_retrieved += 1\n",
    "    precision = relevant_documents_retrieved / len(results_considered) if results_considered else 0\n",
    "\n",
    "    # Compute recall at K\n",
    "    total_relevant = len(ground_truth_set)\n",
    "    recall = relevant_documents_retrieved / total_relevant if total_relevant > 0 else 0\n",
    "\n",
    "    # Calculate F1 score\n",
    "    if precision + recall == 0: return 0\n",
    "    f1 = 2 * (precision * recall) / (precision + recall)\n",
    "\n",
    "    return f1"
   ]
  },
  {
   "cell_type": "code",
   "execution_count": 37,
   "metadata": {},
   "outputs": [
    {
     "name": "stdout",
     "output_type": "stream",
     "text": [
      "Query 2 F1Score@5: 0.1000\n",
      "Query 2 F1Score@10: 0.2400\n",
      "Query 2 F1Score@15: 0.2000\n",
      "Query 2 F1Score@20: 0.1714\n",
      "Query 2 F1Score@50: 0.0923\n",
      "Query 2 F1Score@100: 0.1391\n",
      "Query 2 F1Score@150: 0.1091\n",
      "Query 2 F1Score@289: 0.0987\n"
     ]
    }
   ],
   "source": [
    "K_values = list(sorted(set([5, 10, 15, 20, 50, 100, 150, len(query_1_results)])))\n",
    "for K in K_values:\n",
    "    f1 = f1_score_at_k(query_1_relevant, query_1_results, K)\n",
    "    print(f\"Query 2 F1Score@{K}: {f1:.4f}\")"
   ]
  },
  {
   "cell_type": "code",
   "execution_count": 38,
   "metadata": {},
   "outputs": [
    {
     "name": "stdout",
     "output_type": "stream",
     "text": [
      "Query 2 F1Score@5: 0.2000\n",
      "Query 2 F1Score@10: 0.1600\n",
      "Query 2 F1Score@15: 0.1333\n",
      "Query 2 F1Score@20: 0.1143\n",
      "Query 2 F1Score@50: 0.0615\n",
      "Query 2 F1Score@100: 0.2261\n",
      "Query 2 F1Score@150: 0.1576\n",
      "Query 2 F1Score@535: 0.0545\n"
     ]
    }
   ],
   "source": [
    "K_values = list(sorted(set([5, 10, 15, 20, 50, 100, 150, len(query_2_results)])))\n",
    "for K in K_values:\n",
    "    f1 = f1_score_at_k(query_2_relevant, query_2_results, K)\n",
    "    print(f\"Query 2 F1Score@{K}: {f1:.4f}\")"
   ]
  },
  {
   "cell_type": "code",
   "execution_count": 39,
   "metadata": {},
   "outputs": [
    {
     "name": "stdout",
     "output_type": "stream",
     "text": [
      "Personalized Query 1 - India protest             - F1Score@5  : 0.2667\n",
      "Personalized Query 1 - India protest             - F1Score@10 : 0.2000\n",
      "Personalized Query 1 - India protest             - F1Score@15 : 0.1600\n",
      "Personalized Query 1 - India protest             - F1Score@20 : 0.1333\n",
      "Personalized Query 1 - India protest             - F1Score@50 : 0.0667\n",
      "Personalized Query 1 - India protest             - F1Score@100: 0.0727\n",
      "Personalized Query 1 - India protest             - F1Score@150: 0.0500\n",
      "Personalized Query 1 - India protest             - F1Score@951: 0.0104\n",
      "\n",
      "Personalized Query 2 - support farmers           - F1Score@5  : 0.1333\n",
      "Personalized Query 2 - support farmers           - F1Score@10 : 0.1000\n",
      "Personalized Query 2 - support farmers           - F1Score@15 : 0.0800\n",
      "Personalized Query 2 - support farmers           - F1Score@20 : 0.0667\n",
      "Personalized Query 2 - support farmers           - F1Score@50 : 0.0333\n",
      "Personalized Query 2 - support farmers           - F1Score@100: 0.0182\n",
      "Personalized Query 2 - support farmers           - F1Score@150: 0.0125\n",
      "Personalized Query 2 - support farmers           - F1Score@3197: 0.0062\n",
      "\n",
      "Personalized Query 3 - Modi shame                - F1Score@5  : 0.1333\n",
      "Personalized Query 3 - Modi shame                - F1Score@10 : 0.1000\n",
      "Personalized Query 3 - Modi shame                - F1Score@15 : 0.0800\n",
      "Personalized Query 3 - Modi shame                - F1Score@20 : 0.0667\n",
      "Personalized Query 3 - Modi shame                - F1Score@50 : 0.2667\n",
      "Personalized Query 3 - Modi shame                - F1Score@100: 0.1455\n",
      "Personalized Query 3 - Modi shame                - F1Score@150: 0.1250\n",
      "Personalized Query 3 - Modi shame                - F1Score@193: 0.0985\n",
      "\n",
      "Personalized Query 4 - BJP party                 - F1Score@5  : 0.0000\n",
      "Personalized Query 4 - BJP party                 - F1Score@10 : 0.2105\n",
      "Personalized Query 4 - BJP party                 - F1Score@15 : 0.4167\n",
      "Personalized Query 4 - BJP party                 - F1Score@20 : 0.3448\n",
      "Personalized Query 4 - BJP party                 - F1Score@50 : 0.2712\n",
      "Personalized Query 4 - BJP party                 - F1Score@100: 0.1468\n",
      "Personalized Query 4 - BJP party                 - F1Score@128: 0.1314\n",
      "Personalized Query 4 - BJP party                 - F1Score@150: 0.1314\n",
      "\n",
      "Personalized Query 5 - human rights violated     - F1Score@5  : 0.0000\n",
      "Personalized Query 5 - human rights violated     - F1Score@10 : 0.0000\n",
      "Personalized Query 5 - human rights violated     - F1Score@15 : 0.0000\n",
      "Personalized Query 5 - human rights violated     - F1Score@20 : 0.0000\n",
      "Personalized Query 5 - human rights violated     - F1Score@50 : 0.1667\n",
      "Personalized Query 5 - human rights violated     - F1Score@100: 0.0909\n",
      "Personalized Query 5 - human rights violated     - F1Score@150: 0.0625\n",
      "Personalized Query 5 - human rights violated     - F1Score@254: 0.0758\n",
      "\n"
     ]
    }
   ],
   "source": [
    "for i, query_text in enumerate(query_texts, start=1):\n",
    "    relevant_docs = personalized_query_relevant[i]\n",
    "    results = personalized_query_results[i]\n",
    "    \n",
    "    K_values = list(sorted(set([5, 10, 15, 20, 50, 100, 150, len(results)])))\n",
    "    for K in K_values:\n",
    "        f1 = f1_score_at_k(relevant_docs, results, K)\n",
    "        print(f\"Personalized Query {i} - {query_text:<25} - F1Score@{K:<3}: {f1:.4f}\")\n",
    "    print()"
   ]
  },
  {
   "cell_type": "markdown",
   "metadata": {},
   "source": [
    "### Mean Average Precision (MAP)"
   ]
  },
  {
   "cell_type": "code",
   "execution_count": 40,
   "metadata": {},
   "outputs": [],
   "source": [
    "def mean_average_precision_at_k(queries_ground_truth, queries_results, K=10):\n",
    "    ap_scores = []\n",
    "    for ground_truth, results in zip(queries_ground_truth, queries_results):\n",
    "        ap = average_precision_at_k(ground_truth, results, K=K)\n",
    "        ap_scores.append(ap)\n",
    "    \n",
    "    if ap_scores: return sum(ap_scores) / len(ap_scores)\n",
    "    return 0"
   ]
  },
  {
   "cell_type": "code",
   "execution_count": 41,
   "metadata": {},
   "outputs": [],
   "source": [
    "queries_ground_truth = (query_1_relevant, query_2_relevant)\n",
    "queries_results = (query_1_results, query_2_results)"
   ]
  },
  {
   "cell_type": "code",
   "execution_count": 42,
   "metadata": {},
   "outputs": [
    {
     "name": "stdout",
     "output_type": "stream",
     "text": [
      "Query 1 & 2 MAP@5: 0.0472\n",
      "Query 1 & 2 MAP@10: 0.0679\n",
      "Query 1 & 2 MAP@15: 0.0679\n",
      "Query 1 & 2 MAP@20: 0.0679\n",
      "Query 1 & 2 MAP@50: 0.0679\n",
      "Query 1 & 2 MAP@100: 0.1131\n",
      "Query 1 & 2 MAP@150: 0.1160\n",
      "Query 1 & 2 MAP@535: 0.1289\n"
     ]
    }
   ],
   "source": [
    "K_values = list(sorted(set([5, 10, 15, 20, 50, 100, 150, min(len(query_2_results), len(query_2_results))])))\n",
    "for K in K_values:\n",
    "    precision = mean_average_precision_at_k(queries_ground_truth, queries_results, K)\n",
    "    print(f\"Query 1 & 2 MAP@{K}: {precision:.4f}\")"
   ]
  },
  {
   "cell_type": "code",
   "execution_count": 43,
   "metadata": {},
   "outputs": [
    {
     "name": "stdout",
     "output_type": "stream",
     "text": [
      "Personalized Queries MAP@5: 0.0650\n",
      "Personalized Queries MAP@10: 0.0719\n",
      "Personalized Queries MAP@15: 0.0927\n",
      "Personalized Queries MAP@20: 0.0927\n",
      "Personalized Queries MAP@50: 0.1333\n",
      "Personalized Queries MAP@100: 0.1347\n",
      "Personalized Queries MAP@150: 0.1392\n"
     ]
    }
   ],
   "source": [
    "K_values = list(sorted(set([5, 10, 15, 20, 50, 100, 150])))\n",
    "for K in K_values:\n",
    "    precision = mean_average_precision_at_k(list(personalized_query_relevant.values()), list(personalized_query_results.values()), K)\n",
    "    print(f\"Personalized Queries MAP@{K}: {precision:.4f}\")"
   ]
  },
  {
   "cell_type": "markdown",
   "metadata": {},
   "source": [
    "### Mean Reciprocal Rank (MRR)"
   ]
  },
  {
   "cell_type": "code",
   "execution_count": 44,
   "metadata": {},
   "outputs": [],
   "source": [
    "def mean_reciprocal_rank(queries_ground_truth, queries_results):\n",
    "    reciprocal_ranks = []\n",
    "    \n",
    "    for ground_truth, results in zip(queries_ground_truth, queries_results):\n",
    "        ground_truth_set = set(ground_truth)\n",
    "        reciprocal_rank = 0\n",
    "        for rank, doc_id in enumerate(results, start=1):\n",
    "            if doc_id[1] in ground_truth_set:\n",
    "                reciprocal_rank = 1 / rank\n",
    "                break\n",
    "        reciprocal_ranks.append(reciprocal_rank)\n",
    "    \n",
    "    mrr = sum(reciprocal_ranks) / len(reciprocal_ranks) if reciprocal_ranks else 0\n",
    "    return mrr"
   ]
  },
  {
   "cell_type": "code",
   "execution_count": 45,
   "metadata": {},
   "outputs": [
    {
     "name": "stdout",
     "output_type": "stream",
     "text": [
      "Query 1 & 2 MRR: 0.375\n"
     ]
    }
   ],
   "source": [
    "print(f\"Query 1 & 2 MRR: {mean_reciprocal_rank(queries_ground_truth, queries_results)}\")"
   ]
  },
  {
   "cell_type": "code",
   "execution_count": 46,
   "metadata": {},
   "outputs": [
    {
     "name": "stdout",
     "output_type": "stream",
     "text": [
      "Personalized Queries MRR: 0.4775\n"
     ]
    }
   ],
   "source": [
    "print(f\"Personalized Queries MRR: {mean_reciprocal_rank(list(personalized_query_relevant.values()), list(personalized_query_results.values())):.4f}\")"
   ]
  },
  {
   "cell_type": "markdown",
   "metadata": {},
   "source": [
    "### Normalized Discounted Cumulative Gain (NDCG)"
   ]
  },
  {
   "cell_type": "code",
   "execution_count": 47,
   "metadata": {},
   "outputs": [],
   "source": [
    "def dcg_at_k(relevances, k, method=1):\n",
    "    relevances = np.asarray(relevances)[:k]\n",
    "    if relevances.size:\n",
    "        if method == 1:  # Standard method\n",
    "            return relevances[0] + np.sum(relevances[1:] / np.log2(np.arange(2, k + 1)))\n",
    "        elif method == 2:  # Alternative method\n",
    "            return np.sum((2**relevances - 1) / np.log(np.arange(1, k + 1) + 1))\n",
    "    return 0\n",
    "\n",
    "def ndcg_at_k(ground_truth, results, k, method=1):\n",
    "    # assert k <= len(results)\n",
    "    if k > len(results): \n",
    "        warnings.warn(\"k is greater than the number of results. Adjusting to maximum available.\")\n",
    "        k = min(k, len(results))\n",
    "    \n",
    "    ground_truth_set = set(ground_truth)\n",
    "    # Get binary relevance for the actual results\n",
    "    actual_relevance = [1 if doc_id[1] in ground_truth_set else 0 for doc_id in results[:k]]\n",
    "    \n",
    "    # Compute DCG for actual results\n",
    "    actual_dcg = dcg_at_k(actual_relevance, k, method)\n",
    "    \n",
    "    # Sort the binary relevance to compute ideal DCG\n",
    "    ideal_relevance = sorted(actual_relevance, reverse=True)\n",
    "    ideal_dcg = dcg_at_k(ideal_relevance, k, method)\n",
    "    \n",
    "    if ideal_dcg == 0: return 0 \n",
    "    return actual_dcg / ideal_dcg"
   ]
  },
  {
   "cell_type": "code",
   "execution_count": 48,
   "metadata": {},
   "outputs": [
    {
     "name": "stdout",
     "output_type": "stream",
     "text": [
      "Query 1 NDCG@5: 0.5000\n",
      "Query 1 NDCG@10: 0.4453\n",
      "Query 1 NDCG@15: 0.4453\n",
      "Query 1 NDCG@20: 0.4453\n",
      "Query 1 NDCG@50: 0.4453\n",
      "Query 1 NDCG@100: 0.4164\n",
      "Query 1 NDCG@150: 0.4200\n",
      "Query 1 NDCG@289: 0.4311\n"
     ]
    }
   ],
   "source": [
    "K_values = list(sorted(set([5, 10, 15, 20, 50, 100, 150, len(query_1_results)])))\n",
    "for K in K_values:\n",
    "    ndcg = ndcg_at_k(query_1_relevant, query_1_results, K)\n",
    "    print(f\"Query 1 NDCG@{K}: {ndcg:.4f}\")"
   ]
  },
  {
   "cell_type": "code",
   "execution_count": 49,
   "metadata": {},
   "outputs": [
    {
     "name": "stdout",
     "output_type": "stream",
     "text": [
      "Query 2 NDCG@5: 0.8155\n",
      "Query 2 NDCG@10: 0.8155\n",
      "Query 2 NDCG@15: 0.8155\n",
      "Query 2 NDCG@20: 0.8155\n",
      "Query 2 NDCG@50: 0.8155\n",
      "Query 2 NDCG@100: 0.5510\n",
      "Query 2 NDCG@150: 0.5510\n",
      "Query 2 NDCG@535: 0.5413\n"
     ]
    }
   ],
   "source": [
    "K_values = list(sorted(set([5, 10, 15, 20, 50, 100, 150, len(query_2_results)])))\n",
    "for K in K_values:\n",
    "    ndcg = ndcg_at_k(query_2_relevant, query_2_results, K)\n",
    "    print(f\"Query 2 NDCG@{K}: {ndcg:.4f}\")"
   ]
  },
  {
   "cell_type": "code",
   "execution_count": 50,
   "metadata": {},
   "outputs": [
    {
     "name": "stdout",
     "output_type": "stream",
     "text": [
      "Personalized Query 1 - India protest             - NDCG@5  : 1.0000\n",
      "Personalized Query 1 - India protest             - NDCG@10 : 1.0000\n",
      "Personalized Query 1 - India protest             - NDCG@15 : 1.0000\n",
      "Personalized Query 1 - India protest             - NDCG@20 : 1.0000\n",
      "Personalized Query 1 - India protest             - NDCG@50 : 1.0000\n",
      "Personalized Query 1 - India protest             - NDCG@100: 0.7354\n",
      "Personalized Query 1 - India protest             - NDCG@150: 0.7354\n",
      "Personalized Query 1 - India protest             - NDCG@951: 0.6751\n",
      "\n",
      "Personalized Query 2 - support farmers           - NDCG@5  : 0.5000\n",
      "Personalized Query 2 - support farmers           - NDCG@10 : 0.5000\n",
      "Personalized Query 2 - support farmers           - NDCG@15 : 0.5000\n",
      "Personalized Query 2 - support farmers           - NDCG@20 : 0.5000\n",
      "Personalized Query 2 - support farmers           - NDCG@50 : 0.5000\n",
      "Personalized Query 2 - support farmers           - NDCG@100: 0.5000\n",
      "Personalized Query 2 - support farmers           - NDCG@150: 0.5000\n",
      "Personalized Query 2 - support farmers           - NDCG@3197: 0.2671\n",
      "\n",
      "Personalized Query 3 - Modi shame                - NDCG@5  : 1.0000\n",
      "Personalized Query 3 - Modi shame                - NDCG@10 : 1.0000\n",
      "Personalized Query 3 - Modi shame                - NDCG@15 : 1.0000\n",
      "Personalized Query 3 - Modi shame                - NDCG@20 : 1.0000\n",
      "Personalized Query 3 - Modi shame                - NDCG@50 : 0.4940\n",
      "Personalized Query 3 - Modi shame                - NDCG@100: 0.4940\n",
      "Personalized Query 3 - Modi shame                - NDCG@150: 0.4893\n",
      "Personalized Query 3 - Modi shame                - NDCG@193: 0.4893\n",
      "\n",
      "Personalized Query 4 - BJP party                 - NDCG@5  : 0.0000\n",
      "Personalized Query 4 - BJP party                 - NDCG@10 : 0.3082\n",
      "Personalized Query 4 - BJP party                 - NDCG@15 : 0.4039\n",
      "Personalized Query 4 - BJP party                 - NDCG@20 : 0.4039\n",
      "Personalized Query 4 - BJP party                 - NDCG@50 : 0.4462\n",
      "Personalized Query 4 - BJP party                 - NDCG@100: 0.4462\n",
      "Personalized Query 4 - BJP party                 - NDCG@128: 0.4476\n",
      "Personalized Query 4 - BJP party                 - NDCG@150: 0.4476\n",
      "\n",
      "Personalized Query 5 - human rights violated     - NDCG@5  : 0.0000\n",
      "Personalized Query 5 - human rights violated     - NDCG@10 : 0.0000\n",
      "Personalized Query 5 - human rights violated     - NDCG@15 : 0.0000\n",
      "Personalized Query 5 - human rights violated     - NDCG@20 : 0.0000\n",
      "Personalized Query 5 - human rights violated     - NDCG@50 : 0.2639\n",
      "Personalized Query 5 - human rights violated     - NDCG@100: 0.2639\n",
      "Personalized Query 5 - human rights violated     - NDCG@150: 0.2639\n",
      "Personalized Query 5 - human rights violated     - NDCG@254: 0.3028\n",
      "\n"
     ]
    },
    {
     "name": "stderr",
     "output_type": "stream",
     "text": [
      "/var/folders/t1/rkwffv314k333khdlgxlw40m0000gn/T/ipykernel_91418/2045254816.py:13: UserWarning: k is greater than the number of results. Adjusting to maximum available.\n",
      "  warnings.warn(\"k is greater than the number of results. Adjusting to maximum available.\")\n"
     ]
    }
   ],
   "source": [
    "for i, query_text in enumerate(query_texts, start=1):\n",
    "    relevant_docs = personalized_query_relevant[i]\n",
    "    results = personalized_query_results[i]\n",
    "    \n",
    "    K_values = list(sorted(set([5, 10, 15, 20, 50, 100, 150, len(results)])))\n",
    "    for K in K_values:\n",
    "        ndcg = ndcg_at_k(relevant_docs, results, K)\n",
    "        print(f\"Personalized Query {i} - {query_text:<25} - NDCG@{K:<3}: {ndcg:.4f}\")\n",
    "    print()"
   ]
  },
  {
   "cell_type": "markdown",
   "metadata": {},
   "source": [
    "## Vector Representation using T-distributed Stochastic Neighbor Embedding (T-SNE)"
   ]
  },
  {
   "cell_type": "code",
   "execution_count": 51,
   "metadata": {},
   "outputs": [],
   "source": [
    "tweets = tweets_df['content'].tolist()\n",
    "\n",
    "tokenizer = TweetTokenizer()\n",
    "tokenized_tweets = [tokenizer.tokenize(tweet.lower()) for tweet in tweets]\n",
    "\n",
    "# Train a Word2Vec model\n",
    "model = Word2Vec(sentences=tokenized_tweets, vector_size=100, window=5, min_count=1, workers=4)"
   ]
  },
  {
   "cell_type": "code",
   "execution_count": 52,
   "metadata": {},
   "outputs": [],
   "source": [
    "def tweet_vector(tweet, model):\n",
    "    # Remove words not in the model's vocabulary\n",
    "    vector = np.mean([model.wv[word] for word in tweet if word in model.wv], axis=0, keepdims=True)\n",
    "    return vector\n",
    "\n",
    "# Filter out any empty vectors and handle tweets where no words matched the model\n",
    "tweet_vectors = np.vstack([tweet_vector(tweet, model) for tweet in tokenized_tweets if any(word in model.wv for word in tweet)])"
   ]
  },
  {
   "cell_type": "code",
   "execution_count": null,
   "metadata": {},
   "outputs": [
    {
     "name": "stderr",
     "output_type": "stream",
     "text": [
      "/Users/yuyi/Desktop/IRWA/IRWA/venv/lib/python3.9/site-packages/sklearn/manifold/_t_sne.py:1162: FutureWarning: 'n_iter' was renamed to 'max_iter' in version 1.5 and will be removed in 1.7.\n",
      "  warnings.warn(\n"
     ]
    }
   ],
   "source": [
    "tsne_model = TSNE(n_components=2, random_state=0, n_iter=1000, perplexity=40)\n",
    "tweet_vectors_2d = tsne_model.fit_transform(tweet_vectors)\n",
    "\n",
    "# Plotting the result of T-SNE\n",
    "plt.figure(figsize=(12, 8))\n",
    "plt.scatter(tweet_vectors_2d[:, 0], tweet_vectors_2d[:, 1], alpha=0.5)\n",
    "plt.title('All English Tweets visualization using T-SNE')\n",
    "plt.xlabel('Dimension 1')\n",
    "plt.ylabel('Dimension 2')\n",
    "plt.show()"
   ]
  },
  {
   "cell_type": "code",
   "execution_count": null,
   "metadata": {},
   "outputs": [],
   "source": [
    "df_subset_documents['tokenized_content'] = df_subset_documents['content'].apply(lambda x: tokenizer.tokenize(x.lower()))\n",
    "# Filter out tweets without any words in the model's vocabulary\n",
    "df_subset_documents = df_subset_documents[df_subset_documents['tokenized_content'].apply(lambda x: any(word in model.wv for word in x))]\n",
    "# Calculate tweet vectors\n",
    "df_subset_documents['tweet_vector'] = df_subset_documents['tokenized_content'].apply(\n",
    "    lambda x: np.mean([model.wv[word] for word in x if word in model.wv], axis=0, keepdims=True)\n",
    ")\n",
    "df_subset_documents = df_subset_documents.dropna(subset=['tweet_vector'])\n",
    "tweet_vectors = np.vstack(df_subset_documents['tweet_vector'].values)\n",
    "\n",
    "# Apply t-SNE\n",
    "tsne_model = TSNE(n_components=2, random_state=0, n_iter=1000, perplexity=40)\n",
    "tweet_vectors_2d = tsne_model.fit_transform(tweet_vectors)\n",
    "\n",
    "df_plot = pd.DataFrame(tweet_vectors_2d, columns=['x', 'y'])\n",
    "df_plot['docId'] = df_subset_documents['docId'].values\n",
    "df_plot['query_id'] = df_subset_documents.get('query_id', 'Unknown').values"
   ]
  },
  {
   "cell_type": "code",
   "execution_count": null,
   "metadata": {},
   "outputs": [],
   "source": [
    "scatter_plot = alt.Chart(df_plot).mark_circle(size=60).encode(\n",
    "    x='x',\n",
    "    y='y',\n",
    "    color='query_id:N', \n",
    "    tooltip=['docId', 'query_id']\n",
    ").properties(\n",
    "    width=700,\n",
    "    height=400,\n",
    "    title='T-SNE of Tweets in Query 1 & 2'\n",
    ")\n",
    "\n",
    "scatter_plot.display()"
   ]
  },
  {
   "cell_type": "code",
   "execution_count": null,
   "metadata": {},
   "outputs": [],
   "source": [
    "df_personalized_eva['tokenized_content'] = df_personalized_eva['content'].apply(lambda x: tokenizer.tokenize(x.lower()))\n",
    "# Filter out tweets where no words match the model vocabulary\n",
    "df_personalized_eva = df_personalized_eva[df_personalized_eva['tokenized_content'].apply(lambda x: any(word in model.wv for word in x))]\n",
    "# Compute tweet vectors as the mean of the word vectors\n",
    "df_personalized_eva['tweet_vector'] = df_personalized_eva['tokenized_content'].apply(lambda x: np.mean([model.wv[word] for word in x if word in model.wv], axis=0))\n",
    "tweet_vectors = np.vstack(df_personalized_eva['tweet_vector'].values)\n",
    "\n",
    "# Apply t-SNE\n",
    "tsne_model = TSNE(n_components=2, random_state=0, n_iter=1000, perplexity=40)\n",
    "tweet_vectors_2d = tsne_model.fit_transform(tweet_vectors)\n",
    "\n",
    "df_personalized_plot = pd.DataFrame(tweet_vectors_2d, columns=['x', 'y'])\n",
    "df_personalized_plot['docId'] = df_personalized_eva['docId'].values\n",
    "df_personalized_plot['query_id'] = df_personalized_eva['query_id'].values"
   ]
  },
  {
   "cell_type": "code",
   "execution_count": null,
   "metadata": {},
   "outputs": [],
   "source": [
    "scatter_plot = alt.Chart(df_personalized_plot).mark_circle(size=60).encode(\n",
    "    x='x',\n",
    "    y='y',\n",
    "    color='query_id:N',\n",
    "    tooltip=['docId', 'query_id']\n",
    ").properties(\n",
    "    width=700,\n",
    "    height=400,\n",
    "    title='T-SNE of Tweets in Personalized Ground Truth'\n",
    ")\n",
    "\n",
    "scatter_plot.display()"
   ]
  }
 ],
 "metadata": {
  "kernelspec": {
   "display_name": "venv",
   "language": "python",
   "name": "python3"
  },
  "language_info": {
   "codemirror_mode": {
    "name": "ipython",
    "version": 3
   },
   "file_extension": ".py",
   "mimetype": "text/x-python",
   "name": "python",
   "nbconvert_exporter": "python",
   "pygments_lexer": "ipython3",
   "version": "3.9.6"
  }
 },
 "nbformat": 4,
 "nbformat_minor": 2
}
