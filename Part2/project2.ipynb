{
 "cells": [
  {
   "cell_type": "markdown",
   "metadata": {},
   "source": [
    "# IRWA Project Part 2"
   ]
  },
  {
   "cell_type": "markdown",
   "metadata": {},
   "source": [
    "|Name | Email | UPF uNum |\n",
    "| --- | --- | --- |\n",
    "| Clara Pena | clara.pena01@estudiant.upf.edu | u186416 |\n",
    "| Yuyan Wang | yuyan.wang01@estudiant.upf.edu | u199907 |"
   ]
  },
  {
   "cell_type": "markdown",
   "metadata": {},
   "source": [
    "## Import Libraries and Load Data"
   ]
  },
  {
   "cell_type": "code",
   "execution_count": 177,
   "metadata": {},
   "outputs": [],
   "source": [
    "import pandas as pd\n",
    "import numpy as np\n",
    "from collections import defaultdict\n",
    "from array import array\n",
    "from nltk import PorterStemmer, word_tokenize, SnowballStemmer\n",
    "from nltk.corpus import stopwords\n",
    "from collections import Counter\n",
    "import math\n",
    "import numpy.linalg as la\n",
    "import string\n",
    "import textwrap\n",
    "import re"
   ]
  },
  {
   "cell_type": "code",
   "execution_count": 178,
   "metadata": {},
   "outputs": [
    {
     "name": "stdout",
     "output_type": "stream",
     "text": [
      "<class 'pandas.core.frame.DataFrame'>\n",
      "RangeIndex: 117405 entries, 0 to 117404\n",
      "Data columns (total 9 columns):\n",
      " #   Column    Non-Null Count   Dtype \n",
      "---  ------    --------------   ----- \n",
      " 0   id        117405 non-null  int64 \n",
      " 1   content   117404 non-null  object\n",
      " 2   date      117405 non-null  object\n",
      " 3   hashtags  116794 non-null  object\n",
      " 4   likes     117405 non-null  int64 \n",
      " 5   retweets  117405 non-null  int64 \n",
      " 6   url       117405 non-null  object\n",
      " 7   language  117405 non-null  object\n",
      " 8   docId     48427 non-null   object\n",
      "dtypes: int64(3), object(6)\n",
      "memory usage: 8.1+ MB\n"
     ]
    }
   ],
   "source": [
    "df = pd.read_csv(\"./data/processed_data.csv\")\n",
    "\n",
    "df.info()"
   ]
  },
  {
   "cell_type": "markdown",
   "metadata": {},
   "source": [
    "We'll be working with those tweets that have a document ID associated with them; that is, the value in the docID column should not be NaN. This is basically taking those tweets in English. Besides that, for simplicity, we're not using the column language anymore, so it can be dropped."
   ]
  },
  {
   "cell_type": "code",
   "execution_count": 179,
   "metadata": {},
   "outputs": [],
   "source": [
    "tweets_df = df.dropna(subset=['docId']).drop(columns=['language'])"
   ]
  },
  {
   "cell_type": "code",
   "execution_count": 180,
   "metadata": {},
   "outputs": [
    {
     "data": {
      "text/html": [
       "<div>\n",
       "<style scoped>\n",
       "    .dataframe tbody tr th:only-of-type {\n",
       "        vertical-align: middle;\n",
       "    }\n",
       "\n",
       "    .dataframe tbody tr th {\n",
       "        vertical-align: top;\n",
       "    }\n",
       "\n",
       "    .dataframe thead th {\n",
       "        text-align: right;\n",
       "    }\n",
       "</style>\n",
       "<table border=\"1\" class=\"dataframe\">\n",
       "  <thead>\n",
       "    <tr style=\"text-align: right;\">\n",
       "      <th></th>\n",
       "      <th>id</th>\n",
       "      <th>content</th>\n",
       "      <th>date</th>\n",
       "      <th>hashtags</th>\n",
       "      <th>likes</th>\n",
       "      <th>retweets</th>\n",
       "      <th>url</th>\n",
       "      <th>docId</th>\n",
       "    </tr>\n",
       "  </thead>\n",
       "  <tbody>\n",
       "    <tr>\n",
       "      <th>1</th>\n",
       "      <td>1364506167226032128</td>\n",
       "      <td>watch full video farmersprotest nofarmersnofood tcofustokocxk</td>\n",
       "      <td>2021-02-24T09:23:16+00:00</td>\n",
       "      <td>#farmersprotest #NoFarmersNoFood</td>\n",
       "      <td>0</td>\n",
       "      <td>0</td>\n",
       "      <td>https://twitter.com/anmoldhaliwal/status/1364506167226032128</td>\n",
       "      <td>doc_2</td>\n",
       "    </tr>\n",
       "    <tr>\n",
       "      <th>6</th>\n",
       "      <td>1364505991887347714</td>\n",
       "      <td>watch full video farmersprotest nofarmersnofood</td>\n",
       "      <td>2021-02-24T09:22:34+00:00</td>\n",
       "      <td>#farmersprotest #NoFarmersNoFood</td>\n",
       "      <td>0</td>\n",
       "      <td>0</td>\n",
       "      <td>https://twitter.com/anmoldhaliwal/status/1364505991887347714</td>\n",
       "      <td>doc_3</td>\n",
       "    </tr>\n",
       "    <tr>\n",
       "      <th>9</th>\n",
       "      <td>1364505813834989568</td>\n",
       "      <td>watch full video farmersprotest nofarmersnofood</td>\n",
       "      <td>2021-02-24T09:21:51+00:00</td>\n",
       "      <td>#farmersprotest #NoFarmersNoFood</td>\n",
       "      <td>0</td>\n",
       "      <td>0</td>\n",
       "      <td>https://twitter.com/anmoldhaliwal/status/1364505813834989568</td>\n",
       "      <td>doc_4</td>\n",
       "    </tr>\n",
       "    <tr>\n",
       "      <th>10</th>\n",
       "      <td>1364505749359976448</td>\n",
       "      <td>anoth farmer malkeet singh mahilpur hoshiarpur pass away delhi protest site farmersprotest</td>\n",
       "      <td>2021-02-24T09:21:36+00:00</td>\n",
       "      <td>#FarmersProtest</td>\n",
       "      <td>3</td>\n",
       "      <td>3</td>\n",
       "      <td>https://twitter.com/ShariaActivist/status/1364505749359976448</td>\n",
       "      <td>doc_5</td>\n",
       "    </tr>\n",
       "    <tr>\n",
       "      <th>14</th>\n",
       "      <td>1364505676375076867</td>\n",
       "      <td>hi tell boss modidontsellfarm thank farmersprotest</td>\n",
       "      <td>2021-02-24T09:21:19+00:00</td>\n",
       "      <td>#ModiDontSellFarmers #FarmersProtest</td>\n",
       "      <td>0</td>\n",
       "      <td>0</td>\n",
       "      <td>https://twitter.com/KaurDosanjh1979/status/1364505676375076867</td>\n",
       "      <td>doc_6</td>\n",
       "    </tr>\n",
       "    <tr>\n",
       "      <th>16</th>\n",
       "      <td>1364505511073300481</td>\n",
       "      <td>watch full video farmersprotest nofarmersnofood</td>\n",
       "      <td>2021-02-24T09:20:39+00:00</td>\n",
       "      <td>#farmersprotest #NoFarmersNoFood</td>\n",
       "      <td>0</td>\n",
       "      <td>0</td>\n",
       "      <td>https://twitter.com/anmoldhaliwal/status/1364505511073300481</td>\n",
       "      <td>doc_7</td>\n",
       "    </tr>\n",
       "    <tr>\n",
       "      <th>18</th>\n",
       "      <td>1364505452134817795</td>\n",
       "      <td>despit increas tax petroldiesel must increas tax alcohol cigarett tobacco aatamnirbhartbharat kissabl petrolpricehik petrolpric modihaitomehngaihai bjp farmersprotest</td>\n",
       "      <td>2021-02-24T09:20:25+00:00</td>\n",
       "      <td>#taxes #petrolDiesel #taxes #alcohol #cigarettes #tobacco #aatamnirbhartbharat #Kissables #PetrolPriceHike #PetrolPrice #ModiHaiToMehngaiHai #modi_rojgaar_दो #BJP #FarmersProtest #Budget2021</td>\n",
       "      <td>1</td>\n",
       "      <td>1</td>\n",
       "      <td>https://twitter.com/Satende09192805/status/1364505452134817795</td>\n",
       "      <td>doc_8</td>\n",
       "    </tr>\n",
       "    <tr>\n",
       "      <th>20</th>\n",
       "      <td>1364505443997937669</td>\n",
       "      <td>mockeri menac sedit charg farmersprotest</td>\n",
       "      <td>2021-02-24T09:20:23+00:00</td>\n",
       "      <td>#sedition #FarmersProtest</td>\n",
       "      <td>0</td>\n",
       "      <td>0</td>\n",
       "      <td>https://twitter.com/algo_121/status/1364505443997937669</td>\n",
       "      <td>doc_9</td>\n",
       "    </tr>\n",
       "    <tr>\n",
       "      <th>25</th>\n",
       "      <td>1364505314586951680</td>\n",
       "      <td>watch full video farmersprotest nofarmersnofood</td>\n",
       "      <td>2021-02-24T09:19:52+00:00</td>\n",
       "      <td>#farmersprotest #NoFarmersNoFood</td>\n",
       "      <td>0</td>\n",
       "      <td>0</td>\n",
       "      <td>https://twitter.com/anmoldhaliwal/status/1364505314586951680</td>\n",
       "      <td>doc_10</td>\n",
       "    </tr>\n",
       "    <tr>\n",
       "      <th>26</th>\n",
       "      <td>1364505255946379268</td>\n",
       "      <td>left hear modi lol farmersprotest</td>\n",
       "      <td>2021-02-24T09:19:38+00:00</td>\n",
       "      <td>#FarmersProtest</td>\n",
       "      <td>1</td>\n",
       "      <td>0</td>\n",
       "      <td>https://twitter.com/kdhanjal12/status/1364505255946379268</td>\n",
       "      <td>doc_11</td>\n",
       "    </tr>\n",
       "  </tbody>\n",
       "</table>\n",
       "</div>"
      ],
      "text/plain": [
       "                     id  \\\n",
       "1   1364506167226032128   \n",
       "6   1364505991887347714   \n",
       "9   1364505813834989568   \n",
       "10  1364505749359976448   \n",
       "14  1364505676375076867   \n",
       "16  1364505511073300481   \n",
       "18  1364505452134817795   \n",
       "20  1364505443997937669   \n",
       "25  1364505314586951680   \n",
       "26  1364505255946379268   \n",
       "\n",
       "                                                                                                                                                                   content  \\\n",
       "1                                                                                                            watch full video farmersprotest nofarmersnofood tcofustokocxk   \n",
       "6                                                                                                                          watch full video farmersprotest nofarmersnofood   \n",
       "9                                                                                                                          watch full video farmersprotest nofarmersnofood   \n",
       "10                                                                              anoth farmer malkeet singh mahilpur hoshiarpur pass away delhi protest site farmersprotest   \n",
       "14                                                                                                                      hi tell boss modidontsellfarm thank farmersprotest   \n",
       "16                                                                                                                         watch full video farmersprotest nofarmersnofood   \n",
       "18  despit increas tax petroldiesel must increas tax alcohol cigarett tobacco aatamnirbhartbharat kissabl petrolpricehik petrolpric modihaitomehngaihai bjp farmersprotest   \n",
       "20                                                                                                                                mockeri menac sedit charg farmersprotest   \n",
       "25                                                                                                                         watch full video farmersprotest nofarmersnofood   \n",
       "26                                                                                                                                       left hear modi lol farmersprotest   \n",
       "\n",
       "                         date  \\\n",
       "1   2021-02-24T09:23:16+00:00   \n",
       "6   2021-02-24T09:22:34+00:00   \n",
       "9   2021-02-24T09:21:51+00:00   \n",
       "10  2021-02-24T09:21:36+00:00   \n",
       "14  2021-02-24T09:21:19+00:00   \n",
       "16  2021-02-24T09:20:39+00:00   \n",
       "18  2021-02-24T09:20:25+00:00   \n",
       "20  2021-02-24T09:20:23+00:00   \n",
       "25  2021-02-24T09:19:52+00:00   \n",
       "26  2021-02-24T09:19:38+00:00   \n",
       "\n",
       "                                                                                                                                                                                          hashtags  \\\n",
       "1                                                                                                                                                                 #farmersprotest #NoFarmersNoFood   \n",
       "6                                                                                                                                                                 #farmersprotest #NoFarmersNoFood   \n",
       "9                                                                                                                                                                 #farmersprotest #NoFarmersNoFood   \n",
       "10                                                                                                                                                                                 #FarmersProtest   \n",
       "14                                                                                                                                                            #ModiDontSellFarmers #FarmersProtest   \n",
       "16                                                                                                                                                                #farmersprotest #NoFarmersNoFood   \n",
       "18  #taxes #petrolDiesel #taxes #alcohol #cigarettes #tobacco #aatamnirbhartbharat #Kissables #PetrolPriceHike #PetrolPrice #ModiHaiToMehngaiHai #modi_rojgaar_दो #BJP #FarmersProtest #Budget2021   \n",
       "20                                                                                                                                                                       #sedition #FarmersProtest   \n",
       "25                                                                                                                                                                #farmersprotest #NoFarmersNoFood   \n",
       "26                                                                                                                                                                                 #FarmersProtest   \n",
       "\n",
       "    likes  retweets  \\\n",
       "1       0         0   \n",
       "6       0         0   \n",
       "9       0         0   \n",
       "10      3         3   \n",
       "14      0         0   \n",
       "16      0         0   \n",
       "18      1         1   \n",
       "20      0         0   \n",
       "25      0         0   \n",
       "26      1         0   \n",
       "\n",
       "                                                               url   docId  \n",
       "1     https://twitter.com/anmoldhaliwal/status/1364506167226032128   doc_2  \n",
       "6     https://twitter.com/anmoldhaliwal/status/1364505991887347714   doc_3  \n",
       "9     https://twitter.com/anmoldhaliwal/status/1364505813834989568   doc_4  \n",
       "10   https://twitter.com/ShariaActivist/status/1364505749359976448   doc_5  \n",
       "14  https://twitter.com/KaurDosanjh1979/status/1364505676375076867   doc_6  \n",
       "16    https://twitter.com/anmoldhaliwal/status/1364505511073300481   doc_7  \n",
       "18  https://twitter.com/Satende09192805/status/1364505452134817795   doc_8  \n",
       "20         https://twitter.com/algo_121/status/1364505443997937669   doc_9  \n",
       "25    https://twitter.com/anmoldhaliwal/status/1364505314586951680  doc_10  \n",
       "26       https://twitter.com/kdhanjal12/status/1364505255946379268  doc_11  "
      ]
     },
     "execution_count": 180,
     "metadata": {},
     "output_type": "execute_result"
    }
   ],
   "source": [
    "tweets_df.head(10)"
   ]
  },
  {
   "cell_type": "code",
   "execution_count": 181,
   "metadata": {},
   "outputs": [
    {
     "name": "stdout",
     "output_type": "stream",
     "text": [
      "<class 'pandas.core.frame.DataFrame'>\n",
      "Index: 48427 entries, 1 to 117404\n",
      "Data columns (total 8 columns):\n",
      " #   Column    Non-Null Count  Dtype \n",
      "---  ------    --------------  ----- \n",
      " 0   id        48427 non-null  int64 \n",
      " 1   content   48427 non-null  object\n",
      " 2   date      48427 non-null  object\n",
      " 3   hashtags  48153 non-null  object\n",
      " 4   likes     48427 non-null  int64 \n",
      " 5   retweets  48427 non-null  int64 \n",
      " 6   url       48427 non-null  object\n",
      " 7   docId     48427 non-null  object\n",
      "dtypes: int64(3), object(5)\n",
      "memory usage: 3.3+ MB\n"
     ]
    }
   ],
   "source": [
    "tweets_df.info()"
   ]
  },
  {
   "cell_type": "markdown",
   "metadata": {},
   "source": [
    "## Indexing"
   ]
  },
  {
   "cell_type": "markdown",
   "metadata": {},
   "source": [
    "### Build inverted index"
   ]
  },
  {
   "cell_type": "code",
   "execution_count": 182,
   "metadata": {},
   "outputs": [],
   "source": [
    "def create_index(df):\n",
    "    index = defaultdict(list)\n",
    "    \n",
    "    for idx, row in df.iterrows():\n",
    "        doc_id = row['docId']\n",
    "        terms = row['content'].split()\n",
    "        \n",
    "        current_page_index = {}\n",
    "        for position, term in enumerate(terms):\n",
    "            if term in current_page_index:\n",
    "                current_page_index[term][1].append(position)\n",
    "            else:\n",
    "                current_page_index[term] = [doc_id, array('I', [position])]  # 'I' for array of unsigned ints.\n",
    "\n",
    "        # Merge the current page index with the main index\n",
    "        for term_page, posting_page in current_page_index.items():\n",
    "            index[term_page].append(posting_page)\n",
    "\n",
    "    return index"
   ]
  },
  {
   "cell_type": "code",
   "execution_count": 183,
   "metadata": {},
   "outputs": [],
   "source": [
    "index = create_index(tweets_df)"
   ]
  },
  {
   "cell_type": "code",
   "execution_count": 184,
   "metadata": {},
   "outputs": [
    {
     "name": "stdout",
     "output_type": "stream",
     "text": [
      "30477\n"
     ]
    }
   ],
   "source": [
    "print(len(index))"
   ]
  },
  {
   "cell_type": "code",
   "execution_count": 185,
   "metadata": {},
   "outputs": [],
   "source": [
    "def build_terms(line):\n",
    "    # stemmer = PorterStemmer()\n",
    "    stemmer = SnowballStemmer(\"english\")\n",
    "    stop_words = set(stopwords.words(\"english\"))\n",
    "    line = line.lower()\n",
    "\n",
    "    # Handle contractions by removing possessive endings and common contractions\n",
    "    line = re.sub(r\"\\b(\\w+)'s\\b\", r'\\1', line)  # Changes \"people's\" to \"people\"\n",
    "    line = re.sub(r\"\\b(\\w+)n't\\b\", r'\\1 not', line)  # Changes \"isn't\" to \"is not\"\n",
    "    line = re.sub(r\"\\b(\\w+)'ll\\b\", r'\\1 will', line)  # Changes \"I'll\" to \"I will\"\n",
    "    line = re.sub(r\"\\b(\\w+)'d\\b\", r'\\1 would', line)  # Changes \"I'd\" to \"I would\"\n",
    "    line = re.sub(r\"\\b(\\w+)'re\\b\", r'\\1 are', line)  # Changes \"you're\" to \"you are\"\n",
    "    line = re.sub(r\"\\b(\\w+)'ve\\b\", r'\\1 have', line)  # Changes \"I've\" to \"I have\"\n",
    "\n",
    "    line = line.split()\n",
    "\n",
    "    table = str.maketrans('', '', string.punctuation)\n",
    "    line = [w.translate(table) for w in line]\n",
    "    line = [w for w in line if w not in stop_words]\n",
    "    line = [stemmer.stem(w) for w in line] \n",
    "    return line"
   ]
  },
  {
   "cell_type": "code",
   "execution_count": 186,
   "metadata": {},
   "outputs": [],
   "source": [
    "def search(query, index):\n",
    "    query = build_terms(query)  # Normalize and tokenize the query.\n",
    "    docs = None  # Initialize docs as None to handle the intersection.\n",
    "\n",
    "    for term in query:\n",
    "        try:\n",
    "            # Extract the document IDs for the term.\n",
    "            term_docs = set([posting[0] for posting in index[term]])\n",
    "\n",
    "            if docs is None:\n",
    "                # Initialize docs with the set of document IDs for the first term.\n",
    "                docs = term_docs\n",
    "            else:\n",
    "                # Intersect the sets of document IDs.\n",
    "                docs = docs.intersection(term_docs)\n",
    "        except KeyError:\n",
    "            # If the term is not in the index, return an empty list because no documents can satisfy the query.\n",
    "            return []\n",
    "\n",
    "    if docs is None:\n",
    "        return []  # If no terms were processed, return an empty list.\n",
    "    else:\n",
    "        return list(docs)  # Convert the set to a list before returning."
   ]
  },
  {
   "cell_type": "markdown",
   "metadata": {},
   "source": [
    "### Propose test queries"
   ]
  },
  {
   "cell_type": "code",
   "execution_count": 187,
   "metadata": {},
   "outputs": [
    {
     "name": "stdout",
     "output_type": "stream",
     "text": [
      "[('farmersprotest', 50272), ('farmer', 17421), ('india', 7724), ('support', 6004), ('protest', 4787), ('amp', 4728), ('right', 3594), ('peopl', 3526), ('modi', 3113), ('indian', 3008), ('govern', 2753), ('bjp', 2649), ('law', 2570), ('releasedetainedfarm', 2432), ('govt', 2338), ('stand', 2207), ('farmersmakeindia', 2133), ('indiabeingsilenc', 2133), ('thank', 2129), ('farm', 2066)]\n"
     ]
    }
   ],
   "source": [
    "# Calculate the top n terms in the DataFrame for the specified column.\n",
    "def get_top_terms(df, column='content', top_n=10):\n",
    "    text = ' '.join(df[column].dropna())  # Combine all text and convert to lower case.\n",
    "    words = text.split()\n",
    "    # Get a count of all words\n",
    "    word_count = Counter(words)\n",
    "    # Return the most common words\n",
    "    return word_count.most_common(top_n)\n",
    "\n",
    "top_terms = get_top_terms(tweets_df, column='content', top_n=20)\n",
    "print(top_terms)"
   ]
  },
  {
   "cell_type": "markdown",
   "metadata": {},
   "source": [
    "* “farmers protest India”: This query integrates the most frequent term ‘farmersprotest’ with ‘India’, capturing a broad perspective of the geographical context. It is designed to test the engine’s capability to fetch documents that discuss the nationwide impact and scale of the protests. The inclusion of ‘India’ helps to ensure that the search results are not just about protests in general but specifically about the farmers’ protests within the Indian context.\n",
    "\t\n",
    "* “support farmer rights”: By combining ‘support’ with ‘farmer’ and ‘rights’, this query delves into the solidarity and advocacy aspects surrounding the protests. It focuses on the socio-political dimensions of the farmers’ rights being debated or upheld. This query is intended to evaluate how well the search engine can identify and retrieve content that discusses support mechanisms, both local and global, for the farmers amidst the protests.\n",
    "\t\n",
    "* “Modi government response”: Including ‘Modi’ and ‘government’ targets discussions related to the administrative and political response to the protests. Given that government actions and policies are central to the unfolding of the protests, this query checks the engine’s effectiveness in pulling up content that critically examines or reports on the government’s strategies and reactions, providing a lens into the political narrative.\n",
    "\t\n",
    "* “BJP agricultural laws”: Merging ‘BJP’ with ‘laws’ specifically focuses on the political party in power and the controversial agricultural laws that sparked the protests. This query is crafted to test the search engine’s precision in sifting through discussions related to legislative actions and political affiliations that are pivotal to understanding the core issues of the protests. It aims to highlight documents that discuss the legal frameworks and political viewpoints that define the conflict.\n",
    "\t\n",
    "* “Indian farmers rally”: This query combines ‘Indian’ with ‘farmers’ and adds a dynamic aspect with ‘rally’, pointing to organized protest events. It is designed to retrieve documents that detail specific events, their significance, and the participation dynamics during the protests. This tests the search engine’s ability to focus on event-based reporting and narratives that capture the mobilization and active participation of the farming community."
   ]
  },
  {
   "cell_type": "markdown",
   "metadata": {},
   "source": [
    "* \"India protest\": This query is designed to capture documents discussing various forms of protests occurring within India. Given the frequency of both 'India' and ‘protest’ in the dataset, this query is likely to be highly relevant and representative of a significant portion of the content. It reflects real-world interest in social and political movements within the country, making it essential for testing the search engine's ability to retrieve pertinent information about key events that are likely covered extensively in the dataset.\n",
    "* \"Support farmers\": Agriculture and farmers’ issues are pivotal in many regions, and the term ‘farmersprotest’ indicates that these topics are notably prevalent in the dataset. By combining ‘support’ with ‘farmer’, this query targets documents that discuss support mechanisms, advocacy, or solidarity actions for farmers. It’s a straightforward query that tests the search engine’s ability to pick up on common thematic discussions related to agriculture, which are central to the dataset and likely resonate with societal and economic discussions within the source material.\n",
    "* \"Modi government law\": This query is intricately linked to discussions about governance and legislation under Prime Minister Modi’s administration, reflecting the dataset’s likely focus on Indian political dynamics. The inclusion of ‘Modi’, ‘government’, and ‘law’ makes this a complex query intended to retrieve documents discussing legal reforms, policy changes, or governmental actions. It evaluates the search engine’s capacity to handle queries that involve specific individuals and institutional actions, which are critical for understanding political narratives and legal frameworks in the dataset.\n",
    "* \"BJP India governance\": Merging ‘BJP’ (Bharatiya Janata Party) with ‘India’ and ‘governance’ aims to retrieve documents that discuss how this major political party influences governance in India. This query is particularly challenging as it spans political, geographical, and administrative dimensions, testing the search engine’s effectiveness in extracting documents that deal with complex interplays of party politics and national administrative strategies. It is a vital query for understanding the political landscape depicted in the dataset and assessing how well the search engine can handle layered political queries.\n",
    "* \"Farmer rights protest\": This query combines a demographic focus (‘farmer’) with topics of ‘rights’ and ‘protest’, targeting documents that discuss civil rights issues, demonstrations, or advocacy related to farmers. This query is significant because it delves into the socio-political aspects of agrarian protests, which are central themes given the dataset’s keywords. It tests the search engine’s ability to discern documents that are not just about general protests or farmer issues, but specifically about the intersection of these areas with legal and human rights, making it an excellent probe for thematic depth and contextual understanding."
   ]
  },
  {
   "cell_type": "code",
   "execution_count": 188,
   "metadata": {},
   "outputs": [
    {
     "name": "stdout",
     "output_type": "stream",
     "text": [
      "\n",
      "======================\n",
      "Sample of 10 results out of 951 for the searched query 'India protest':\n",
      "\n",
      "docId = doc_15320\n",
      "docId = doc_30044\n",
      "docId = doc_33443\n",
      "docId = doc_26409\n",
      "docId = doc_35054\n",
      "docId = doc_46080\n",
      "docId = doc_27747\n",
      "docId = doc_29037\n",
      "docId = doc_28251\n",
      "docId = doc_26993\n",
      "\n",
      "======================\n",
      "Sample of 10 results out of 3197 for the searched query 'support farmers':\n",
      "\n",
      "docId = doc_21014\n",
      "docId = doc_1108\n",
      "docId = doc_16767\n",
      "docId = doc_10713\n",
      "docId = doc_6156\n",
      "docId = doc_13285\n",
      "docId = doc_42005\n",
      "docId = doc_26993\n",
      "docId = doc_23211\n",
      "docId = doc_17451\n",
      "\n",
      "======================\n",
      "Sample of 10 results out of 13 for the searched query 'Modi government law':\n",
      "\n",
      "docId = doc_9261\n",
      "docId = doc_6518\n",
      "docId = doc_6115\n",
      "docId = doc_25748\n",
      "docId = doc_13001\n",
      "docId = doc_16422\n",
      "docId = doc_25070\n",
      "docId = doc_22137\n",
      "docId = doc_12244\n",
      "docId = doc_37830\n",
      "\n",
      "======================\n",
      "Sample of 10 results out of 31 for the searched query 'BJP India governance':\n",
      "\n",
      "docId = doc_24244\n",
      "docId = doc_3927\n",
      "docId = doc_39188\n",
      "docId = doc_40064\n",
      "docId = doc_9441\n",
      "docId = doc_30206\n",
      "docId = doc_46211\n",
      "docId = doc_23109\n",
      "docId = doc_6921\n",
      "docId = doc_19262\n",
      "\n",
      "======================\n",
      "Sample of 10 results out of 193 for the searched query 'farmer rights protest':\n",
      "\n",
      "docId = doc_42270\n",
      "docId = doc_191\n",
      "docId = doc_35410\n",
      "docId = doc_16121\n",
      "docId = doc_32808\n",
      "docId = doc_20290\n",
      "docId = doc_23080\n",
      "docId = doc_18803\n",
      "docId = doc_10428\n",
      "docId = doc_46080\n"
     ]
    }
   ],
   "source": [
    "def simulate_search(queries, index):\n",
    "    for query in queries:\n",
    "        docs = search(query, index)\n",
    "        top = 10  # Number of results to display\n",
    "        num_results = len(docs)\n",
    "        \n",
    "        print(\"\\n======================\\nSample of {} results out of {} for the searched query '{}':\\n\".format(min(top, num_results), num_results, query))\n",
    "        for d_id in docs[:top]:\n",
    "            print(\"docId = {}\".format(d_id))\n",
    "\n",
    "# List of queries to be processed\n",
    "queries = [\n",
    "    \"India protest\",\n",
    "    \"support farmers\",\n",
    "    \"Modi government law\",\n",
    "    \"BJP India governance\",\n",
    "    \"farmer rights protest\"\n",
    "]\n",
    "\n",
    "simulate_search(queries, index)"
   ]
  },
  {
   "cell_type": "markdown",
   "metadata": {},
   "source": [
    "### Rank your results"
   ]
  },
  {
   "cell_type": "code",
   "execution_count": 189,
   "metadata": {},
   "outputs": [],
   "source": [
    "def create_index_tfidf(dataframe):\n",
    "    # num_documents = len(df)\n",
    "    num_documents = dataframe['docId'].nunique()\n",
    "    index = defaultdict(list)\n",
    "    # tf = defaultdict(dict)  # Normalized term frequencies of terms in documents\n",
    "    tf = defaultdict(list)\n",
    "    df = defaultdict(int)  # Document frequencies of terms\n",
    "    idf = defaultdict(float)\n",
    "\n",
    "    for idx, row in dataframe.iterrows():\n",
    "        doc_id = row['docId']\n",
    "        terms = row['content'].split()\n",
    "        \n",
    "        current_page_index = {}\n",
    "\n",
    "        for position, term in enumerate(terms):\n",
    "            if term in current_page_index:\n",
    "                # Append the position to the corresponding list in the array\n",
    "                current_page_index[term][1].append(position)\n",
    "            else:\n",
    "                # Initialize the list with page_id and a new array\n",
    "                current_page_index[term] = [doc_id, array('I', [position])]\n",
    "\n",
    "        # Calculate the norm for the terms in the document\n",
    "        norm = math.sqrt(sum(len(positions[1])**2 for positions in current_page_index.values()))\n",
    "\n",
    "        # calculate the tf(dividing the term frequency by the above computed norm) and df weights\n",
    "        for term, posting in current_page_index.items():\n",
    "            # append the tf for current term (tf = term frequency in current doc/norm)\n",
    "            tf[term].append(np.round(len(posting[1])/norm,4)) ## SEE formula (1) above\n",
    "            #increment the document frequency of current term (number of documents containing the current term)\n",
    "            df[term] += 1 # increment DF for current term\n",
    "        \n",
    "        # Merge the current page index with the main index\n",
    "        for term_page, posting_page in current_page_index.items():\n",
    "            index[term_page].append(posting_page)\n",
    "\n",
    "    # Calculate IDF for each term\n",
    "    for term in df:\n",
    "        idf[term] = math.log(num_documents / (1 + df[term]))  # Smoothing by adding 1 to denominator\n",
    "\n",
    "    return index, tf, df, idf"
   ]
  },
  {
   "cell_type": "code",
   "execution_count": 190,
   "metadata": {},
   "outputs": [],
   "source": [
    "index, tf, df, idf = create_index_tfidf(tweets_df)"
   ]
  },
  {
   "cell_type": "code",
   "execution_count": 191,
   "metadata": {},
   "outputs": [],
   "source": [
    "def rank_documents(terms, docs, index, idf, tf):\n",
    "    doc_vectors = defaultdict(lambda: np.zeros(len(terms)))\n",
    "    query_vector = np.zeros(len(terms))\n",
    "    query_terms_count = Counter(terms)\n",
    "    query_norm = la.norm(list(query_terms_count.values()))\n",
    "\n",
    "    # Compute the tf-idf for the query vector\n",
    "    for term_index, term in enumerate(terms):\n",
    "        if term in idf:\n",
    "            query_vector[term_index] = query_terms_count[term] / query_norm * idf[term]\n",
    "            if term not in index:\n",
    "                continue\n",
    "    \n",
    "            for doc_index, (doc, postings) in enumerate(index[term]):\n",
    "                if doc in docs:\n",
    "                    doc_vectors[doc][term_index] = tf[term][doc_index] * idf[term]  # T\n",
    "            \n",
    "    # Calculate the score of each doc using cosine similarity (dot product of normalized vectors)\n",
    "    doc_scores = [[np.dot(cur_doc_vec, query_vector), doc] for doc, cur_doc_vec in doc_vectors.items()]\n",
    "    doc_scores.sort(reverse=True, key=lambda x: x[0])\n",
    "    # print(doc_scores)\n",
    "    result_docs = [x[1] for x in doc_scores]\n",
    "\n",
    "    if len(result_docs) == 0:\n",
    "        print(\"No results found, try again\")\n",
    "    else:\n",
    "        return result_docs"
   ]
  },
  {
   "cell_type": "code",
   "execution_count": 192,
   "metadata": {},
   "outputs": [],
   "source": [
    "def search_tf_idf(query, index, idf, tf):\n",
    "    query = build_terms(query)\n",
    "    # print(query)\n",
    "    docs = None  # Initialize to None to handle the first term's document set initialization\n",
    "\n",
    "    for term in query:\n",
    "        if term in index:\n",
    "            term_docs = set([posting[0] for posting in index[term]])  # Collect all document IDs containing this term\n",
    "            if docs is None:\n",
    "                docs = term_docs\n",
    "            else:\n",
    "                docs = docs.intersection(term_docs)  # Intersection with the accumulated set of documents\n",
    "        else:\n",
    "            return []  # If any term is not found, the intersection is empty\n",
    "\n",
    "    if docs is None:\n",
    "        return []  # No terms found, return empty list\n",
    "\n",
    "    docs = list(docs)  # Convert set to list if necessary\n",
    "    ranked_docs = rank_documents(query, docs, index, idf, tf)  # Rank the documents based on the relevance\n",
    "    return ranked_docs"
   ]
  },
  {
   "cell_type": "code",
   "execution_count": 193,
   "metadata": {},
   "outputs": [],
   "source": [
    "# TODO: Check if we're doing AND operator\n",
    "def simulate_search_tf_idf(queries, index, idf, tf):\n",
    "    for query in queries:\n",
    "        ranked_docs = search_tf_idf(query, index, idf, tf)\n",
    "        top = 10  # Number of results to display\n",
    "        num_results = len(ranked_docs)\n",
    "        \n",
    "        print(\"\\n======================\\nSample of {} results out of {} for the searched query '{}':\\n\".format(min(top, num_results), num_results, query))\n",
    "        for d_id in ranked_docs[:top]:\n",
    "            print(\"docId = {}\".format(d_id))\n",
    "\n",
    "# List of queries to be processed\n",
    "queries = [\n",
    "    \"India protest\",\n",
    "    \"support farmers\",\n",
    "    \"Modi government law\",\n",
    "    \"BJP India governance\",\n",
    "    \"farmer rights protest\"\n",
    "]"
   ]
  },
  {
   "cell_type": "code",
   "execution_count": 194,
   "metadata": {},
   "outputs": [
    {
     "name": "stdout",
     "output_type": "stream",
     "text": [
      "[[np.float64(3.7717131494691527), 'doc_17093'], [np.float64(3.7717131494691527), 'doc_17097'], [np.float64(3.5640101660326398), 'doc_38842'], [np.float64(3.5279304112915684), 'doc_40320'], [np.float64(3.4023399720165988), 'doc_32847'], [np.float64(3.320316100128466), 'doc_445'], [np.float64(3.3009502408505034), 'doc_27693'], [np.float64(3.0553534166823644), 'doc_46574'], [np.float64(3.0430528709716453), 'doc_13552'], [np.float64(3.0430528709716453), 'doc_29037'], [np.float64(3.0194465485374313), 'doc_48234'], [np.float64(2.9094950973528495), 'doc_20117'], [np.float64(2.8726188972838216), 'doc_27852'], [np.float64(2.8726188972838216), 'doc_44493'], [np.float64(2.828522038042776), 'doc_39710'], [np.float64(2.810838088698918), 'doc_18094'], [np.float64(2.7795361789429123), 'doc_7084'], [np.float64(2.777670353154351), 'doc_11537'], [np.float64(2.777670353154351), 'doc_14709'], [np.float64(2.777670353154351), 'doc_23275'], [np.float64(2.777670353154351), 'doc_25292'], [np.float64(2.777670353154351), 'doc_39810'], [np.float64(2.777670353154351), 'doc_44918'], [np.float64(2.750663600815388), 'doc_29679'], [np.float64(2.750663600815388), 'doc_35951'], [np.float64(2.7218719776132794), 'doc_28066'], [np.float64(2.7218719776132794), 'doc_44242'], [np.float64(2.721570573875792), 'doc_42449'], [np.float64(2.6459138453497038), 'doc_8933'], [np.float64(2.6427276328925915), 'doc_42576'], [np.float64(2.6427276328925915), 'doc_44537'], [np.float64(2.619121310458378), 'doc_16573'], [np.float64(2.619121310458378), 'doc_19391'], [np.float64(2.5721690188445487), 'doc_12190'], [np.float64(2.5721690188445487), 'doc_13743'], [np.float64(2.5721690188445487), 'doc_14975'], [np.float64(2.5721690188445487), 'doc_20758'], [np.float64(2.5721690188445487), 'doc_20892'], [np.float64(2.5721690188445487), 'doc_26031'], [np.float64(2.5721690188445487), 'doc_27683'], [np.float64(2.5721690188445487), 'doc_36293'], [np.float64(2.5721690188445487), 'doc_39807'], [np.float64(2.5721690188445487), 'doc_40663'], [np.float64(2.5721690188445487), 'doc_45054'], [np.float64(2.5721690188445487), 'doc_45757'], [np.float64(2.5721690188445487), 'doc_47577'], [np.float64(2.565896737050097), 'doc_36685'], [np.float64(2.546497281772968), 'doc_18669'], [np.float64(2.546497281772968), 'doc_18678'], [np.float64(2.546497281772968), 'doc_37302'], [np.float64(2.546497281772968), 'doc_42871'], [np.float64(2.5272581312139293), 'doc_8497'], [np.float64(2.4973131585884265), 'doc_16501'], [np.float64(2.4973131585884265), 'doc_30529'], [np.float64(2.4973131585884265), 'doc_30530'], [np.float64(2.4973131585884265), 'doc_32267'], [np.float64(2.4843886475665204), 'doc_8490'], [np.float64(2.4600669959491963), 'doc_5481'], [np.float64(2.4600669959491963), 'doc_5483'], [np.float64(2.4600669959491963), 'doc_5485'], [np.float64(2.4600669959491963), 'doc_5490'], [np.float64(2.4600669959491963), 'doc_15278'], [np.float64(2.4600669959491963), 'doc_36577'], [np.float64(2.4600669959491963), 'doc_44068'], [np.float64(2.4442410358967246), 'doc_22617'], [np.float64(2.4442410358967246), 'doc_44979'], [np.float64(2.434172721274508), 'doc_11845'], [np.float64(2.406134828210139), 'doc_11761'], [np.float64(2.406134828210139), 'doc_13818'], [np.float64(2.406134828210139), 'doc_14713'], [np.float64(2.406134828210139), 'doc_18638'], [np.float64(2.406134828210139), 'doc_19079'], [np.float64(2.406134828210139), 'doc_27020'], [np.float64(2.406134828210139), 'doc_27735'], [np.float64(2.406134828210139), 'doc_30285'], [np.float64(2.406134828210139), 'doc_30414'], [np.float64(2.406134828210139), 'doc_36551'], [np.float64(2.406134828210139), 'doc_40312'], [np.float64(2.406134828210139), 'doc_42778'], [np.float64(2.406134828210139), 'doc_44550'], [np.float64(2.406134828210139), 'doc_45612'], [np.float64(2.406134828210139), 'doc_45786'], [np.float64(2.406134828210139), 'doc_47870'], [np.float64(2.4023887688282075), 'doc_16290'], [np.float64(2.3819393841491063), 'doc_252'], [np.float64(2.3819393841491063), 'doc_27862'], [np.float64(2.3819393841491063), 'doc_33637'], [np.float64(2.375386796878791), 'doc_30735'], [np.float64(2.375386796878791), 'doc_43718'], [np.float64(2.375386796878791), 'doc_45417'], [np.float64(2.3693895565123593), 'doc_29698'], [np.float64(2.366422562686453), 'doc_3363'], [np.float64(2.3340052208033866), 'doc_8547'], [np.float64(2.3209553854012754), 'doc_15968'], [np.float64(2.3209553854012754), 'doc_16000'], [np.float64(2.310753510383889), 'doc_17604'], [np.float64(2.310753510383889), 'doc_18733'], [np.float64(2.310753510383889), 'doc_20071'], [np.float64(2.310753510383889), 'doc_38347'], [np.float64(2.310753510383889), 'doc_42423'], [np.float64(2.300662289077624), 'doc_23152'], [np.float64(2.2697898586124103), 'doc_11107'], [np.float64(2.2697898586124103), 'doc_22718'], [np.float64(2.2697898586124103), 'doc_30407'], [np.float64(2.2697898586124103), 'doc_40198'], [np.float64(2.2697898586124103), 'doc_43210'], [np.float64(2.2697898586124103), 'doc_46008'], [np.float64(2.2679998253462643), 'doc_620'], [np.float64(2.2679998253462643), 'doc_3405'], [np.float64(2.2679998253462643), 'doc_9956'], [np.float64(2.2679998253462643), 'doc_13004'], [np.float64(2.2679998253462643), 'doc_14077'], [np.float64(2.2679998253462643), 'doc_14663'], [np.float64(2.2679998253462643), 'doc_16724'], [np.float64(2.2679998253462643), 'doc_17413'], [np.float64(2.2679998253462643), 'doc_17443'], [np.float64(2.2679998253462643), 'doc_18730'], [np.float64(2.2679998253462643), 'doc_18755'], [np.float64(2.2679998253462643), 'doc_19376'], [np.float64(2.2679998253462643), 'doc_19936'], [np.float64(2.2679998253462643), 'doc_23764'], [np.float64(2.2679998253462643), 'doc_24053'], [np.float64(2.2679998253462643), 'doc_27949'], [np.float64(2.2679998253462643), 'doc_28068'], [np.float64(2.2679998253462643), 'doc_31065'], [np.float64(2.2679998253462643), 'doc_32213'], [np.float64(2.2679998253462643), 'doc_33900'], [np.float64(2.2679998253462643), 'doc_36141'], [np.float64(2.2679998253462643), 'doc_37562'], [np.float64(2.2679998253462643), 'doc_38171'], [np.float64(2.2679998253462643), 'doc_39571'], [np.float64(2.2679998253462643), 'doc_39817'], [np.float64(2.2679998253462643), 'doc_41027'], [np.float64(2.2679998253462643), 'doc_41181'], [np.float64(2.2679998253462643), 'doc_41727'], [np.float64(2.2679998253462643), 'doc_43926'], [np.float64(2.2679998253462643), 'doc_44029'], [np.float64(2.2679998253462643), 'doc_44355'], [np.float64(2.2679998253462643), 'doc_45006'], [np.float64(2.2679998253462643), 'doc_45389'], [np.float64(2.2679998253462643), 'doc_46811'], [np.float64(2.245692451375777), 'doc_8486'], [np.float64(2.245692451375777), 'doc_28228'], [np.float64(2.245692451375777), 'doc_28948'], [np.float64(2.245692451375777), 'doc_31989'], [np.float64(2.245692451375777), 'doc_38269'], [np.float64(2.245692451375777), 'doc_40977'], [np.float64(2.245692451375777), 'doc_41341'], [np.float64(2.2218902165121968), 'doc_5715'], [np.float64(2.2218902165121968), 'doc_16840'], [np.float64(2.2218902165121968), 'doc_23291'], [np.float64(2.2218902165121968), 'doc_28241'], [np.float64(2.2218902165121968), 'doc_42377'], [np.float64(2.2218902165121968), 'doc_43230'], [np.float64(2.18566757889522), 'doc_14260'], [np.float64(2.18566757889522), 'doc_22518'], [np.float64(2.18566757889522), 'doc_26036'], [np.float64(2.18566757889522), 'doc_38402'], [np.float64(2.18566757889522), 'doc_42683'], [np.float64(2.177256459100634), 'doc_33536'], [np.float64(2.177256459100634), 'doc_45211'], [np.float64(2.151639798303297), 'doc_3201'], [np.float64(2.151639798303297), 'doc_3572'], [np.float64(2.151639798303297), 'doc_8067'], [np.float64(2.151639798303297), 'doc_9547'], [np.float64(2.151639798303297), 'doc_11699'], [np.float64(2.151639798303297), 'doc_12218'], [np.float64(2.151639798303297), 'doc_14054'], [np.float64(2.151639798303297), 'doc_14869'], [np.float64(2.151639798303297), 'doc_16015'], [np.float64(2.151639798303297), 'doc_17106'], [np.float64(2.151639798303297), 'doc_17593'], [np.float64(2.151639798303297), 'doc_19803'], [np.float64(2.151639798303297), 'doc_21694'], [np.float64(2.151639798303297), 'doc_22288'], [np.float64(2.151639798303297), 'doc_22417'], [np.float64(2.151639798303297), 'doc_22890'], [np.float64(2.151639798303297), 'doc_26184'], [np.float64(2.151639798303297), 'doc_26409'], [np.float64(2.151639798303297), 'doc_26993'], [np.float64(2.151639798303297), 'doc_28437'], [np.float64(2.151639798303297), 'doc_28942'], [np.float64(2.151639798303297), 'doc_29355'], [np.float64(2.151639798303297), 'doc_33391'], [np.float64(2.151639798303297), 'doc_37042'], [np.float64(2.151639798303297), 'doc_38481'], [np.float64(2.151639798303297), 'doc_43612'], [np.float64(2.151639798303297), 'doc_44864'], [np.float64(2.151639798303297), 'doc_46515'], [np.float64(2.151639798303297), 'doc_46820'], [np.float64(2.134799958148171), 'doc_1785'], [np.float64(2.134799958148171), 'doc_7618'], [np.float64(2.134799958148171), 'doc_7630'], [np.float64(2.134799958148171), 'doc_8584'], [np.float64(2.134799958148171), 'doc_16847'], [np.float64(2.134799958148171), 'doc_37212'], [np.float64(2.134799958148171), 'doc_45151'], [np.float64(2.1304065851829606), 'doc_10072'], [np.float64(2.1304065851829606), 'doc_10498'], [np.float64(2.1304065851829606), 'doc_12355'], [np.float64(2.1304065851829606), 'doc_32724'], [np.float64(2.1304065851829606), 'doc_38542'], [np.float64(2.1304065851829606), 'doc_45038'], [np.float64(2.095201181649213), 'doc_5074'], [np.float64(2.095201181649213), 'doc_30435'], [np.float64(2.095201181649213), 'doc_41073'], [np.float64(2.07895669448534), 'doc_16121'], [np.float64(2.07895669448534), 'doc_17049'], [np.float64(2.07895669448534), 'doc_28404'], [np.float64(2.07895669448534), 'doc_42046'], [np.float64(2.07895669448534), 'doc_47441'], [np.float64(2.0575073538500988), 'doc_6518'], [np.float64(2.0575073538500988), 'doc_7120'], [np.float64(2.0575073538500988), 'doc_27101'], [np.float64(2.0575073538500988), 'doc_45089'], [np.float64(2.0516110031260086), 'doc_6637'], [np.float64(2.0516110031260086), 'doc_7588'], [np.float64(2.0516110031260086), 'doc_8580'], [np.float64(2.0516110031260086), 'doc_8757'], [np.float64(2.0516110031260086), 'doc_9412'], [np.float64(2.0516110031260086), 'doc_10392'], [np.float64(2.0516110031260086), 'doc_11686'], [np.float64(2.0516110031260086), 'doc_11692'], [np.float64(2.0516110031260086), 'doc_12660'], [np.float64(2.0516110031260086), 'doc_13065'], [np.float64(2.0516110031260086), 'doc_14978'], [np.float64(2.0516110031260086), 'doc_14981'], [np.float64(2.0516110031260086), 'doc_18742'], [np.float64(2.0516110031260086), 'doc_19418'], [np.float64(2.0516110031260086), 'doc_19566'], [np.float64(2.0516110031260086), 'doc_21670'], [np.float64(2.0516110031260086), 'doc_22100'], [np.float64(2.0516110031260086), 'doc_22208'], [np.float64(2.0516110031260086), 'doc_26064'], [np.float64(2.0516110031260086), 'doc_26612'], [np.float64(2.0516110031260086), 'doc_27372'], [np.float64(2.0516110031260086), 'doc_27375'], [np.float64(2.0516110031260086), 'doc_28058'], [np.float64(2.0516110031260086), 'doc_31300'], [np.float64(2.0516110031260086), 'doc_31580'], [np.float64(2.0516110031260086), 'doc_32850'], [np.float64(2.0516110031260086), 'doc_33925'], [np.float64(2.0516110031260086), 'doc_37588'], [np.float64(2.0516110031260086), 'doc_37607'], [np.float64(2.0516110031260086), 'doc_40510'], [np.float64(2.0516110031260086), 'doc_41679'], [np.float64(2.0516110031260086), 'doc_41754'], [np.float64(2.0516110031260086), 'doc_43013'], [np.float64(2.0516110031260086), 'doc_44050'], [np.float64(2.0516110031260086), 'doc_44439'], [np.float64(2.0516110031260086), 'doc_44981'], [np.float64(2.0516110031260086), 'doc_47075'], [np.float64(2.0313179068023577), 'doc_31678'], [np.float64(2.0313179068023577), 'doc_32135'], [np.float64(2.0313179068023577), 'doc_39097'], [np.float64(2.0215826222749382), 'doc_32429'], [np.float64(1.9874269869237313), 'doc_27922'], [np.float64(1.9874269869237313), 'doc_43316'], [np.float64(1.9865374463803542), 'doc_31554'], [np.float64(1.9865374463803542), 'doc_36859'], [np.float64(1.9865374463803542), 'doc_45436'], [np.float64(1.9865374463803542), 'doc_47527'], [np.float64(1.9645110998423843), 'doc_728'], [np.float64(1.9645110998423843), 'doc_754'], [np.float64(1.9645110998423843), 'doc_3225'], [np.float64(1.9645110998423843), 'doc_7050'], [np.float64(1.9645110998423843), 'doc_8236'], [np.float64(1.9645110998423843), 'doc_8464'], [np.float64(1.9645110998423843), 'doc_9157'], [np.float64(1.9645110998423843), 'doc_11613'], [np.float64(1.9645110998423843), 'doc_16012'], [np.float64(1.9645110998423843), 'doc_16393'], [np.float64(1.9645110998423843), 'doc_16645'], [np.float64(1.9645110998423843), 'doc_17105'], [np.float64(1.9645110998423843), 'doc_19010'], [np.float64(1.9645110998423843), 'doc_19141'], [np.float64(1.9645110998423843), 'doc_19468'], [np.float64(1.9645110998423843), 'doc_19472'], [np.float64(1.9645110998423843), 'doc_20375'], [np.float64(1.9645110998423843), 'doc_20528'], [np.float64(1.9645110998423843), 'doc_22536'], [np.float64(1.9645110998423843), 'doc_23546'], [np.float64(1.9645110998423843), 'doc_27647'], [np.float64(1.9645110998423843), 'doc_27931'], [np.float64(1.9645110998423843), 'doc_28088'], [np.float64(1.9645110998423843), 'doc_30538'], [np.float64(1.9645110998423843), 'doc_32258'], [np.float64(1.9645110998423843), 'doc_35680'], [np.float64(1.9645110998423843), 'doc_36626'], [np.float64(1.9645110998423843), 'doc_37580'], [np.float64(1.9645110998423843), 'doc_40573'], [np.float64(1.9645110998423843), 'doc_41849'], [np.float64(1.9645110998423843), 'doc_42517'], [np.float64(1.9645110998423843), 'doc_44675'], [np.float64(1.955176300272369), 'doc_16508'], [np.float64(1.9446153132193302), 'doc_877'], [np.float64(1.9446153132193302), 'doc_5473'], [np.float64(1.9446153132193302), 'doc_9045'], [np.float64(1.9446153132193302), 'doc_9974'], [np.float64(1.9446153132193302), 'doc_16624'], [np.float64(1.9446153132193302), 'doc_22088'], [np.float64(1.9446153132193302), 'doc_26967'], [np.float64(1.9246947098449603), 'doc_37497'], [np.float64(1.905551507319285), 'doc_7439'], [np.float64(1.905551507319285), 'doc_8514'], [np.float64(1.905551507319285), 'doc_8545'], [np.float64(1.905551507319285), 'doc_8568'], [np.float64(1.905551507319285), 'doc_8569'], [np.float64(1.905551507319285), 'doc_8585'], [np.float64(1.905551507319285), 'doc_30706'], [np.float64(1.8953017476471015), 'doc_20342'], [np.float64(1.8876182164748088), 'doc_4305'], [np.float64(1.8876182164748088), 'doc_8956'], [np.float64(1.8876182164748088), 'doc_9186'], [np.float64(1.8876182164748088), 'doc_9570'], [np.float64(1.8876182164748088), 'doc_15227'], [np.float64(1.8876182164748088), 'doc_27104'], [np.float64(1.8876182164748088), 'doc_27337'], [np.float64(1.8876182164748088), 'doc_32603'], [np.float64(1.8876182164748088), 'doc_33121'], [np.float64(1.8876182164748088), 'doc_39924'], [np.float64(1.8876182164748088), 'doc_41462'], [np.float64(1.8876182164748088), 'doc_43363'], [np.float64(1.8876182164748088), 'doc_44732'], [np.float64(1.8876182164748088), 'doc_44873'], [np.float64(1.8876182164748088), 'doc_45280'], [np.float64(1.8876182164748088), 'doc_46118'], [np.float64(1.8876182164748088), 'doc_46955'], [np.float64(1.868393252926559), 'doc_7435'], [np.float64(1.868393252926559), 'doc_7442'], [np.float64(1.868393252926559), 'doc_8586'], [np.float64(1.868393252926559), 'doc_8595'], [np.float64(1.868393252926559), 'doc_40770'], [np.float64(1.868393252926559), 'doc_42258'], [np.float64(1.8401898681751825), 'doc_37711'], [np.float64(1.8401898681751825), 'doc_37715'], [np.float64(1.8401898681751825), 'doc_37717'], [np.float64(1.8401898681751825), 'doc_37734'], [np.float64(1.8401898681751825), 'doc_37877'], [np.float64(1.8401898681751825), 'doc_37928'], [np.float64(1.8401898681751825), 'doc_37964'], [np.float64(1.8401898681751825), 'doc_38015'], [np.float64(1.8338210180355556), 'doc_23134'], [np.float64(1.8338210180355556), 'doc_25259'], [np.float64(1.8338210180355556), 'doc_35903'], [np.float64(1.8188909490400735), 'doc_900'], [np.float64(1.8188909490400735), 'doc_4191'], [np.float64(1.8188909490400735), 'doc_5687'], [np.float64(1.8188909490400735), 'doc_7815'], [np.float64(1.8188909490400735), 'doc_12678'], [np.float64(1.8188909490400735), 'doc_13532'], [np.float64(1.8188909490400735), 'doc_14979'], [np.float64(1.8188909490400735), 'doc_17130'], [np.float64(1.8188909490400735), 'doc_19380'], [np.float64(1.8188909490400735), 'doc_21013'], [np.float64(1.8188909490400735), 'doc_21138'], [np.float64(1.8188909490400735), 'doc_25562'], [np.float64(1.8188909490400735), 'doc_25615'], [np.float64(1.8188909490400735), 'doc_27132'], [np.float64(1.8188909490400735), 'doc_27151'], [np.float64(1.8188909490400735), 'doc_27309'], [np.float64(1.8188909490400735), 'doc_27912'], [np.float64(1.8188909490400735), 'doc_34290'], [np.float64(1.8188909490400735), 'doc_37007'], [np.float64(1.8188909490400735), 'doc_37136'], [np.float64(1.8188909490400735), 'doc_37938'], [np.float64(1.8188909490400735), 'doc_39473'], [np.float64(1.8188909490400735), 'doc_39574'], [np.float64(1.8188909490400735), 'doc_39862'], [np.float64(1.8188909490400735), 'doc_40373'], [np.float64(1.8188909490400735), 'doc_41241'], [np.float64(1.8188909490400735), 'doc_41872'], [np.float64(1.8188909490400735), 'doc_42262'], [np.float64(1.8188909490400735), 'doc_44561'], [np.float64(1.8188909490400735), 'doc_45269'], [np.float64(1.8188909490400735), 'doc_47186'], [np.float64(1.8007461744167241), 'doc_9832'], [np.float64(1.8007461744167241), 'doc_32393'], [np.float64(1.7693045745459561), 'doc_35818'], [np.float64(1.7693045745459561), 'doc_35922'], [np.float64(1.7693045745459561), 'doc_36936'], [np.float64(1.7693045745459561), 'doc_36944'], [np.float64(1.7693045745459561), 'doc_36947'], [np.float64(1.7693045745459561), 'doc_36953'], [np.float64(1.7693045745459561), 'doc_36954'], [np.float64(1.7569683615493714), 'doc_3191'], [np.float64(1.7569683615493714), 'doc_3257'], [np.float64(1.7569683615493714), 'doc_5944'], [np.float64(1.7569683615493714), 'doc_7584'], [np.float64(1.7569683615493714), 'doc_8079'], [np.float64(1.7569683615493714), 'doc_15537'], [np.float64(1.7569683615493714), 'doc_17903'], [np.float64(1.7569683615493714), 'doc_19431'], [np.float64(1.7569683615493714), 'doc_21106'], [np.float64(1.7569683615493714), 'doc_22171'], [np.float64(1.7569683615493714), 'doc_26803'], [np.float64(1.7569683615493714), 'doc_28344'], [np.float64(1.7569683615493714), 'doc_28345'], [np.float64(1.7569683615493714), 'doc_29013'], [np.float64(1.7569683615493714), 'doc_31241'], [np.float64(1.7569683615493714), 'doc_31435'], [np.float64(1.7569683615493714), 'doc_33492'], [np.float64(1.7569683615493714), 'doc_34180'], [np.float64(1.7569683615493714), 'doc_36633'], [np.float64(1.7569683615493714), 'doc_38711'], [np.float64(1.7569683615493714), 'doc_40146'], [np.float64(1.7569683615493714), 'doc_40291'], [np.float64(1.7569683615493714), 'doc_40716'], [np.float64(1.7569683615493714), 'doc_43180'], [np.float64(1.7569683615493714), 'doc_44597'], [np.float64(1.7569683615493714), 'doc_45393'], [np.float64(1.7569683615493714), 'doc_45711'], [np.float64(1.7569683615493714), 'doc_45973'], [np.float64(1.7569683615493714), 'doc_47266'], [np.float64(1.7569683615493714), 'doc_48294'], [np.float64(1.7394962184232508), 'doc_23109'], [np.float64(1.7394962184232508), 'doc_32175'], [np.float64(1.711185253572718), 'doc_31998'], [np.float64(1.7011699860082994), 'doc_2338'], [np.float64(1.7011699860082994), 'doc_2463'], [np.float64(1.7011699860082994), 'doc_3925'], [np.float64(1.7011699860082994), 'doc_5482'], [np.float64(1.7011699860082994), 'doc_5561'], [np.float64(1.7011699860082994), 'doc_9511'], [np.float64(1.7011699860082994), 'doc_10906'], [np.float64(1.7011699860082994), 'doc_11304'], [np.float64(1.7011699860082994), 'doc_15420'], [np.float64(1.7011699860082994), 'doc_16494'], [np.float64(1.7011699860082994), 'doc_17801'], [np.float64(1.7011699860082994), 'doc_18504'], [np.float64(1.7011699860082994), 'doc_18693'], [np.float64(1.7011699860082994), 'doc_19587'], [np.float64(1.7011699860082994), 'doc_19940'], [np.float64(1.7011699860082994), 'doc_20345'], [np.float64(1.7011699860082994), 'doc_20496'], [np.float64(1.7011699860082994), 'doc_21975'], [np.float64(1.7011699860082994), 'doc_23721'], [np.float64(1.7011699860082994), 'doc_24987'], [np.float64(1.7011699860082994), 'doc_26118'], [np.float64(1.7011699860082994), 'doc_28264'], [np.float64(1.7011699860082994), 'doc_28456'], [np.float64(1.7011699860082994), 'doc_29126'], [np.float64(1.7011699860082994), 'doc_37068'], [np.float64(1.7011699860082994), 'doc_37152'], [np.float64(1.7011699860082994), 'doc_37155'], [np.float64(1.7011699860082994), 'doc_40293'], [np.float64(1.7011699860082994), 'doc_41187'], [np.float64(1.7011699860082994), 'doc_41201'], [np.float64(1.7011699860082994), 'doc_41521'], [np.float64(1.7011699860082994), 'doc_43550'], [np.float64(1.7011699860082994), 'doc_44112'], [np.float64(1.7011699860082994), 'doc_44808'], [np.float64(1.7011699860082994), 'doc_46284'], [np.float64(1.7011699860082994), 'doc_46300'], [np.float64(1.7011699860082994), 'doc_47356'], [np.float64(1.7011699860082994), 'doc_48369'], [np.float64(1.7011699860082994), 'doc_48424'], [np.float64(1.6845075324702479), 'doc_9968'], [np.float64(1.6845075324702479), 'doc_23220'], [np.float64(1.6845075324702479), 'doc_34816'], [np.float64(1.65013488642805), 'doc_889'], [np.float64(1.65013488642805), 'doc_2774'], [np.float64(1.65013488642805), 'doc_5083'], [np.float64(1.65013488642805), 'doc_5242'], [np.float64(1.65013488642805), 'doc_5332'], [np.float64(1.65013488642805), 'doc_6134'], [np.float64(1.65013488642805), 'doc_6542'], [np.float64(1.65013488642805), 'doc_8179'], [np.float64(1.65013488642805), 'doc_9359'], [np.float64(1.65013488642805), 'doc_10468'], [np.float64(1.65013488642805), 'doc_12093'], [np.float64(1.65013488642805), 'doc_13645'], [np.float64(1.65013488642805), 'doc_15246'], [np.float64(1.65013488642805), 'doc_15836'], [np.float64(1.65013488642805), 'doc_16305'], [np.float64(1.65013488642805), 'doc_16742'], [np.float64(1.65013488642805), 'doc_16783'], [np.float64(1.65013488642805), 'doc_17042'], [np.float64(1.65013488642805), 'doc_20491'], [np.float64(1.65013488642805), 'doc_25482'], [np.float64(1.65013488642805), 'doc_27747'], [np.float64(1.65013488642805), 'doc_28632'], [np.float64(1.65013488642805), 'doc_30752'], [np.float64(1.65013488642805), 'doc_32376'], [np.float64(1.65013488642805), 'doc_33669'], [np.float64(1.65013488642805), 'doc_36820'], [np.float64(1.65013488642805), 'doc_37077'], [np.float64(1.65013488642805), 'doc_40173'], [np.float64(1.65013488642805), 'doc_40174'], [np.float64(1.65013488642805), 'doc_40177'], [np.float64(1.65013488642805), 'doc_47439'], [np.float64(1.65013488642805), 'doc_47772'], [np.float64(1.6050461705923138), 'doc_9317'], [np.float64(1.6038630628086246), 'doc_7131'], [np.float64(1.6038630628086246), 'doc_8438'], [np.float64(1.6038630628086246), 'doc_8814'], [np.float64(1.6038630628086246), 'doc_8826'], [np.float64(1.6038630628086246), 'doc_9738'], [np.float64(1.6038630628086246), 'doc_12011'], [np.float64(1.6038630628086246), 'doc_12121'], [np.float64(1.6038630628086246), 'doc_14725'], [np.float64(1.6038630628086246), 'doc_16786'], [np.float64(1.6038630628086246), 'doc_22733'], [np.float64(1.6038630628086246), 'doc_22898'], [np.float64(1.6038630628086246), 'doc_23007'], [np.float64(1.6038630628086246), 'doc_24260'], [np.float64(1.6038630628086246), 'doc_24261'], [np.float64(1.6038630628086246), 'doc_25497'], [np.float64(1.6038630628086246), 'doc_27486'], [np.float64(1.6038630628086246), 'doc_29255'], [np.float64(1.6038630628086246), 'doc_29597'], [np.float64(1.6038630628086246), 'doc_32564'], [np.float64(1.6038630628086246), 'doc_32625'], [np.float64(1.6038630628086246), 'doc_33516'], [np.float64(1.6038630628086246), 'doc_35923'], [np.float64(1.6038630628086246), 'doc_36204'], [np.float64(1.6038630628086246), 'doc_37143'], [np.float64(1.6038630628086246), 'doc_37825'], [np.float64(1.6038630628086246), 'doc_38002'], [np.float64(1.6038630628086246), 'doc_38267'], [np.float64(1.6038630628086246), 'doc_40121'], [np.float64(1.6038630628086246), 'doc_41274'], [np.float64(1.6038630628086246), 'doc_43591'], [np.float64(1.6038630628086246), 'doc_47006'], [np.float64(1.6038630628086246), 'doc_47631'], [np.float64(1.6038630628086246), 'doc_48111'], [np.float64(1.566363339016452), 'doc_17431'], [np.float64(1.5609935791612153), 'doc_967'], [np.float64(1.5609935791612153), 'doc_1601'], [np.float64(1.5609935791612153), 'doc_3982'], [np.float64(1.5609935791612153), 'doc_4390'], [np.float64(1.5609935791612153), 'doc_6536'], [np.float64(1.5609935791612153), 'doc_7760'], [np.float64(1.5609935791612153), 'doc_8057'], [np.float64(1.5609935791612153), 'doc_8078'], [np.float64(1.5609935791612153), 'doc_8848'], [np.float64(1.5609935791612153), 'doc_8970'], [np.float64(1.5609935791612153), 'doc_9394'], [np.float64(1.5609935791612153), 'doc_9932'], [np.float64(1.5609935791612153), 'doc_10400'], [np.float64(1.5609935791612153), 'doc_15267'], [np.float64(1.5609935791612153), 'doc_15326'], [np.float64(1.5609935791612153), 'doc_17046'], [np.float64(1.5609935791612153), 'doc_22819'], [np.float64(1.5609935791612153), 'doc_23208'], [np.float64(1.5609935791612153), 'doc_26611'], [np.float64(1.5609935791612153), 'doc_26689'], [np.float64(1.5609935791612153), 'doc_27467'], [np.float64(1.5609935791612153), 'doc_28827'], [np.float64(1.5609935791612153), 'doc_29749'], [np.float64(1.5609935791612153), 'doc_30981'], [np.float64(1.5609935791612153), 'doc_31888'], [np.float64(1.5609935791612153), 'doc_32270'], [np.float64(1.5609935791612153), 'doc_32616'], [np.float64(1.5609935791612153), 'doc_32695'], [np.float64(1.5609935791612153), 'doc_33863'], [np.float64(1.5609935791612153), 'doc_35674'], [np.float64(1.5609935791612153), 'doc_38437'], [np.float64(1.5609935791612153), 'doc_40624'], [np.float64(1.5609935791612153), 'doc_40816'], [np.float64(1.5609935791612153), 'doc_42760'], [np.float64(1.5609935791612153), 'doc_44910'], [np.float64(1.5609935791612153), 'doc_44972'], [np.float64(1.5609935791612153), 'doc_45205'], [np.float64(1.5609935791612153), 'doc_45744'], [np.float64(1.5609935791612153), 'doc_46605'], [np.float64(1.5609935791612153), 'doc_47050'], [np.float64(1.5215264354858227), 'doc_1592'], [np.float64(1.5215264354858227), 'doc_5140'], [np.float64(1.5215264354858227), 'doc_6338'], [np.float64(1.5215264354858227), 'doc_6620'], [np.float64(1.5215264354858227), 'doc_7170'], [np.float64(1.5215264354858227), 'doc_7900'], [np.float64(1.5215264354858227), 'doc_9032'], [np.float64(1.5215264354858227), 'doc_10738'], [np.float64(1.5215264354858227), 'doc_11599'], [np.float64(1.5215264354858227), 'doc_12253'], [np.float64(1.5215264354858227), 'doc_12270'], [np.float64(1.5215264354858227), 'doc_15195'], [np.float64(1.5215264354858227), 'doc_16873'], [np.float64(1.5215264354858227), 'doc_17753'], [np.float64(1.5215264354858227), 'doc_18245'], [np.float64(1.5215264354858227), 'doc_19030'], [np.float64(1.5215264354858227), 'doc_23958'], [np.float64(1.5215264354858227), 'doc_25541'], [np.float64(1.5215264354858227), 'doc_26876'], [np.float64(1.5215264354858227), 'doc_28251'], [np.float64(1.5215264354858227), 'doc_29071'], [np.float64(1.5215264354858227), 'doc_30138'], [np.float64(1.5215264354858227), 'doc_30139'], [np.float64(1.5215264354858227), 'doc_31660'], [np.float64(1.5215264354858227), 'doc_32078'], [np.float64(1.5215264354858227), 'doc_33443'], [np.float64(1.5215264354858227), 'doc_34174'], [np.float64(1.5215264354858227), 'doc_37678'], [np.float64(1.5215264354858227), 'doc_38881'], [np.float64(1.5215264354858227), 'doc_39627'], [np.float64(1.5215264354858227), 'doc_39722'], [np.float64(1.5215264354858227), 'doc_40237'], [np.float64(1.5215264354858227), 'doc_40305'], [np.float64(1.5215264354858227), 'doc_41864'], [np.float64(1.5215264354858227), 'doc_42676'], [np.float64(1.5215264354858227), 'doc_43704'], [np.float64(1.5215264354858227), 'doc_44418'], [np.float64(1.5215264354858227), 'doc_45342'], [np.float64(1.5215264354858227), 'doc_47594'], [np.float64(1.4847811637880437), 'doc_112'], [np.float64(1.4847811637880437), 'doc_1519'], [np.float64(1.4847811637880437), 'doc_3762'], [np.float64(1.4847811637880437), 'doc_3768'], [np.float64(1.4847811637880437), 'doc_4039'], [np.float64(1.4847811637880437), 'doc_5906'], [np.float64(1.4847811637880437), 'doc_6923'], [np.float64(1.4847811637880437), 'doc_10527'], [np.float64(1.4847811637880437), 'doc_13164'], [np.float64(1.4847811637880437), 'doc_13167'], [np.float64(1.4847811637880437), 'doc_14937'], [np.float64(1.4847811637880437), 'doc_15124'], [np.float64(1.4847811637880437), 'doc_15924'], [np.float64(1.4847811637880437), 'doc_21551'], [np.float64(1.4847811637880437), 'doc_23156'], [np.float64(1.4847811637880437), 'doc_24677'], [np.float64(1.4847811637880437), 'doc_26975'], [np.float64(1.4847811637880437), 'doc_27247'], [np.float64(1.4847811637880437), 'doc_29521'], [np.float64(1.4847811637880437), 'doc_31075'], [np.float64(1.4847811637880437), 'doc_32188'], [np.float64(1.4847811637880437), 'doc_35119'], [np.float64(1.4847811637880437), 'doc_35848'], [np.float64(1.4847811637880437), 'doc_37304'], [np.float64(1.4847811637880437), 'doc_40799'], [np.float64(1.4847811637880437), 'doc_42881'], [np.float64(1.4847811637880437), 'doc_43360'], [np.float64(1.4847811637880437), 'doc_43660'], [np.float64(1.4847811637880437), 'doc_43754'], [np.float64(1.4847811637880437), 'doc_43986'], [np.float64(1.4847811637880437), 'doc_45028'], [np.float64(1.4847811637880437), 'doc_45799'], [np.float64(1.4507577640678777), 'doc_5907'], [np.float64(1.4507577640678777), 'doc_6921'], [np.float64(1.4507577640678777), 'doc_7237'], [np.float64(1.4507577640678777), 'doc_8849'], [np.float64(1.4507577640678777), 'doc_9773'], [np.float64(1.4507577640678777), 'doc_14695'], [np.float64(1.4507577640678777), 'doc_15741'], [np.float64(1.4507577640678777), 'doc_17908'], [np.float64(1.4507577640678777), 'doc_18722'], [np.float64(1.4507577640678777), 'doc_18871'], [np.float64(1.4507577640678777), 'doc_19659'], [np.float64(1.4507577640678777), 'doc_20832'], [np.float64(1.4507577640678777), 'doc_23037'], [np.float64(1.4507577640678777), 'doc_23909'], [np.float64(1.4507577640678777), 'doc_26131'], [np.float64(1.4507577640678777), 'doc_26732'], [np.float64(1.4507577640678777), 'doc_27472'], [np.float64(1.4507577640678777), 'doc_27820'], [np.float64(1.4507577640678777), 'doc_31330'], [np.float64(1.4507577640678777), 'doc_31894'], [np.float64(1.4507577640678777), 'doc_32315'], [np.float64(1.4507577640678777), 'doc_36687'], [np.float64(1.4507577640678777), 'doc_39932'], [np.float64(1.4507577640678777), 'doc_41766'], [np.float64(1.4507577640678777), 'doc_43161'], [np.float64(1.4507577640678777), 'doc_44472'], [np.float64(1.4187757683309217), 'doc_1185'], [np.float64(1.4187757683309217), 'doc_6104'], [np.float64(1.4187757683309217), 'doc_8856'], [np.float64(1.4187757683309217), 'doc_9834'], [np.float64(1.4187757683309217), 'doc_13640'], [np.float64(1.4187757683309217), 'doc_15996'], [np.float64(1.4187757683309217), 'doc_17308'], [np.float64(1.4187757683309217), 'doc_20275'], [np.float64(1.4187757683309217), 'doc_20732'], [np.float64(1.4187757683309217), 'doc_21579'], [np.float64(1.4187757683309217), 'doc_25167'], [np.float64(1.4187757683309217), 'doc_25170'], [np.float64(1.4187757683309217), 'doc_25594'], [np.float64(1.4187757683309217), 'doc_25952'], [np.float64(1.4187757683309217), 'doc_26744'], [np.float64(1.4187757683309217), 'doc_26837'], [np.float64(1.4187757683309217), 'doc_27055'], [np.float64(1.4187757683309217), 'doc_27190'], [np.float64(1.4187757683309217), 'doc_27582'], [np.float64(1.4187757683309217), 'doc_27681'], [np.float64(1.4187757683309217), 'doc_27692'], [np.float64(1.4187757683309217), 'doc_28928'], [np.float64(1.4187757683309217), 'doc_31542'], [np.float64(1.4187757683309217), 'doc_31641'], [np.float64(1.4187757683309217), 'doc_31644'], [np.float64(1.4187757683309217), 'doc_31646'], [np.float64(1.4187757683309217), 'doc_31650'], [np.float64(1.4187757683309217), 'doc_32117'], [np.float64(1.4187757683309217), 'doc_35292'], [np.float64(1.4187757683309217), 'doc_36846'], [np.float64(1.4187757683309217), 'doc_40634'], [np.float64(1.4187757683309217), 'doc_41999'], [np.float64(1.4187757683309217), 'doc_42155'], [np.float64(1.4187757683309217), 'doc_42798'], [np.float64(1.4187757683309217), 'doc_43787'], [np.float64(1.4187757683309217), 'doc_44701'], [np.float64(1.4187757683309217), 'doc_46761'], [np.float64(1.4187757683309217), 'doc_47158'], [np.float64(1.4187757683309217), 'doc_47163'], [np.float64(1.4187757683309217), 'doc_47288'], [np.float64(1.4187757683309217), 'doc_47910'], [np.float64(1.3888351765771756), 'doc_6066'], [np.float64(1.3888351765771756), 'doc_6115'], [np.float64(1.3888351765771756), 'doc_6545'], [np.float64(1.3888351765771756), 'doc_8554'], [np.float64(1.3888351765771756), 'doc_15057'], [np.float64(1.3888351765771756), 'doc_15303'], [np.float64(1.3888351765771756), 'doc_15876'], [np.float64(1.3888351765771756), 'doc_17391'], [np.float64(1.3888351765771756), 'doc_23212'], [np.float64(1.3888351765771756), 'doc_25385'], [np.float64(1.3888351765771756), 'doc_25486'], [np.float64(1.3888351765771756), 'doc_27301'], [np.float64(1.3888351765771756), 'doc_27804'], [np.float64(1.3888351765771756), 'doc_28477'], [np.float64(1.3888351765771756), 'doc_30785'], [np.float64(1.3888351765771756), 'doc_32351'], [np.float64(1.3888351765771756), 'doc_32941'], [np.float64(1.3888351765771756), 'doc_32964'], [np.float64(1.3888351765771756), 'doc_34640'], [np.float64(1.3888351765771756), 'doc_35945'], [np.float64(1.3888351765771756), 'doc_37074'], [np.float64(1.3888351765771756), 'doc_38874'], [np.float64(1.3888351765771756), 'doc_43251'], [np.float64(1.3609359888066397), 'doc_2580'], [np.float64(1.3609359888066397), 'doc_5370'], [np.float64(1.3609359888066397), 'doc_5554'], [np.float64(1.3609359888066397), 'doc_7164'], [np.float64(1.3609359888066397), 'doc_7326'], [np.float64(1.3609359888066397), 'doc_8618'], [np.float64(1.3609359888066397), 'doc_11251'], [np.float64(1.3609359888066397), 'doc_11694'], [np.float64(1.3609359888066397), 'doc_14236'], [np.float64(1.3609359888066397), 'doc_14521'], [np.float64(1.3609359888066397), 'doc_15832'], [np.float64(1.3609359888066397), 'doc_16629'], [np.float64(1.3609359888066397), 'doc_17053'], [np.float64(1.3609359888066397), 'doc_22433'], [np.float64(1.3609359888066397), 'doc_26824'], [np.float64(1.3609359888066397), 'doc_27507'], [np.float64(1.3609359888066397), 'doc_27670'], [np.float64(1.3609359888066397), 'doc_28772'], [np.float64(1.3609359888066397), 'doc_29078'], [np.float64(1.3609359888066397), 'doc_29739'], [np.float64(1.3609359888066397), 'doc_30044'], [np.float64(1.3609359888066397), 'doc_30235'], [np.float64(1.3609359888066397), 'doc_33318'], [np.float64(1.3609359888066397), 'doc_35074'], [np.float64(1.3609359888066397), 'doc_35675'], [np.float64(1.3609359888066397), 'doc_42865'], [np.float64(1.3609359888066397), 'doc_43080'], [np.float64(1.3609359888066397), 'doc_43997'], [np.float64(1.3609359888066397), 'doc_45509'], [np.float64(1.33439773702491), 'doc_946'], [np.float64(1.33439773702491), 'doc_2840'], [np.float64(1.33439773702491), 'doc_5794'], [np.float64(1.33439773702491), 'doc_7215'], [np.float64(1.33439773702491), 'doc_9303'], [np.float64(1.33439773702491), 'doc_12910'], [np.float64(1.33439773702491), 'doc_13079'], [np.float64(1.33439773702491), 'doc_13118'], [np.float64(1.33439773702491), 'doc_13363'], [np.float64(1.33439773702491), 'doc_16362'], [np.float64(1.33439773702491), 'doc_16406'], [np.float64(1.33439773702491), 'doc_17429'], [np.float64(1.33439773702491), 'doc_20469'], [np.float64(1.33439773702491), 'doc_27955'], [np.float64(1.33439773702491), 'doc_28457'], [np.float64(1.33439773702491), 'doc_28839'], [np.float64(1.33439773702491), 'doc_29684'], [np.float64(1.33439773702491), 'doc_30206'], [np.float64(1.33439773702491), 'doc_30776'], [np.float64(1.33439773702491), 'doc_34258'], [np.float64(1.33439773702491), 'doc_35730'], [np.float64(1.33439773702491), 'doc_36018'], [np.float64(1.33439773702491), 'doc_37452'], [np.float64(1.33439773702491), 'doc_37615'], [np.float64(1.33439773702491), 'doc_38974'], [np.float64(1.33439773702491), 'doc_41000'], [np.float64(1.33439773702491), 'doc_41015'], [np.float64(1.33439773702491), 'doc_41033'], [np.float64(1.33439773702491), 'doc_41081'], [np.float64(1.33439773702491), 'doc_41126'], [np.float64(1.33439773702491), 'doc_41736'], [np.float64(1.33439773702491), 'doc_41768'], [np.float64(1.33439773702491), 'doc_42867'], [np.float64(1.33439773702491), 'doc_43070'], [np.float64(1.33439773702491), 'doc_44178'], [np.float64(1.33439773702491), 'doc_44458'], [np.float64(1.33439773702491), 'doc_46358'], [np.float64(1.33439773702491), 'doc_46535'], [np.float64(1.3099008892263906), 'doc_2652'], [np.float64(1.3099008892263906), 'doc_5725'], [np.float64(1.3099008892263906), 'doc_5920'], [np.float64(1.3099008892263906), 'doc_7510'], [np.float64(1.3099008892263906), 'doc_9817'], [np.float64(1.3099008892263906), 'doc_10190'], [np.float64(1.3099008892263906), 'doc_11328'], [np.float64(1.3099008892263906), 'doc_11480'], [np.float64(1.3099008892263906), 'doc_11610'], [np.float64(1.3099008892263906), 'doc_12784'], [np.float64(1.3099008892263906), 'doc_12809'], [np.float64(1.3099008892263906), 'doc_13835'], [np.float64(1.3099008892263906), 'doc_14214'], [np.float64(1.3099008892263906), 'doc_16776'], [np.float64(1.3099008892263906), 'doc_17794'], [np.float64(1.3099008892263906), 'doc_19221'], [np.float64(1.3099008892263906), 'doc_19337'], [np.float64(1.3099008892263906), 'doc_19564'], [np.float64(1.3099008892263906), 'doc_20281'], [np.float64(1.3099008892263906), 'doc_22116'], [np.float64(1.3099008892263906), 'doc_22216'], [np.float64(1.3099008892263906), 'doc_24875'], [np.float64(1.3099008892263906), 'doc_27264'], [np.float64(1.3099008892263906), 'doc_30198'], [np.float64(1.3099008892263906), 'doc_30908'], [np.float64(1.3099008892263906), 'doc_30931'], [np.float64(1.3099008892263906), 'doc_33522'], [np.float64(1.3099008892263906), 'doc_36494'], [np.float64(1.3099008892263906), 'doc_38105'], [np.float64(1.3099008892263906), 'doc_39467'], [np.float64(1.3099008892263906), 'doc_41985'], [np.float64(1.3099008892263906), 'doc_43912'], [np.float64(1.3099008892263906), 'doc_44490'], [np.float64(1.3099008892263906), 'doc_44810'], [np.float64(1.3099008892263906), 'doc_45442'], [np.float64(1.3099008892263906), 'doc_45490'], [np.float64(1.3099008892263906), 'doc_45802'], [np.float64(1.3099008892263906), 'doc_47523'], [np.float64(1.2860845094222744), 'doc_2461'], [np.float64(1.2860845094222744), 'doc_6411'], [np.float64(1.2860845094222744), 'doc_9997'], [np.float64(1.2860845094222744), 'doc_10817'], [np.float64(1.2860845094222744), 'doc_11222'], [np.float64(1.2860845094222744), 'doc_11732'], [np.float64(1.2860845094222744), 'doc_12893'], [np.float64(1.2860845094222744), 'doc_15320'], [np.float64(1.2860845094222744), 'doc_19331'], [np.float64(1.2860845094222744), 'doc_24482'], [np.float64(1.2860845094222744), 'doc_27012'], [np.float64(1.2860845094222744), 'doc_27682'], [np.float64(1.2860845094222744), 'doc_28784'], [np.float64(1.2860845094222744), 'doc_29755'], [np.float64(1.2860845094222744), 'doc_32866'], [np.float64(1.2860845094222744), 'doc_35810'], [np.float64(1.2860845094222744), 'doc_35892'], [np.float64(1.2860845094222744), 'doc_36653'], [np.float64(1.2860845094222744), 'doc_46181'], [np.float64(1.2860845094222744), 'doc_46982'], [np.float64(1.2636290656069646), 'doc_1428'], [np.float64(1.2636290656069646), 'doc_5263'], [np.float64(1.2636290656069646), 'doc_7718'], [np.float64(1.2636290656069646), 'doc_9338'], [np.float64(1.2636290656069646), 'doc_9578'], [np.float64(1.2636290656069646), 'doc_9707'], [np.float64(1.2636290656069646), 'doc_10125'], [np.float64(1.2636290656069646), 'doc_12841'], [np.float64(1.2636290656069646), 'doc_27783'], [np.float64(1.2636290656069646), 'doc_28394'], [np.float64(1.2636290656069646), 'doc_32415'], [np.float64(1.2636290656069646), 'doc_36896'], [np.float64(1.2636290656069646), 'doc_40873'], [np.float64(1.2636290656069646), 'doc_40874'], [np.float64(1.2636290656069646), 'doc_40876'], [np.float64(1.2636290656069646), 'doc_40879'], [np.float64(1.2636290656069646), 'doc_40880'], [np.float64(1.2636290656069646), 'doc_40885'], [np.float64(1.2636290656069646), 'doc_42627'], [np.float64(1.2636290656069646), 'doc_42659'], [np.float64(1.2636290656069646), 'doc_43157'], [np.float64(1.2636290656069646), 'doc_43290'], [np.float64(1.2636290656069646), 'doc_46213'], [np.float64(1.2425345577804618), 'doc_5611'], [np.float64(1.2425345577804618), 'doc_8998'], [np.float64(1.2425345577804618), 'doc_11619'], [np.float64(1.2425345577804618), 'doc_16493'], [np.float64(1.2425345577804618), 'doc_32373'], [np.float64(1.2425345577804618), 'doc_35627'], [np.float64(1.2425345577804618), 'doc_36708'], [np.float64(1.2425345577804618), 'doc_41390'], [np.float64(1.2425345577804618), 'doc_41402'], [np.float64(1.2425345577804618), 'doc_41851'], [np.float64(1.2425345577804618), 'doc_41852'], [np.float64(1.2425345577804618), 'doc_46572'], [np.float64(1.2221205179483623), 'doc_2039'], [np.float64(1.2221205179483623), 'doc_8093'], [np.float64(1.2221205179483623), 'doc_21625'], [np.float64(1.2221205179483623), 'doc_23699'], [np.float64(1.2221205179483623), 'doc_32899'], [np.float64(1.2221205179483623), 'doc_33742'], [np.float64(1.2221205179483623), 'doc_35507'], [np.float64(1.2221205179483623), 'doc_35709'], [np.float64(1.2221205179483623), 'doc_43954'], [np.float64(1.2221205179483623), 'doc_44033'], [np.float64(1.2030674141050695), 'doc_19657'], [np.float64(1.2030674141050695), 'doc_20276'], [np.float64(1.2030674141050695), 'doc_33866'], [np.float64(1.2030674141050695), 'doc_41898'], [np.float64(1.1846947782561796), 'doc_1288'], [np.float64(1.1846947782561796), 'doc_5831'], [np.float64(1.1846947782561796), 'doc_10404'], [np.float64(1.1846947782561796), 'doc_29382'], [np.float64(1.1846947782561796), 'doc_29401'], [np.float64(1.1846947782561796), 'doc_35054'], [np.float64(1.1846947782561796), 'doc_38184'], [np.float64(1.1670026104016933), 'doc_5622'], [np.float64(1.1670026104016933), 'doc_6216'], [np.float64(1.1670026104016933), 'doc_8519'], [np.float64(1.1670026104016933), 'doc_10402'], [np.float64(1.1670026104016933), 'doc_16274'], [np.float64(1.1670026104016933), 'doc_18251'], [np.float64(1.1670026104016933), 'doc_18803'], [np.float64(1.1670026104016933), 'doc_23493'], [np.float64(1.1670026104016933), 'doc_24858'], [np.float64(1.1670026104016933), 'doc_32808'], [np.float64(1.1670026104016933), 'doc_34647'], [np.float64(1.1670026104016933), 'doc_42490'], [np.float64(1.1670026104016933), 'doc_43544'], [np.float64(1.1670026104016933), 'doc_46080'], [np.float64(1.1670026104016933), 'doc_46413'], [np.float64(1.1499909105416104), 'doc_2611'], [np.float64(1.1499909105416104), 'doc_15564'], [np.float64(1.134340146670334), 'doc_32492'], [np.float64(1.134340146670334), 'doc_46463'], [np.float64(1.1186893827990576), 'doc_16706'], [np.float64(1.1186893827990576), 'doc_38829'], [np.float64(1.1037190869221847), 'doc_10403'], [np.float64(1.1037190869221847), 'doc_10409'], [np.float64(1.1037190869221847), 'doc_10423'], [np.float64(1.1037190869221847), 'doc_10428'], [np.float64(1.1037190869221847), 'doc_10431'], [np.float64(1.1037190869221847), 'doc_10455'], [np.float64(1.1037190869221847), 'doc_10456'], [np.float64(1.1037190869221847), 'doc_10459'], [np.float64(1.1037190869221847), 'doc_37209'], [np.float64(1.1037190869221847), 'doc_37219'], [np.float64(1.1037190869221847), 'doc_37232'], [np.float64(1.1037190869221847), 'doc_37241'], [np.float64(1.0894292590397148), 'doc_10386'], [np.float64(1.0894292590397148), 'doc_10419'], [np.float64(1.0894292590397148), 'doc_10438'], [np.float64(1.0758198991516486), 'doc_37117'], [np.float64(1.0628910072579854), 'doc_44995'], [np.float64(1.01457777965535), 'doc_37090'], [np.float64(1.0030098237504932), 'doc_39021'], [np.float64(1.0030098237504932), 'doc_40662'], [np.float64(0.9723887640023439), 'doc_25110']]\n",
      "\n",
      "======================\n",
      "Sample of 10 results out of 951 for the searched query 'India protest':\n",
      "\n",
      "docId = doc_17093\n",
      "docId = doc_17097\n",
      "docId = doc_38842\n",
      "docId = doc_40320\n",
      "docId = doc_32847\n",
      "docId = doc_445\n",
      "docId = doc_27693\n",
      "docId = doc_46574\n",
      "docId = doc_13552\n",
      "docId = doc_29037\n",
      "[[np.float64(3.162031659302574), 'doc_38864'], [np.float64(3.0376253175878234), 'doc_43187'], [np.float64(2.9274506202115265), 'doc_31878'], [np.float64(2.9274506202115265), 'doc_47382'], [np.float64(2.9274506202115265), 'doc_47396'], [np.float64(2.9274506202115265), 'doc_47423'], [np.float64(2.7873249914185867), 'doc_30210'], [np.float64(2.7714712349885886), 'doc_24459'], [np.float64(2.7384613457010403), 'doc_3699'], [np.float64(2.7384613457010403), 'doc_4430'], [np.float64(2.7384613457010403), 'doc_10987'], [np.float64(2.7384613457010403), 'doc_10990'], [np.float64(2.7384613457010403), 'doc_15877'], [np.float64(2.7384613457010403), 'doc_18172'], [np.float64(2.7384613457010403), 'doc_21573'], [np.float64(2.7384613457010403), 'doc_22029'], [np.float64(2.7384613457010403), 'doc_22031'], [np.float64(2.7384613457010403), 'doc_22105'], [np.float64(2.7384613457010403), 'doc_30487'], [np.float64(2.7168520840505495), 'doc_26697'], [np.float64(2.651573419477638), 'doc_6936'], [np.float64(2.651573419477638), 'doc_6953'], [np.float64(2.651573419477638), 'doc_6973'], [np.float64(2.651573419477638), 'doc_6992'], [np.float64(2.651573419477638), 'doc_6994'], [np.float64(2.651573419477638), 'doc_7002'], [np.float64(2.651573419477638), 'doc_7005'], [np.float64(2.651573419477638), 'doc_7008'], [np.float64(2.651573419477638), 'doc_7010'], [np.float64(2.651573419477638), 'doc_7014'], [np.float64(2.651573419477638), 'doc_7021'], [np.float64(2.651573419477638), 'doc_7025'], [np.float64(2.651573419477638), 'doc_7028'], [np.float64(2.651573419477638), 'doc_7031'], [np.float64(2.651573419477638), 'doc_7035'], [np.float64(2.651573419477638), 'doc_7038'], [np.float64(2.651573419477638), 'doc_7040'], [np.float64(2.651573419477638), 'doc_7041'], [np.float64(2.651573419477638), 'doc_7043'], [np.float64(2.651573419477638), 'doc_7046'], [np.float64(2.651573419477638), 'doc_7048'], [np.float64(2.651573419477638), 'doc_7053'], [np.float64(2.5904868708388955), 'doc_4323'], [np.float64(2.5904868708388955), 'doc_6934'], [np.float64(2.5904868708388955), 'doc_7003'], [np.float64(2.5904868708388955), 'doc_7019'], [np.float64(2.5904868708388955), 'doc_7034'], [np.float64(2.5904868708388955), 'doc_7052'], [np.float64(2.581896550251943), 'doc_1267'], [np.float64(2.581896550251943), 'doc_7471'], [np.float64(2.581896550251943), 'doc_8333'], [np.float64(2.581896550251943), 'doc_25509'], [np.float64(2.54346963422401), 'doc_590'], [np.float64(2.54346963422401), 'doc_2815'], [np.float64(2.54346963422401), 'doc_5678'], [np.float64(2.54346963422401), 'doc_8769'], [np.float64(2.54346963422401), 'doc_9483'], [np.float64(2.54346963422401), 'doc_11182'], [np.float64(2.54346963422401), 'doc_12327'], [np.float64(2.54346963422401), 'doc_13898'], [np.float64(2.54346963422401), 'doc_14443'], [np.float64(2.54346963422401), 'doc_14916'], [np.float64(2.54346963422401), 'doc_15040'], [np.float64(2.54346963422401), 'doc_15333'], [np.float64(2.54346963422401), 'doc_15412'], [np.float64(2.54346963422401), 'doc_15742'], [np.float64(2.54346963422401), 'doc_16712'], [np.float64(2.54346963422401), 'doc_17197'], [np.float64(2.54346963422401), 'doc_17330'], [np.float64(2.54346963422401), 'doc_18146'], [np.float64(2.54346963422401), 'doc_18527'], [np.float64(2.54346963422401), 'doc_19217'], [np.float64(2.54346963422401), 'doc_20128'], [np.float64(2.54346963422401), 'doc_22254'], [np.float64(2.54346963422401), 'doc_22499'], [np.float64(2.54346963422401), 'doc_22516'], [np.float64(2.54346963422401), 'doc_23352'], [np.float64(2.54346963422401), 'doc_24795'], [np.float64(2.54346963422401), 'doc_28576'], [np.float64(2.54346963422401), 'doc_28796'], [np.float64(2.54346963422401), 'doc_30390'], [np.float64(2.54346963422401), 'doc_30962'], [np.float64(2.54346963422401), 'doc_36030'], [np.float64(2.54346963422401), 'doc_36131'], [np.float64(2.54346963422401), 'doc_36182'], [np.float64(2.54346963422401), 'doc_36397'], [np.float64(2.54346963422401), 'doc_39456'], [np.float64(2.54346963422401), 'doc_40422'], [np.float64(2.54346963422401), 'doc_41375'], [np.float64(2.54346963422401), 'doc_41582'], [np.float64(2.54346963422401), 'doc_43755'], [np.float64(2.54346963422401), 'doc_44324'], [np.float64(2.54346963422401), 'doc_45741'], [np.float64(2.480251351565685), 'doc_4325'], [np.float64(2.480251351565685), 'doc_4334'], [np.float64(2.480251351565685), 'doc_4336'], [np.float64(2.480251351565685), 'doc_4337'], [np.float64(2.480251351565685), 'doc_4340'], [np.float64(2.480251351565685), 'doc_4346'], [np.float64(2.480251351565685), 'doc_4348'], [np.float64(2.480251351565685), 'doc_4354'], [np.float64(2.454047338458947), 'doc_22998'], [np.float64(2.449449148853201), 'doc_14086'], [np.float64(2.449449148853201), 'doc_24518'], [np.float64(2.449449148853201), 'doc_25672'], [np.float64(2.449449148853201), 'doc_25965'], [np.float64(2.449449148853201), 'doc_26981'], [np.float64(2.449449148853201), 'doc_43922'], [np.float64(2.449449148853201), 'doc_47678'], [np.float64(2.443475244378348), 'doc_24964'], [np.float64(2.4301002540702585), 'doc_4333'], [np.float64(2.4301002540702585), 'doc_4344'], [np.float64(2.3734351210943823), 'doc_33745'], [np.float64(2.35449345253331), 'doc_13424'], [np.float64(2.335256814135718), 'doc_9369'], [np.float64(2.335256814135718), 'doc_21919'], [np.float64(2.335256814135718), 'doc_21931'], [np.float64(2.335256814135718), 'doc_25208'], [np.float64(2.335256814135718), 'doc_25607'], [np.float64(2.335256814135718), 'doc_28954'], [np.float64(2.2563480859042357), 'doc_24335'], [np.float64(2.2361148996384137), 'doc_24800'], [np.float64(2.2361148996384137), 'doc_42028'], [np.float64(2.207981741828292), 'doc_33965'], [np.float64(2.202519600124705), 'doc_357'], [np.float64(2.202519600124705), 'doc_506'], [np.float64(2.202519600124705), 'doc_659'], [np.float64(2.202519600124705), 'doc_1244'], [np.float64(2.202519600124705), 'doc_1263'], [np.float64(2.202519600124705), 'doc_1268'], [np.float64(2.202519600124705), 'doc_1290'], [np.float64(2.202519600124705), 'doc_1375'], [np.float64(2.202519600124705), 'doc_1468'], [np.float64(2.202519600124705), 'doc_1699'], [np.float64(2.202519600124705), 'doc_1862'], [np.float64(2.202519600124705), 'doc_1922'], [np.float64(2.202519600124705), 'doc_2022'], [np.float64(2.202519600124705), 'doc_3258'], [np.float64(2.202519600124705), 'doc_3265'], [np.float64(2.202519600124705), 'doc_3817'], [np.float64(2.202519600124705), 'doc_4030'], [np.float64(2.202519600124705), 'doc_4291'], [np.float64(2.202519600124705), 'doc_4699'], [np.float64(2.202519600124705), 'doc_5708'], [np.float64(2.202519600124705), 'doc_5760'], [np.float64(2.202519600124705), 'doc_7077'], [np.float64(2.202519600124705), 'doc_7310'], [np.float64(2.202519600124705), 'doc_7482'], [np.float64(2.202519600124705), 'doc_7581'], [np.float64(2.202519600124705), 'doc_7857'], [np.float64(2.202519600124705), 'doc_8002'], [np.float64(2.202519600124705), 'doc_8004'], [np.float64(2.202519600124705), 'doc_9259'], [np.float64(2.202519600124705), 'doc_9987'], [np.float64(2.202519600124705), 'doc_10142'], [np.float64(2.202519600124705), 'doc_10858'], [np.float64(2.202519600124705), 'doc_10921'], [np.float64(2.202519600124705), 'doc_10929'], [np.float64(2.202519600124705), 'doc_10942'], [np.float64(2.202519600124705), 'doc_10952'], [np.float64(2.202519600124705), 'doc_11024'], [np.float64(2.202519600124705), 'doc_11032'], [np.float64(2.202519600124705), 'doc_11042'], [np.float64(2.202519600124705), 'doc_11050'], [np.float64(2.202519600124705), 'doc_11056'], [np.float64(2.202519600124705), 'doc_13566'], [np.float64(2.202519600124705), 'doc_13733'], [np.float64(2.202519600124705), 'doc_13871'], [np.float64(2.202519600124705), 'doc_13932'], [np.float64(2.202519600124705), 'doc_13951'], [np.float64(2.202519600124705), 'doc_14004'], [np.float64(2.202519600124705), 'doc_14287'], [np.float64(2.202519600124705), 'doc_14309'], [np.float64(2.202519600124705), 'doc_14314'], [np.float64(2.202519600124705), 'doc_14429'], [np.float64(2.202519600124705), 'doc_15520'], [np.float64(2.202519600124705), 'doc_17122'], [np.float64(2.202519600124705), 'doc_17145'], [np.float64(2.202519600124705), 'doc_17159'], [np.float64(2.202519600124705), 'doc_17184'], [np.float64(2.202519600124705), 'doc_17301'], [np.float64(2.202519600124705), 'doc_17335'], [np.float64(2.202519600124705), 'doc_17423'], [np.float64(2.202519600124705), 'doc_17754'], [np.float64(2.202519600124705), 'doc_17779'], [np.float64(2.202519600124705), 'doc_18197'], [np.float64(2.202519600124705), 'doc_18212'], [np.float64(2.202519600124705), 'doc_18285'], [np.float64(2.202519600124705), 'doc_18485'], [np.float64(2.202519600124705), 'doc_19503'], [np.float64(2.202519600124705), 'doc_20265'], [np.float64(2.202519600124705), 'doc_20449'], [np.float64(2.202519600124705), 'doc_20459'], [np.float64(2.202519600124705), 'doc_20467'], [np.float64(2.202519600124705), 'doc_20470'], [np.float64(2.202519600124705), 'doc_20474'], [np.float64(2.202519600124705), 'doc_20482'], [np.float64(2.202519600124705), 'doc_20485'], [np.float64(2.202519600124705), 'doc_20529'], [np.float64(2.202519600124705), 'doc_20532'], [np.float64(2.202519600124705), 'doc_20534'], [np.float64(2.202519600124705), 'doc_20541'], [np.float64(2.202519600124705), 'doc_20544'], [np.float64(2.202519600124705), 'doc_20549'], [np.float64(2.202519600124705), 'doc_20550'], [np.float64(2.202519600124705), 'doc_20552'], [np.float64(2.202519600124705), 'doc_20554'], [np.float64(2.202519600124705), 'doc_20555'], [np.float64(2.202519600124705), 'doc_20557'], [np.float64(2.202519600124705), 'doc_20562'], [np.float64(2.202519600124705), 'doc_20565'], [np.float64(2.202519600124705), 'doc_20566'], [np.float64(2.202519600124705), 'doc_20568'], [np.float64(2.202519600124705), 'doc_20569'], [np.float64(2.202519600124705), 'doc_20586'], [np.float64(2.202519600124705), 'doc_20588'], [np.float64(2.202519600124705), 'doc_20590'], [np.float64(2.202519600124705), 'doc_20591'], [np.float64(2.202519600124705), 'doc_20601'], [np.float64(2.202519600124705), 'doc_20752'], [np.float64(2.202519600124705), 'doc_20880'], [np.float64(2.202519600124705), 'doc_20898'], [np.float64(2.202519600124705), 'doc_21026'], [np.float64(2.202519600124705), 'doc_21129'], [np.float64(2.202519600124705), 'doc_21218'], [np.float64(2.202519600124705), 'doc_21398'], [np.float64(2.202519600124705), 'doc_21718'], [np.float64(2.202519600124705), 'doc_21783'], [np.float64(2.202519600124705), 'doc_22175'], [np.float64(2.202519600124705), 'doc_22427'], [np.float64(2.202519600124705), 'doc_23165'], [np.float64(2.202519600124705), 'doc_23455'], [np.float64(2.202519600124705), 'doc_23457'], [np.float64(2.202519600124705), 'doc_24525'], [np.float64(2.202519600124705), 'doc_24634'], [np.float64(2.202519600124705), 'doc_24687'], [np.float64(2.202519600124705), 'doc_25453'], [np.float64(2.202519600124705), 'doc_25506'], [np.float64(2.202519600124705), 'doc_25517'], [np.float64(2.202519600124705), 'doc_25883'], [np.float64(2.202519600124705), 'doc_25889'], [np.float64(2.202519600124705), 'doc_26060'], [np.float64(2.202519600124705), 'doc_26451'], [np.float64(2.202519600124705), 'doc_26533'], [np.float64(2.202519600124705), 'doc_27076'], [np.float64(2.202519600124705), 'doc_27169'], [np.float64(2.202519600124705), 'doc_27238'], [np.float64(2.202519600124705), 'doc_28235'], [np.float64(2.202519600124705), 'doc_28495'], [np.float64(2.202519600124705), 'doc_30276'], [np.float64(2.202519600124705), 'doc_30410'], [np.float64(2.202519600124705), 'doc_30464'], [np.float64(2.202519600124705), 'doc_30499'], [np.float64(2.202519600124705), 'doc_30637'], [np.float64(2.202519600124705), 'doc_30684'], [np.float64(2.202519600124705), 'doc_31172'], [np.float64(2.202519600124705), 'doc_31938'], [np.float64(2.202519600124705), 'doc_32946'], [np.float64(2.202519600124705), 'doc_33639'], [np.float64(2.202519600124705), 'doc_33906'], [np.float64(2.202519600124705), 'doc_33908'], [np.float64(2.202519600124705), 'doc_34321'], [np.float64(2.202519600124705), 'doc_34342'], [np.float64(2.202519600124705), 'doc_34347'], [np.float64(2.202519600124705), 'doc_34401'], [np.float64(2.202519600124705), 'doc_34432'], [np.float64(2.202519600124705), 'doc_34581'], [np.float64(2.202519600124705), 'doc_34834'], [np.float64(2.202519600124705), 'doc_35126'], [np.float64(2.202519600124705), 'doc_35328'], [np.float64(2.202519600124705), 'doc_35690'], [np.float64(2.202519600124705), 'doc_36961'], [np.float64(2.202519600124705), 'doc_38504'], [np.float64(2.202519600124705), 'doc_38859'], [np.float64(2.202519600124705), 'doc_39329'], [np.float64(2.202519600124705), 'doc_39396'], [np.float64(2.202519600124705), 'doc_39691'], [np.float64(2.202519600124705), 'doc_39835'], [np.float64(2.202519600124705), 'doc_40867'], [np.float64(2.202519600124705), 'doc_41694'], [np.float64(2.202519600124705), 'doc_41695'], [np.float64(2.202519600124705), 'doc_42185'], [np.float64(2.202519600124705), 'doc_43271'], [np.float64(2.202519600124705), 'doc_43370'], [np.float64(2.202519600124705), 'doc_43851'], [np.float64(2.202519600124705), 'doc_44038'], [np.float64(2.202519600124705), 'doc_44520'], [np.float64(2.202519600124705), 'doc_44626'], [np.float64(2.202519600124705), 'doc_45940'], [np.float64(2.202519600124705), 'doc_46590'], [np.float64(2.202519600124705), 'doc_46708'], [np.float64(2.202519600124705), 'doc_47023'], [np.float64(2.202519600124705), 'doc_47046'], [np.float64(2.202519600124705), 'doc_47094'], [np.float64(2.202519600124705), 'doc_47270'], [np.float64(2.202519600124705), 'doc_47606'], [np.float64(2.202519600124705), 'doc_47739'], [np.float64(2.202519600124705), 'doc_47766'], [np.float64(2.202519600124705), 'doc_47781'], [np.float64(2.202519600124705), 'doc_47822'], [np.float64(2.202519600124705), 'doc_48395'], [np.float64(2.148257135959277), 'doc_7521'], [np.float64(2.148257135959277), 'doc_21005'], [np.float64(2.148257135959277), 'doc_23049'], [np.float64(2.148257135959277), 'doc_24404'], [np.float64(2.148257135959277), 'doc_24533'], [np.float64(2.148257135959277), 'doc_24608'], [np.float64(2.148257135959277), 'doc_26759'], [np.float64(2.148257135959277), 'doc_30695'], [np.float64(2.1368845160409893), 'doc_21704'], [np.float64(2.1368845160409893), 'doc_30040'], [np.float64(2.1368845160409893), 'doc_36411'], [np.float64(2.076535478997572), 'doc_12380'], [np.float64(2.070027969051248), 'doc_6996'], [np.float64(2.070027969051248), 'doc_7124'], [np.float64(2.070027969051248), 'doc_12189'], [np.float64(2.070027969051248), 'doc_22091'], [np.float64(2.070027969051248), 'doc_24123'], [np.float64(2.070027969051248), 'doc_24144'], [np.float64(2.0674233289512802), 'doc_10848'], [np.float64(2.0674233289512802), 'doc_13395'], [np.float64(2.0674233289512802), 'doc_19647'], [np.float64(2.053875218609394), 'doc_46909'], [np.float64(2.02103198507443), 'doc_25202'], [np.float64(2.0155316562088643), 'doc_29342'], [np.float64(1.999878306500306), 'doc_20748'], [np.float64(1.999878306500306), 'doc_21522'], [np.float64(1.999878306500306), 'doc_25717'], [np.float64(1.991024935215802), 'doc_44945'], [np.float64(1.9699335303515364), 'doc_431'], [np.float64(1.9699335303515364), 'doc_640'], [np.float64(1.9699335303515364), 'doc_651'], [np.float64(1.9699335303515364), 'doc_1316'], [np.float64(1.9699335303515364), 'doc_1830'], [np.float64(1.9699335303515364), 'doc_2202'], [np.float64(1.9699335303515364), 'doc_3998'], [np.float64(1.9699335303515364), 'doc_4198'], [np.float64(1.9699335303515364), 'doc_4911'], [np.float64(1.9699335303515364), 'doc_4912'], [np.float64(1.9699335303515364), 'doc_4913'], [np.float64(1.9699335303515364), 'doc_4914'], [np.float64(1.9699335303515364), 'doc_4915'], [np.float64(1.9699335303515364), 'doc_4916'], [np.float64(1.9699335303515364), 'doc_4918'], [np.float64(1.9699335303515364), 'doc_4919'], [np.float64(1.9699335303515364), 'doc_4923'], [np.float64(1.9699335303515364), 'doc_4924'], [np.float64(1.9699335303515364), 'doc_4927'], [np.float64(1.9699335303515364), 'doc_6762'], [np.float64(1.9699335303515364), 'doc_6962'], [np.float64(1.9699335303515364), 'doc_7428'], [np.float64(1.9699335303515364), 'doc_7432'], [np.float64(1.9699335303515364), 'doc_7440'], [np.float64(1.9699335303515364), 'doc_7475'], [np.float64(1.9699335303515364), 'doc_7530'], [np.float64(1.9699335303515364), 'doc_8172'], [np.float64(1.9699335303515364), 'doc_8457'], [np.float64(1.9699335303515364), 'doc_9178'], [np.float64(1.9699335303515364), 'doc_10939'], [np.float64(1.9699335303515364), 'doc_10982'], [np.float64(1.9699335303515364), 'doc_11012'], [np.float64(1.9699335303515364), 'doc_11060'], [np.float64(1.9699335303515364), 'doc_11830'], [np.float64(1.9699335303515364), 'doc_12411'], [np.float64(1.9699335303515364), 'doc_12465'], [np.float64(1.9699335303515364), 'doc_12474'], [np.float64(1.9699335303515364), 'doc_12483'], [np.float64(1.9699335303515364), 'doc_12524'], [np.float64(1.9699335303515364), 'doc_12942'], [np.float64(1.9699335303515364), 'doc_13102'], [np.float64(1.9699335303515364), 'doc_13522'], [np.float64(1.9699335303515364), 'doc_13529'], [np.float64(1.9699335303515364), 'doc_13591'], [np.float64(1.9699335303515364), 'doc_13598'], [np.float64(1.9699335303515364), 'doc_13603'], [np.float64(1.9699335303515364), 'doc_13862'], [np.float64(1.9699335303515364), 'doc_13909'], [np.float64(1.9699335303515364), 'doc_14023'], [np.float64(1.9699335303515364), 'doc_14238'], [np.float64(1.9699335303515364), 'doc_14259'], [np.float64(1.9699335303515364), 'doc_14297'], [np.float64(1.9699335303515364), 'doc_14394'], [np.float64(1.9699335303515364), 'doc_14672'], [np.float64(1.9699335303515364), 'doc_15335'], [np.float64(1.9699335303515364), 'doc_16168'], [np.float64(1.9699335303515364), 'doc_16559'], [np.float64(1.9699335303515364), 'doc_17288'], [np.float64(1.9699335303515364), 'doc_17774'], [np.float64(1.9699335303515364), 'doc_17826'], [np.float64(1.9699335303515364), 'doc_18038'], [np.float64(1.9699335303515364), 'doc_18118'], [np.float64(1.9699335303515364), 'doc_18243'], [np.float64(1.9699335303515364), 'doc_18383'], [np.float64(1.9699335303515364), 'doc_18450'], [np.float64(1.9699335303515364), 'doc_19613'], [np.float64(1.9699335303515364), 'doc_19724'], [np.float64(1.9699335303515364), 'doc_19995'], [np.float64(1.9699335303515364), 'doc_20014'], [np.float64(1.9699335303515364), 'doc_20417'], [np.float64(1.9699335303515364), 'doc_20584'], [np.float64(1.9699335303515364), 'doc_20615'], [np.float64(1.9699335303515364), 'doc_21554'], [np.float64(1.9699335303515364), 'doc_21576'], [np.float64(1.9699335303515364), 'doc_21648'], [np.float64(1.9699335303515364), 'doc_21913'], [np.float64(1.9699335303515364), 'doc_22074'], [np.float64(1.9699335303515364), 'doc_22087'], [np.float64(1.9699335303515364), 'doc_22269'], [np.float64(1.9699335303515364), 'doc_22309'], [np.float64(1.9699335303515364), 'doc_22425'], [np.float64(1.9699335303515364), 'doc_23385'], [np.float64(1.9699335303515364), 'doc_23594'], [np.float64(1.9699335303515364), 'doc_23732'], [np.float64(1.9699335303515364), 'doc_23738'], [np.float64(1.9699335303515364), 'doc_23842'], [np.float64(1.9699335303515364), 'doc_23869'], [np.float64(1.9699335303515364), 'doc_23910'], [np.float64(1.9699335303515364), 'doc_24439'], [np.float64(1.9699335303515364), 'doc_24825'], [np.float64(1.9699335303515364), 'doc_25173'], [np.float64(1.9699335303515364), 'doc_25184'], [np.float64(1.9699335303515364), 'doc_25223'], [np.float64(1.9699335303515364), 'doc_25334'], [np.float64(1.9699335303515364), 'doc_25452'], [np.float64(1.9699335303515364), 'doc_25655'], [np.float64(1.9699335303515364), 'doc_25778'], [np.float64(1.9699335303515364), 'doc_26125'], [np.float64(1.9699335303515364), 'doc_26795'], [np.float64(1.9699335303515364), 'doc_26796'], [np.float64(1.9699335303515364), 'doc_28215'], [np.float64(1.9699335303515364), 'doc_29011'], [np.float64(1.9699335303515364), 'doc_30477'], [np.float64(1.9699335303515364), 'doc_32383'], [np.float64(1.9699335303515364), 'doc_32440'], [np.float64(1.9699335303515364), 'doc_33386'], [np.float64(1.9699335303515364), 'doc_33627'], [np.float64(1.9699335303515364), 'doc_33689'], [np.float64(1.9699335303515364), 'doc_34121'], [np.float64(1.9699335303515364), 'doc_34482'], [np.float64(1.9699335303515364), 'doc_34534'], [np.float64(1.9699335303515364), 'doc_34600'], [np.float64(1.9699335303515364), 'doc_35143'], [np.float64(1.9699335303515364), 'doc_35615'], [np.float64(1.9699335303515364), 'doc_35758'], [np.float64(1.9699335303515364), 'doc_36911'], [np.float64(1.9699335303515364), 'doc_38212'], [np.float64(1.9699335303515364), 'doc_38438'], [np.float64(1.9699335303515364), 'doc_38587'], [np.float64(1.9699335303515364), 'doc_38680'], [np.float64(1.9699335303515364), 'doc_38871'], [np.float64(1.9699335303515364), 'doc_39453'], [np.float64(1.9699335303515364), 'doc_40805'], [np.float64(1.9699335303515364), 'doc_43015'], [np.float64(1.9699335303515364), 'doc_43044'], [np.float64(1.9699335303515364), 'doc_43122'], [np.float64(1.9699335303515364), 'doc_43732'], [np.float64(1.9699335303515364), 'doc_43764'], [np.float64(1.9699335303515364), 'doc_43855'], [np.float64(1.9699335303515364), 'doc_43989'], [np.float64(1.9699335303515364), 'doc_44380'], [np.float64(1.9699335303515364), 'doc_44908'], [np.float64(1.9699335303515364), 'doc_44914'], [np.float64(1.9699335303515364), 'doc_44994'], [np.float64(1.9699335303515364), 'doc_45105'], [np.float64(1.9699335303515364), 'doc_45235'], [np.float64(1.9699335303515364), 'doc_46121'], [np.float64(1.9699335303515364), 'doc_46376'], [np.float64(1.9699335303515364), 'doc_46418'], [np.float64(1.9699335303515364), 'doc_46529'], [np.float64(1.9699335303515364), 'doc_47918'], [np.float64(1.9699335303515364), 'doc_48176'], [np.float64(1.9363655175254708), 'doc_24279'], [np.float64(1.9339637340035094), 'doc_161'], [np.float64(1.9339637340035094), 'doc_10197'], [np.float64(1.9339637340035094), 'doc_10205'], [np.float64(1.9339637340035094), 'doc_12770'], [np.float64(1.9339637340035094), 'doc_13059'], [np.float64(1.9339637340035094), 'doc_14131'], [np.float64(1.9339637340035094), 'doc_14379'], [np.float64(1.9339637340035094), 'doc_14740'], [np.float64(1.9339637340035094), 'doc_24906'], [np.float64(1.9339637340035094), 'doc_28952'], [np.float64(1.9339637340035094), 'doc_31432'], [np.float64(1.9339637340035094), 'doc_32999'], [np.float64(1.9339637340035094), 'doc_33751'], [np.float64(1.9339637340035094), 'doc_33858'], [np.float64(1.9339637340035094), 'doc_44514'], [np.float64(1.929718525759068), 'doc_10404'], [np.float64(1.922359106988843), 'doc_10991'], [np.float64(1.9209942508425395), 'doc_35560'], [np.float64(1.901229267202172), 'doc_10402'], [np.float64(1.8786085942866921), 'doc_31120'], [np.float64(1.8783087149863489), 'doc_1090'], [np.float64(1.8783087149863489), 'doc_16000'], [np.float64(1.8783087149863489), 'doc_21854'], [np.float64(1.8783087149863489), 'doc_26453'], [np.float64(1.8369013465040043), 'doc_22093'], [np.float64(1.825605409923014), 'doc_1026'], [np.float64(1.825605409923014), 'doc_16253'], [np.float64(1.825605409923014), 'doc_25565'], [np.float64(1.825605409923014), 'doc_33223'], [np.float64(1.8231426499974677), 'doc_490'], [np.float64(1.8231426499974677), 'doc_9919'], [np.float64(1.8231426499974677), 'doc_15935'], [np.float64(1.8231426499974677), 'doc_17094'], [np.float64(1.8231426499974677), 'doc_18305'], [np.float64(1.8231426499974677), 'doc_20983'], [np.float64(1.8231426499974677), 'doc_23370'], [np.float64(1.8231426499974677), 'doc_23952'], [np.float64(1.8231426499974677), 'doc_27696'], [np.float64(1.8231426499974677), 'doc_31930'], [np.float64(1.8231426499974677), 'doc_46254'], [np.float64(1.8125005526203681), 'doc_48081'], [np.float64(1.798464579547582), 'doc_10403'], [np.float64(1.798464579547582), 'doc_10409'], [np.float64(1.798464579547582), 'doc_10423'], [np.float64(1.798464579547582), 'doc_10428'], [np.float64(1.798464579547582), 'doc_10431'], [np.float64(1.798464579547582), 'doc_10455'], [np.float64(1.798464579547582), 'doc_10456'], [np.float64(1.798464579547582), 'doc_10459'], [np.float64(1.7981370015418097), 'doc_1012'], [np.float64(1.7981370015418097), 'doc_1077'], [np.float64(1.7981370015418097), 'doc_1158'], [np.float64(1.7981370015418097), 'doc_1163'], [np.float64(1.7981370015418097), 'doc_1243'], [np.float64(1.7981370015418097), 'doc_1401'], [np.float64(1.7981370015418097), 'doc_1405'], [np.float64(1.7981370015418097), 'doc_1866'], [np.float64(1.7981370015418097), 'doc_2402'], [np.float64(1.7981370015418097), 'doc_2817'], [np.float64(1.7981370015418097), 'doc_3748'], [np.float64(1.7981370015418097), 'doc_4342'], [np.float64(1.7981370015418097), 'doc_4358'], [np.float64(1.7981370015418097), 'doc_4435'], [np.float64(1.7981370015418097), 'doc_6130'], [np.float64(1.7981370015418097), 'doc_6875'], [np.float64(1.7981370015418097), 'doc_7779'], [np.float64(1.7981370015418097), 'doc_7792'], [np.float64(1.7981370015418097), 'doc_7797'], [np.float64(1.7981370015418097), 'doc_7889'], [np.float64(1.7981370015418097), 'doc_8426'], [np.float64(1.7981370015418097), 'doc_8828'], [np.float64(1.7981370015418097), 'doc_9208'], [np.float64(1.7981370015418097), 'doc_9849'], [np.float64(1.7981370015418097), 'doc_10237'], [np.float64(1.7981370015418097), 'doc_10751'], [np.float64(1.7981370015418097), 'doc_10980'], [np.float64(1.7981370015418097), 'doc_11458'], [np.float64(1.7981370015418097), 'doc_11660'], [np.float64(1.7981370015418097), 'doc_11782'], [np.float64(1.7981370015418097), 'doc_12255'], [np.float64(1.7981370015418097), 'doc_12261'], [np.float64(1.7981370015418097), 'doc_13481'], [np.float64(1.7981370015418097), 'doc_13988'], [np.float64(1.7981370015418097), 'doc_14418'], [np.float64(1.7981370015418097), 'doc_15432'], [np.float64(1.7981370015418097), 'doc_15614'], [np.float64(1.7981370015418097), 'doc_15735'], [np.float64(1.7981370015418097), 'doc_16183'], [np.float64(1.7981370015418097), 'doc_16482'], [np.float64(1.7981370015418097), 'doc_16949'], [np.float64(1.7981370015418097), 'doc_16978'], [np.float64(1.7981370015418097), 'doc_17580'], [np.float64(1.7981370015418097), 'doc_17656'], [np.float64(1.7981370015418097), 'doc_17960'], [np.float64(1.7981370015418097), 'doc_18016'], [np.float64(1.7981370015418097), 'doc_18297'], [np.float64(1.7981370015418097), 'doc_18363'], [np.float64(1.7981370015418097), 'doc_18372'], [np.float64(1.7981370015418097), 'doc_19727'], [np.float64(1.7981370015418097), 'doc_20365'], [np.float64(1.7981370015418097), 'doc_20874'], [np.float64(1.7981370015418097), 'doc_21010'], [np.float64(1.7981370015418097), 'doc_21014'], [np.float64(1.7981370015418097), 'doc_21066'], [np.float64(1.7981370015418097), 'doc_21192'], [np.float64(1.7981370015418097), 'doc_21829'], [np.float64(1.7981370015418097), 'doc_22186'], [np.float64(1.7981370015418097), 'doc_22245'], [np.float64(1.7981370015418097), 'doc_22348'], [np.float64(1.7981370015418097), 'doc_23627'], [np.float64(1.7981370015418097), 'doc_23980'], [np.float64(1.7981370015418097), 'doc_24462'], [np.float64(1.7981370015418097), 'doc_24540'], [np.float64(1.7981370015418097), 'doc_24668'], [np.float64(1.7981370015418097), 'doc_25284'], [np.float64(1.7981370015418097), 'doc_25816'], [np.float64(1.7981370015418097), 'doc_26334'], [np.float64(1.7981370015418097), 'doc_26341'], [np.float64(1.7981370015418097), 'doc_26547'], [np.float64(1.7981370015418097), 'doc_26563'], [np.float64(1.7981370015418097), 'doc_29442'], [np.float64(1.7981370015418097), 'doc_29518'], [np.float64(1.7981370015418097), 'doc_30413'], [np.float64(1.7981370015418097), 'doc_30480'], [np.float64(1.7981370015418097), 'doc_32785'], [np.float64(1.7981370015418097), 'doc_33065'], [np.float64(1.7981370015418097), 'doc_33826'], [np.float64(1.7981370015418097), 'doc_34416'], [np.float64(1.7981370015418097), 'doc_35364'], [np.float64(1.7981370015418097), 'doc_35382'], [np.float64(1.7981370015418097), 'doc_36557'], [np.float64(1.7981370015418097), 'doc_39846'], [np.float64(1.7981370015418097), 'doc_40629'], [np.float64(1.7981370015418097), 'doc_41030'], [np.float64(1.7981370015418097), 'doc_41809'], [np.float64(1.7981370015418097), 'doc_42771'], [np.float64(1.7981370015418097), 'doc_42775'], [np.float64(1.7981370015418097), 'doc_43220'], [np.float64(1.7981370015418097), 'doc_43283'], [np.float64(1.7981370015418097), 'doc_43392'], [np.float64(1.7981370015418097), 'doc_43917'], [np.float64(1.7981370015418097), 'doc_43962'], [np.float64(1.7981370015418097), 'doc_45834'], [np.float64(1.7981370015418097), 'doc_45898'], [np.float64(1.7981370015418097), 'doc_46242'], [np.float64(1.7981370015418097), 'doc_46480'], [np.float64(1.7981370015418097), 'doc_46536'], [np.float64(1.776808998881372), 'doc_5752'], [np.float64(1.7751842211736777), 'doc_10386'], [np.float64(1.7751842211736777), 'doc_10419'], [np.float64(1.7751842211736777), 'doc_10438'], [np.float64(1.7620156800997646), 'doc_1403'], [np.float64(1.7620156800997646), 'doc_25400'], [np.float64(1.7620156800997646), 'doc_25406'], [np.float64(1.7620156800997646), 'doc_25416'], [np.float64(1.7620156800997646), 'doc_46581'], [np.float64(1.7318853188747811), 'doc_14985'], [np.float64(1.7318853188747811), 'doc_16756'], [np.float64(1.7318853188747811), 'doc_27560'], [np.float64(1.7318853188747811), 'doc_39043'], [np.float64(1.7318853188747811), 'doc_40733'], [np.float64(1.7296115404234151), 'doc_12291'], [np.float64(1.7296115404234151), 'doc_12347'], [np.float64(1.7296115404234151), 'doc_12638'], [np.float64(1.7296115404234151), 'doc_13918'], [np.float64(1.7296115404234151), 'doc_14710'], [np.float64(1.7296115404234151), 'doc_16043'], [np.float64(1.7296115404234151), 'doc_20207'], [np.float64(1.7296115404234151), 'doc_20452'], [np.float64(1.7296115404234151), 'doc_20710'], [np.float64(1.7296115404234151), 'doc_21860'], [np.float64(1.7296115404234151), 'doc_29645'], [np.float64(1.7296115404234151), 'doc_42005'], [np.float64(1.7296115404234151), 'doc_43038'], [np.float64(1.7296115404234151), 'doc_43146'], [np.float64(1.7296115404234151), 'doc_44717'], [np.float64(1.727656374337819), 'doc_6156'], [np.float64(1.727656374337819), 'doc_24836'], [np.float64(1.727656374337819), 'doc_24929'], [np.float64(1.727656374337819), 'doc_25016'], [np.float64(1.727656374337819), 'doc_25093'], [np.float64(1.727656374337819), 'doc_25100'], [np.float64(1.727656374337819), 'doc_25291'], [np.float64(1.727656374337819), 'doc_25369'], [np.float64(1.727656374337819), 'doc_25432'], [np.float64(1.727656374337819), 'doc_25445'], [np.float64(1.727656374337819), 'doc_25627'], [np.float64(1.727656374337819), 'doc_26055'], [np.float64(1.727656374337819), 'doc_26275'], [np.float64(1.7190778910159121), 'doc_30753'], [np.float64(1.7190778910159121), 'doc_31636'], [np.float64(1.6954995881759984), 'doc_25028'], [np.float64(1.6954995881759984), 'doc_25102'], [np.float64(1.6954995881759984), 'doc_25112'], [np.float64(1.6954995881759984), 'doc_25320'], [np.float64(1.6954995881759984), 'doc_25324'], [np.float64(1.6954995881759984), 'doc_25770'], [np.float64(1.6954995881759984), 'doc_28213'], [np.float64(1.6954995881759984), 'doc_29080'], [np.float64(1.6954995881759984), 'doc_44525'], [np.float64(1.6954995881759984), 'doc_46478'], [np.float64(1.693510146348623), 'doc_9837'], [np.float64(1.6900598236962312), 'doc_24656'], [np.float64(1.6900598236962312), 'doc_36051'], [np.float64(1.687148994521377), 'doc_25828'], [np.float64(1.687148994521377), 'doc_28314'], [np.float64(1.6651048176942773), 'doc_267'], [np.float64(1.6651048176942773), 'doc_404'], [np.float64(1.6651048176942773), 'doc_833'], [np.float64(1.6651048176942773), 'doc_1223'], [np.float64(1.6651048176942773), 'doc_2064'], [np.float64(1.6651048176942773), 'doc_4373'], [np.float64(1.6651048176942773), 'doc_4695'], [np.float64(1.6651048176942773), 'doc_4945'], [np.float64(1.6651048176942773), 'doc_6652'], [np.float64(1.6651048176942773), 'doc_7452'], [np.float64(1.6651048176942773), 'doc_7461'], [np.float64(1.6651048176942773), 'doc_8122'], [np.float64(1.6651048176942773), 'doc_8471'], [np.float64(1.6651048176942773), 'doc_9059'], [np.float64(1.6651048176942773), 'doc_10418'], [np.float64(1.6651048176942773), 'doc_11066'], [np.float64(1.6651048176942773), 'doc_12106'], [np.float64(1.6651048176942773), 'doc_12241'], [np.float64(1.6651048176942773), 'doc_12739'], [np.float64(1.6651048176942773), 'doc_13197'], [np.float64(1.6651048176942773), 'doc_13311'], [np.float64(1.6651048176942773), 'doc_13923'], [np.float64(1.6651048176942773), 'doc_14015'], [np.float64(1.6651048176942773), 'doc_14149'], [np.float64(1.6651048176942773), 'doc_14152'], [np.float64(1.6651048176942773), 'doc_14463'], [np.float64(1.6651048176942773), 'doc_14515'], [np.float64(1.6651048176942773), 'doc_14593'], [np.float64(1.6651048176942773), 'doc_14626'], [np.float64(1.6651048176942773), 'doc_14717'], [np.float64(1.6651048176942773), 'doc_14733'], [np.float64(1.6651048176942773), 'doc_15369'], [np.float64(1.6651048176942773), 'doc_15659'], [np.float64(1.6651048176942773), 'doc_15960'], [np.float64(1.6651048176942773), 'doc_17427'], [np.float64(1.6651048176942773), 'doc_17807'], [np.float64(1.6651048176942773), 'doc_17820'], [np.float64(1.6651048176942773), 'doc_18250'], [np.float64(1.6651048176942773), 'doc_18282'], [np.float64(1.6651048176942773), 'doc_18416'], [np.float64(1.6651048176942773), 'doc_18953'], [np.float64(1.6651048176942773), 'doc_19008'], [np.float64(1.6651048176942773), 'doc_19136'], [np.float64(1.6651048176942773), 'doc_19515'], [np.float64(1.6651048176942773), 'doc_19675'], [np.float64(1.6651048176942773), 'doc_19678'], [np.float64(1.6651048176942773), 'doc_20147'], [np.float64(1.6651048176942773), 'doc_20150'], [np.float64(1.6651048176942773), 'doc_20399'], [np.float64(1.6651048176942773), 'doc_20676'], [np.float64(1.6651048176942773), 'doc_20997'], [np.float64(1.6651048176942773), 'doc_21098'], [np.float64(1.6651048176942773), 'doc_21151'], [np.float64(1.6651048176942773), 'doc_21596'], [np.float64(1.6651048176942773), 'doc_22101'], [np.float64(1.6651048176942773), 'doc_22420'], [np.float64(1.6651048176942773), 'doc_22960'], [np.float64(1.6651048176942773), 'doc_23036'], [np.float64(1.6651048176942773), 'doc_23542'], [np.float64(1.6651048176942773), 'doc_24227'], [np.float64(1.6651048176942773), 'doc_24600'], [np.float64(1.6651048176942773), 'doc_24847'], [np.float64(1.6651048176942773), 'doc_24901'], [np.float64(1.6651048176942773), 'doc_25316'], [np.float64(1.6651048176942773), 'doc_25336'], [np.float64(1.6651048176942773), 'doc_25490'], [np.float64(1.6651048176942773), 'doc_25593'], [np.float64(1.6651048176942773), 'doc_25641'], [np.float64(1.6651048176942773), 'doc_25727'], [np.float64(1.6651048176942773), 'doc_25922'], [np.float64(1.6651048176942773), 'doc_25982'], [np.float64(1.6651048176942773), 'doc_26206'], [np.float64(1.6651048176942773), 'doc_26303'], [np.float64(1.6651048176942773), 'doc_26323'], [np.float64(1.6651048176942773), 'doc_26331'], [np.float64(1.6651048176942773), 'doc_26404'], [np.float64(1.6651048176942773), 'doc_26422'], [np.float64(1.6651048176942773), 'doc_26430'], [np.float64(1.6651048176942773), 'doc_26842'], [np.float64(1.6651048176942773), 'doc_27320'], [np.float64(1.6651048176942773), 'doc_28361'], [np.float64(1.6651048176942773), 'doc_28738'], [np.float64(1.6651048176942773), 'doc_29957'], [np.float64(1.6651048176942773), 'doc_30177'], [np.float64(1.6651048176942773), 'doc_30188'], [np.float64(1.6651048176942773), 'doc_30208'], [np.float64(1.6651048176942773), 'doc_31704'], [np.float64(1.6651048176942773), 'doc_33618'], [np.float64(1.6651048176942773), 'doc_34278'], [np.float64(1.6651048176942773), 'doc_36763'], [np.float64(1.6651048176942773), 'doc_37233'], [np.float64(1.6651048176942773), 'doc_38285'], [np.float64(1.6651048176942773), 'doc_40288'], [np.float64(1.6651048176942773), 'doc_40622'], [np.float64(1.6651048176942773), 'doc_40685'], [np.float64(1.6651048176942773), 'doc_41555'], [np.float64(1.6651048176942773), 'doc_42278'], [np.float64(1.6651048176942773), 'doc_42608'], [np.float64(1.6651048176942773), 'doc_43066'], [np.float64(1.6651048176942773), 'doc_43809'], [np.float64(1.6651048176942773), 'doc_44466'], [np.float64(1.6651048176942773), 'doc_44471'], [np.float64(1.6651048176942773), 'doc_44587'], [np.float64(1.6651048176942773), 'doc_45161'], [np.float64(1.6651048176942773), 'doc_45212'], [np.float64(1.6651048176942773), 'doc_45686'], [np.float64(1.6651048176942773), 'doc_46586'], [np.float64(1.6651048176942773), 'doc_46646'], [np.float64(1.6651048176942773), 'doc_46956'], [np.float64(1.6651048176942773), 'doc_47098'], [np.float64(1.6651048176942773), 'doc_48366'], [np.float64(1.6513325133457215), 'doc_24046'], [np.float64(1.6513325133457215), 'doc_28660'], [np.float64(1.6513325133457215), 'doc_30470'], [np.float64(1.6513325133457215), 'doc_42010'], [np.float64(1.6491011424898745), 'doc_3080'], [np.float64(1.6491011424898745), 'doc_5303'], [np.float64(1.6491011424898745), 'doc_9200'], [np.float64(1.6491011424898745), 'doc_9269'], [np.float64(1.6491011424898745), 'doc_10474'], [np.float64(1.6491011424898745), 'doc_10478'], [np.float64(1.6491011424898745), 'doc_10479'], [np.float64(1.6491011424898745), 'doc_10486'], [np.float64(1.6491011424898745), 'doc_10487'], [np.float64(1.6491011424898745), 'doc_10511'], [np.float64(1.6491011424898745), 'doc_10512'], [np.float64(1.6491011424898745), 'doc_10513'], [np.float64(1.6491011424898745), 'doc_10518'], [np.float64(1.6491011424898745), 'doc_10521'], [np.float64(1.6491011424898745), 'doc_10524'], [np.float64(1.6491011424898745), 'doc_10530'], [np.float64(1.6491011424898745), 'doc_10531'], [np.float64(1.6491011424898745), 'doc_10532'], [np.float64(1.6491011424898745), 'doc_10533'], [np.float64(1.6491011424898745), 'doc_10535'], [np.float64(1.6491011424898745), 'doc_10538'], [np.float64(1.6491011424898745), 'doc_10541'], [np.float64(1.6491011424898745), 'doc_10542'], [np.float64(1.6491011424898745), 'doc_10544'], [np.float64(1.6491011424898745), 'doc_10547'], [np.float64(1.6491011424898745), 'doc_10562'], [np.float64(1.6491011424898745), 'doc_10564'], [np.float64(1.6491011424898745), 'doc_10565'], [np.float64(1.6491011424898745), 'doc_10567'], [np.float64(1.6491011424898745), 'doc_10585'], [np.float64(1.6491011424898745), 'doc_10586'], [np.float64(1.6491011424898745), 'doc_10587'], [np.float64(1.6491011424898745), 'doc_10590'], [np.float64(1.6491011424898745), 'doc_10592'], [np.float64(1.6491011424898745), 'doc_10593'], [np.float64(1.6491011424898745), 'doc_10595'], [np.float64(1.6491011424898745), 'doc_10596'], [np.float64(1.6491011424898745), 'doc_10599'], [np.float64(1.6491011424898745), 'doc_10601'], [np.float64(1.6491011424898745), 'doc_10603'], [np.float64(1.6491011424898745), 'doc_10604'], [np.float64(1.6491011424898745), 'doc_10605'], [np.float64(1.6491011424898745), 'doc_10606'], [np.float64(1.6491011424898745), 'doc_10608'], [np.float64(1.6491011424898745), 'doc_10609'], [np.float64(1.6491011424898745), 'doc_10611'], [np.float64(1.6491011424898745), 'doc_10613'], [np.float64(1.6491011424898745), 'doc_10614'], [np.float64(1.6491011424898745), 'doc_10615'], [np.float64(1.6491011424898745), 'doc_10617'], [np.float64(1.6491011424898745), 'doc_10620'], [np.float64(1.6491011424898745), 'doc_10622'], [np.float64(1.6491011424898745), 'doc_10624'], [np.float64(1.6491011424898745), 'doc_10626'], [np.float64(1.6491011424898745), 'doc_10627'], [np.float64(1.6491011424898745), 'doc_10630'], [np.float64(1.6491011424898745), 'doc_10631'], [np.float64(1.6491011424898745), 'doc_10632'], [np.float64(1.6491011424898745), 'doc_10633'], [np.float64(1.6491011424898745), 'doc_10635'], [np.float64(1.6491011424898745), 'doc_10636'], [np.float64(1.6491011424898745), 'doc_10637'], [np.float64(1.6491011424898745), 'doc_10638'], [np.float64(1.6491011424898745), 'doc_10639'], [np.float64(1.6491011424898745), 'doc_10642'], [np.float64(1.6491011424898745), 'doc_10643'], [np.float64(1.6491011424898745), 'doc_10645'], [np.float64(1.6491011424898745), 'doc_10646'], [np.float64(1.6491011424898745), 'doc_10647'], [np.float64(1.6491011424898745), 'doc_10648'], [np.float64(1.6491011424898745), 'doc_10649'], [np.float64(1.6491011424898745), 'doc_10650'], [np.float64(1.6491011424898745), 'doc_10652'], [np.float64(1.6491011424898745), 'doc_10653'], [np.float64(1.6491011424898745), 'doc_10655'], [np.float64(1.6491011424898745), 'doc_10656'], [np.float64(1.6491011424898745), 'doc_10657'], [np.float64(1.6491011424898745), 'doc_10659'], [np.float64(1.6491011424898745), 'doc_10660'], [np.float64(1.6491011424898745), 'doc_10663'], [np.float64(1.6491011424898745), 'doc_10664'], [np.float64(1.6491011424898745), 'doc_10667'], [np.float64(1.6491011424898745), 'doc_10669'], [np.float64(1.6491011424898745), 'doc_10670'], [np.float64(1.6491011424898745), 'doc_10672'], [np.float64(1.6491011424898745), 'doc_10676'], [np.float64(1.6491011424898745), 'doc_10677'], [np.float64(1.6491011424898745), 'doc_10678'], [np.float64(1.6491011424898745), 'doc_10680'], [np.float64(1.6491011424898745), 'doc_10681'], [np.float64(1.6491011424898745), 'doc_10682'], [np.float64(1.6491011424898745), 'doc_10686'], [np.float64(1.6491011424898745), 'doc_10688'], [np.float64(1.6491011424898745), 'doc_10691'], [np.float64(1.6491011424898745), 'doc_10695'], [np.float64(1.6491011424898745), 'doc_10696'], [np.float64(1.6491011424898745), 'doc_10697'], [np.float64(1.6491011424898745), 'doc_10699'], [np.float64(1.6491011424898745), 'doc_10703'], [np.float64(1.6491011424898745), 'doc_10704'], [np.float64(1.6491011424898745), 'doc_10706'], [np.float64(1.6491011424898745), 'doc_10707'], [np.float64(1.6491011424898745), 'doc_10709'], [np.float64(1.6491011424898745), 'doc_10712'], [np.float64(1.6491011424898745), 'doc_10715'], [np.float64(1.6491011424898745), 'doc_10718'], [np.float64(1.6491011424898745), 'doc_10721'], [np.float64(1.6491011424898745), 'doc_10722'], [np.float64(1.6491011424898745), 'doc_10723'], [np.float64(1.6491011424898745), 'doc_10724'], [np.float64(1.6491011424898745), 'doc_10729'], [np.float64(1.6491011424898745), 'doc_10730'], [np.float64(1.6491011424898745), 'doc_10732'], [np.float64(1.6491011424898745), 'doc_10733'], [np.float64(1.6491011424898745), 'doc_10735'], [np.float64(1.6491011424898745), 'doc_10736'], [np.float64(1.6491011424898745), 'doc_10737'], [np.float64(1.6491011424898745), 'doc_10739'], [np.float64(1.6491011424898745), 'doc_10741'], [np.float64(1.6491011424898745), 'doc_10742'], [np.float64(1.6491011424898745), 'doc_10746'], [np.float64(1.6491011424898745), 'doc_10748'], [np.float64(1.6491011424898745), 'doc_10750'], [np.float64(1.6491011424898745), 'doc_10752'], [np.float64(1.6491011424898745), 'doc_10757'], [np.float64(1.6491011424898745), 'doc_10759'], [np.float64(1.6491011424898745), 'doc_10761'], [np.float64(1.6491011424898745), 'doc_10763'], [np.float64(1.6491011424898745), 'doc_10765'], [np.float64(1.6491011424898745), 'doc_10767'], [np.float64(1.6491011424898745), 'doc_10769'], [np.float64(1.6491011424898745), 'doc_10773'], [np.float64(1.6491011424898745), 'doc_10776'], [np.float64(1.6491011424898745), 'doc_10779'], [np.float64(1.6491011424898745), 'doc_10781'], [np.float64(1.6491011424898745), 'doc_10784'], [np.float64(1.6491011424898745), 'doc_10785'], [np.float64(1.6491011424898745), 'doc_10787'], [np.float64(1.6491011424898745), 'doc_10794'], [np.float64(1.6491011424898745), 'doc_10797'], [np.float64(1.6491011424898745), 'doc_14596'], [np.float64(1.6491011424898745), 'doc_21661'], [np.float64(1.6491011424898745), 'doc_24548'], [np.float64(1.6491011424898745), 'doc_25464'], [np.float64(1.6491011424898745), 'doc_28618'], [np.float64(1.6491011424898745), 'doc_30893'], [np.float64(1.6491011424898745), 'doc_32737'], [np.float64(1.6491011424898745), 'doc_37088'], [np.float64(1.6491011424898745), 'doc_44023'], [np.float64(1.6491011424898745), 'doc_44452'], [np.float64(1.636031558972631), 'doc_17028'], [np.float64(1.636031558972631), 'doc_24871'], [np.float64(1.636031558972631), 'doc_24930'], [np.float64(1.636031558972631), 'doc_24939'], [np.float64(1.636031558972631), 'doc_25310'], [np.float64(1.636031558972631), 'doc_25753'], [np.float64(1.636031558972631), 'doc_25863'], [np.float64(1.636031558972631), 'doc_26121'], [np.float64(1.636031558972631), 'doc_42274'], [np.float64(1.6149288416162426), 'doc_9435'], [np.float64(1.6149288416162426), 'doc_13575'], [np.float64(1.6082798120110597), 'doc_15865'], [np.float64(1.6082798120110597), 'doc_25650'], [np.float64(1.5846673879360367), 'doc_6834'], [np.float64(1.5822900807295885), 'doc_44672'], [np.float64(1.5808488085077945), 'doc_11460'], [np.float64(1.5808488085077945), 'doc_25554'], [np.float64(1.5808488085077945), 'doc_39997'], [np.float64(1.5790895516976011), 'doc_1083'], [np.float64(1.5790895516976011), 'doc_3764'], [np.float64(1.5790895516976011), 'doc_3765'], [np.float64(1.5790895516976011), 'doc_3767'], [np.float64(1.5790895516976011), 'doc_3772'], [np.float64(1.5790895516976011), 'doc_3774'], [np.float64(1.5790895516976011), 'doc_3777'], [np.float64(1.5790895516976011), 'doc_3781'], [np.float64(1.5790895516976011), 'doc_3783'], [np.float64(1.5790895516976011), 'doc_3785'], [np.float64(1.5790895516976011), 'doc_3787'], [np.float64(1.5790895516976011), 'doc_4083'], [np.float64(1.5790895516976011), 'doc_10514'], [np.float64(1.5790895516976011), 'doc_10522'], [np.float64(1.5790895516976011), 'doc_10534'], [np.float64(1.5790895516976011), 'doc_10543'], [np.float64(1.5790895516976011), 'doc_10560'], [np.float64(1.5790895516976011), 'doc_10598'], [np.float64(1.5790895516976011), 'doc_10616'], [np.float64(1.5790895516976011), 'doc_10618'], [np.float64(1.5790895516976011), 'doc_10629'], [np.float64(1.5790895516976011), 'doc_10640'], [np.float64(1.5790895516976011), 'doc_10662'], [np.float64(1.5790895516976011), 'doc_10675'], [np.float64(1.5790895516976011), 'doc_10683'], [np.float64(1.5790895516976011), 'doc_10685'], [np.float64(1.5790895516976011), 'doc_10693'], [np.float64(1.5790895516976011), 'doc_10701'], [np.float64(1.5790895516976011), 'doc_10705'], [np.float64(1.5790895516976011), 'doc_10713'], [np.float64(1.5790895516976011), 'doc_10716'], [np.float64(1.5790895516976011), 'doc_10727'], [np.float64(1.5790895516976011), 'doc_10728'], [np.float64(1.5790895516976011), 'doc_10744'], [np.float64(1.5790895516976011), 'doc_10755'], [np.float64(1.5790895516976011), 'doc_10771'], [np.float64(1.5790895516976011), 'doc_10790'], [np.float64(1.5790895516976011), 'doc_11650'], [np.float64(1.5790895516976011), 'doc_14353'], [np.float64(1.5790895516976011), 'doc_15006'], [np.float64(1.5790895516976011), 'doc_25670'], [np.float64(1.5790895516976011), 'doc_26218'], [np.float64(1.5790895516976011), 'doc_32483'], [np.float64(1.5790895516976011), 'doc_38611'], [np.float64(1.5790895516976011), 'doc_47385'], [np.float64(1.557621861208192), 'doc_1087'], [np.float64(1.557621861208192), 'doc_1433'], [np.float64(1.557621861208192), 'doc_2673'], [np.float64(1.557621861208192), 'doc_3078'], [np.float64(1.557621861208192), 'doc_3846'], [np.float64(1.557621861208192), 'doc_3848'], [np.float64(1.557621861208192), 'doc_3854'], [np.float64(1.557621861208192), 'doc_3856'], [np.float64(1.557621861208192), 'doc_3860'], [np.float64(1.557621861208192), 'doc_3861'], [np.float64(1.557621861208192), 'doc_3863'], [np.float64(1.557621861208192), 'doc_3866'], [np.float64(1.557621861208192), 'doc_6463'], [np.float64(1.557621861208192), 'doc_7056'], [np.float64(1.557621861208192), 'doc_7057'], [np.float64(1.557621861208192), 'doc_7059'], [np.float64(1.557621861208192), 'doc_7067'], [np.float64(1.557621861208192), 'doc_7076'], [np.float64(1.557621861208192), 'doc_7540'], [np.float64(1.557621861208192), 'doc_8206'], [np.float64(1.557621861208192), 'doc_8882'], [np.float64(1.557621861208192), 'doc_9554'], [np.float64(1.557621861208192), 'doc_10822'], [np.float64(1.557621861208192), 'doc_10936'], [np.float64(1.557621861208192), 'doc_11157'], [np.float64(1.557621861208192), 'doc_11371'], [np.float64(1.557621861208192), 'doc_11624'], [np.float64(1.557621861208192), 'doc_11767'], [np.float64(1.557621861208192), 'doc_12386'], [np.float64(1.557621861208192), 'doc_12432'], [np.float64(1.557621861208192), 'doc_12675'], [np.float64(1.557621861208192), 'doc_12974'], [np.float64(1.557621861208192), 'doc_13029'], [np.float64(1.557621861208192), 'doc_13125'], [np.float64(1.557621861208192), 'doc_13457'], [np.float64(1.557621861208192), 'doc_13612'], [np.float64(1.557621861208192), 'doc_13628'], [np.float64(1.557621861208192), 'doc_13706'], [np.float64(1.557621861208192), 'doc_13723'], [np.float64(1.557621861208192), 'doc_13867'], [np.float64(1.557621861208192), 'doc_13905'], [np.float64(1.557621861208192), 'doc_13937'], [np.float64(1.557621861208192), 'doc_13948'], [np.float64(1.557621861208192), 'doc_13954'], [np.float64(1.557621861208192), 'doc_13963'], [np.float64(1.557621861208192), 'doc_13995'], [np.float64(1.557621861208192), 'doc_14005'], [np.float64(1.557621861208192), 'doc_14074'], [np.float64(1.557621861208192), 'doc_14080'], [np.float64(1.557621861208192), 'doc_14088'], [np.float64(1.557621861208192), 'doc_14102'], [np.float64(1.557621861208192), 'doc_14132'], [np.float64(1.557621861208192), 'doc_14164'], [np.float64(1.557621861208192), 'doc_14280'], [np.float64(1.557621861208192), 'doc_14298'], [np.float64(1.557621861208192), 'doc_14321'], [np.float64(1.557621861208192), 'doc_14322'], [np.float64(1.557621861208192), 'doc_14378'], [np.float64(1.557621861208192), 'doc_14393'], [np.float64(1.557621861208192), 'doc_14411'], [np.float64(1.557621861208192), 'doc_14423'], [np.float64(1.557621861208192), 'doc_14434'], [np.float64(1.557621861208192), 'doc_14457'], [np.float64(1.557621861208192), 'doc_14487'], [np.float64(1.557621861208192), 'doc_14506'], [np.float64(1.557621861208192), 'doc_14536'], [np.float64(1.557621861208192), 'doc_14575'], [np.float64(1.557621861208192), 'doc_14623'], [np.float64(1.557621861208192), 'doc_14635'], [np.float64(1.557621861208192), 'doc_14687'], [np.float64(1.557621861208192), 'doc_15238'], [np.float64(1.557621861208192), 'doc_15576'], [np.float64(1.557621861208192), 'doc_16416'], [np.float64(1.557621861208192), 'doc_19079'], [np.float64(1.557621861208192), 'doc_20410'], [np.float64(1.557621861208192), 'doc_21641'], [np.float64(1.557621861208192), 'doc_21934'], [np.float64(1.557621861208192), 'doc_21942'], [np.float64(1.557621861208192), 'doc_22306'], [np.float64(1.557621861208192), 'doc_23183'], [np.float64(1.557621861208192), 'doc_23304'], [np.float64(1.557621861208192), 'doc_23763'], [np.float64(1.557621861208192), 'doc_24218'], [np.float64(1.557621861208192), 'doc_24507'], [np.float64(1.557621861208192), 'doc_24684'], [np.float64(1.557621861208192), 'doc_24690'], [np.float64(1.557621861208192), 'doc_25608'], [np.float64(1.557621861208192), 'doc_25773'], [np.float64(1.557621861208192), 'doc_26314'], [np.float64(1.557621861208192), 'doc_26711'], [np.float64(1.557621861208192), 'doc_27289'], [np.float64(1.557621861208192), 'doc_27735'], [np.float64(1.557621861208192), 'doc_28015'], [np.float64(1.557621861208192), 'doc_28479'], [np.float64(1.557621861208192), 'doc_28658'], [np.float64(1.557621861208192), 'doc_28761'], [np.float64(1.557621861208192), 'doc_28869'], [np.float64(1.557621861208192), 'doc_29148'], [np.float64(1.557621861208192), 'doc_29837'], [np.float64(1.557621861208192), 'doc_30796'], [np.float64(1.557621861208192), 'doc_31140'], [np.float64(1.557621861208192), 'doc_32252'], [np.float64(1.557621861208192), 'doc_33620'], [np.float64(1.557621861208192), 'doc_34259'], [np.float64(1.557621861208192), 'doc_34289'], [np.float64(1.557621861208192), 'doc_35096'], [np.float64(1.557621861208192), 'doc_35173'], [np.float64(1.557621861208192), 'doc_35707'], [np.float64(1.557621861208192), 'doc_36756'], [np.float64(1.557621861208192), 'doc_37431'], [np.float64(1.557621861208192), 'doc_37543'], [np.float64(1.557621861208192), 'doc_38811'], [np.float64(1.557621861208192), 'doc_39136'], [np.float64(1.557621861208192), 'doc_39844'], [np.float64(1.557621861208192), 'doc_40449'], [np.float64(1.557621861208192), 'doc_40981'], [np.float64(1.557621861208192), 'doc_41406'], [np.float64(1.557621861208192), 'doc_41530'], [np.float64(1.557621861208192), 'doc_42037'], [np.float64(1.557621861208192), 'doc_42241'], [np.float64(1.557621861208192), 'doc_42666'], [np.float64(1.557621861208192), 'doc_44540'], [np.float64(1.557621861208192), 'doc_44952'], [np.float64(1.557621861208192), 'doc_45544'], [np.float64(1.557621861208192), 'doc_45668'], [np.float64(1.557621861208192), 'doc_46061'], [np.float64(1.557621861208192), 'doc_46676'], [np.float64(1.557621861208192), 'doc_47363'], [np.float64(1.557621861208192), 'doc_48271'], [np.float64(1.5490924140203768), 'doc_19632'], [np.float64(1.5490924140203768), 'doc_20131'], [np.float64(1.5490924140203768), 'doc_27027'], [np.float64(1.5490924140203768), 'doc_40408'], [np.float64(1.5490924140203768), 'doc_44708'], [np.float64(1.5401278776479028), 'doc_7498'], [np.float64(1.5401278776479028), 'doc_40797'], [np.float64(1.533834649526845), 'doc_6431'], [np.float64(1.533834649526845), 'doc_13185'], [np.float64(1.5188851119469793), 'doc_195'], [np.float64(1.5188851119469793), 'doc_5657'], [np.float64(1.5188851119469793), 'doc_19260'], [np.float64(1.5188851119469793), 'doc_20985'], [np.float64(1.5188851119469793), 'doc_21017'], [np.float64(1.5188851119469793), 'doc_29797'], [np.float64(1.5188851119469793), 'doc_30776'], [np.float64(1.5188851119469793), 'doc_37775'], [np.float64(1.5171759825682574), 'doc_3771'], [np.float64(1.5171759825682574), 'doc_3790'], [np.float64(1.5171759825682574), 'doc_8154'], [np.float64(1.5171759825682574), 'doc_10284'], [np.float64(1.5171759825682574), 'doc_16017'], [np.float64(1.5171759825682574), 'doc_18777'], [np.float64(1.5171759825682574), 'doc_20023'], [np.float64(1.5171759825682574), 'doc_21371'], [np.float64(1.5171759825682574), 'doc_41092'], [np.float64(1.5171759825682574), 'doc_42834'], [np.float64(1.5171759825682574), 'doc_43713'], [np.float64(1.5109284456855483), 'doc_46653'], [np.float64(1.4906674062076275), 'doc_23940'], [np.float64(1.4906674062076275), 'doc_34296'], [np.float64(1.4906674062076275), 'doc_46130'], [np.float64(1.4893437536043257), 'doc_43191'], [np.float64(1.4681995654431286), 'doc_544'], [np.float64(1.4681995654431286), 'doc_588'], [np.float64(1.4681995654431286), 'doc_617'], [np.float64(1.4681995654431286), 'doc_785'], [np.float64(1.4681995654431286), 'doc_851'], [np.float64(1.4681995654431286), 'doc_901'], [np.float64(1.4681995654431286), 'doc_902'], [np.float64(1.4681995654431286), 'doc_931'], [np.float64(1.4681995654431286), 'doc_940'], [np.float64(1.4681995654431286), 'doc_982'], [np.float64(1.4681995654431286), 'doc_991'], [np.float64(1.4681995654431286), 'doc_992'], [np.float64(1.4681995654431286), 'doc_994'], [np.float64(1.4681995654431286), 'doc_1001'], [np.float64(1.4681995654431286), 'doc_1002'], [np.float64(1.4681995654431286), 'doc_1004'], [np.float64(1.4681995654431286), 'doc_1011'], [np.float64(1.4681995654431286), 'doc_1018'], [np.float64(1.4681995654431286), 'doc_1021'], [np.float64(1.4681995654431286), 'doc_1107'], [np.float64(1.4681995654431286), 'doc_1108'], [np.float64(1.4681995654431286), 'doc_1112'], [np.float64(1.4681995654431286), 'doc_1225'], [np.float64(1.4681995654431286), 'doc_1239'], [np.float64(1.4681995654431286), 'doc_1272'], [np.float64(1.4681995654431286), 'doc_1338'], [np.float64(1.4681995654431286), 'doc_1343'], [np.float64(1.4681995654431286), 'doc_1572'], [np.float64(1.4681995654431286), 'doc_3070'], [np.float64(1.4681995654431286), 'doc_3766'], [np.float64(1.4681995654431286), 'doc_5428'], [np.float64(1.4681995654431286), 'doc_5467'], [np.float64(1.4681995654431286), 'doc_5595'], [np.float64(1.4681995654431286), 'doc_6281'], [np.float64(1.4681995654431286), 'doc_7069'], [np.float64(1.4681995654431286), 'doc_8180'], [np.float64(1.4681995654431286), 'doc_9461'], [np.float64(1.4681995654431286), 'doc_9752'], [np.float64(1.4681995654431286), 'doc_10528'], [np.float64(1.4681995654431286), 'doc_11295'], [np.float64(1.4681995654431286), 'doc_12440'], [np.float64(1.4681995654431286), 'doc_12899'], [np.float64(1.4681995654431286), 'doc_13066'], [np.float64(1.4681995654431286), 'doc_13285'], [np.float64(1.4681995654431286), 'doc_13406'], [np.float64(1.4681995654431286), 'doc_13981'], [np.float64(1.4681995654431286), 'doc_14077'], [np.float64(1.4681995654431286), 'doc_14084'], [np.float64(1.4681995654431286), 'doc_14246'], [np.float64(1.4681995654431286), 'doc_14344'], [np.float64(1.4681995654431286), 'doc_15484'], [np.float64(1.4681995654431286), 'doc_15791'], [np.float64(1.4681995654431286), 'doc_16292'], [np.float64(1.4681995654431286), 'doc_16641'], [np.float64(1.4681995654431286), 'doc_16934'], [np.float64(1.4681995654431286), 'doc_16942'], [np.float64(1.4681995654431286), 'doc_16944'], [np.float64(1.4681995654431286), 'doc_17495'], [np.float64(1.4681995654431286), 'doc_17498'], [np.float64(1.4681995654431286), 'doc_17499'], [np.float64(1.4681995654431286), 'doc_17501'], [np.float64(1.4681995654431286), 'doc_17502'], [np.float64(1.4681995654431286), 'doc_17503'], [np.float64(1.4681995654431286), 'doc_17505'], [np.float64(1.4681995654431286), 'doc_17507'], [np.float64(1.4681995654431286), 'doc_17509'], [np.float64(1.4681995654431286), 'doc_17511'], [np.float64(1.4681995654431286), 'doc_17514'], [np.float64(1.4681995654431286), 'doc_17527'], [np.float64(1.4681995654431286), 'doc_17982'], [np.float64(1.4681995654431286), 'doc_17984'], [np.float64(1.4681995654431286), 'doc_17990'], [np.float64(1.4681995654431286), 'doc_17991'], [np.float64(1.4681995654431286), 'doc_17995'], [np.float64(1.4681995654431286), 'doc_18000'], [np.float64(1.4681995654431286), 'doc_18003'], [np.float64(1.4681995654431286), 'doc_18004'], [np.float64(1.4681995654431286), 'doc_18006'], [np.float64(1.4681995654431286), 'doc_18017'], [np.float64(1.4681995654431286), 'doc_18382'], [np.float64(1.4681995654431286), 'doc_19000'], [np.float64(1.4681995654431286), 'doc_19003'], [np.float64(1.4681995654431286), 'doc_19004'], [np.float64(1.4681995654431286), 'doc_19009'], [np.float64(1.4681995654431286), 'doc_19016'], [np.float64(1.4681995654431286), 'doc_19018'], [np.float64(1.4681995654431286), 'doc_19020'], [np.float64(1.4681995654431286), 'doc_19021'], [np.float64(1.4681995654431286), 'doc_19090'], [np.float64(1.4681995654431286), 'doc_19518'], [np.float64(1.4681995654431286), 'doc_20263'], [np.float64(1.4681995654431286), 'doc_20493'], [np.float64(1.4681995654431286), 'doc_20950'], [np.float64(1.4681995654431286), 'doc_21346'], [np.float64(1.4681995654431286), 'doc_21533'], [np.float64(1.4681995654431286), 'doc_21698'], [np.float64(1.4681995654431286), 'doc_21707'], [np.float64(1.4681995654431286), 'doc_21979'], [np.float64(1.4681995654431286), 'doc_23178'], [np.float64(1.4681995654431286), 'doc_23521'], [np.float64(1.4681995654431286), 'doc_23838'], [np.float64(1.4681995654431286), 'doc_23845'], [np.float64(1.4681995654431286), 'doc_24420'], [np.float64(1.4681995654431286), 'doc_25459'], [np.float64(1.4681995654431286), 'doc_25996'], [np.float64(1.4681995654431286), 'doc_27359'], [np.float64(1.4681995654431286), 'doc_27514'], [np.float64(1.4681995654431286), 'doc_27949'], [np.float64(1.4681995654431286), 'doc_29547'], [np.float64(1.4681995654431286), 'doc_30500'], [np.float64(1.4681995654431286), 'doc_32092'], [np.float64(1.4681995654431286), 'doc_32718'], [np.float64(1.4681995654431286), 'doc_33879'], [np.float64(1.4681995654431286), 'doc_34046'], [np.float64(1.4681995654431286), 'doc_36852'], [np.float64(1.4681995654431286), 'doc_38954'], [np.float64(1.4681995654431286), 'doc_40275'], [np.float64(1.4681995654431286), 'doc_40869'], [np.float64(1.4681995654431286), 'doc_41400'], [np.float64(1.4681995654431286), 'doc_42243'], [np.float64(1.4681995654431286), 'doc_42741'], [np.float64(1.4681995654431286), 'doc_44473'], [np.float64(1.4681995654431286), 'doc_44829'], [np.float64(1.4681995654431286), 'doc_46571'], [np.float64(1.4681995654431286), 'doc_46588'], [np.float64(1.4681995654431286), 'doc_47498'], [np.float64(1.463892331249256), 'doc_33219'], [np.float64(1.4619324617087293), 'doc_1064'], [np.float64(1.4619324617087293), 'doc_7395'], [np.float64(1.4619324617087293), 'doc_8446'], [np.float64(1.4619324617087293), 'doc_14189'], [np.float64(1.4619324617087293), 'doc_16956'], [np.float64(1.4619324617087293), 'doc_24710'], [np.float64(1.4619324617087293), 'doc_44110'], [np.float64(1.461063188129279), 'doc_18018'], [np.float64(1.461063188129279), 'doc_29952'], [np.float64(1.4559705072540599), 'doc_37067'], [np.float64(1.4483768890420063), 'doc_29728'], [np.float64(1.4383323064179196), 'doc_37973'], [np.float64(1.428994716560909), 'doc_42401'], [np.float64(1.425884581712685), 'doc_1050'], [np.float64(1.4139873317136187), 'doc_13579'], [np.float64(1.4139873317136187), 'doc_24678'], [np.float64(1.4122650580128873), 'doc_1714'], [np.float64(1.4122650580128873), 'doc_5381'], [np.float64(1.4122650580128873), 'doc_8374'], [np.float64(1.4122650580128873), 'doc_8747'], [np.float64(1.4122650580128873), 'doc_10849'], [np.float64(1.4122650580128873), 'doc_10923'], [np.float64(1.4122650580128873), 'doc_11754'], [np.float64(1.4122650580128873), 'doc_12034'], [np.float64(1.4122650580128873), 'doc_12298'], [np.float64(1.4122650580128873), 'doc_17056'], [np.float64(1.4122650580128873), 'doc_17375'], [np.float64(1.4122650580128873), 'doc_17472'], [np.float64(1.4122650580128873), 'doc_18002'], [np.float64(1.4122650580128873), 'doc_18011'], [np.float64(1.4122650580128873), 'doc_18104'], [np.float64(1.4122650580128873), 'doc_18679'], [np.float64(1.4122650580128873), 'doc_20106'], [np.float64(1.4122650580128873), 'doc_22062'], [np.float64(1.4122650580128873), 'doc_22494'], [np.float64(1.4122650580128873), 'doc_27022'], [np.float64(1.4122650580128873), 'doc_31525'], [np.float64(1.4122650580128873), 'doc_33018'], [np.float64(1.4122650580128873), 'doc_33020'], [np.float64(1.4122650580128873), 'doc_33902'], [np.float64(1.4122650580128873), 'doc_38191'], [np.float64(1.4122650580128873), 'doc_38362'], [np.float64(1.4122650580128873), 'doc_42733'], [np.float64(1.4122650580128873), 'doc_43011'], [np.float64(1.4122650580128873), 'doc_46612'], [np.float64(1.4122650580128873), 'doc_46831'], [np.float64(1.3931067607744287), 'doc_1295'], [np.float64(1.3931067607744287), 'doc_12072'], [np.float64(1.3931067607744287), 'doc_23086'], [np.float64(1.3928733951188637), 'doc_567'], [np.float64(1.3928733951188637), 'doc_647'], [np.float64(1.3928733951188637), 'doc_984'], [np.float64(1.3928733951188637), 'doc_995'], [np.float64(1.3928733951188637), 'doc_1009'], [np.float64(1.3928733951188637), 'doc_1236'], [np.float64(1.3928733951188637), 'doc_1354'], [np.float64(1.3928733951188637), 'doc_2115'], [np.float64(1.3928733951188637), 'doc_3473'], [np.float64(1.3928733951188637), 'doc_4667'], [np.float64(1.3928733951188637), 'doc_5226'], [np.float64(1.3928733951188637), 'doc_6588'], [np.float64(1.3928733951188637), 'doc_9140'], [np.float64(1.3928733951188637), 'doc_10111'], [np.float64(1.3928733951188637), 'doc_10811'], [np.float64(1.3928733951188637), 'doc_11373'], [np.float64(1.3928733951188637), 'doc_12277'], [np.float64(1.3928733951188637), 'doc_12690'], [np.float64(1.3928733951188637), 'doc_13686'], [np.float64(1.3928733951188637), 'doc_13746'], [np.float64(1.3928733951188637), 'doc_14068'], [np.float64(1.3928733951188637), 'doc_14110'], [np.float64(1.3928733951188637), 'doc_14217'], [np.float64(1.3928733951188637), 'doc_15315'], [np.float64(1.3928733951188637), 'doc_17230'], [np.float64(1.3928733951188637), 'doc_17233'], [np.float64(1.3928733951188637), 'doc_17289'], [np.float64(1.3928733951188637), 'doc_17296'], [np.float64(1.3928733951188637), 'doc_17496'], [np.float64(1.3928733951188637), 'doc_17508'], [np.float64(1.3928733951188637), 'doc_17512'], [np.float64(1.3928733951188637), 'doc_17524'], [np.float64(1.3928733951188637), 'doc_17525'], [np.float64(1.3928733951188637), 'doc_17955'], [np.float64(1.3928733951188637), 'doc_17956'], [np.float64(1.3928733951188637), 'doc_17966'], [np.float64(1.3928733951188637), 'doc_17969'], [np.float64(1.3928733951188637), 'doc_18008'], [np.float64(1.3928733951188637), 'doc_18013'], [np.float64(1.3928733951188637), 'doc_18015'], [np.float64(1.3928733951188637), 'doc_18494'], [np.float64(1.3928733951188637), 'doc_18496'], [np.float64(1.3928733951188637), 'doc_18498'], [np.float64(1.3928733951188637), 'doc_18714'], [np.float64(1.3928733951188637), 'doc_19387'], [np.float64(1.3928733951188637), 'doc_20274'], [np.float64(1.3928733951188637), 'doc_20429'], [np.float64(1.3928733951188637), 'doc_21495'], [np.float64(1.3928733951188637), 'doc_21719'], [np.float64(1.3928733951188637), 'doc_22491'], [np.float64(1.3928733951188637), 'doc_22557'], [np.float64(1.3928733951188637), 'doc_22798'], [np.float64(1.3928733951188637), 'doc_23149'], [np.float64(1.3928733951188637), 'doc_25182'], [np.float64(1.3928733951188637), 'doc_25609'], [np.float64(1.3928733951188637), 'doc_25774'], [np.float64(1.3928733951188637), 'doc_26069'], [np.float64(1.3928733951188637), 'doc_26413'], [np.float64(1.3928733951188637), 'doc_26993'], [np.float64(1.3928733951188637), 'doc_27099'], [np.float64(1.3928733951188637), 'doc_27155'], [np.float64(1.3928733951188637), 'doc_27722'], [np.float64(1.3928733951188637), 'doc_27834'], [np.float64(1.3928733951188637), 'doc_27908'], [np.float64(1.3928733951188637), 'doc_28370'], [np.float64(1.3928733951188637), 'doc_28691'], [np.float64(1.3928733951188637), 'doc_29355'], [np.float64(1.3928733951188637), 'doc_29475'], [np.float64(1.3928733951188637), 'doc_31504'], [np.float64(1.3928733951188637), 'doc_31985'], [np.float64(1.3928733951188637), 'doc_33601'], [np.float64(1.3928733951188637), 'doc_33749'], [np.float64(1.3928733951188637), 'doc_33957'], [np.float64(1.3928733951188637), 'doc_35614'], [np.float64(1.3928733951188637), 'doc_35732'], [np.float64(1.3928733951188637), 'doc_38721'], [np.float64(1.3928733951188637), 'doc_40750'], [np.float64(1.3928733951188637), 'doc_41509'], [np.float64(1.3928733951188637), 'doc_41992'], [np.float64(1.3928733951188637), 'doc_44627'], [np.float64(1.3928733951188637), 'doc_45026'], [np.float64(1.3928733951188637), 'doc_45644'], [np.float64(1.3928733951188637), 'doc_45646'], [np.float64(1.3928733951188637), 'doc_45662'], [np.float64(1.3928733951188637), 'doc_46940'], [np.float64(1.3928733951188637), 'doc_47476'], [np.float64(1.3928733951188637), 'doc_47478'], [np.float64(1.3928733951188637), 'doc_47867'], [np.float64(1.3874505221239455), 'doc_10022'], [np.float64(1.3871335355791699), 'doc_8640'], [np.float64(1.3693976939940131), 'doc_22360'], [np.float64(1.3674138826615874), 'doc_11877'], [np.float64(1.3674138826615874), 'doc_13674'], [np.float64(1.3674138826615874), 'doc_17859'], [np.float64(1.3674138826615874), 'doc_17868'], [np.float64(1.3674138826615874), 'doc_20019'], [np.float64(1.3674138826615874), 'doc_22753'], [np.float64(1.3674138826615874), 'doc_27795'], [np.float64(1.3674138826615874), 'doc_37699'], [np.float64(1.3674138826615874), 'doc_41459'], [np.float64(1.3674138826615874), 'doc_47114'], [np.float64(1.3623956830275255), 'doc_13193'], [np.float64(1.3623956830275255), 'doc_47307'], [np.float64(1.3623956830275255), 'doc_47308'], [np.float64(1.3623956830275255), 'doc_47309'], [np.float64(1.3623956830275255), 'doc_47311'], [np.float64(1.3623956830275255), 'doc_47312'], [np.float64(1.3623956830275255), 'doc_47315'], [np.float64(1.3623956830275255), 'doc_47603'], [np.float64(1.3337513484719747), 'doc_15057'], [np.float64(1.3337513484719747), 'doc_21738'], [np.float64(1.3337513484719747), 'doc_47314'], [np.float64(1.3337513484719747), 'doc_47316'], [np.float64(1.3281193188751974), 'doc_59'], [np.float64(1.3281193188751974), 'doc_180'], [np.float64(1.3281193188751974), 'doc_882'], [np.float64(1.3281193188751974), 'doc_930'], [np.float64(1.3281193188751974), 'doc_1373'], [np.float64(1.3281193188751974), 'doc_2722'], [np.float64(1.3281193188751974), 'doc_2902'], [np.float64(1.3281193188751974), 'doc_4317'], [np.float64(1.3281193188751974), 'doc_4407'], [np.float64(1.3281193188751974), 'doc_5639'], [np.float64(1.3281193188751974), 'doc_5738'], [np.float64(1.3281193188751974), 'doc_6190'], [np.float64(1.3281193188751974), 'doc_6597'], [np.float64(1.3281193188751974), 'doc_6870'], [np.float64(1.3281193188751974), 'doc_7483'], [np.float64(1.3281193188751974), 'doc_9129'], [np.float64(1.3281193188751974), 'doc_9690'], [np.float64(1.3281193188751974), 'doc_10065'], [np.float64(1.3281193188751974), 'doc_11676'], [np.float64(1.3281193188751974), 'doc_11993'], [np.float64(1.3281193188751974), 'doc_12531'], [np.float64(1.3281193188751974), 'doc_12538'], [np.float64(1.3281193188751974), 'doc_12824'], [np.float64(1.3281193188751974), 'doc_14317'], [np.float64(1.3281193188751974), 'doc_15079'], [np.float64(1.3281193188751974), 'doc_15081'], [np.float64(1.3281193188751974), 'doc_15083'], [np.float64(1.3281193188751974), 'doc_15085'], [np.float64(1.3281193188751974), 'doc_15086'], [np.float64(1.3281193188751974), 'doc_15087'], [np.float64(1.3281193188751974), 'doc_15088'], [np.float64(1.3281193188751974), 'doc_15091'], [np.float64(1.3281193188751974), 'doc_15095'], [np.float64(1.3281193188751974), 'doc_15096'], [np.float64(1.3281193188751974), 'doc_15097'], [np.float64(1.3281193188751974), 'doc_15101'], [np.float64(1.3281193188751974), 'doc_15103'], [np.float64(1.3281193188751974), 'doc_15553'], [np.float64(1.3281193188751974), 'doc_17298'], [np.float64(1.3281193188751974), 'doc_17300'], [np.float64(1.3281193188751974), 'doc_17459'], [np.float64(1.3281193188751974), 'doc_17463'], [np.float64(1.3281193188751974), 'doc_17464'], [np.float64(1.3281193188751974), 'doc_17465'], [np.float64(1.3281193188751974), 'doc_17467'], [np.float64(1.3281193188751974), 'doc_17469'], [np.float64(1.3281193188751974), 'doc_17473'], [np.float64(1.3281193188751974), 'doc_17480'], [np.float64(1.3281193188751974), 'doc_17483'], [np.float64(1.3281193188751974), 'doc_17484'], [np.float64(1.3281193188751974), 'doc_17485'], [np.float64(1.3281193188751974), 'doc_17486'], [np.float64(1.3281193188751974), 'doc_17488'], [np.float64(1.3281193188751974), 'doc_17490'], [np.float64(1.3281193188751974), 'doc_17491'], [np.float64(1.3281193188751974), 'doc_17492'], [np.float64(1.3281193188751974), 'doc_17493'], [np.float64(1.3281193188751974), 'doc_17494'], [np.float64(1.3281193188751974), 'doc_17981'], [np.float64(1.3281193188751974), 'doc_19532'], [np.float64(1.3281193188751974), 'doc_20789'], [np.float64(1.3281193188751974), 'doc_21753'], [np.float64(1.3281193188751974), 'doc_21890'], [np.float64(1.3281193188751974), 'doc_24598'], [np.float64(1.3281193188751974), 'doc_24698'], [np.float64(1.3281193188751974), 'doc_27372'], [np.float64(1.3281193188751974), 'doc_28603'], [np.float64(1.3281193188751974), 'doc_29198'], [np.float64(1.3281193188751974), 'doc_30790'], [np.float64(1.3281193188751974), 'doc_31398'], [np.float64(1.3281193188751974), 'doc_31409'], [np.float64(1.3281193188751974), 'doc_32839'], [np.float64(1.3281193188751974), 'doc_32850'], [np.float64(1.3281193188751974), 'doc_33074'], [np.float64(1.3281193188751974), 'doc_33754'], [np.float64(1.3281193188751974), 'doc_33947'], [np.float64(1.3281193188751974), 'doc_35175'], [np.float64(1.3281193188751974), 'doc_35335'], [np.float64(1.3281193188751974), 'doc_35413'], [np.float64(1.3281193188751974), 'doc_38433'], [np.float64(1.3281193188751974), 'doc_39183'], [np.float64(1.3281193188751974), 'doc_39492'], [np.float64(1.3281193188751974), 'doc_40248'], [np.float64(1.3281193188751974), 'doc_41441'], [np.float64(1.3281193188751974), 'doc_41972'], [np.float64(1.3281193188751974), 'doc_42359'], [np.float64(1.3281193188751974), 'doc_42992'], [np.float64(1.3281193188751974), 'doc_43274'], [np.float64(1.3281193188751974), 'doc_43532'], [np.float64(1.3281193188751974), 'doc_48169'], [np.float64(1.3281193188751974), 'doc_48329'], [np.float64(1.3264979278147793), 'doc_2572'], [np.float64(1.3264979278147793), 'doc_4224'], [np.float64(1.3264979278147793), 'doc_10628'], [np.float64(1.3264979278147793), 'doc_20386'], [np.float64(1.3264979278147793), 'doc_25898'], [np.float64(1.3264979278147793), 'doc_32741'], [np.float64(1.3264979278147793), 'doc_36943'], [np.float64(1.3264979278147793), 'doc_38868'], [np.float64(1.3093171321342034), 'doc_10069'], [np.float64(1.3093171321342034), 'doc_19939'], [np.float64(1.3093171321342034), 'doc_22341'], [np.float64(1.2908344847989985), 'doc_43582'], [np.float64(1.2891978085733444), 'doc_904'], [np.float64(1.2891978085733444), 'doc_908'], [np.float64(1.2891978085733444), 'doc_3206'], [np.float64(1.2891978085733444), 'doc_8438'], [np.float64(1.2891978085733444), 'doc_8922'], [np.float64(1.2891978085733444), 'doc_9681'], [np.float64(1.2891978085733444), 'doc_10885'], [np.float64(1.2891978085733444), 'doc_17837'], [np.float64(1.2891978085733444), 'doc_19095'], [np.float64(1.2891978085733444), 'doc_21695'], [np.float64(1.2891978085733444), 'doc_31266'], [np.float64(1.2813707119505886), 'doc_413'], [np.float64(1.2813707119505886), 'doc_41128'], [np.float64(1.271734817112005), 'doc_1023'], [np.float64(1.271734817112005), 'doc_1116'], [np.float64(1.271734817112005), 'doc_1118'], [np.float64(1.271734817112005), 'doc_1121'], [np.float64(1.271734817112005), 'doc_1127'], [np.float64(1.271734817112005), 'doc_1130'], [np.float64(1.271734817112005), 'doc_1149'], [np.float64(1.271734817112005), 'doc_1164'], [np.float64(1.271734817112005), 'doc_1256'], [np.float64(1.271734817112005), 'doc_1337'], [np.float64(1.271734817112005), 'doc_1602'], [np.float64(1.271734817112005), 'doc_4359'], [np.float64(1.271734817112005), 'doc_6059'], [np.float64(1.271734817112005), 'doc_7050'], [np.float64(1.271734817112005), 'doc_8866'], [np.float64(1.271734817112005), 'doc_10167'], [np.float64(1.271734817112005), 'doc_10621'], [np.float64(1.271734817112005), 'doc_10823'], [np.float64(1.271734817112005), 'doc_10836'], [np.float64(1.271734817112005), 'doc_11280'], [np.float64(1.271734817112005), 'doc_12077'], [np.float64(1.271734817112005), 'doc_12363'], [np.float64(1.271734817112005), 'doc_12429'], [np.float64(1.271734817112005), 'doc_12508'], [np.float64(1.271734817112005), 'doc_12514'], [np.float64(1.271734817112005), 'doc_12515'], [np.float64(1.271734817112005), 'doc_12528'], [np.float64(1.271734817112005), 'doc_12534'], [np.float64(1.271734817112005), 'doc_12541'], [np.float64(1.271734817112005), 'doc_13136'], [np.float64(1.271734817112005), 'doc_13252'], [np.float64(1.271734817112005), 'doc_13420'], [np.float64(1.271734817112005), 'doc_13534'], [np.float64(1.271734817112005), 'doc_13565'], [np.float64(1.271734817112005), 'doc_13599'], [np.float64(1.271734817112005), 'doc_13600'], [np.float64(1.271734817112005), 'doc_13620'], [np.float64(1.271734817112005), 'doc_13623'], [np.float64(1.271734817112005), 'doc_13624'], [np.float64(1.271734817112005), 'doc_13630'], [np.float64(1.271734817112005), 'doc_14193'], [np.float64(1.271734817112005), 'doc_14683'], [np.float64(1.271734817112005), 'doc_15069'], [np.float64(1.271734817112005), 'doc_15070'], [np.float64(1.271734817112005), 'doc_15071'], [np.float64(1.271734817112005), 'doc_15072'], [np.float64(1.271734817112005), 'doc_15073'], [np.float64(1.271734817112005), 'doc_15074'], [np.float64(1.271734817112005), 'doc_15075'], [np.float64(1.271734817112005), 'doc_15077'], [np.float64(1.271734817112005), 'doc_15080'], [np.float64(1.271734817112005), 'doc_15084'], [np.float64(1.271734817112005), 'doc_15089'], [np.float64(1.271734817112005), 'doc_15090'], [np.float64(1.271734817112005), 'doc_15098'], [np.float64(1.271734817112005), 'doc_15099'], [np.float64(1.271734817112005), 'doc_15102'], [np.float64(1.271734817112005), 'doc_15722'], [np.float64(1.271734817112005), 'doc_16775'], [np.float64(1.271734817112005), 'doc_17447'], [np.float64(1.271734817112005), 'doc_17448'], [np.float64(1.271734817112005), 'doc_17450'], [np.float64(1.271734817112005), 'doc_17453'], [np.float64(1.271734817112005), 'doc_17456'], [np.float64(1.271734817112005), 'doc_17461'], [np.float64(1.271734817112005), 'doc_17466'], [np.float64(1.271734817112005), 'doc_17468'], [np.float64(1.271734817112005), 'doc_17474'], [np.float64(1.271734817112005), 'doc_17475'], [np.float64(1.271734817112005), 'doc_17972'], [np.float64(1.271734817112005), 'doc_23458'], [np.float64(1.271734817112005), 'doc_26890'], [np.float64(1.271734817112005), 'doc_27261'], [np.float64(1.271734817112005), 'doc_28255'], [np.float64(1.271734817112005), 'doc_29478'], [np.float64(1.271734817112005), 'doc_29608'], [np.float64(1.271734817112005), 'doc_29851'], [np.float64(1.271734817112005), 'doc_29959'], [np.float64(1.271734817112005), 'doc_29974'], [np.float64(1.271734817112005), 'doc_31312'], [np.float64(1.271734817112005), 'doc_31393'], [np.float64(1.271734817112005), 'doc_31810'], [np.float64(1.271734817112005), 'doc_35220'], [np.float64(1.271734817112005), 'doc_36345'], [np.float64(1.271734817112005), 'doc_36350'], [np.float64(1.271734817112005), 'doc_38381'], [np.float64(1.271734817112005), 'doc_38952'], [np.float64(1.271734817112005), 'doc_39488'], [np.float64(1.271734817112005), 'doc_46186'], [np.float64(1.266628199880046), 'doc_33113'], [np.float64(1.266628199880046), 'doc_34237'], [np.float64(1.266628199880046), 'doc_34294'], [np.float64(1.266628199880046), 'doc_34319'], [np.float64(1.2577408716177931), 'doc_47272'], [np.float64(1.2547389787302725), 'doc_967'], [np.float64(1.2547389787302725), 'doc_8603'], [np.float64(1.2547389787302725), 'doc_8970'], [np.float64(1.2547389787302725), 'doc_10126'], [np.float64(1.2547389787302725), 'doc_10400'], [np.float64(1.2547389787302725), 'doc_15326'], [np.float64(1.2547389787302725), 'doc_16870'], [np.float64(1.2547389787302725), 'doc_22075'], [np.float64(1.2547389787302725), 'doc_22077'], [np.float64(1.2547389787302725), 'doc_27466'], [np.float64(1.2547389787302725), 'doc_28033'], [np.float64(1.2547389787302725), 'doc_31888'], [np.float64(1.2547389787302725), 'doc_32267'], [np.float64(1.2547389787302725), 'doc_32270'], [np.float64(1.2547389787302725), 'doc_32554'], [np.float64(1.2547389787302725), 'doc_32695'], [np.float64(1.2547389787302725), 'doc_41052'], [np.float64(1.2547389787302725), 'doc_45744'], [np.float64(1.2492572186727733), 'doc_34153'], [np.float64(1.2378018729044515), 'doc_22096'], [np.float64(1.2245575532831077), 'doc_42764'], [np.float64(1.2230149766525236), 'doc_6338'], [np.float64(1.2230149766525236), 'doc_6656'], [np.float64(1.2230149766525236), 'doc_9032'], [np.float64(1.2230149766525236), 'doc_10497'], [np.float64(1.2230149766525236), 'doc_10634'], [np.float64(1.2230149766525236), 'doc_14301'], [np.float64(1.2230149766525236), 'doc_17753'], [np.float64(1.2230149766525236), 'doc_18050'], [np.float64(1.2230149766525236), 'doc_20795'], [np.float64(1.2230149766525236), 'doc_31600'], [np.float64(1.2219578741491866), 'doc_61'], [np.float64(1.2219578741491866), 'doc_74'], [np.float64(1.2219578741491866), 'doc_274'], [np.float64(1.2219578741491866), 'doc_1025'], [np.float64(1.2219578741491866), 'doc_1123'], [np.float64(1.2219578741491866), 'doc_1129'], [np.float64(1.2219578741491866), 'doc_1260'], [np.float64(1.2219578741491866), 'doc_1616'], [np.float64(1.2219578741491866), 'doc_1692'], [np.float64(1.2219578741491866), 'doc_4270'], [np.float64(1.2219578741491866), 'doc_4316'], [np.float64(1.2219578741491866), 'doc_4339'], [np.float64(1.2219578741491866), 'doc_4343'], [np.float64(1.2219578741491866), 'doc_4349'], [np.float64(1.2219578741491866), 'doc_4351'], [np.float64(1.2219578741491866), 'doc_4352'], [np.float64(1.2219578741491866), 'doc_4355'], [np.float64(1.2219578741491866), 'doc_4356'], [np.float64(1.2219578741491866), 'doc_4361'], [np.float64(1.2219578741491866), 'doc_4365'], [np.float64(1.2219578741491866), 'doc_4375'], [np.float64(1.2219578741491866), 'doc_4381'], [np.float64(1.2219578741491866), 'doc_4382'], [np.float64(1.2219578741491866), 'doc_4383'], [np.float64(1.2219578741491866), 'doc_4384'], [np.float64(1.2219578741491866), 'doc_4385'], [np.float64(1.2219578741491866), 'doc_4393'], [np.float64(1.2219578741491866), 'doc_4394'], [np.float64(1.2219578741491866), 'doc_4395'], [np.float64(1.2219578741491866), 'doc_4400'], [np.float64(1.2219578741491866), 'doc_4403'], [np.float64(1.2219578741491866), 'doc_4404'], [np.float64(1.2219578741491866), 'doc_4406'], [np.float64(1.2219578741491866), 'doc_4408'], [np.float64(1.2219578741491866), 'doc_4411'], [np.float64(1.2219578741491866), 'doc_4422'], [np.float64(1.2219578741491866), 'doc_4423'], [np.float64(1.2219578741491866), 'doc_4425'], [np.float64(1.2219578741491866), 'doc_4426'], [np.float64(1.2219578741491866), 'doc_4427'], [np.float64(1.2219578741491866), 'doc_4428'], [np.float64(1.2219578741491866), 'doc_4432'], [np.float64(1.2219578741491866), 'doc_4433'], [np.float64(1.2219578741491866), 'doc_4437'], [np.float64(1.2219578741491866), 'doc_4438'], [np.float64(1.2219578741491866), 'doc_4468'], [np.float64(1.2219578741491866), 'doc_4478'], [np.float64(1.2219578741491866), 'doc_4484'], [np.float64(1.2219578741491866), 'doc_4485'], [np.float64(1.2219578741491866), 'doc_4486'], [np.float64(1.2219578741491866), 'doc_4489'], [np.float64(1.2219578741491866), 'doc_4490'], [np.float64(1.2219578741491866), 'doc_4492'], [np.float64(1.2219578741491866), 'doc_4519'], [np.float64(1.2219578741491866), 'doc_4522'], [np.float64(1.2219578741491866), 'doc_4523'], [np.float64(1.2219578741491866), 'doc_4527'], [np.float64(1.2219578741491866), 'doc_4556'], [np.float64(1.2219578741491866), 'doc_4561'], [np.float64(1.2219578741491866), 'doc_4562'], [np.float64(1.2219578741491866), 'doc_4564'], [np.float64(1.2219578741491866), 'doc_4566'], [np.float64(1.2219578741491866), 'doc_4570'], [np.float64(1.2219578741491866), 'doc_4678'], [np.float64(1.2219578741491866), 'doc_4679'], [np.float64(1.2219578741491866), 'doc_4682'], [np.float64(1.2219578741491866), 'doc_4685'], [np.float64(1.2219578741491866), 'doc_4688'], [np.float64(1.2219578741491866), 'doc_4691'], [np.float64(1.2219578741491866), 'doc_4744'], [np.float64(1.2219578741491866), 'doc_4746'], [np.float64(1.2219578741491866), 'doc_4748'], [np.float64(1.2219578741491866), 'doc_4749'], [np.float64(1.2219578741491866), 'doc_4753'], [np.float64(1.2219578741491866), 'doc_4757'], [np.float64(1.2219578741491866), 'doc_4763'], [np.float64(1.2219578741491866), 'doc_4770'], [np.float64(1.2219578741491866), 'doc_4773'], [np.float64(1.2219578741491866), 'doc_4776'], [np.float64(1.2219578741491866), 'doc_4777'], [np.float64(1.2219578741491866), 'doc_4782'], [np.float64(1.2219578741491866), 'doc_4787'], [np.float64(1.2219578741491866), 'doc_4789'], [np.float64(1.2219578741491866), 'doc_4793'], [np.float64(1.2219578741491866), 'doc_4797'], [np.float64(1.2219578741491866), 'doc_4801'], [np.float64(1.2219578741491866), 'doc_4802'], [np.float64(1.2219578741491866), 'doc_4806'], [np.float64(1.2219578741491866), 'doc_4807'], [np.float64(1.2219578741491866), 'doc_4809'], [np.float64(1.2219578741491866), 'doc_4811'], [np.float64(1.2219578741491866), 'doc_4813'], [np.float64(1.2219578741491866), 'doc_4816'], [np.float64(1.2219578741491866), 'doc_4817'], [np.float64(1.2219578741491866), 'doc_4819'], [np.float64(1.2219578741491866), 'doc_4821'], [np.float64(1.2219578741491866), 'doc_4822'], [np.float64(1.2219578741491866), 'doc_4823'], [np.float64(1.2219578741491866), 'doc_4828'], [np.float64(1.2219578741491866), 'doc_4836'], [np.float64(1.2219578741491866), 'doc_4840'], [np.float64(1.2219578741491866), 'doc_4846'], [np.float64(1.2219578741491866), 'doc_4848'], [np.float64(1.2219578741491866), 'doc_4849'], [np.float64(1.2219578741491866), 'doc_4852'], [np.float64(1.2219578741491866), 'doc_4854'], [np.float64(1.2219578741491866), 'doc_4858'], [np.float64(1.2219578741491866), 'doc_4861'], [np.float64(1.2219578741491866), 'doc_4864'], [np.float64(1.2219578741491866), 'doc_4867'], [np.float64(1.2219578741491866), 'doc_4868'], [np.float64(1.2219578741491866), 'doc_4871'], [np.float64(1.2219578741491866), 'doc_4874'], [np.float64(1.2219578741491866), 'doc_4883'], [np.float64(1.2219578741491866), 'doc_4887'], [np.float64(1.2219578741491866), 'doc_4892'], [np.float64(1.2219578741491866), 'doc_4896'], [np.float64(1.2219578741491866), 'doc_4904'], [np.float64(1.2219578741491866), 'doc_5555'], [np.float64(1.2219578741491866), 'doc_6522'], [np.float64(1.2219578741491866), 'doc_6573'], [np.float64(1.2219578741491866), 'doc_7820'], [np.float64(1.2219578741491866), 'doc_8752'], [np.float64(1.2219578741491866), 'doc_9586'], [np.float64(1.2219578741491866), 'doc_9591'], [np.float64(1.2219578741491866), 'doc_9594'], [np.float64(1.2219578741491866), 'doc_9599'], [np.float64(1.2219578741491866), 'doc_9600'], [np.float64(1.2219578741491866), 'doc_9606'], [np.float64(1.2219578741491866), 'doc_9607'], [np.float64(1.2219578741491866), 'doc_9611'], [np.float64(1.2219578741491866), 'doc_10081'], [np.float64(1.2219578741491866), 'doc_10152'], [np.float64(1.2219578741491866), 'doc_10229'], [np.float64(1.2219578741491866), 'doc_10301'], [np.float64(1.2219578741491866), 'doc_10391'], [np.float64(1.2219578741491866), 'doc_10398'], [np.float64(1.2219578741491866), 'doc_10806'], [np.float64(1.2219578741491866), 'doc_11004'], [np.float64(1.2219578741491866), 'doc_12063'], [np.float64(1.2219578741491866), 'doc_13550'], [np.float64(1.2219578741491866), 'doc_16581'], [np.float64(1.2219578741491866), 'doc_17451'], [np.float64(1.2219578741491866), 'doc_17452'], [np.float64(1.2219578741491866), 'doc_17454'], [np.float64(1.2219578741491866), 'doc_17879'], [np.float64(1.2219578741491866), 'doc_18345'], [np.float64(1.2219578741491866), 'doc_18492'], [np.float64(1.2219578741491866), 'doc_21856'], [np.float64(1.2219578741491866), 'doc_24158'], [np.float64(1.2219578741491866), 'doc_26171'], [np.float64(1.2219578741491866), 'doc_26871'], [np.float64(1.2219578741491866), 'doc_27188'], [np.float64(1.2219578741491866), 'doc_28064'], [np.float64(1.2219578741491866), 'doc_28128'], [np.float64(1.2219578741491866), 'doc_28277'], [np.float64(1.2219578741491866), 'doc_29092'], [np.float64(1.2219578741491866), 'doc_29095'], [np.float64(1.2219578741491866), 'doc_29172'], [np.float64(1.2219578741491866), 'doc_29307'], [np.float64(1.2219578741491866), 'doc_30433'], [np.float64(1.2219578741491866), 'doc_31284'], [np.float64(1.2219578741491866), 'doc_31339'], [np.float64(1.2219578741491866), 'doc_31890'], [np.float64(1.2219578741491866), 'doc_32259'], [np.float64(1.2219578741491866), 'doc_32714'], [np.float64(1.2219578741491866), 'doc_35399'], [np.float64(1.2219578741491866), 'doc_35465'], [np.float64(1.2219578741491866), 'doc_35467'], [np.float64(1.2219578741491866), 'doc_35472'], [np.float64(1.2219578741491866), 'doc_36339'], [np.float64(1.2219578741491866), 'doc_37023'], [np.float64(1.2219578741491866), 'doc_37932'], [np.float64(1.2219578741491866), 'doc_39018'], [np.float64(1.2219578741491866), 'doc_40090'], [np.float64(1.2219578741491866), 'doc_42296'], [np.float64(1.2219578741491866), 'doc_42626'], [np.float64(1.2219578741491866), 'doc_44492'], [np.float64(1.2219578741491866), 'doc_46583'], [np.float64(1.2219578741491866), 'doc_47063'], [np.float64(1.2134142845957385), 'doc_8259'], [np.float64(1.2134142845957385), 'doc_26581'], [np.float64(1.2134142845957385), 'doc_36923'], [np.float64(1.2014906846997393), 'doc_25859'], [np.float64(1.1934788367870335), 'doc_6601'], [np.float64(1.1934788367870335), 'doc_7242'], [np.float64(1.1934788367870335), 'doc_26295'], [np.float64(1.1934788367870335), 'doc_31912'], [np.float64(1.1934788367870335), 'doc_34930'], [np.float64(1.1934788367870335), 'doc_40740'], [np.float64(1.1930515801934645), 'doc_15516'], [np.float64(1.1930515801934645), 'doc_24669'], [np.float64(1.1868398738699237), 'doc_35242'], [np.float64(1.1774669782266673), 'doc_685'], [np.float64(1.1774669782266673), 'doc_1045'], [np.float64(1.1774669782266673), 'doc_1314'], [np.float64(1.1774669782266673), 'doc_1677'], [np.float64(1.1774669782266673), 'doc_1678'], [np.float64(1.1774669782266673), 'doc_4272'], [np.float64(1.1774669782266673), 'doc_4274'], [np.float64(1.1774669782266673), 'doc_4278'], [np.float64(1.1774669782266673), 'doc_4282'], [np.float64(1.1774669782266673), 'doc_4341'], [np.float64(1.1774669782266673), 'doc_4374'], [np.float64(1.1774669782266673), 'doc_4376'], [np.float64(1.1774669782266673), 'doc_4387'], [np.float64(1.1774669782266673), 'doc_4388'], [np.float64(1.1774669782266673), 'doc_4389'], [np.float64(1.1774669782266673), 'doc_4431'], [np.float64(1.1774669782266673), 'doc_4477'], [np.float64(1.1774669782266673), 'doc_4491'], [np.float64(1.1774669782266673), 'doc_4520'], [np.float64(1.1774669782266673), 'doc_4524'], [np.float64(1.1774669782266673), 'doc_4554'], [np.float64(1.1774669782266673), 'doc_4555'], [np.float64(1.1774669782266673), 'doc_4569'], [np.float64(1.1774669782266673), 'doc_4571'], [np.float64(1.1774669782266673), 'doc_4572'], [np.float64(1.1774669782266673), 'doc_4771'], [np.float64(1.1774669782266673), 'doc_4774'], [np.float64(1.1774669782266673), 'doc_4781'], [np.float64(1.1774669782266673), 'doc_4814'], [np.float64(1.1774669782266673), 'doc_4820'], [np.float64(1.1774669782266673), 'doc_4824'], [np.float64(1.1774669782266673), 'doc_4894'], [np.float64(1.1774669782266673), 'doc_6911'], [np.float64(1.1774669782266673), 'doc_7423'], [np.float64(1.1774669782266673), 'doc_7815'], [np.float64(1.1774669782266673), 'doc_8115'], [np.float64(1.1774669782266673), 'doc_8888'], [np.float64(1.1774669782266673), 'doc_9336'], [np.float64(1.1774669782266673), 'doc_9610'], [np.float64(1.1774669782266673), 'doc_10199'], [np.float64(1.1774669782266673), 'doc_13328'], [np.float64(1.1774669782266673), 'doc_13718'], [np.float64(1.1774669782266673), 'doc_14866'], [np.float64(1.1774669782266673), 'doc_15491'], [np.float64(1.1774669782266673), 'doc_15961'], [np.float64(1.1774669782266673), 'doc_16703'], [np.float64(1.1774669782266673), 'doc_17389'], [np.float64(1.1774669782266673), 'doc_17526'], [np.float64(1.1774669782266673), 'doc_18074'], [np.float64(1.1774669782266673), 'doc_18079'], [np.float64(1.1774669782266673), 'doc_18080'], [np.float64(1.1774669782266673), 'doc_18497'], [np.float64(1.1774669782266673), 'doc_19360'], [np.float64(1.1774669782266673), 'doc_19380'], [np.float64(1.1774669782266673), 'doc_19550'], [np.float64(1.1774669782266673), 'doc_19972'], [np.float64(1.1774669782266673), 'doc_21681'], [np.float64(1.1774669782266673), 'doc_22469'], [np.float64(1.1774669782266673), 'doc_22595'], [np.float64(1.1774669782266673), 'doc_22874'], [np.float64(1.1774669782266673), 'doc_23016'], [np.float64(1.1774669782266673), 'doc_23268'], [np.float64(1.1774669782266673), 'doc_25699'], [np.float64(1.1774669782266673), 'doc_28452'], [np.float64(1.1774669782266673), 'doc_28584'], [np.float64(1.1774669782266673), 'doc_29123'], [np.float64(1.1774669782266673), 'doc_30067'], [np.float64(1.1774669782266673), 'doc_30161'], [np.float64(1.1774669782266673), 'doc_35636'], [np.float64(1.1774669782266673), 'doc_35738'], [np.float64(1.1774669782266673), 'doc_36828'], [np.float64(1.1774669782266673), 'doc_36898'], [np.float64(1.1774669782266673), 'doc_37136'], [np.float64(1.1774669782266673), 'doc_37146'], [np.float64(1.1774669782266673), 'doc_37235'], [np.float64(1.1774669782266673), 'doc_37804'], [np.float64(1.1774669782266673), 'doc_39574'], [np.float64(1.1774669782266673), 'doc_42034'], [np.float64(1.1774669782266673), 'doc_44072'], [np.float64(1.1774669782266673), 'doc_45666'], [np.float64(1.1774669782266673), 'doc_46406'], [np.float64(1.1735552262433746), 'doc_4635'], [np.float64(1.1735552262433746), 'doc_34413'], [np.float64(1.1661305591338018), 'doc_9946'], [np.float64(1.1661305591338018), 'doc_15816'], [np.float64(1.1661305591338018), 'doc_18961'], [np.float64(1.1661305591338018), 'doc_21378'], [np.float64(1.1661305591338018), 'doc_26673'], [np.float64(1.1661305591338018), 'doc_26732'], [np.float64(1.1661305591338018), 'doc_47290'], [np.float64(1.1661305591338018), 'doc_47292'], [np.float64(1.1661305591338018), 'doc_47293'], [np.float64(1.1661305591338018), 'doc_47295'], [np.float64(1.1661305591338018), 'doc_47296'], [np.float64(1.1661305591338018), 'doc_47302'], [np.float64(1.1551528033994136), 'doc_16685'], [np.float64(1.1551528033994136), 'doc_24116'], [np.float64(1.1551528033994136), 'doc_35973'], [np.float64(1.1551528033994136), 'doc_35974'], [np.float64(1.1551528033994136), 'doc_35976'], [np.float64(1.1551528033994136), 'doc_35996'], [np.float64(1.1551528033994136), 'doc_35997'], [np.float64(1.1551528033994136), 'doc_36017'], [np.float64(1.1551528033994136), 'doc_36021'], [np.float64(1.1551528033994136), 'doc_36027'], [np.float64(1.1551528033994136), 'doc_36028'], [np.float64(1.1551528033994136), 'doc_36029'], [np.float64(1.1551528033994136), 'doc_36031'], [np.float64(1.1551528033994136), 'doc_36040'], [np.float64(1.1551528033994136), 'doc_36041'], [np.float64(1.1404231781397638), 'doc_1377'], [np.float64(1.1404231781397638), 'doc_3693'], [np.float64(1.1404231781397638), 'doc_5736'], [np.float64(1.1404231781397638), 'doc_9680'], [np.float64(1.1404231781397638), 'doc_10901'], [np.float64(1.1404231781397638), 'doc_12348'], [np.float64(1.1404231781397638), 'doc_12677'], [np.float64(1.1404231781397638), 'doc_14079'], [np.float64(1.1404231781397638), 'doc_16397'], [np.float64(1.1404231781397638), 'doc_17756'], [np.float64(1.1404231781397638), 'doc_20642'], [np.float64(1.1404231781397638), 'doc_22829'], [np.float64(1.1404231781397638), 'doc_23181'], [np.float64(1.1404231781397638), 'doc_23604'], [np.float64(1.1404231781397638), 'doc_27890'], [np.float64(1.1404231781397638), 'doc_34238'], [np.float64(1.1404231781397638), 'doc_38945'], [np.float64(1.1404231781397638), 'doc_41871'], [np.float64(1.1404231781397638), 'doc_47297'], [np.float64(1.1404231781397638), 'doc_47298'], [np.float64(1.1375102693745966), 'doc_10489'], [np.float64(1.1375102693745966), 'doc_32459'], [np.float64(1.1375102693745966), 'doc_36044'], [np.float64(1.1375102693745966), 'doc_45716'], [np.float64(1.1373811215043979), 'doc_1442'], [np.float64(1.1373811215043979), 'doc_1499'], [np.float64(1.1373811215043979), 'doc_2116'], [np.float64(1.1373811215043979), 'doc_2669'], [np.float64(1.1373811215043979), 'doc_3257'], [np.float64(1.1373811215043979), 'doc_4498'], [np.float64(1.1373811215043979), 'doc_5169'], [np.float64(1.1373811215043979), 'doc_6493'], [np.float64(1.1373811215043979), 'doc_6913'], [np.float64(1.1373811215043979), 'doc_7584'], [np.float64(1.1373811215043979), 'doc_8104'], [np.float64(1.1373811215043979), 'doc_8768'], [np.float64(1.1373811215043979), 'doc_9455'], [np.float64(1.1373811215043979), 'doc_10280'], [np.float64(1.1373811215043979), 'doc_11244'], [np.float64(1.1373811215043979), 'doc_11443'], [np.float64(1.1373811215043979), 'doc_12651'], [np.float64(1.1373811215043979), 'doc_13008'], [np.float64(1.1373811215043979), 'doc_13123'], [np.float64(1.1373811215043979), 'doc_13855'], [np.float64(1.1373811215043979), 'doc_13966'], [np.float64(1.1373811215043979), 'doc_16091'], [np.float64(1.1373811215043979), 'doc_16417'], [np.float64(1.1373811215043979), 'doc_17455'], [np.float64(1.1373811215043979), 'doc_19364'], [np.float64(1.1373811215043979), 'doc_20080'], [np.float64(1.1373811215043979), 'doc_21146'], [np.float64(1.1373811215043979), 'doc_21254'], [np.float64(1.1373811215043979), 'doc_22056'], [np.float64(1.1373811215043979), 'doc_22415'], [np.float64(1.1373811215043979), 'doc_22615'], [np.float64(1.1373811215043979), 'doc_23211'], [np.float64(1.1373811215043979), 'doc_23359'], [np.float64(1.1373811215043979), 'doc_24313'], [np.float64(1.1373811215043979), 'doc_26162'], [np.float64(1.1373811215043979), 'doc_27342'], [np.float64(1.1373811215043979), 'doc_28329'], [np.float64(1.1373811215043979), 'doc_28345'], [np.float64(1.1373811215043979), 'doc_28375'], [np.float64(1.1373811215043979), 'doc_28533'], [np.float64(1.1373811215043979), 'doc_28534'], [np.float64(1.1373811215043979), 'doc_28694'], [np.float64(1.1373811215043979), 'doc_30207'], [np.float64(1.1373811215043979), 'doc_31317'], [np.float64(1.1373811215043979), 'doc_31435'], [np.float64(1.1373811215043979), 'doc_32058'], [np.float64(1.1373811215043979), 'doc_32970'], [np.float64(1.1373811215043979), 'doc_33114'], [np.float64(1.1373811215043979), 'doc_33293'], [np.float64(1.1373811215043979), 'doc_34285'], [np.float64(1.1373811215043979), 'doc_35500'], [np.float64(1.1373811215043979), 'doc_35518'], [np.float64(1.1373811215043979), 'doc_38732'], [np.float64(1.1373811215043979), 'doc_40324'], [np.float64(1.1373811215043979), 'doc_40716'], [np.float64(1.1373811215043979), 'doc_41125'], [np.float64(1.1373811215043979), 'doc_41457'], [np.float64(1.1373811215043979), 'doc_41573'], [np.float64(1.1373811215043979), 'doc_42362'], [np.float64(1.1373811215043979), 'doc_43246'], [np.float64(1.1373811215043979), 'doc_44218'], [np.float64(1.1373811215043979), 'doc_44220'], [np.float64(1.1373811215043979), 'doc_44816'], [np.float64(1.1373811215043979), 'doc_45399'], [np.float64(1.1373811215043979), 'doc_45585'], [np.float64(1.1373811215043979), 'doc_45968'], [np.float64(1.1373811215043979), 'doc_46059'], [np.float64(1.1373811215043979), 'doc_46347'], [np.float64(1.1373811215043979), 'doc_46381'], [np.float64(1.1373811215043979), 'doc_46728'], [np.float64(1.1373811215043979), 'doc_47609'], [np.float64(1.1373811215043979), 'doc_47887'], [np.float64(1.1373811215043979), 'doc_48373'], [np.float64(1.120627624168924), 'doc_3424'], [np.float64(1.1163566938049199), 'doc_1849'], [np.float64(1.1163566938049199), 'doc_1853'], [np.float64(1.1163566938049199), 'doc_1856'], [np.float64(1.1163566938049199), 'doc_1860'], [np.float64(1.1163566938049199), 'doc_1864'], [np.float64(1.1163566938049199), 'doc_1874'], [np.float64(1.1163566938049199), 'doc_1876'], [np.float64(1.1163566938049199), 'doc_1881'], [np.float64(1.1163566938049199), 'doc_3695'], [np.float64(1.1163566938049199), 'doc_5498'], [np.float64(1.1163566938049199), 'doc_6812'], [np.float64(1.1163566938049199), 'doc_7750'], [np.float64(1.1163566938049199), 'doc_7752'], [np.float64(1.1163566938049199), 'doc_7754'], [np.float64(1.1163566938049199), 'doc_7755'], [np.float64(1.1163566938049199), 'doc_7758'], [np.float64(1.1163566938049199), 'doc_7759'], [np.float64(1.1163566938049199), 'doc_7762'], [np.float64(1.1163566938049199), 'doc_7763'], [np.float64(1.1163566938049199), 'doc_12681'], [np.float64(1.1163566938049199), 'doc_13007'], [np.float64(1.1163566938049199), 'doc_13308'], [np.float64(1.1163566938049199), 'doc_13911'], [np.float64(1.1163566938049199), 'doc_14788'], [np.float64(1.1163566938049199), 'doc_15303'], [np.float64(1.1163566938049199), 'doc_18584'], [np.float64(1.1163566938049199), 'doc_22809'], [np.float64(1.1163566938049199), 'doc_32509'], [np.float64(1.1163566938049199), 'doc_37239'], [np.float64(1.1043984061493552), 'doc_17339'], [np.float64(1.1043984061493552), 'doc_34312'], [np.float64(1.1043984061493552), 'doc_34627'], [np.float64(1.1043984061493552), 'doc_35315'], [np.float64(1.1043984061493552), 'doc_40513'], [np.float64(1.1012598000623526), 'doc_2155'], [np.float64(1.1012598000623526), 'doc_2394'], [np.float64(1.1012598000623526), 'doc_2445'], [np.float64(1.1012598000623526), 'doc_2661'], [np.float64(1.1012598000623526), 'doc_2709'], [np.float64(1.1012598000623526), 'doc_4448'], [np.float64(1.1012598000623526), 'doc_5482'], [np.float64(1.1012598000623526), 'doc_5610'], [np.float64(1.1012598000623526), 'doc_5724'], [np.float64(1.1012598000623526), 'doc_6759'], [np.float64(1.1012598000623526), 'doc_7519'], [np.float64(1.1012598000623526), 'doc_8851'], [np.float64(1.1012598000623526), 'doc_9206'], [np.float64(1.1012598000623526), 'doc_9511'], [np.float64(1.1012598000623526), 'doc_10243'], [np.float64(1.1012598000623526), 'doc_10591'], [np.float64(1.1012598000623526), 'doc_10906'], [np.float64(1.1012598000623526), 'doc_11008'], [np.float64(1.1012598000623526), 'doc_11304'], [np.float64(1.1012598000623526), 'doc_11964'], [np.float64(1.1012598000623526), 'doc_15093'], [np.float64(1.1012598000623526), 'doc_15894'], [np.float64(1.1012598000623526), 'doc_16494'], [np.float64(1.1012598000623526), 'doc_16767'], [np.float64(1.1012598000623526), 'doc_17801'], [np.float64(1.1012598000623526), 'doc_17808'], [np.float64(1.1012598000623526), 'doc_18390'], [np.float64(1.1012598000623526), 'doc_19243'], [np.float64(1.1012598000623526), 'doc_21399'], [np.float64(1.1012598000623526), 'doc_22198'], [np.float64(1.1012598000623526), 'doc_22665'], [np.float64(1.1012598000623526), 'doc_23479'], [np.float64(1.1012598000623526), 'doc_25864'], [np.float64(1.1012598000623526), 'doc_26122'], [np.float64(1.1012598000623526), 'doc_26763'], [np.float64(1.1012598000623526), 'doc_27957'], [np.float64(1.1012598000623526), 'doc_28317'], [np.float64(1.1012598000623526), 'doc_28669'], [np.float64(1.1012598000623526), 'doc_28740'], [np.float64(1.1012598000623526), 'doc_28898'], [np.float64(1.1012598000623526), 'doc_32589'], [np.float64(1.1012598000623526), 'doc_33997'], [np.float64(1.1012598000623526), 'doc_34789'], [np.float64(1.1012598000623526), 'doc_34876'], [np.float64(1.1012598000623526), 'doc_35952'], [np.float64(1.1012598000623526), 'doc_37152'], [np.float64(1.1012598000623526), 'doc_37155'], [np.float64(1.1012598000623526), 'doc_37836'], [np.float64(1.1012598000623526), 'doc_39919'], [np.float64(1.1012598000623526), 'doc_40550'], [np.float64(1.1012598000623526), 'doc_43058'], [np.float64(1.1012598000623526), 'doc_44057'], [np.float64(1.1012598000623526), 'doc_45491'], [np.float64(1.1012598000623526), 'doc_45971'], [np.float64(1.1012598000623526), 'doc_47732'], [np.float64(1.09393110612927), 'doc_2580'], [np.float64(1.09393110612927), 'doc_3540'], [np.float64(1.09393110612927), 'doc_5476'], [np.float64(1.09393110612927), 'doc_7613'], [np.float64(1.09393110612927), 'doc_7615'], [np.float64(1.09393110612927), 'doc_7619'], [np.float64(1.09393110612927), 'doc_7622'], [np.float64(1.09393110612927), 'doc_7625'], [np.float64(1.09393110612927), 'doc_7627'], [np.float64(1.09393110612927), 'doc_7632'], [np.float64(1.09393110612927), 'doc_7635'], [np.float64(1.09393110612927), 'doc_7636'], [np.float64(1.09393110612927), 'doc_7639'], [np.float64(1.09393110612927), 'doc_7642'], [np.float64(1.09393110612927), 'doc_7645'], [np.float64(1.09393110612927), 'doc_7646'], [np.float64(1.09393110612927), 'doc_7649'], [np.float64(1.09393110612927), 'doc_7650'], [np.float64(1.09393110612927), 'doc_7651'], [np.float64(1.09393110612927), 'doc_7652'], [np.float64(1.09393110612927), 'doc_7657'], [np.float64(1.09393110612927), 'doc_7660'], [np.float64(1.09393110612927), 'doc_7663'], [np.float64(1.09393110612927), 'doc_7669'], [np.float64(1.09393110612927), 'doc_7670'], [np.float64(1.09393110612927), 'doc_7671'], [np.float64(1.09393110612927), 'doc_7672'], [np.float64(1.09393110612927), 'doc_7673'], [np.float64(1.09393110612927), 'doc_7674'], [np.float64(1.09393110612927), 'doc_7677'], [np.float64(1.09393110612927), 'doc_7678'], [np.float64(1.09393110612927), 'doc_7680'], [np.float64(1.09393110612927), 'doc_7681'], [np.float64(1.09393110612927), 'doc_7683'], [np.float64(1.09393110612927), 'doc_7684'], [np.float64(1.09393110612927), 'doc_7686'], [np.float64(1.09393110612927), 'doc_7687'], [np.float64(1.09393110612927), 'doc_7689'], [np.float64(1.09393110612927), 'doc_7691'], [np.float64(1.09393110612927), 'doc_7692'], [np.float64(1.09393110612927), 'doc_7694'], [np.float64(1.09393110612927), 'doc_7696'], [np.float64(1.09393110612927), 'doc_7697'], [np.float64(1.09393110612927), 'doc_7699'], [np.float64(1.09393110612927), 'doc_7714'], [np.float64(1.09393110612927), 'doc_7717'], [np.float64(1.09393110612927), 'doc_7720'], [np.float64(1.09393110612927), 'doc_7722'], [np.float64(1.09393110612927), 'doc_7724'], [np.float64(1.09393110612927), 'doc_7725'], [np.float64(1.09393110612927), 'doc_7732'], [np.float64(1.09393110612927), 'doc_7733'], [np.float64(1.09393110612927), 'doc_7734'], [np.float64(1.09393110612927), 'doc_7735'], [np.float64(1.09393110612927), 'doc_7736'], [np.float64(1.09393110612927), 'doc_7738'], [np.float64(1.09393110612927), 'doc_7740'], [np.float64(1.09393110612927), 'doc_7745'], [np.float64(1.09393110612927), 'doc_7746'], [np.float64(1.09393110612927), 'doc_7753'], [np.float64(1.09393110612927), 'doc_8971'], [np.float64(1.09393110612927), 'doc_9916'], [np.float64(1.09393110612927), 'doc_15410'], [np.float64(1.09393110612927), 'doc_15417'], [np.float64(1.09393110612927), 'doc_15433'], [np.float64(1.09393110612927), 'doc_15440'], [np.float64(1.09393110612927), 'doc_15441'], [np.float64(1.09393110612927), 'doc_15443'], [np.float64(1.09393110612927), 'doc_15444'], [np.float64(1.09393110612927), 'doc_15447'], [np.float64(1.09393110612927), 'doc_15449'], [np.float64(1.09393110612927), 'doc_15450'], [np.float64(1.09393110612927), 'doc_15451'], [np.float64(1.09393110612927), 'doc_15455'], [np.float64(1.09393110612927), 'doc_15457'], [np.float64(1.09393110612927), 'doc_15459'], [np.float64(1.09393110612927), 'doc_15462'], [np.float64(1.09393110612927), 'doc_15470'], [np.float64(1.09393110612927), 'doc_15473'], [np.float64(1.09393110612927), 'doc_15475'], [np.float64(1.09393110612927), 'doc_15478'], [np.float64(1.09393110612927), 'doc_15481'], [np.float64(1.09393110612927), 'doc_15483'], [np.float64(1.09393110612927), 'doc_15485'], [np.float64(1.09393110612927), 'doc_15489'], [np.float64(1.09393110612927), 'doc_15490'], [np.float64(1.09393110612927), 'doc_15492'], [np.float64(1.09393110612927), 'doc_15628'], [np.float64(1.09393110612927), 'doc_15632'], [np.float64(1.09393110612927), 'doc_15634'], [np.float64(1.09393110612927), 'doc_15636'], [np.float64(1.09393110612927), 'doc_15638'], [np.float64(1.09393110612927), 'doc_15641'], [np.float64(1.09393110612927), 'doc_15649'], [np.float64(1.09393110612927), 'doc_15650'], [np.float64(1.09393110612927), 'doc_15652'], [np.float64(1.09393110612927), 'doc_15654'], [np.float64(1.09393110612927), 'doc_15656'], [np.float64(1.09393110612927), 'doc_15658'], [np.float64(1.09393110612927), 'doc_15660'], [np.float64(1.09393110612927), 'doc_15662'], [np.float64(1.09393110612927), 'doc_15664'], [np.float64(1.09393110612927), 'doc_15672'], [np.float64(1.09393110612927), 'doc_15708'], [np.float64(1.09393110612927), 'doc_15775'], [np.float64(1.09393110612927), 'doc_15780'], [np.float64(1.09393110612927), 'doc_15781'], [np.float64(1.09393110612927), 'doc_15783'], [np.float64(1.09393110612927), 'doc_15784'], [np.float64(1.09393110612927), 'doc_15785'], [np.float64(1.09393110612927), 'doc_15786'], [np.float64(1.09393110612927), 'doc_15787'], [np.float64(1.09393110612927), 'doc_15790'], [np.float64(1.09393110612927), 'doc_15792'], [np.float64(1.09393110612927), 'doc_15793'], [np.float64(1.09393110612927), 'doc_15794'], [np.float64(1.09393110612927), 'doc_15796'], [np.float64(1.09393110612927), 'doc_15806'], [np.float64(1.09393110612927), 'doc_15808'], [np.float64(1.09393110612927), 'doc_22504'], [np.float64(1.09393110612927), 'doc_22512'], [np.float64(1.09393110612927), 'doc_26963'], [np.float64(1.09393110612927), 'doc_38190'], [np.float64(1.09393110612927), 'doc_38689'], [np.float64(1.09393110612927), 'doc_42928'], [np.float64(1.09393110612927), 'doc_43080'], [np.float64(1.0891566576028762), 'doc_25767'], [np.float64(1.0745892519026876), 'doc_5146'], [np.float64(1.0742342939555165), 'doc_37255'], [np.float64(1.0742342939555165), 'doc_38829'], [np.float64(1.072599449559749), 'doc_333'], [np.float64(1.072599449559749), 'doc_334'], [np.float64(1.072599449559749), 'doc_337'], [np.float64(1.072599449559749), 'doc_342'], [np.float64(1.072599449559749), 'doc_7616'], [np.float64(1.072599449559749), 'doc_7719'], [np.float64(1.072599449559749), 'doc_7723'], [np.float64(1.072599449559749), 'doc_7728'], [np.float64(1.072599449559749), 'doc_7730'], [np.float64(1.072599449559749), 'doc_7739'], [np.float64(1.072599449559749), 'doc_7742'], [np.float64(1.072599449559749), 'doc_7744'], [np.float64(1.072599449559749), 'doc_8584'], [np.float64(1.072599449559749), 'doc_9682'], [np.float64(1.072599449559749), 'doc_17110'], [np.float64(1.072599449559749), 'doc_20561'], [np.float64(1.072599449559749), 'doc_21885'], [np.float64(1.072599449559749), 'doc_24171'], [np.float64(1.072599449559749), 'doc_27530'], [np.float64(1.072599449559749), 'doc_28457'], [np.float64(1.072599449559749), 'doc_29384'], [np.float64(1.072599449559749), 'doc_29824'], [np.float64(1.072599449559749), 'doc_32054'], [np.float64(1.072599449559749), 'doc_34365'], [np.float64(1.072599449559749), 'doc_34370'], [np.float64(1.072599449559749), 'doc_36018'], [np.float64(1.072599449559749), 'doc_38974'], [np.float64(1.072599449559749), 'doc_42371'], [np.float64(1.072599449559749), 'doc_45011'], [np.float64(1.072599449559749), 'doc_46380'], [np.float64(1.068222006060482), 'doc_1089'], [np.float64(1.068222006060482), 'doc_2502'], [np.float64(1.068222006060482), 'doc_5174'], [np.float64(1.068222006060482), 'doc_5503'], [np.float64(1.068222006060482), 'doc_10950'], [np.float64(1.068222006060482), 'doc_11016'], [np.float64(1.068222006060482), 'doc_11205'], [np.float64(1.068222006060482), 'doc_15028'], [np.float64(1.068222006060482), 'doc_16742'], [np.float64(1.068222006060482), 'doc_17175'], [np.float64(1.068222006060482), 'doc_21004'], [np.float64(1.068222006060482), 'doc_21079'], [np.float64(1.068222006060482), 'doc_21692'], [np.float64(1.068222006060482), 'doc_25549'], [np.float64(1.068222006060482), 'doc_25685'], [np.float64(1.068222006060482), 'doc_26797'], [np.float64(1.068222006060482), 'doc_27030'], [np.float64(1.068222006060482), 'doc_27921'], [np.float64(1.068222006060482), 'doc_28385'], [np.float64(1.068222006060482), 'doc_28632'], [np.float64(1.068222006060482), 'doc_29586'], [np.float64(1.068222006060482), 'doc_32191'], [np.float64(1.068222006060482), 'doc_32263'], [np.float64(1.068222006060482), 'doc_35278'], [np.float64(1.068222006060482), 'doc_37055'], [np.float64(1.068222006060482), 'doc_37243'], [np.float64(1.068222006060482), 'doc_37506'], [np.float64(1.068222006060482), 'doc_37515'], [np.float64(1.068222006060482), 'doc_37579'], [np.float64(1.068222006060482), 'doc_39108'], [np.float64(1.068222006060482), 'doc_39356'], [np.float64(1.068222006060482), 'doc_40267'], [np.float64(1.068222006060482), 'doc_41111'], [np.float64(1.068222006060482), 'doc_43655'], [np.float64(1.068222006060482), 'doc_44167'], [np.float64(1.068222006060482), 'doc_44603'], [np.float64(1.068222006060482), 'doc_46680'], [np.float64(1.059965357494261), 'doc_47534'], [np.float64(1.0528022280163825), 'doc_314'], [np.float64(1.0528022280163825), 'doc_326'], [np.float64(1.0528022280163825), 'doc_328'], [np.float64(1.0528022280163825), 'doc_338'], [np.float64(1.0528022280163825), 'doc_340'], [np.float64(1.0528022280163825), 'doc_344'], [np.float64(1.0528022280163825), 'doc_797'], [np.float64(1.0528022280163825), 'doc_798'], [np.float64(1.0528022280163825), 'doc_799'], [np.float64(1.0528022280163825), 'doc_800'], [np.float64(1.0528022280163825), 'doc_803'], [np.float64(1.0528022280163825), 'doc_804'], [np.float64(1.0528022280163825), 'doc_806'], [np.float64(1.0528022280163825), 'doc_807'], [np.float64(1.0528022280163825), 'doc_808'], [np.float64(1.0528022280163825), 'doc_810'], [np.float64(1.0528022280163825), 'doc_2652'], [np.float64(1.0528022280163825), 'doc_5074'], [np.float64(1.0528022280163825), 'doc_5725'], [np.float64(1.0528022280163825), 'doc_5920'], [np.float64(1.0528022280163825), 'doc_7510'], [np.float64(1.0528022280163825), 'doc_10190'], [np.float64(1.0528022280163825), 'doc_11328'], [np.float64(1.0528022280163825), 'doc_11480'], [np.float64(1.0528022280163825), 'doc_12784'], [np.float64(1.0528022280163825), 'doc_14214'], [np.float64(1.0528022280163825), 'doc_16776'], [np.float64(1.0528022280163825), 'doc_17794'], [np.float64(1.0528022280163825), 'doc_19221'], [np.float64(1.0528022280163825), 'doc_19337'], [np.float64(1.0528022280163825), 'doc_19391'], [np.float64(1.0528022280163825), 'doc_19941'], [np.float64(1.0528022280163825), 'doc_20189'], [np.float64(1.0528022280163825), 'doc_22216'], [np.float64(1.0528022280163825), 'doc_27054'], [np.float64(1.0528022280163825), 'doc_27229'], [np.float64(1.0528022280163825), 'doc_30931'], [np.float64(1.0528022280163825), 'doc_33522'], [np.float64(1.0528022280163825), 'doc_36036'], [np.float64(1.0528022280163825), 'doc_39137'], [np.float64(1.0528022280163825), 'doc_41985'], [np.float64(1.0528022280163825), 'doc_43912'], [np.float64(1.0528022280163825), 'doc_44490'], [np.float64(1.0528022280163825), 'doc_45802'], [np.float64(1.04624338658607), 'doc_20595'], [np.float64(1.04624338658607), 'doc_22625'], [np.float64(1.038267739498786), 'doc_429'], [np.float64(1.038267739498786), 'doc_487'], [np.float64(1.038267739498786), 'doc_597'], [np.float64(1.038267739498786), 'doc_996'], [np.float64(1.038267739498786), 'doc_1982'], [np.float64(1.038267739498786), 'doc_2926'], [np.float64(1.038267739498786), 'doc_5327'], [np.float64(1.038267739498786), 'doc_7131'], [np.float64(1.038267739498786), 'doc_8088'], [np.float64(1.038267739498786), 'doc_8791'], [np.float64(1.038267739498786), 'doc_10694'], [np.float64(1.038267739498786), 'doc_11017'], [np.float64(1.038267739498786), 'doc_12802'], [np.float64(1.038267739498786), 'doc_16968'], [np.float64(1.038267739498786), 'doc_18244'], [np.float64(1.038267739498786), 'doc_20733'], [np.float64(1.038267739498786), 'doc_23066'], [np.float64(1.038267739498786), 'doc_24260'], [np.float64(1.038267739498786), 'doc_24261'], [np.float64(1.038267739498786), 'doc_27486'], [np.float64(1.038267739498786), 'doc_28010'], [np.float64(1.038267739498786), 'doc_28627'], [np.float64(1.038267739498786), 'doc_28703'], [np.float64(1.038267739498786), 'doc_28731'], [np.float64(1.038267739498786), 'doc_28863'], [np.float64(1.038267739498786), 'doc_29209'], [np.float64(1.038267739498786), 'doc_29597'], [np.float64(1.038267739498786), 'doc_30810'], [np.float64(1.038267739498786), 'doc_31116'], [np.float64(1.038267739498786), 'doc_32588'], [np.float64(1.038267739498786), 'doc_32762'], [np.float64(1.038267739498786), 'doc_33309'], [np.float64(1.038267739498786), 'doc_33876'], [np.float64(1.038267739498786), 'doc_34886'], [np.float64(1.038267739498786), 'doc_36749'], [np.float64(1.038267739498786), 'doc_37582'], [np.float64(1.038267739498786), 'doc_38246'], [np.float64(1.038267739498786), 'doc_39008'], [np.float64(1.038267739498786), 'doc_39197'], [np.float64(1.038267739498786), 'doc_39253'], [np.float64(1.038267739498786), 'doc_40121'], [np.float64(1.038267739498786), 'doc_42848'], [np.float64(1.038267739498786), 'doc_43014'], [np.float64(1.038267739498786), 'doc_48111'], [np.float64(1.03376489529216), 'doc_244'], [np.float64(1.03376489529216), 'doc_4674'], [np.float64(1.03376489529216), 'doc_6245'], [np.float64(1.03376489529216), 'doc_6285'], [np.float64(1.03376489529216), 'doc_6916'], [np.float64(1.03376489529216), 'doc_8641'], [np.float64(1.03376489529216), 'doc_13779'], [np.float64(1.03376489529216), 'doc_18985'], [np.float64(1.03376489529216), 'doc_28023'], [np.float64(1.03376489529216), 'doc_29755'], [np.float64(1.03376489529216), 'doc_35881'], [np.float64(1.03376489529216), 'doc_38110'], [np.float64(1.03376489529216), 'doc_38422'], [np.float64(1.03376489529216), 'doc_44554'], [np.float64(1.0330683812309438), 'doc_345'], [np.float64(1.0330683812309438), 'doc_346'], [np.float64(1.0330683812309438), 'doc_347'], [np.float64(1.0330683812309438), 'doc_348'], [np.float64(1.0330683812309438), 'doc_349'], [np.float64(1.0330683812309438), 'doc_351'], [np.float64(1.0330683812309438), 'doc_352'], [np.float64(1.0205468030619218), 'doc_766'], [np.float64(1.0205468030619218), 'doc_768'], [np.float64(1.0205468030619218), 'doc_769'], [np.float64(1.0205468030619218), 'doc_772'], [np.float64(1.0205468030619218), 'doc_773'], [np.float64(1.0205468030619218), 'doc_774'], [np.float64(1.0205468030619218), 'doc_775'], [np.float64(1.0205468030619218), 'doc_779'], [np.float64(1.0205468030619218), 'doc_780'], [np.float64(1.0205468030619218), 'doc_783'], [np.float64(1.015715032041027), 'doc_2132'], [np.float64(1.015715032041027), 'doc_6510'], [np.float64(1.015715032041027), 'doc_7718'], [np.float64(1.015715032041027), 'doc_9375'], [np.float64(1.015715032041027), 'doc_13789'], [np.float64(1.015715032041027), 'doc_17714'], [np.float64(1.015715032041027), 'doc_21141'], [np.float64(1.015715032041027), 'doc_27783'], [np.float64(1.015715032041027), 'doc_27797'], [np.float64(1.015715032041027), 'doc_29285'], [np.float64(1.015715032041027), 'doc_30152'], [np.float64(1.010515992537215), 'doc_140'], [np.float64(1.010515992537215), 'doc_671'], [np.float64(1.010515992537215), 'doc_676'], [np.float64(1.010515992537215), 'doc_681'], [np.float64(1.010515992537215), 'doc_838'], [np.float64(1.010515992537215), 'doc_841'], [np.float64(1.010515992537215), 'doc_1601'], [np.float64(1.010515992537215), 'doc_2367'], [np.float64(1.010515992537215), 'doc_2689'], [np.float64(1.010515992537215), 'doc_2862'], [np.float64(1.010515992537215), 'doc_4743'], [np.float64(1.010515992537215), 'doc_6417'], [np.float64(1.010515992537215), 'doc_6457'], [np.float64(1.010515992537215), 'doc_10863'], [np.float64(1.010515992537215), 'doc_12869'], [np.float64(1.010515992537215), 'doc_16310'], [np.float64(1.010515992537215), 'doc_17786'], [np.float64(1.010515992537215), 'doc_18793'], [np.float64(1.010515992537215), 'doc_22948'], [np.float64(1.010515992537215), 'doc_27988'], [np.float64(1.010515992537215), 'doc_28012'], [np.float64(1.010515992537215), 'doc_30474'], [np.float64(1.010515992537215), 'doc_31436'], [np.float64(1.010515992537215), 'doc_31438'], [np.float64(1.010515992537215), 'doc_31439'], [np.float64(1.010515992537215), 'doc_31445'], [np.float64(1.010515992537215), 'doc_31558'], [np.float64(1.010515992537215), 'doc_32352'], [np.float64(1.010515992537215), 'doc_32387'], [np.float64(1.010515992537215), 'doc_33179'], [np.float64(1.010515992537215), 'doc_34058'], [np.float64(1.010515992537215), 'doc_34659'], [np.float64(1.010515992537215), 'doc_34717'], [np.float64(1.010515992537215), 'doc_34795'], [np.float64(1.010515992537215), 'doc_34880'], [np.float64(1.010515992537215), 'doc_34913'], [np.float64(1.010515992537215), 'doc_34923'], [np.float64(1.010515992537215), 'doc_34927'], [np.float64(1.010515992537215), 'doc_35099'], [np.float64(1.010515992537215), 'doc_38827'], [np.float64(1.010515992537215), 'doc_40698'], [np.float64(1.010515992537215), 'doc_45911'], [np.float64(1.010515992537215), 'doc_45963'], [np.float64(1.010515992537215), 'doc_47365'], [np.float64(1.0082381481589793), 'doc_776'], [np.float64(1.0082381481589793), 'doc_15813'], [np.float64(0.9986526382629837), 'doc_6065'], [np.float64(0.9986526382629837), 'doc_10139'], [np.float64(0.9986526382629837), 'doc_10148'], [np.float64(0.9986526382629837), 'doc_16349'], [np.float64(0.9986526382629837), 'doc_19152'], [np.float64(0.9986526382629837), 'doc_25248'], [np.float64(0.9986526382629837), 'doc_25498'], [np.float64(0.9986526382629837), 'doc_27196'], [np.float64(0.9986526382629837), 'doc_28941'], [np.float64(0.9986526382629837), 'doc_35480'], [np.float64(0.9986526382629837), 'doc_35481'], [np.float64(0.9986526382629837), 'doc_38824'], [np.float64(0.9986526382629837), 'doc_40951'], [np.float64(0.9849667651757682), 'doc_86'], [np.float64(0.9849667651757682), 'doc_2636'], [np.float64(0.9849667651757682), 'doc_5282'], [np.float64(0.9849667651757682), 'doc_5602'], [np.float64(0.9849667651757682), 'doc_7333'], [np.float64(0.9849667651757682), 'doc_7334'], [np.float64(0.9849667651757682), 'doc_7339'], [np.float64(0.9849667651757682), 'doc_7340'], [np.float64(0.9849667651757682), 'doc_7346'], [np.float64(0.9849667651757682), 'doc_7350'], [np.float64(0.9849667651757682), 'doc_7351'], [np.float64(0.9849667651757682), 'doc_7354'], [np.float64(0.9849667651757682), 'doc_7355'], [np.float64(0.9849667651757682), 'doc_7638'], [np.float64(0.9849667651757682), 'doc_7641'], [np.float64(0.9849667651757682), 'doc_7644'], [np.float64(0.9849667651757682), 'doc_7648'], [np.float64(0.9849667651757682), 'doc_7653'], [np.float64(0.9849667651757682), 'doc_7654'], [np.float64(0.9849667651757682), 'doc_7656'], [np.float64(0.9849667651757682), 'doc_7658'], [np.float64(0.9849667651757682), 'doc_7662'], [np.float64(0.9849667651757682), 'doc_7676'], [np.float64(0.9849667651757682), 'doc_7682'], [np.float64(0.9849667651757682), 'doc_7690'], [np.float64(0.9849667651757682), 'doc_7698'], [np.float64(0.9849667651757682), 'doc_7700'], [np.float64(0.9849667651757682), 'doc_7701'], [np.float64(0.9849667651757682), 'doc_7705'], [np.float64(0.9849667651757682), 'doc_7706'], [np.float64(0.9849667651757682), 'doc_7707'], [np.float64(0.9849667651757682), 'doc_8548'], [np.float64(0.9849667651757682), 'doc_9302'], [np.float64(0.9849667651757682), 'doc_9506'], [np.float64(0.9849667651757682), 'doc_9577'], [np.float64(0.9849667651757682), 'doc_9683'], [np.float64(0.9849667651757682), 'doc_9754'], [np.float64(0.9849667651757682), 'doc_10215'], [np.float64(0.9849667651757682), 'doc_10551'], [np.float64(0.9849667651757682), 'doc_11635'], [np.float64(0.9849667651757682), 'doc_12326'], [np.float64(0.9849667651757682), 'doc_12520'], [np.float64(0.9849667651757682), 'doc_13861'], [np.float64(0.9849667651757682), 'doc_15337'], [np.float64(0.9849667651757682), 'doc_15944'], [np.float64(0.9849667651757682), 'doc_15966'], [np.float64(0.9849667651757682), 'doc_16055'], [np.float64(0.9849667651757682), 'doc_17669'], [np.float64(0.9849667651757682), 'doc_18043'], [np.float64(0.9849667651757682), 'doc_18579'], [np.float64(0.9849667651757682), 'doc_18677'], [np.float64(0.9849667651757682), 'doc_20437'], [np.float64(0.9849667651757682), 'doc_23305'], [np.float64(0.9849667651757682), 'doc_23857'], [np.float64(0.9849667651757682), 'doc_24738'], [np.float64(0.9849667651757682), 'doc_27962'], [np.float64(0.9849667651757682), 'doc_28432'], [np.float64(0.9849667651757682), 'doc_29704'], [np.float64(0.9849667651757682), 'doc_29785'], [np.float64(0.9849667651757682), 'doc_29886'], [np.float64(0.9849667651757682), 'doc_30031'], [np.float64(0.9849667651757682), 'doc_34174'], [np.float64(0.9849667651757682), 'doc_34371'], [np.float64(0.9849667651757682), 'doc_34914'], [np.float64(0.9849667651757682), 'doc_36677'], [np.float64(0.9849667651757682), 'doc_36717'], [np.float64(0.9849667651757682), 'doc_36737'], [np.float64(0.9849667651757682), 'doc_37387'], [np.float64(0.9849667651757682), 'doc_37648'], [np.float64(0.9849667651757682), 'doc_37678'], [np.float64(0.9849667651757682), 'doc_37863'], [np.float64(0.9849667651757682), 'doc_37881'], [np.float64(0.9849667651757682), 'doc_38419'], [np.float64(0.9849667651757682), 'doc_38448'], [np.float64(0.9849667651757682), 'doc_39074'], [np.float64(0.9849667651757682), 'doc_42275'], [np.float64(0.9849667651757682), 'doc_44418'], [np.float64(0.9849667651757682), 'doc_44484'], [np.float64(0.9849667651757682), 'doc_44885'], [np.float64(0.9849667651757682), 'doc_46869'], [np.float64(0.9849667651757682), 'doc_47417'], [np.float64(0.9823501333040845), 'doc_5193'], [np.float64(0.9823501333040845), 'doc_13904'], [np.float64(0.9823501333040845), 'doc_16152'], [np.float64(0.9823501333040845), 'doc_16675'], [np.float64(0.9823501333040845), 'doc_25258'], [np.float64(0.9823501333040845), 'doc_36382'], [np.float64(0.9741534728485145), 'doc_37090'], [np.float64(0.9670350978182747), 'doc_10268'], [np.float64(0.9670350978182747), 'doc_10318'], [np.float64(0.9670350978182747), 'doc_11459'], [np.float64(0.9670350978182747), 'doc_15570'], [np.float64(0.9670350978182747), 'doc_15573'], [np.float64(0.9670350978182747), 'doc_15575'], [np.float64(0.9670350978182747), 'doc_15577'], [np.float64(0.9670350978182747), 'doc_15578'], [np.float64(0.9670350978182747), 'doc_15579'], [np.float64(0.9670350978182747), 'doc_15587'], [np.float64(0.9670350978182747), 'doc_15589'], [np.float64(0.9670350978182747), 'doc_15591'], [np.float64(0.9670350978182747), 'doc_15592'], [np.float64(0.9670350978182747), 'doc_15594'], [np.float64(0.9670350978182747), 'doc_15596'], [np.float64(0.9670350978182747), 'doc_15599'], [np.float64(0.9670350978182747), 'doc_15600'], [np.float64(0.9670350978182747), 'doc_15601'], [np.float64(0.9670350978182747), 'doc_15602'], [np.float64(0.9670350978182747), 'doc_15604'], [np.float64(0.9670350978182747), 'doc_15606'], [np.float64(0.9670350978182747), 'doc_15608'], [np.float64(0.9670350978182747), 'doc_15611'], [np.float64(0.9670350978182747), 'doc_15612'], [np.float64(0.9670350978182747), 'doc_15613'], [np.float64(0.9670350978182747), 'doc_15615'], [np.float64(0.9670350978182747), 'doc_15616'], [np.float64(0.9670350978182747), 'doc_15617'], [np.float64(0.9670350978182747), 'doc_15618'], [np.float64(0.9670350978182747), 'doc_15619'], [np.float64(0.9670350978182747), 'doc_15623'], [np.float64(0.9670350978182747), 'doc_15624'], [np.float64(0.9670350978182747), 'doc_15625'], [np.float64(0.9670350978182747), 'doc_15626'], [np.float64(0.9670350978182747), 'doc_15627'], [np.float64(0.9670350978182747), 'doc_15631'], [np.float64(0.9670350978182747), 'doc_15633'], [np.float64(0.9670350978182747), 'doc_15635'], [np.float64(0.9670350978182747), 'doc_15640'], [np.float64(0.9670350978182747), 'doc_15642'], [np.float64(0.9670350978182747), 'doc_15643'], [np.float64(0.9670350978182747), 'doc_15645'], [np.float64(0.9670350978182747), 'doc_15646'], [np.float64(0.9670350978182747), 'doc_15647'], [np.float64(0.9670350978182747), 'doc_15651'], [np.float64(0.9670350978182747), 'doc_15653'], [np.float64(0.9670350978182747), 'doc_15655'], [np.float64(0.9670350978182747), 'doc_15661'], [np.float64(0.9670350978182747), 'doc_15663'], [np.float64(0.9670350978182747), 'doc_15665'], [np.float64(0.9670350978182747), 'doc_15666'], [np.float64(0.9670350978182747), 'doc_15667'], [np.float64(0.9670350978182747), 'doc_15669'], [np.float64(0.9670350978182747), 'doc_15670'], [np.float64(0.9670350978182747), 'doc_15673'], [np.float64(0.9670350978182747), 'doc_15674'], [np.float64(0.9670350978182747), 'doc_15678'], [np.float64(0.9670350978182747), 'doc_15681'], [np.float64(0.9670350978182747), 'doc_15683'], [np.float64(0.9670350978182747), 'doc_15684'], [np.float64(0.9670350978182747), 'doc_15686'], [np.float64(0.9670350978182747), 'doc_15689'], [np.float64(0.9670350978182747), 'doc_15691'], [np.float64(0.9670350978182747), 'doc_15693'], [np.float64(0.9670350978182747), 'doc_15695'], [np.float64(0.9670350978182747), 'doc_15697'], [np.float64(0.9670350978182747), 'doc_15698'], [np.float64(0.9670350978182747), 'doc_15700'], [np.float64(0.9670350978182747), 'doc_15702'], [np.float64(0.9670350978182747), 'doc_15703'], [np.float64(0.9670350978182747), 'doc_15705'], [np.float64(0.9670350978182747), 'doc_15707'], [np.float64(0.9670350978182747), 'doc_15709'], [np.float64(0.9670350978182747), 'doc_15713'], [np.float64(0.9670350978182747), 'doc_15724'], [np.float64(0.9670350978182747), 'doc_15725'], [np.float64(0.9670350978182747), 'doc_15727'], [np.float64(0.9670350978182747), 'doc_15733'], [np.float64(0.9670350978182747), 'doc_15745'], [np.float64(0.9670350978182747), 'doc_15747'], [np.float64(0.9670350978182747), 'doc_15759'], [np.float64(0.9670350978182747), 'doc_15809'], [np.float64(0.9670350978182747), 'doc_17653'], [np.float64(0.9670350978182747), 'doc_26702'], [np.float64(0.9670350978182747), 'doc_27710'], [np.float64(0.9670350978182747), 'doc_33401'], [np.float64(0.9670350978182747), 'doc_35926'], [np.float64(0.9670350978182747), 'doc_40965'], [np.float64(0.9611795534944215), 'doc_2655'], [np.float64(0.9611795534944215), 'doc_3463'], [np.float64(0.9611795534944215), 'doc_4513'], [np.float64(0.9611795534944215), 'doc_6158'], [np.float64(0.9611795534944215), 'doc_6250'], [np.float64(0.9611795534944215), 'doc_7313'], [np.float64(0.9611795534944215), 'doc_7456'], [np.float64(0.9611795534944215), 'doc_7463'], [np.float64(0.9611795534944215), 'doc_7637'], [np.float64(0.9611795534944215), 'doc_7693'], [np.float64(0.9611795534944215), 'doc_7770'], [np.float64(0.9611795534944215), 'doc_7854'], [np.float64(0.9611795534944215), 'doc_8517'], [np.float64(0.9611795534944215), 'doc_8760'], [np.float64(0.9611795534944215), 'doc_9909'], [np.float64(0.9611795534944215), 'doc_10473'], [np.float64(0.9611795534944215), 'doc_11111'], [np.float64(0.9611795534944215), 'doc_11135'], [np.float64(0.9611795534944215), 'doc_13074'], [np.float64(0.9611795534944215), 'doc_14100'], [np.float64(0.9611795534944215), 'doc_14133'], [np.float64(0.9611795534944215), 'doc_14907'], [np.float64(0.9611795534944215), 'doc_15328'], [np.float64(0.9611795534944215), 'doc_15818'], [np.float64(0.9611795534944215), 'doc_15924'], [np.float64(0.9611795534944215), 'doc_17458'], [np.float64(0.9611795534944215), 'doc_18128'], [np.float64(0.9611795534944215), 'doc_19334'], [np.float64(0.9611795534944215), 'doc_19608'], [np.float64(0.9611795534944215), 'doc_21789'], [np.float64(0.9611795534944215), 'doc_22545'], [np.float64(0.9611795534944215), 'doc_24050'], [np.float64(0.9611795534944215), 'doc_24711'], [np.float64(0.9611795534944215), 'doc_24856'], [np.float64(0.9611795534944215), 'doc_24893'], [np.float64(0.9611795534944215), 'doc_24913'], [np.float64(0.9611795534944215), 'doc_24915'], [np.float64(0.9611795534944215), 'doc_24917'], [np.float64(0.9611795534944215), 'doc_24918'], [np.float64(0.9611795534944215), 'doc_24919'], [np.float64(0.9611795534944215), 'doc_24921'], [np.float64(0.9611795534944215), 'doc_25731'], [np.float64(0.9611795534944215), 'doc_26080'], [np.float64(0.9611795534944215), 'doc_26658'], [np.float64(0.9611795534944215), 'doc_27050'], [np.float64(0.9611795534944215), 'doc_27354'], [np.float64(0.9611795534944215), 'doc_28239'], [np.float64(0.9611795534944215), 'doc_28656'], [np.float64(0.9611795534944215), 'doc_30019'], [np.float64(0.9611795534944215), 'doc_30300'], [np.float64(0.9611795534944215), 'doc_30656'], [np.float64(0.9611795534944215), 'doc_30857'], [np.float64(0.9611795534944215), 'doc_31913'], [np.float64(0.9611795534944215), 'doc_34178'], [np.float64(0.9611795534944215), 'doc_35119'], [np.float64(0.9611795534944215), 'doc_36184'], [np.float64(0.9611795534944215), 'doc_36924'], [np.float64(0.9611795534944215), 'doc_37593'], [np.float64(0.9611795534944215), 'doc_37633'], [np.float64(0.9611795534944215), 'doc_37876'], [np.float64(0.9611795534944215), 'doc_37890'], [np.float64(0.9611795534944215), 'doc_37972'], [np.float64(0.9611795534944215), 'doc_38012'], [np.float64(0.9611795534944215), 'doc_38892'], [np.float64(0.9611795534944215), 'doc_39595'], [np.float64(0.9611795534944215), 'doc_40129'], [np.float64(0.9611795534944215), 'doc_41328'], [np.float64(0.9611795534944215), 'doc_41825'], [np.float64(0.9611795534944215), 'doc_42468'], [np.float64(0.9611795534944215), 'doc_45951'], [np.float64(0.9611795534944215), 'doc_46221'], [np.float64(0.9611795534944215), 'doc_46897'], [np.float64(0.9522670278855294), 'doc_787'], [np.float64(0.9522670278855294), 'doc_788'], [np.float64(0.9522670278855294), 'doc_790'], [np.float64(0.9522670278855294), 'doc_792'], [np.float64(0.9522670278855294), 'doc_795'], [np.float64(0.9522670278855294), 'doc_6503'], [np.float64(0.9522670278855294), 'doc_11252'], [np.float64(0.9391543574931744), 'doc_1663'], [np.float64(0.9391543574931744), 'doc_7284'], [np.float64(0.9391543574931744), 'doc_7737'], [np.float64(0.9391543574931744), 'doc_7842'], [np.float64(0.9391543574931744), 'doc_7997'], [np.float64(0.9391543574931744), 'doc_8153'], [np.float64(0.9391543574931744), 'doc_9169'], [np.float64(0.9391543574931744), 'doc_9644'], [np.float64(0.9391543574931744), 'doc_9773'], [np.float64(0.9391543574931744), 'doc_10997'], [np.float64(0.9391543574931744), 'doc_11126'], [np.float64(0.9391543574931744), 'doc_11176'], [np.float64(0.9391543574931744), 'doc_11206'], [np.float64(0.9391543574931744), 'doc_11467'], [np.float64(0.9391543574931744), 'doc_13902'], [np.float64(0.9391543574931744), 'doc_21693'], [np.float64(0.9391543574931744), 'doc_21742'], [np.float64(0.9391543574931744), 'doc_21764'], [np.float64(0.9391543574931744), 'doc_21765'], [np.float64(0.9391543574931744), 'doc_21781'], [np.float64(0.9391543574931744), 'doc_23342'], [np.float64(0.9391543574931744), 'doc_24090'], [np.float64(0.9391543574931744), 'doc_24722'], [np.float64(0.9391543574931744), 'doc_25009'], [np.float64(0.9391543574931744), 'doc_25243'], [np.float64(0.9391543574931744), 'doc_26656'], [np.float64(0.9391543574931744), 'doc_27472'], [np.float64(0.9391543574931744), 'doc_27952'], [np.float64(0.9391543574931744), 'doc_29097'], [np.float64(0.9391543574931744), 'doc_33241'], [np.float64(0.9391543574931744), 'doc_34773'], [np.float64(0.9391543574931744), 'doc_35991'], [np.float64(0.9391543574931744), 'doc_35998'], [np.float64(0.9391543574931744), 'doc_36002'], [np.float64(0.9391543574931744), 'doc_36078'], [np.float64(0.9391543574931744), 'doc_36128'], [np.float64(0.9391543574931744), 'doc_37137'], [np.float64(0.9391543574931744), 'doc_38167'], [np.float64(0.9391543574931744), 'doc_39965'], [np.float64(0.9391543574931744), 'doc_40756'], [np.float64(0.9391543574931744), 'doc_42970'], [np.float64(0.9391543574931744), 'doc_43575'], [np.float64(0.9391543574931744), 'doc_44238'], [np.float64(0.9391543574931744), 'doc_45285'], [np.float64(0.938045923505849), 'doc_793'], [np.float64(0.938045923505849), 'doc_794'], [np.float64(0.938045923505849), 'doc_16498'], [np.float64(0.938045923505849), 'doc_19166'], [np.float64(0.938045923505849), 'doc_30536'], [np.float64(0.9244782463122727), 'doc_47225'], [np.float64(0.9184506732520021), 'doc_221'], [np.float64(0.9184506732520021), 'doc_1185'], [np.float64(0.9184506732520021), 'doc_11912'], [np.float64(0.9184506732520021), 'doc_12984'], [np.float64(0.9184506732520021), 'doc_14705'], [np.float64(0.9184506732520021), 'doc_15258'], [np.float64(0.9184506732520021), 'doc_16515'], [np.float64(0.9184506732520021), 'doc_19922'], [np.float64(0.9184506732520021), 'doc_21768'], [np.float64(0.9184506732520021), 'doc_23834'], [np.float64(0.9184506732520021), 'doc_25952'], [np.float64(0.9184506732520021), 'doc_30515'], [np.float64(0.9184506732520021), 'doc_30941'], [np.float64(0.9184506732520021), 'doc_32490'], [np.float64(0.9184506732520021), 'doc_32868'], [np.float64(0.9184506732520021), 'doc_34832'], [np.float64(0.9184506732520021), 'doc_35475'], [np.float64(0.9184506732520021), 'doc_38073'], [np.float64(0.9184506732520021), 'doc_38546'], [np.float64(0.9184506732520021), 'doc_39646'], [np.float64(0.9184506732520021), 'doc_40017'], [np.float64(0.9184506732520021), 'doc_41091'], [np.float64(0.9184506732520021), 'doc_42799'], [np.float64(0.9184506732520021), 'doc_44544'], [np.float64(0.9184506732520021), 'doc_45820'], [np.float64(0.9184506732520021), 'doc_47288'], [np.float64(0.9149045221791), 'doc_45127'], [np.float64(0.8992113692382598), 'doc_12457'], [np.float64(0.8990685007709048), 'doc_2139'], [np.float64(0.8990685007709048), 'doc_3145'], [np.float64(0.8990685007709048), 'doc_5113'], [np.float64(0.8990685007709048), 'doc_5346'], [np.float64(0.8990685007709048), 'doc_5473'], [np.float64(0.8990685007709048), 'doc_5614'], [np.float64(0.8990685007709048), 'doc_6054'], [np.float64(0.8990685007709048), 'doc_10017'], [np.float64(0.8990685007709048), 'doc_10425'], [np.float64(0.8990685007709048), 'doc_10578'], [np.float64(0.8990685007709048), 'doc_10915'], [np.float64(0.8990685007709048), 'doc_12315'], [np.float64(0.8990685007709048), 'doc_12385'], [np.float64(0.8990685007709048), 'doc_12666'], [np.float64(0.8990685007709048), 'doc_12674'], [np.float64(0.8990685007709048), 'doc_13448'], [np.float64(0.8990685007709048), 'doc_17195'], [np.float64(0.8990685007709048), 'doc_17697'], [np.float64(0.8990685007709048), 'doc_23612'], [np.float64(0.8990685007709048), 'doc_23749'], [np.float64(0.8990685007709048), 'doc_25293'], [np.float64(0.8990685007709048), 'doc_27923'], [np.float64(0.8990685007709048), 'doc_27943'], [np.float64(0.8990685007709048), 'doc_28477'], [np.float64(0.8990685007709048), 'doc_29239'], [np.float64(0.8990685007709048), 'doc_29332'], [np.float64(0.8990685007709048), 'doc_29356'], [np.float64(0.8990685007709048), 'doc_29541'], [np.float64(0.8990685007709048), 'doc_30359'], [np.float64(0.8990685007709048), 'doc_31732'], [np.float64(0.8990685007709048), 'doc_32538'], [np.float64(0.8990685007709048), 'doc_37666'], [np.float64(0.8990685007709048), 'doc_41157'], [np.float64(0.8990685007709048), 'doc_46219'], [np.float64(0.8990685007709048), 'doc_46574'], [np.float64(0.8871781270708379), 'doc_30522'], [np.float64(0.8871781270708379), 'doc_37209'], [np.float64(0.8871781270708379), 'doc_37219'], [np.float64(0.8871781270708379), 'doc_37232'], [np.float64(0.8871781270708379), 'doc_37241'], [np.float64(0.8810078400498823), 'doc_2096'], [np.float64(0.8810078400498823), 'doc_5099'], [np.float64(0.8810078400498823), 'doc_10331'], [np.float64(0.8810078400498823), 'doc_11941'], [np.float64(0.8810078400498823), 'doc_13041'], [np.float64(0.8810078400498823), 'doc_13739'], [np.float64(0.8810078400498823), 'doc_14412'], [np.float64(0.8810078400498823), 'doc_14424'], [np.float64(0.8810078400498823), 'doc_14425'], [np.float64(0.8810078400498823), 'doc_14476'], [np.float64(0.8810078400498823), 'doc_14479'], [np.float64(0.8810078400498823), 'doc_14483'], [np.float64(0.8810078400498823), 'doc_14485'], [np.float64(0.8810078400498823), 'doc_15819'], [np.float64(0.8810078400498823), 'doc_16629'], [np.float64(0.8810078400498823), 'doc_22176'], [np.float64(0.8810078400498823), 'doc_24564'], [np.float64(0.8810078400498823), 'doc_25312'], [np.float64(0.8810078400498823), 'doc_26377'], [np.float64(0.8810078400498823), 'doc_26503'], [np.float64(0.8810078400498823), 'doc_26748'], [np.float64(0.8810078400498823), 'doc_26873'], [np.float64(0.8810078400498823), 'doc_27156'], [np.float64(0.8810078400498823), 'doc_27561'], [np.float64(0.8810078400498823), 'doc_28939'], [np.float64(0.8810078400498823), 'doc_30569'], [np.float64(0.8810078400498823), 'doc_31852'], [np.float64(0.8810078400498823), 'doc_31994'], [np.float64(0.8810078400498823), 'doc_33504'], [np.float64(0.8810078400498823), 'doc_33560'], [np.float64(0.8810078400498823), 'doc_36530'], [np.float64(0.8810078400498823), 'doc_38025'], [np.float64(0.8810078400498823), 'doc_38766'], [np.float64(0.8810078400498823), 'doc_41340'], [np.float64(0.8810078400498823), 'doc_41376'], [np.float64(0.8810078400498823), 'doc_42865'], [np.float64(0.8810078400498823), 'doc_44108'], [np.float64(0.8810078400498823), 'doc_44768'], [np.float64(0.8810078400498823), 'doc_45658'], [np.float64(0.8810078400498823), 'doc_45840'], [np.float64(0.8810078400498823), 'doc_48371'], [np.float64(0.8647525393951878), 'doc_678'], [np.float64(0.8647525393951878), 'doc_10217'], [np.float64(0.8647525393951878), 'doc_10354'], [np.float64(0.8647525393951878), 'doc_10371'], [np.float64(0.8647525393951878), 'doc_37041'], [np.float64(0.8647525393951878), 'doc_37117'], [np.float64(0.8647525393951878), 'doc_46004'], [np.float64(0.8638281871689095), 'doc_5219'], [np.float64(0.8638281871689095), 'doc_6903'], [np.float64(0.8638281871689095), 'doc_8142'], [np.float64(0.8638281871689095), 'doc_9696'], [np.float64(0.8638281871689095), 'doc_13503'], [np.float64(0.8638281871689095), 'doc_14472'], [np.float64(0.8638281871689095), 'doc_18674'], [np.float64(0.8638281871689095), 'doc_19219'], [np.float64(0.8638281871689095), 'doc_19423'], [np.float64(0.8638281871689095), 'doc_20175'], [np.float64(0.8638281871689095), 'doc_21169'], [np.float64(0.8638281871689095), 'doc_21837'], [np.float64(0.8638281871689095), 'doc_23269'], [np.float64(0.8638281871689095), 'doc_27271'], [np.float64(0.8638281871689095), 'doc_27851'], [np.float64(0.8638281871689095), 'doc_28348'], [np.float64(0.8638281871689095), 'doc_30206'], [np.float64(0.8638281871689095), 'doc_31297'], [np.float64(0.8638281871689095), 'doc_32644'], [np.float64(0.8638281871689095), 'doc_33648'], [np.float64(0.8638281871689095), 'doc_41000'], [np.float64(0.8638281871689095), 'doc_41015'], [np.float64(0.8638281871689095), 'doc_41033'], [np.float64(0.8638281871689095), 'doc_41081'], [np.float64(0.8638281871689095), 'doc_41126'], [np.float64(0.8638281871689095), 'doc_41736'], [np.float64(0.8638281871689095), 'doc_41768'], [np.float64(0.8638281871689095), 'doc_46329'], [np.float64(0.8638281871689095), 'doc_46365'], [np.float64(0.8638281871689095), 'doc_46699'], [np.float64(0.8479700460480116), 'doc_138'], [np.float64(0.8479700460480116), 'doc_2227'], [np.float64(0.8479700460480116), 'doc_8358'], [np.float64(0.8479700460480116), 'doc_14114'], [np.float64(0.8479700460480116), 'doc_16020'], [np.float64(0.8479700460480116), 'doc_17179'], [np.float64(0.8479700460480116), 'doc_20373'], [np.float64(0.8479700460480116), 'doc_24202'], [np.float64(0.8479700460480116), 'doc_25713'], [np.float64(0.8479700460480116), 'doc_25904'], [np.float64(0.8479700460480116), 'doc_26532'], [np.float64(0.8479700460480116), 'doc_33055'], [np.float64(0.8479700460480116), 'doc_36019'], [np.float64(0.8479700460480116), 'doc_36494'], [np.float64(0.8479700460480116), 'doc_36816'], [np.float64(0.8479700460480116), 'doc_42996'], [np.float64(0.8479700460480116), 'doc_43010'], [np.float64(0.8479700460480116), 'doc_43462'], [np.float64(0.8479700460480116), 'doc_44111'], [np.float64(0.8479700460480116), 'doc_44465'], [np.float64(0.8479700460480116), 'doc_45442'], [np.float64(0.8479700460480116), 'doc_45490'], [np.float64(0.8479700460480116), 'doc_46614'], [np.float64(0.8479700460480116), 'doc_47514'], [np.float64(0.8439678483787316), 'doc_20709'], [np.float64(0.8439678483787316), 'doc_20760'], [np.float64(0.8341224684235683), 'doc_18507'], [np.float64(0.8325524088471387), 'doc_3563'], [np.float64(0.8325524088471387), 'doc_5500'], [np.float64(0.8325524088471387), 'doc_11471'], [np.float64(0.8325524088471387), 'doc_13467'], [np.float64(0.8325524088471387), 'doc_13785'], [np.float64(0.8325524088471387), 'doc_14071'], [np.float64(0.8325524088471387), 'doc_15737'], [np.float64(0.8325524088471387), 'doc_17103'], [np.float64(0.8325524088471387), 'doc_19331'], [np.float64(0.8325524088471387), 'doc_22229'], [np.float64(0.8325524088471387), 'doc_22669'], [np.float64(0.8325524088471387), 'doc_24646'], [np.float64(0.8325524088471387), 'doc_24838'], [np.float64(0.8325524088471387), 'doc_25149'], [np.float64(0.8325524088471387), 'doc_27012'], [np.float64(0.8325524088471387), 'doc_30396'], [np.float64(0.8325524088471387), 'doc_33297'], [np.float64(0.8325524088471387), 'doc_33551'], [np.float64(0.8325524088471387), 'doc_34444'], [np.float64(0.8325524088471387), 'doc_35431'], [np.float64(0.8325524088471387), 'doc_37844'], [np.float64(0.8325524088471387), 'doc_43082'], [np.float64(0.8325524088471387), 'doc_44081'], [np.float64(0.8180157794863155), 'doc_3474'], [np.float64(0.8180157794863155), 'doc_6964'], [np.float64(0.8180157794863155), 'doc_7211'], [np.float64(0.8180157794863155), 'doc_14011'], [np.float64(0.8180157794863155), 'doc_18898'], [np.float64(0.8180157794863155), 'doc_26665'], [np.float64(0.8180157794863155), 'doc_28055'], [np.float64(0.8180157794863155), 'doc_29216'], [np.float64(0.8180157794863155), 'doc_31442'], [np.float64(0.8180157794863155), 'doc_37022'], [np.float64(0.8180157794863155), 'doc_37099'], [np.float64(0.8180157794863155), 'doc_41894'], [np.float64(0.8180157794863155), 'doc_43083'], [np.float64(0.8180157794863155), 'doc_43129'], [np.float64(0.8180157794863155), 'doc_45283'], [np.float64(0.8063336868503115), 'doc_30901'], [np.float64(0.8043601579655424), 'doc_8439'], [np.float64(0.8043601579655424), 'doc_9504'], [np.float64(0.8043601579655424), 'doc_16562'], [np.float64(0.8043601579655424), 'doc_16865'], [np.float64(0.8043601579655424), 'doc_22752'], [np.float64(0.8043601579655424), 'doc_23388'], [np.float64(0.8043601579655424), 'doc_27922'], [np.float64(0.8043601579655424), 'doc_29881'], [np.float64(0.8043601579655424), 'doc_29925'], [np.float64(0.8043601579655424), 'doc_29929'], [np.float64(0.8043601579655424), 'doc_29934'], [np.float64(0.8043601579655424), 'doc_29936'], [np.float64(0.8043601579655424), 'doc_33981'], [np.float64(0.8043601579655424), 'doc_36495'], [np.float64(0.8043601579655424), 'doc_36498'], [np.float64(0.8043601579655424), 'doc_36518'], [np.float64(0.8043601579655424), 'doc_36524'], [np.float64(0.8043601579655424), 'doc_36708'], [np.float64(0.8043601579655424), 'doc_38394'], [np.float64(0.8043601579655424), 'doc_43351'], [np.float64(0.7911450403647943), 'doc_1106'], [np.float64(0.7911450403647943), 'doc_2039'], [np.float64(0.7911450403647943), 'doc_12803'], [np.float64(0.7911450403647943), 'doc_13530'], [np.float64(0.7911450403647943), 'doc_14765'], [np.float64(0.7911450403647943), 'doc_17968'], [np.float64(0.7911450403647943), 'doc_19222'], [np.float64(0.7911450403647943), 'doc_19265'], [np.float64(0.7911450403647943), 'doc_24888'], [np.float64(0.7911450403647943), 'doc_25151'], [np.float64(0.7911450403647943), 'doc_26704'], [np.float64(0.7911450403647943), 'doc_29187'], [np.float64(0.7911450403647943), 'doc_36840'], [np.float64(0.7911450403647943), 'doc_41123'], [np.float64(0.7911450403647943), 'doc_47335'], [np.float64(0.7911450403647943), 'doc_47639'], [np.float64(0.778810930604096), 'doc_5699'], [np.float64(0.778810930604096), 'doc_33174'], [np.float64(0.778810930604096), 'doc_37497'], [np.float64(0.778810930604096), 'doc_40700'], [np.float64(0.778810930604096), 'doc_42438'], [np.float64(0.778810930604096), 'doc_42720'], [np.float64(0.778810930604096), 'doc_44629'], [np.float64(0.778810930604096), 'doc_47584'], [np.float64(0.778810930604096), 'doc_47869'], [np.float64(0.778810930604096), 'doc_48158'], [np.float64(0.778810930604096), 'doc_48389'], [np.float64(0.7669173247634224), 'doc_3431'], [np.float64(0.7669173247634224), 'doc_27314'], [np.float64(0.7669173247634224), 'doc_28014'], [np.float64(0.7669173247634224), 'doc_29382'], [np.float64(0.7669173247634224), 'doc_29401'], [np.float64(0.7669173247634224), 'doc_35895'], [np.float64(0.7669173247634224), 'doc_36727'], [np.float64(0.7669173247634224), 'doc_44606'], [np.float64(0.7554642228427741), 'doc_1461'], [np.float64(0.7554642228427741), 'doc_8318'], [np.float64(0.7554642228427741), 'doc_9563'], [np.float64(0.7554642228427741), 'doc_16731'], [np.float64(0.7554642228427741), 'doc_23250'], [np.float64(0.7554642228427741), 'doc_29035'], [np.float64(0.7554642228427741), 'doc_36527'], [np.float64(0.7554642228427741), 'doc_36715'], [np.float64(0.7554642228427741), 'doc_36724'], [np.float64(0.7554642228427741), 'doc_38463'], [np.float64(0.7444516248421504), 'doc_16093'], [np.float64(0.7444516248421504), 'doc_17530'], [np.float64(0.7444516248421504), 'doc_28007'], [np.float64(0.7444516248421504), 'doc_29182'], [np.float64(0.7444516248421504), 'doc_31223'], [np.float64(0.7444516248421504), 'doc_37877'], [np.float64(0.7444516248421504), 'doc_37928'], [np.float64(0.7444516248421504), 'doc_37964'], [np.float64(0.7444516248421504), 'doc_38015'], [np.float64(0.7343200346815768), 'doc_153'], [np.float64(0.7343200346815768), 'doc_211'], [np.float64(0.7343200346815768), 'doc_3301'], [np.float64(0.7343200346815768), 'doc_5964'], [np.float64(0.7343200346815768), 'doc_6462'], [np.float64(0.7343200346815768), 'doc_29040'], [np.float64(0.7343200346815768), 'doc_35716'], [np.float64(0.7241884445210032), 'doc_4221'], [np.float64(0.7241884445210032), 'doc_5855'], [np.float64(0.7241884445210032), 'doc_29155'], [np.float64(0.7241884445210032), 'doc_31749'], [np.float64(0.7241884445210032), 'doc_32035'], [np.float64(0.7241884445210032), 'doc_32590'], [np.float64(0.7144973582804545), 'doc_11643'], [np.float64(0.7144973582804545), 'doc_28672'], [np.float64(0.7144973582804545), 'doc_29789'], [np.float64(0.7144973582804545), 'doc_38170'], [np.float64(0.7052467759599308), 'doc_24885'], [np.float64(0.7052467759599308), 'doc_27482'], [np.float64(0.7052467759599308), 'doc_35153'], [np.float64(0.6964366975594318), 'doc_4847'], [np.float64(0.6880671230789581), 'doc_24451'], [np.float64(0.6880671230789581), 'doc_24476'], [np.float64(0.679697548598484), 'doc_24495'], [np.float64(0.6294801017156408), 'doc_4959'], [np.float64(0.6052523861142691), 'doc_31418'], [np.float64(0.6052523861142691), 'doc_41345'], [np.float64(0.5087820276288071), 'doc_43413'], [np.float64(0.4321343455444673), 'doc_14899']]\n",
      "\n",
      "======================\n",
      "Sample of 10 results out of 3197 for the searched query 'support farmers':\n",
      "\n",
      "docId = doc_38864\n",
      "docId = doc_43187\n",
      "docId = doc_31878\n",
      "docId = doc_47382\n",
      "docId = doc_47396\n",
      "docId = doc_47423\n",
      "docId = doc_30210\n",
      "docId = doc_24459\n",
      "docId = doc_3699\n",
      "docId = doc_4430\n",
      "[[np.float64(5.958774435886566), 'doc_4328'], [np.float64(5.169790563201798), 'doc_13001'], [np.float64(3.7335970039710276), 'doc_22137'], [np.float64(3.638460343745386), 'doc_16422'], [np.float64(3.5064446351468703), 'doc_9261'], [np.float64(3.4259486108438146), 'doc_25070'], [np.float64(3.3393291603516873), 'doc_25748'], [np.float64(3.113819901311837), 'doc_6104'], [np.float64(3.0481085940419472), 'doc_6115'], [np.float64(3.0481085940419472), 'doc_37830'], [np.float64(2.9286334899148745), 'doc_12244'], [np.float64(2.8748696930576916), 'doc_46130'], [np.float64(2.822599335002097), 'doc_6518']]\n",
      "\n",
      "======================\n",
      "Sample of 10 results out of 13 for the searched query 'Modi government law':\n",
      "\n",
      "docId = doc_4328\n",
      "docId = doc_13001\n",
      "docId = doc_22137\n",
      "docId = doc_16422\n",
      "docId = doc_9261\n",
      "docId = doc_25070\n",
      "docId = doc_25748\n",
      "docId = doc_6104\n",
      "docId = doc_6115\n",
      "docId = doc_37830\n",
      "[[np.float64(5.124749796115617), 'doc_36665'], [np.float64(4.782110509531513), 'doc_22469'], [np.float64(4.023161034251347), 'doc_46867'], [np.float64(3.785183889095685), 'doc_19262'], [np.float64(3.508703881119011), 'doc_9441'], [np.float64(3.4831488235589156), 'doc_9477'], [np.float64(3.482620268109927), 'doc_24244'], [np.float64(3.441107129813708), 'doc_30206'], [np.float64(3.266622397696836), 'doc_14925'], [np.float64(3.2415737318889084), 'doc_36672'], [np.float64(3.1633801437115823), 'doc_44921'], [np.float64(3.1386267737111817), 'doc_38992'], [np.float64(3.1386267737111817), 'doc_39188'], [np.float64(3.0444679704998463), 'doc_32709'], [np.float64(3.0161674793736726), 'doc_30994'], [np.float64(2.959097322254902), 'doc_45134'], [np.float64(2.8800039275573805), 'doc_28265'], [np.float64(2.807187786407281), 'doc_23588'], [np.float64(2.807187786407281), 'doc_46211'], [np.float64(2.73939344809512), 'doc_8912'], [np.float64(2.73939344809512), 'doc_40064'], [np.float64(2.73939344809512), 'doc_46582'], [np.float64(2.6982204922856496), 'doc_23109'], [np.float64(2.676620912620896), 'doc_6921'], [np.float64(2.6176147292751257), 'doc_32360'], [np.float64(2.5623748980578087), 'doc_32964'], [np.float64(2.5623748980578087), 'doc_35928'], [np.float64(2.5109014189689454), 'doc_7164'], [np.float64(2.41674261575761), 'doc_38105'], [np.float64(2.3728018409256535), 'doc_27963'], [np.float64(2.1217116990287592), 'doc_3927']]\n",
      "\n",
      "======================\n",
      "Sample of 10 results out of 31 for the searched query 'BJP India governance':\n",
      "\n",
      "docId = doc_36665\n",
      "docId = doc_22469\n",
      "docId = doc_46867\n",
      "docId = doc_19262\n",
      "docId = doc_9441\n",
      "docId = doc_9477\n",
      "docId = doc_24244\n",
      "docId = doc_30206\n",
      "docId = doc_14925\n",
      "docId = doc_36672\n",
      "[[np.float64(3.780298052637973), 'doc_27922'], [np.float64(3.50752289596395), 'doc_39111'], [np.float64(3.50752289596395), 'doc_43785'], [np.float64(3.40189849291517), 'doc_34947'], [np.float64(3.327002819792371), 'doc_38184'], [np.float64(3.3077372248167074), 'doc_14625'], [np.float64(3.277835688331713), 'doc_5622'], [np.float64(3.277835688331713), 'doc_8519'], [np.float64(3.277835688331713), 'doc_18803'], [np.float64(3.277835688331713), 'doc_32808'], [np.float64(3.277835688331713), 'doc_34647'], [np.float64(3.277835688331713), 'doc_43544'], [np.float64(3.277835688331713), 'doc_46080'], [np.float64(3.277835688331713), 'doc_46413'], [np.float64(3.248024631735358), 'doc_7452'], [np.float64(3.248024631735358), 'doc_26962'], [np.float64(3.2458613883441423), 'doc_20124'], [np.float64(3.0601981169308576), 'doc_8088'], [np.float64(3.0601981169308576), 'doc_28731'], [np.float64(3.0601981169308576), 'doc_39008'], [np.float64(3.038363782491065), 'doc_45612'], [np.float64(2.981318030148861), 'doc_47796'], [np.float64(2.9784024099445845), 'doc_18793'], [np.float64(2.9784024099445845), 'doc_26854'], [np.float64(2.9784024099445845), 'doc_28201'], [np.float64(2.9784024099445845), 'doc_28202'], [np.float64(2.9784024099445845), 'doc_31558'], [np.float64(2.9030984257350005), 'doc_191'], [np.float64(2.8639328300460174), 'doc_14077'], [np.float64(2.8639328300460174), 'doc_27949'], [np.float64(2.8329878197467666), 'doc_43773'], [np.float64(2.7680705919798845), 'doc_44238'], [np.float64(2.716998382419894), 'doc_22557'], [np.float64(2.716998382419894), 'doc_38721'], [np.float64(2.716998382419894), 'doc_42701'], [np.float64(2.716998382419894), 'doc_46599'], [np.float64(2.707048397879015), 'doc_11890'], [np.float64(2.707048397879015), 'doc_37191'], [np.float64(2.6661189664863842), 'doc_46478'], [np.float64(2.6499212374441576), 'doc_11926'], [np.float64(2.6499212374441576), 'doc_22221'], [np.float64(2.6246478376425673), 'doc_21371'], [np.float64(2.596689110675314), 'doc_40408'], [np.float64(2.590686313407964), 'doc_27372'], [np.float64(2.5424680161109485), 'doc_17876'], [np.float64(2.5424680161109485), 'doc_37000'], [np.float64(2.509006884786852), 'doc_12086'], [np.float64(2.4807002941322693), 'doc_43664'], [np.float64(2.4751624493484368), 'doc_28672'], [np.float64(2.4751624493484368), 'doc_29789'], [np.float64(2.4538712095881716), 'doc_30396'], [np.float64(2.4538712095881716), 'doc_33551'], [np.float64(2.4339480398135303), 'doc_435'], [np.float64(2.4339480398135303), 'doc_5715'], [np.float64(2.4181657380148653), 'doc_23080'], [np.float64(2.383603261490445), 'doc_26851'], [np.float64(2.383603261490445), 'doc_32603'], [np.float64(2.383603261490445), 'doc_36744'], [np.float64(2.383603261490445), 'doc_40645'], [np.float64(2.3703380792668147), 'doc_11619'], [np.float64(2.3385458628487665), 'doc_27851'], [np.float64(2.3385458628487665), 'doc_39377'], [np.float64(2.296817418155717), 'doc_900'], [np.float64(2.296817418155717), 'doc_20095'], [np.float64(2.296817418155717), 'doc_20699'], [np.float64(2.296817418155717), 'doc_21013'], [np.float64(2.296817418155717), 'doc_27309'], [np.float64(2.296817418155717), 'doc_28227'], [np.float64(2.254347989020492), 'doc_19135'], [np.float64(2.253876430792539), 'doc_30394'], [np.float64(2.230172976520181), 'doc_11755'], [np.float64(2.230172976520181), 'doc_38267'], [np.float64(2.2266609124040815), 'doc_10402'], [np.float64(2.2186242325769028), 'doc_1725'], [np.float64(2.2186242325769028), 'doc_3938'], [np.float64(2.2186242325769028), 'doc_14062'], [np.float64(2.2186242325769028), 'doc_26203'], [np.float64(2.2186242325769028), 'doc_28345'], [np.float64(2.202605218743858), 'doc_26131'], [np.float64(2.1705629224171807), 'doc_26689'], [np.float64(2.1705629224171807), 'doc_44416'], [np.float64(2.1639012949681273), 'doc_35410'], [np.float64(2.1481644389784114), 'doc_14402'], [np.float64(2.1324275829886945), 'doc_14665'], [np.float64(2.1156838249890217), 'doc_18245'], [np.float64(2.1156838249890217), 'doc_25665'], [np.float64(2.1156838249890217), 'doc_26876'], [np.float64(2.1156838249890217), 'doc_45464'], [np.float64(2.1059148687576794), 'doc_10403'], [np.float64(2.1059148687576794), 'doc_10409'], [np.float64(2.1059148687576794), 'doc_10423'], [np.float64(2.1059148687576794), 'doc_10428'], [np.float64(2.1059148687576794), 'doc_10431'], [np.float64(2.1059148687576794), 'doc_10455'], [np.float64(2.1059148687576794), 'doc_10456'], [np.float64(2.1059148687576794), 'doc_10459'], [np.float64(2.083719505809059), 'doc_14456'], [np.float64(2.083719505809059), 'doc_17068'], [np.float64(2.0790887118753347), 'doc_10386'], [np.float64(2.0790887118753347), 'doc_10419'], [np.float64(2.0790887118753347), 'doc_10438'], [np.float64(2.0752723952699004), 'doc_30522'], [np.float64(2.064589492900736), 'doc_16206'], [np.float64(2.0451105949370705), 'doc_27697'], [np.float64(2.025289433068846), 'doc_9738'], [np.float64(2.025289433068846), 'doc_25497'], [np.float64(2.025289433068846), 'doc_34886'], [np.float64(2.017279926152323), 'doc_7237'], [np.float64(2.017279926152323), 'doc_32186'], [np.float64(2.017279926152323), 'doc_37624'], [np.float64(2.017279926152323), 'doc_37945'], [np.float64(1.9876096010667919), 'doc_13226'], [np.float64(1.9728089334088152), 'doc_6104'], [np.float64(1.9728089334088152), 'doc_26192'], [np.float64(1.97115568920659), 'doc_12686'], [np.float64(1.97115568920659), 'doc_18650'], [np.float64(1.97115568920659), 'doc_24256'], [np.float64(1.931176514670212), 'doc_6115'], [np.float64(1.931176514670212), 'doc_8554'], [np.float64(1.9213182742222905), 'doc_10498'], [np.float64(1.9213182742222905), 'doc_13018'], [np.float64(1.9213182742222905), 'doc_15195'], [np.float64(1.9213182742222905), 'doc_25541'], [np.float64(1.9213182742222905), 'doc_27775'], [np.float64(1.9184980727989416), 'doc_41863'], [np.float64(1.9184980727989416), 'doc_41865'], [np.float64(1.9184980727989416), 'doc_45333'], [np.float64(1.9184980727989416), 'doc_45337'], [np.float64(1.9184980727989416), 'doc_45341'], [np.float64(1.8749179223403571), 'doc_13164'], [np.float64(1.8749179223403571), 'doc_13167'], [np.float64(1.8749179223403571), 'doc_16121'], [np.float64(1.8749179223403571), 'doc_20754'], [np.float64(1.8749179223403571), 'doc_21551'], [np.float64(1.8749179223403571), 'doc_30019'], [np.float64(1.8749179223403571), 'doc_30857'], [np.float64(1.8749179223403571), 'doc_43858'], [np.float64(1.8554812078727514), 'doc_2685'], [np.float64(1.8554779422438874), 'doc_43954'], [np.float64(1.831954633560789), 'doc_16049'], [np.float64(1.831954633560789), 'doc_16159'], [np.float64(1.831954633560789), 'doc_31678'], [np.float64(1.8213313942545173), 'doc_16307'], [np.float64(1.8213313942545173), 'doc_45338'], [np.float64(1.7915691421079951), 'doc_20290'], [np.float64(1.7915691421079951), 'doc_26744'], [np.float64(1.7915691421079951), 'doc_31554'], [np.float64(1.7915691421079951), 'doc_47910'], [np.float64(1.788301623090005), 'doc_23542'], [np.float64(1.753761447981975), 'doc_3935'], [np.float64(1.753761447981975), 'doc_5473'], [np.float64(1.753761447981975), 'doc_8119'], [np.float64(1.753761447981975), 'doc_14245'], [np.float64(1.753761447981975), 'doc_36789'], [np.float64(1.753761447981975), 'doc_45097'], [np.float64(1.7185315511827288), 'doc_26223'], [np.float64(1.699359637602989), 'doc_2715'], [np.float64(1.699359637602989), 'doc_15310'], [np.float64(1.6850201859346656), 'doc_36275'], [np.float64(1.6850201859346656), 'doc_39333'], [np.float64(1.6850201859346656), 'doc_41000'], [np.float64(1.6850201859346656), 'doc_41015'], [np.float64(1.6850201859346656), 'doc_41033'], [np.float64(1.6850201859346656), 'doc_41081'], [np.float64(1.6850201859346656), 'doc_41126'], [np.float64(1.6850201859346656), 'doc_41736'], [np.float64(1.6850201859346656), 'doc_41768'], [np.float64(1.6850201859346656), 'doc_42903'], [np.float64(1.6850201859346656), 'doc_44217'], [np.float64(1.6728662802238778), 'doc_18093'], [np.float64(1.6540866180133766), 'doc_27264'], [np.float64(1.6540866180133766), 'doc_41577'], [np.float64(1.6540866180133766), 'doc_45442'], [np.float64(1.6540866180133766), 'doc_47523'], [np.float64(1.624012315867679), 'doc_2461'], [np.float64(1.624012315867679), 'doc_3990'], [np.float64(1.624012315867679), 'doc_4212'], [np.float64(1.624012315867679), 'doc_16437'], [np.float64(1.5690193062298317), 'doc_37691'], [np.float64(1.5690193062298317), 'doc_45761'], [np.float64(1.5690193062298317), 'doc_46793'], [np.float64(1.5432413329620904), 'doc_11014'], [np.float64(1.5432413329620904), 'doc_18938'], [np.float64(1.5191818912455326), 'doc_20193'], [np.float64(1.4959817153045654), 'doc_10404'], [np.float64(1.4959817153045654), 'doc_28014'], [np.float64(1.47364080513919), 'doc_42270'], [np.float64(1.3937290880091933), 'doc_1916'], [np.float64(1.3756845067217744), 'doc_13046'], [np.float64(1.3103803077768308), 'doc_11113'], [np.float64(1.3103803077768308), 'doc_17183'], [np.float64(1.138527152658558), 'doc_27802'], [np.float64(1.0826748772451191), 'doc_38674']]\n",
      "\n",
      "======================\n",
      "Sample of 10 results out of 193 for the searched query 'farmer rights protest':\n",
      "\n",
      "docId = doc_27922\n",
      "docId = doc_39111\n",
      "docId = doc_43785\n",
      "docId = doc_34947\n",
      "docId = doc_38184\n",
      "docId = doc_14625\n",
      "docId = doc_5622\n",
      "docId = doc_8519\n",
      "docId = doc_18803\n",
      "docId = doc_32808\n"
     ]
    }
   ],
   "source": [
    "simulate_search_tf_idf(queries, index, idf, tf)"
   ]
  },
  {
   "cell_type": "markdown",
   "metadata": {},
   "source": [
    "## Evaluation"
   ]
  },
  {
   "cell_type": "code",
   "execution_count": 195,
   "metadata": {},
   "outputs": [],
   "source": [
    "evaluation_gt = pd.read_csv('./data/evaluation_gt.csv', sep=';')\n",
    "df_eva = pd.merge(tweets_df, evaluation_gt, on='docId', how='left')\n",
    "\n",
    "pd.set_option('display.max_colwidth', None)\n",
    "\n",
    "query_1_relevant = (df_eva[(df_eva['query_id'] == 1) & (df_eva['label'] == 1)])['docId'].unique()\n",
    "query_1_not_relevant = (df_eva[(df_eva['query_id'] == 1) & (df_eva['label'] == 0)])['docId'].unique()\n",
    "\n",
    "query_2_relevant = (df_eva[(df_eva['query_id'] == 2) & (df_eva['label'] == 1)])['docId'].unique()\n",
    "query_2_not_relevant = (df_eva[(df_eva['query_id'] == 2) & (df_eva['label'] == 0)])['docId'].unique()\n"
   ]
  },
  {
   "cell_type": "code",
   "execution_count": 196,
   "metadata": {},
   "outputs": [
    {
     "name": "stdout",
     "output_type": "stream",
     "text": [
      "60\n",
      "[[np.float64(0.3280086078423732), 'doc_4053'], [np.float64(0.2735591789405392), 'doc_9850'], [np.float64(0.2572899519915575), 'doc_9696'], [np.float64(0.2436447939053148), 'doc_6477'], [np.float64(0.24208447109680595), 'doc_2100'], [np.float64(0.23217779755439605), 'doc_2732'], [np.float64(0.22232082969802372), 'doc_8819'], [np.float64(0.21361897526232), 'doc_43341'], [np.float64(0.1988335234777614), 'doc_8066'], [np.float64(0.19251890344477288), 'doc_5480'], [np.float64(0.18536433053101709), 'doc_3474'], [np.float64(0.17218890724100486), 'doc_43540'], [np.float64(0.1641801208577023), 'doc_5751'], [np.float64(0.16056076547294057), 'doc_10048'], [np.float64(0.14823955565247512), 'doc_5512'], [np.float64(0.1430030414787773), 'doc_1047'], [np.float64(0.1430030414787773), 'doc_3287'], [np.float64(0.10580838933324717), 'doc_3570'], [np.float64(0.10380619273742155), 'doc_9937']]\n",
      "[[np.float64(0.6018075125099774), 'doc_3116'], [np.float64(0.47584780058928455), 'doc_103'], [np.float64(0.41399565769297525), 'doc_1566'], [np.float64(0.4057356105137706), 'doc_3076'], [np.float64(0.3597118696196712), 'doc_3682'], [np.float64(0.34746578651627047), 'doc_3646'], [np.float64(0.31718700961225776), 'doc_2653'], [np.float64(0.2968814043908396), 'doc_3927'], [np.float64(0.2936368497980257), 'doc_1666'], [np.float64(0.28690823270824506), 'doc_3005'], [np.float64(0.28058333264385127), 'doc_1651'], [np.float64(0.2691446835912243), 'doc_4304'], [np.float64(0.2638963622611954), 'doc_1785'], [np.float64(0.2638963622611954), 'doc_4176'], [np.float64(0.23079156617947483), 'doc_2528']]\n"
     ]
    }
   ],
   "source": [
    "# Keep in mind that for the evaluation part we will be using only the subset of documents that are being defined in the evaluation_gt.csv\n",
    "df_subset_documents = df_eva[df_eva['query_id'].notnull()]\n",
    "subset_documents = df_subset_documents['docId'].unique()\n",
    "print(len(subset_documents))\n",
    "\n",
    "index, tf, df, idf = create_index_tfidf(df_subset_documents)\n",
    "query_1_results = search_tf_idf(\"people's rights\", index, idf, tf)\n",
    "query_2_results = search_tf_idf(\"Indian government\", index, idf, tf)"
   ]
  },
  {
   "cell_type": "code",
   "execution_count": 197,
   "metadata": {},
   "outputs": [
    {
     "name": "stdout",
     "output_type": "stream",
     "text": [
      "Ground Truth Files Query 1 (subset): ['doc_1047' 'doc_2100' 'doc_3287' 'doc_3474' 'doc_3570' 'doc_4053'\n",
      " 'doc_5480' 'doc_5512' 'doc_5751' 'doc_6477' 'doc_8066' 'doc_9696'\n",
      " 'doc_9850' 'doc_9937' 'doc_10048']\n",
      "\n",
      "Our Obtained Results Query 1: ['doc_4053', 'doc_9850', 'doc_9696', 'doc_6477', 'doc_2100', 'doc_2732', 'doc_8819',\n",
      "'doc_43341', 'doc_8066', 'doc_5480', 'doc_3474', 'doc_43540', 'doc_5751', 'doc_10048',\n",
      "'doc_5512', 'doc_1047', 'doc_3287', 'doc_3570', 'doc_9937']\n",
      "\n",
      "Ground Truth Files Query 2 (subset): ['doc_103' 'doc_1566' 'doc_1651' 'doc_1666' 'doc_1785' 'doc_2528'\n",
      " 'doc_2653' 'doc_3005' 'doc_3076' 'doc_3116' 'doc_3646' 'doc_3682'\n",
      " 'doc_3927' 'doc_4176' 'doc_4304']\n",
      "\n",
      "Our Obtained Results Query 2: ['doc_3116', 'doc_103', 'doc_1566', 'doc_3076', 'doc_3682', 'doc_3646', 'doc_2653',\n",
      "'doc_3927', 'doc_1666', 'doc_3005', 'doc_1651', 'doc_4304', 'doc_1785', 'doc_4176',\n",
      "'doc_2528']\n",
      "\n"
     ]
    }
   ],
   "source": [
    "def print_wrapped(title, data):\n",
    "    wrapper = textwrap.TextWrapper(width=90)\n",
    "    wrapped_text = wrapper.fill(str(data))\n",
    "    print(f\"{title} {wrapped_text}\\n\")\n",
    "\n",
    "print(f\"Ground Truth Files Query 1 (subset): {query_1_relevant}\\n\")\n",
    "print_wrapped(\"Our Obtained Results Query 1:\", query_1_results)\n",
    "\n",
    "print(f\"Ground Truth Files Query 2 (subset): {query_2_relevant}\\n\")\n",
    "print_wrapped(\"Our Obtained Results Query 2:\", query_2_results)"
   ]
  },
  {
   "cell_type": "code",
   "execution_count": 198,
   "metadata": {},
   "outputs": [
    {
     "name": "stdout",
     "output_type": "stream",
     "text": [
      "30\n",
      "[[np.float64(0.0924472834560866), 'doc_4053'], [np.float64(0.07710103440237621), 'doc_9850'], [np.float64(0.07251564914295433), 'doc_9696'], [np.float64(0.06866984215118112), 'doc_6477'], [np.float64(0.0558603213831482), 'doc_2732'], [np.float64(0.053488805251459), 'doc_8819'], [np.float64(0.04783792696891829), 'doc_8066'], [np.float64(0.0463186744470549), 'doc_5480'], [np.float64(0.04511355371470096), 'doc_2100'], [np.float64(0.039500565568448415), 'doc_5751'], [np.float64(0.038629774488843784), 'doc_10048'], [np.float64(0.03566537932423228), 'doc_5512'], [np.float64(0.034546691986636006), 'doc_3474'], [np.float64(0.03440551137927238), 'doc_1047'], [np.float64(0.03440551137927238), 'doc_3287'], [np.float64(0.02545674347610137), 'doc_3570'], [np.float64(0.024975029261852), 'doc_9937']]\n",
      "Ground Truth Files Query 1 (subset): ['doc_1047' 'doc_2100' 'doc_3287' 'doc_3474' 'doc_3570' 'doc_4053'\n",
      " 'doc_5480' 'doc_5512' 'doc_5751' 'doc_6477' 'doc_8066' 'doc_9696'\n",
      " 'doc_9850' 'doc_9937' 'doc_10048']\n",
      "\n",
      "Our Obtained Results Query 1: ['doc_4053', 'doc_9850', 'doc_9696', 'doc_6477', 'doc_2732', 'doc_8819', 'doc_8066',\n",
      "'doc_5480', 'doc_2100', 'doc_5751', 'doc_10048', 'doc_5512', 'doc_3474', 'doc_1047',\n",
      "'doc_3287', 'doc_3570', 'doc_9937']\n",
      "\n"
     ]
    }
   ],
   "source": [
    "df_subset_documents_query_1 = df_eva[df_eva['query_id'] == 1]\n",
    "print(len(df_subset_documents_query_1))\n",
    "index, tf, df, idf = create_index_tfidf(df_subset_documents_query_1)\n",
    "query_1_results = search_tf_idf(\"people's rights\", index, idf, tf)\n",
    "\n",
    "print(f\"Ground Truth Files Query 1 (subset): {query_1_relevant}\\n\")\n",
    "print_wrapped(\"Our Obtained Results Query 1:\", query_1_results)"
   ]
  },
  {
   "cell_type": "code",
   "execution_count": 199,
   "metadata": {},
   "outputs": [
    {
     "name": "stdout",
     "output_type": "stream",
     "text": [
      "30\n",
      "[[np.float64(0.12846352485085016), 'doc_3116'], [np.float64(0.10157581034718387), 'doc_103'], [np.float64(0.0866094649877713), 'doc_3076'], [np.float64(0.07678510776527783), 'doc_3682'], [np.float64(0.07417102441075472), 'doc_3646'], [np.float64(0.06955775346824185), 'doc_1566'], [np.float64(0.06770763150121956), 'doc_2653'], [np.float64(0.06268054812713665), 'doc_1666'], [np.float64(0.06124423859168439), 'doc_3005'], [np.float64(0.059894107628359256), 'doc_1651'], [np.float64(0.05745238141809043), 'doc_4304'], [np.float64(0.05633205998043766), 'doc_1785'], [np.float64(0.05633205998043766), 'doc_4176'], [np.float64(0.04987460902982425), 'doc_3927'], [np.float64(0.04926541706601254), 'doc_2528']]\n",
      "Ground Truth Files Query 2 (subset): ['doc_103' 'doc_1566' 'doc_1651' 'doc_1666' 'doc_1785' 'doc_2528'\n",
      " 'doc_2653' 'doc_3005' 'doc_3076' 'doc_3116' 'doc_3646' 'doc_3682'\n",
      " 'doc_3927' 'doc_4176' 'doc_4304']\n",
      "\n",
      "Our Obtained Results Query 2: ['doc_3116', 'doc_103', 'doc_3076', 'doc_3682', 'doc_3646', 'doc_1566', 'doc_2653',\n",
      "'doc_1666', 'doc_3005', 'doc_1651', 'doc_4304', 'doc_1785', 'doc_4176', 'doc_3927',\n",
      "'doc_2528']\n",
      "\n"
     ]
    }
   ],
   "source": [
    "df_subset_documents_query_2 = df_eva[df_eva['query_id'] == 2]\n",
    "print(len(df_subset_documents_query_2))\n",
    "index, tf, df, idf = create_index_tfidf(df_subset_documents_query_2)\n",
    "query_2_results = search_tf_idf(\"Indian government\", index, idf, tf)\n",
    "\n",
    "print(f\"Ground Truth Files Query 2 (subset): {query_2_relevant}\\n\")\n",
    "print_wrapped(\"Our Obtained Results Query 2:\", query_2_results)"
   ]
  },
  {
   "cell_type": "markdown",
   "metadata": {},
   "source": [
    "### Precision@K (P@K)"
   ]
  },
  {
   "cell_type": "markdown",
   "metadata": {},
   "source": [
    "Keep in mind here that we are computing the Binary Relevance."
   ]
  },
  {
   "cell_type": "code",
   "execution_count": 200,
   "metadata": {},
   "outputs": [],
   "source": [
    "def precision_at_k(ground_truth, results, K=10):\n",
    "    top_k_results = results[:K]\n",
    "    # Calculate the number of relevant documents in the top K results\n",
    "    relevant_documents = [doc for doc in top_k_results if doc in ground_truth]\n",
    "    precision = len(relevant_documents) / K if K > 0 else 0\n",
    "    return precision"
   ]
  },
  {
   "cell_type": "code",
   "execution_count": 201,
   "metadata": {},
   "outputs": [
    {
     "name": "stdout",
     "output_type": "stream",
     "text": [
      "Query 1 Precision@5: 0.8000\n",
      "Query 1 Precision@10: 0.8000\n",
      "Query 1 Precision@15: 0.8667\n",
      "Query 1 Precision@17: 0.8824\n"
     ]
    }
   ],
   "source": [
    "K_values = list(sorted(set([5, 10, 15, len(query_1_results)])))\n",
    "for K in K_values:\n",
    "    precision = precision_at_k(query_1_relevant, query_1_results, K)\n",
    "    print(f\"Query 1 Precision@{K}: {precision:.4f}\")"
   ]
  },
  {
   "cell_type": "code",
   "execution_count": 202,
   "metadata": {},
   "outputs": [
    {
     "name": "stdout",
     "output_type": "stream",
     "text": [
      "Query 2 Precision@5: 1.0000\n",
      "Query 2 Precision@10: 1.0000\n",
      "Query 2 Precision@15: 1.0000\n"
     ]
    }
   ],
   "source": [
    "K_values = list(sorted(set([5, 10, 15, len(query_2_results)])))\n",
    "for K in K_values:\n",
    "    precision = precision_at_k(query_2_relevant, query_2_results, K)\n",
    "    print(f\"Query 2 Precision@{K}: {precision:.4f}\")\n",
    "\n",
    "# TODO: Check following markdown text"
   ]
  },
  {
   "cell_type": "markdown",
   "metadata": {},
   "source": [
    "We consider that the precision should be computed for each query separately. Besides that, since we're analyzing binary relevance, it makes more sense to take as final metric the precision done at level that is the actual length of the retrieved documents."
   ]
  },
  {
   "cell_type": "markdown",
   "metadata": {},
   "source": [
    "### Recall@K (R@K)"
   ]
  },
  {
   "cell_type": "code",
   "execution_count": 203,
   "metadata": {},
   "outputs": [],
   "source": [
    "def recall_at_k(ground_truth, results, K=10):\n",
    "    if K > len(results): K = len(results)\n",
    "    top_k_results = results[:K]\n",
    "    relevant_documents_retrieved = sum(1 for doc in top_k_results if doc in ground_truth)\n",
    "    total_relevant_documents = len(ground_truth)\n",
    "    if total_relevant_documents == 0: return 0\n",
    "    recall = relevant_documents_retrieved / total_relevant_documents\n",
    "    return recall"
   ]
  },
  {
   "cell_type": "code",
   "execution_count": 204,
   "metadata": {},
   "outputs": [
    {
     "name": "stdout",
     "output_type": "stream",
     "text": [
      "Query 1 Recall@5: 0.2667\n",
      "Query 1 Recall@10: 0.5333\n",
      "Query 1 Recall@15: 0.8667\n",
      "Query 1 Recall@17: 1.0000\n"
     ]
    }
   ],
   "source": [
    "K_values = list(sorted(set([5, 10, 15, len(query_1_results)])))\n",
    "for K in K_values:\n",
    "    recall_value = recall_at_k(query_1_relevant, query_1_results, K)\n",
    "    print(f\"Query 1 Recall@{K}: {recall_value:.4f}\")"
   ]
  },
  {
   "cell_type": "code",
   "execution_count": 205,
   "metadata": {},
   "outputs": [
    {
     "name": "stdout",
     "output_type": "stream",
     "text": [
      "Query 2 Recall@5: 0.3333\n",
      "Query 2 Recall@10: 0.6667\n",
      "Query 2 Recall@15: 1.0000\n"
     ]
    }
   ],
   "source": [
    "K_values = list(sorted(set([5, 10, 15, len(query_2_results)])))\n",
    "for K in K_values:\n",
    "    recall_value = recall_at_k(query_2_relevant, query_2_results, K)\n",
    "    print(f\"Query 2 Recall@{K}: {recall_value:.4f}\")"
   ]
  },
  {
   "cell_type": "markdown",
   "metadata": {},
   "source": [
    "### Average Precision@K (P@K)"
   ]
  },
  {
   "cell_type": "code",
   "execution_count": 207,
   "metadata": {},
   "outputs": [],
   "source": [
    "def average_precision_at_k(ground_truth, results, K=None):\n",
    "    if K is None: K = len(results)\n",
    "\n",
    "    ground_truth_set = set(ground_truth)\n",
    "    relevant_documents_retrieved = 0\n",
    "    cumulative_precision = 0.0\n",
    "\n",
    "    # Iterate over the list of results up to K\n",
    "    for i, doc_id in enumerate(results[:K]):\n",
    "        if doc_id in ground_truth_set:\n",
    "            relevant_documents_retrieved += 1\n",
    "            precision_at_i = relevant_documents_retrieved / (i + 1)\n",
    "            cumulative_precision += precision_at_i\n",
    "\n",
    "    # Calculate average precision\n",
    "    total_relevant = len(ground_truth_set)\n",
    "    if total_relevant > 0:\n",
    "        average_precision = cumulative_precision / total_relevant\n",
    "    else:\n",
    "        average_precision = 0\n",
    "\n",
    "    return average_precision"
   ]
  },
  {
   "cell_type": "code",
   "execution_count": 210,
   "metadata": {},
   "outputs": [
    {
     "name": "stdout",
     "output_type": "stream",
     "text": [
      "Query 1 Average Precision@5: 0.2667\n",
      "Query 1 Average Precision@10: 0.4695\n",
      "Query 1 Average Precision@15: 0.7509\n",
      "Query 1 Average Precision@17: 0.8681\n"
     ]
    }
   ],
   "source": [
    "K_values = list(sorted(set([5, 10, 15, len(query_1_results)])))\n",
    "for K in K_values:\n",
    "    precision = average_precision_at_k(query_1_relevant, query_1_results, K)\n",
    "    print(f\"Query 1 Average Precision@{K}: {precision:.4f}\")"
   ]
  },
  {
   "cell_type": "code",
   "execution_count": 208,
   "metadata": {},
   "outputs": [
    {
     "name": "stdout",
     "output_type": "stream",
     "text": [
      "Query 2 Precision@5: 0.3333\n",
      "Query 2 Precision@10: 0.6667\n",
      "Query 2 Precision@15: 1.0000\n"
     ]
    }
   ],
   "source": [
    "K_values = list(sorted(set([5, 10, 15, len(query_2_results)])))\n",
    "for K in K_values:\n",
    "    precision = average_precision_at_k(query_2_relevant, query_2_results, K)\n",
    "    print(f\"Query 2 Average Precision@{K}: {precision:.4f}\")"
   ]
  },
  {
   "cell_type": "markdown",
   "metadata": {},
   "source": [
    "### F1-Score@K"
   ]
  },
  {
   "cell_type": "code",
   "execution_count": 211,
   "metadata": {},
   "outputs": [],
   "source": [
    "def f1_score_at_k(ground_truth, results, K=None):\n",
    "    if K is None: K = len(results)\n",
    "\n",
    "    ground_truth_set = set(ground_truth)\n",
    "    relevant_documents_retrieved = 0\n",
    "    results_considered = results[:K]\n",
    "\n",
    "    # We can be also using defined precision and recall at k functions\n",
    "    # Compute precision at K\n",
    "    for doc_id in results_considered:\n",
    "        if doc_id in ground_truth_set: relevant_documents_retrieved += 1\n",
    "    precision = relevant_documents_retrieved / len(results_considered) if results_considered else 0\n",
    "\n",
    "    # Compute recall at K\n",
    "    total_relevant = len(ground_truth_set)\n",
    "    recall = relevant_documents_retrieved / total_relevant if total_relevant > 0 else 0\n",
    "\n",
    "    # Calculate F1 score\n",
    "    if precision + recall == 0: return 0\n",
    "    f1 = 2 * (precision * recall) / (precision + recall)\n",
    "\n",
    "    return f1"
   ]
  },
  {
   "cell_type": "code",
   "execution_count": 212,
   "metadata": {},
   "outputs": [
    {
     "name": "stdout",
     "output_type": "stream",
     "text": [
      "Query 2 F1Score@5: 0.4000\n",
      "Query 2 F1Score@10: 0.6400\n",
      "Query 2 F1Score@15: 0.8667\n",
      "Query 2 F1Score@17: 0.9375\n"
     ]
    }
   ],
   "source": [
    "K_values = list(sorted(set([5, 10, 15, len(query_1_results)])))\n",
    "for K in K_values:\n",
    "    precision = f1_score_at_k(query_1_relevant, query_1_results, K)\n",
    "    print(f\"Query 2 F1Score@{K}: {precision:.4f}\")"
   ]
  },
  {
   "cell_type": "code",
   "execution_count": 213,
   "metadata": {},
   "outputs": [
    {
     "name": "stdout",
     "output_type": "stream",
     "text": [
      "Query 2 F1Score@5: 0.5000\n",
      "Query 2 F1Score@10: 0.8000\n",
      "Query 2 F1Score@15: 1.0000\n"
     ]
    }
   ],
   "source": [
    "K_values = list(sorted(set([5, 10, 15, len(query_2_results)])))\n",
    "for K in K_values:\n",
    "    precision = f1_score_at_k(query_2_relevant, query_2_results, K)\n",
    "    print(f\"Query 2 F1Score@{K}: {precision:.4f}\")"
   ]
  },
  {
   "cell_type": "markdown",
   "metadata": {},
   "source": [
    "### Mean Average Precision (MAP)"
   ]
  },
  {
   "cell_type": "code",
   "execution_count": 231,
   "metadata": {},
   "outputs": [],
   "source": [
    "def mean_average_precision_at_k(queries_ground_truth, queries_results, K=10):\n",
    "    ap_scores = []\n",
    "    for ground_truth, results in zip(queries_ground_truth, queries_results):\n",
    "        ap = average_precision_at_k(ground_truth, results, K=K)\n",
    "        ap_scores.append(ap)\n",
    "    \n",
    "    if ap_scores: return sum(ap_scores) / len(ap_scores)\n",
    "    return 0"
   ]
  },
  {
   "cell_type": "code",
   "execution_count": 229,
   "metadata": {},
   "outputs": [],
   "source": [
    "queries_ground_truth = (query_1_relevant, query_2_relevant)\n",
    "queries_results = (query_1_results, query_2_results)"
   ]
  },
  {
   "cell_type": "code",
   "execution_count": 235,
   "metadata": {},
   "outputs": [
    {
     "name": "stdout",
     "output_type": "stream",
     "text": [
      "Query 1 & 2 MAP@5: 0.3000\n",
      "Query 1 & 2 MAP@10: 0.5681\n",
      "Query 1 & 2 MAP@15: 0.8755\n"
     ]
    }
   ],
   "source": [
    "K_values = list(sorted(set([5, 10, 15, min(len(query_2_results), len(query_2_results))])))\n",
    "for K in K_values:\n",
    "    precision = mean_average_precision_at_k(queries_ground_truth, queries_results, K)\n",
    "    print(f\"Query 1 & 2 MAP@{K}: {precision:.4f}\")"
   ]
  },
  {
   "cell_type": "markdown",
   "metadata": {},
   "source": [
    "### Mean Reciprocal Rank (MRR)"
   ]
  },
  {
   "cell_type": "code",
   "execution_count": 236,
   "metadata": {},
   "outputs": [],
   "source": [
    "def mean_reciprocal_rank(queries_results, queries_ground_truth):\n",
    "    reciprocal_ranks = []\n",
    "    \n",
    "    for results, ground_truth in zip(queries_results, queries_ground_truth):\n",
    "        ground_truth_set = set(ground_truth)\n",
    "        reciprocal_rank = 0\n",
    "        for rank, doc_id in enumerate(results, start=1):\n",
    "            if doc_id in ground_truth_set:\n",
    "                reciprocal_rank = 1 / rank\n",
    "                break\n",
    "        reciprocal_ranks.append(reciprocal_rank)\n",
    "    \n",
    "    mrr = sum(reciprocal_ranks) / len(reciprocal_ranks) if reciprocal_ranks else 0\n",
    "    return mrr"
   ]
  },
  {
   "cell_type": "code",
   "execution_count": 239,
   "metadata": {},
   "outputs": [
    {
     "name": "stdout",
     "output_type": "stream",
     "text": [
      "Query 1 & 2 MRR: 1.0\n"
     ]
    }
   ],
   "source": [
    "print(f\"Query 1 & 2 MRR: {mean_reciprocal_rank(queries_ground_truth, queries_results)}\")"
   ]
  },
  {
   "cell_type": "markdown",
   "metadata": {},
   "source": [
    "### Normalized Discounted Cumulative Gain (NDCG)"
   ]
  },
  {
   "cell_type": "code",
   "execution_count": 243,
   "metadata": {},
   "outputs": [],
   "source": [
    "def dcg_at_k(relevances, k, method=1):\n",
    "    relevances = np.asarray(relevances)[:k]\n",
    "    if relevances.size:\n",
    "        if method == 1:  # Standard method\n",
    "            # Discount starts from the second element, hence np.arange(2, k+1)\n",
    "            return relevances[0] + np.sum(relevances[1:] / np.log2(np.arange(2, k + 1)))\n",
    "        elif method == 2:  # Alternative method used by some web search companies\n",
    "            # Adjusted to correctly reflect log(1 + i) starting from index 1\n",
    "            return np.sum((2**relevances - 1) / np.log(np.arange(1, k + 1) + 1))\n",
    "    return 0\n",
    "\n",
    "def ndcg_at_k(ground_truth, results, k, method=1):\n",
    "    assert k <= len(results)\n",
    "    \n",
    "    ground_truth_set = set(ground_truth)\n",
    "    # Get binary relevance for the actual results\n",
    "    actual_relevance = [1 if doc_id in ground_truth_set else 0 for doc_id in results[:k]]\n",
    "    \n",
    "    # Compute DCG for actual results\n",
    "    actual_dcg = dcg_at_k(actual_relevance, k, method)\n",
    "    \n",
    "    # Sort the binary relevance to compute ideal DCG\n",
    "    ideal_relevance = sorted(actual_relevance, reverse=True)\n",
    "    ideal_dcg = dcg_at_k(ideal_relevance, k, method)\n",
    "    \n",
    "    if ideal_dcg == 0: return 0 \n",
    "    return actual_dcg / ideal_dcg"
   ]
  },
  {
   "cell_type": "code",
   "execution_count": 246,
   "metadata": {},
   "outputs": [
    {
     "name": "stdout",
     "output_type": "stream",
     "text": [
      "Query 1 NDCG@5: 1.0000\n",
      "Query 1 NDCG@10: 0.9567\n",
      "Query 1 NDCG@15: 0.9509\n",
      "Query 1 NDCG@17: 0.9512\n"
     ]
    }
   ],
   "source": [
    "K_values = list(sorted(set([5, 10, 15, len(query_1_results)])))\n",
    "for K in K_values:\n",
    "    precision = ndcg_at_k(query_1_relevant, query_1_results, K)\n",
    "    print(f\"Query 1 NDCG@{K}: {precision:.4f}\")"
   ]
  },
  {
   "cell_type": "code",
   "execution_count": 247,
   "metadata": {},
   "outputs": [
    {
     "name": "stdout",
     "output_type": "stream",
     "text": [
      "Query 2 NDCG@5: 1.0000\n",
      "Query 2 NDCG@10: 1.0000\n",
      "Query 2 NDCG@15: 1.0000\n"
     ]
    }
   ],
   "source": [
    "K_values = list(sorted(set([5, 10, 15, len(query_2_results)])))\n",
    "for K in K_values:\n",
    "    precision = ndcg_at_k(query_2_relevant, query_2_results, K)\n",
    "    print(f\"Query 2 NDCG@{K}: {precision:.4f}\")"
   ]
  }
 ],
 "metadata": {
  "kernelspec": {
   "display_name": "venv",
   "language": "python",
   "name": "python3"
  },
  "language_info": {
   "codemirror_mode": {
    "name": "ipython",
    "version": 3
   },
   "file_extension": ".py",
   "mimetype": "text/x-python",
   "name": "python",
   "nbconvert_exporter": "python",
   "pygments_lexer": "ipython3",
   "version": "3.9.6"
  }
 },
 "nbformat": 4,
 "nbformat_minor": 2
}
