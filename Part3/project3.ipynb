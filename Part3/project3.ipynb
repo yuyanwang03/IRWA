{
  "nbformat": 4,
  "nbformat_minor": 0,
  "metadata": {
    "colab": {
      "provenance": []
    },
    "kernelspec": {
      "name": "python3",
      "display_name": "Python 3"
    },
    "language_info": {
      "name": "python"
    }
  },
  "cells": [
    {
      "cell_type": "markdown",
      "source": [
        "# IRWA Project Part 3"
      ],
      "metadata": {
        "id": "prebUTe-cfZ9"
      }
    },
    {
      "cell_type": "markdown",
      "metadata": {
        "id": "b3BHFUx5jLC8"
      },
      "source": [
        "|Name | Email | UPF uNum |\n",
        "| --- | --- | --- |\n",
        "| Clara Pena | clara.pena01@estudiant.upf.edu | u186416 |\n",
        "| Yuyan Wang | yuyan.wang01@estudiant.upf.edu | u199907 |"
      ]
    },
    {
      "cell_type": "markdown",
      "source": [
        "## Import Libraries and Load Data"
      ],
      "metadata": {
        "id": "j9fN9z4rcrUT"
      }
    },
    {
      "cell_type": "code",
      "execution_count": 2,
      "metadata": {
        "colab": {
          "base_uri": "https://localhost:8080/"
        },
        "id": "6Gq4Ra8qcEcT",
        "outputId": "2478ac10-8e48-4760-80f7-11e5252b1e5e"
      },
      "outputs": [
        {
          "output_type": "stream",
          "name": "stdout",
          "text": [
            "Collecting rank_bm25\n",
            "  Downloading rank_bm25-0.2.2-py3-none-any.whl.metadata (3.2 kB)\n",
            "Requirement already satisfied: numpy in /usr/local/lib/python3.10/dist-packages (from rank_bm25) (1.26.4)\n",
            "Downloading rank_bm25-0.2.2-py3-none-any.whl (8.6 kB)\n",
            "Installing collected packages: rank_bm25\n",
            "Successfully installed rank_bm25-0.2.2\n"
          ]
        }
      ],
      "source": [
        "!pip install rank_bm25\n",
        "\n",
        "import pandas as pd\n",
        "import numpy as np\n",
        "\n",
        "from sklearn.feature_extraction.text import TfidfVectorizer\n",
        "from sklearn.metrics.pairwise import cosine_similarity\n",
        "from rank_bm25 import BM25Okapi\n",
        "from gensim.models import Word2Vec"
      ]
    },
    {
      "cell_type": "code",
      "source": [
        "df = pd.read_csv(\"./data/processed_data.csv\")\n",
        "\n",
        "df.info()"
      ],
      "metadata": {
        "colab": {
          "base_uri": "https://localhost:8080/"
        },
        "id": "BFGXeDF1eoBK",
        "outputId": "31501e12-4217-4cd0-88eb-c8bc665550cc"
      },
      "execution_count": 4,
      "outputs": [
        {
          "output_type": "stream",
          "name": "stdout",
          "text": [
            "<class 'pandas.core.frame.DataFrame'>\n",
            "RangeIndex: 117405 entries, 0 to 117404\n",
            "Data columns (total 9 columns):\n",
            " #   Column    Non-Null Count   Dtype \n",
            "---  ------    --------------   ----- \n",
            " 0   id        117405 non-null  int64 \n",
            " 1   content   117404 non-null  object\n",
            " 2   date      117405 non-null  object\n",
            " 3   hashtags  116794 non-null  object\n",
            " 4   likes     117405 non-null  int64 \n",
            " 5   retweets  117405 non-null  int64 \n",
            " 6   url       117405 non-null  object\n",
            " 7   language  117405 non-null  object\n",
            " 8   docId     48427 non-null   object\n",
            "dtypes: int64(3), object(6)\n",
            "memory usage: 8.1+ MB\n"
          ]
        }
      ]
    },
    {
      "cell_type": "code",
      "source": [
        "tweets_df = df.dropna(subset=['docId']).drop(columns=['language'])"
      ],
      "metadata": {
        "id": "wyFaSL5KeqL-"
      },
      "execution_count": 5,
      "outputs": []
    },
    {
      "cell_type": "code",
      "source": [
        "tweets_df.head(10)"
      ],
      "metadata": {
        "colab": {
          "base_uri": "https://localhost:8080/",
          "height": 536
        },
        "id": "Cb4_pBF8et69",
        "outputId": "ffdfd201-1d09-40b1-ac7c-b063426e350f"
      },
      "execution_count": 6,
      "outputs": [
        {
          "output_type": "execute_result",
          "data": {
            "text/plain": [
              "                     id                                            content  \\\n",
              "1   1364506167226032128  watch full video farmersprotest nofarmersnofoo...   \n",
              "6   1364505991887347714    watch full video farmersprotest nofarmersnofood   \n",
              "9   1364505813834989568    watch full video farmersprotest nofarmersnofood   \n",
              "10  1364505749359976448  anoth farmer malkeet singh mahilpur hoshiarpur...   \n",
              "14  1364505676375076867  hi tell boss modidontsellfarm thank farmerspro...   \n",
              "16  1364505511073300481    watch full video farmersprotest nofarmersnofood   \n",
              "18  1364505452134817795  despit increas tax petroldiesel must increas t...   \n",
              "20  1364505443997937669           mockeri menac sedit charg farmersprotest   \n",
              "25  1364505314586951680    watch full video farmersprotest nofarmersnofood   \n",
              "26  1364505255946379268                  left hear modi lol farmersprotest   \n",
              "\n",
              "                         date  \\\n",
              "1   2021-02-24T09:23:16+00:00   \n",
              "6   2021-02-24T09:22:34+00:00   \n",
              "9   2021-02-24T09:21:51+00:00   \n",
              "10  2021-02-24T09:21:36+00:00   \n",
              "14  2021-02-24T09:21:19+00:00   \n",
              "16  2021-02-24T09:20:39+00:00   \n",
              "18  2021-02-24T09:20:25+00:00   \n",
              "20  2021-02-24T09:20:23+00:00   \n",
              "25  2021-02-24T09:19:52+00:00   \n",
              "26  2021-02-24T09:19:38+00:00   \n",
              "\n",
              "                                             hashtags  likes  retweets  \\\n",
              "1                    #farmersprotest #NoFarmersNoFood      0         0   \n",
              "6                    #farmersprotest #NoFarmersNoFood      0         0   \n",
              "9                    #farmersprotest #NoFarmersNoFood      0         0   \n",
              "10                                    #FarmersProtest      3         3   \n",
              "14               #ModiDontSellFarmers #FarmersProtest      0         0   \n",
              "16                   #farmersprotest #NoFarmersNoFood      0         0   \n",
              "18  #taxes #petrolDiesel #taxes #alcohol #cigarett...      1         1   \n",
              "20                          #sedition #FarmersProtest      0         0   \n",
              "25                   #farmersprotest #NoFarmersNoFood      0         0   \n",
              "26                                    #FarmersProtest      1         0   \n",
              "\n",
              "                                                  url   docId  \n",
              "1   https://twitter.com/anmoldhaliwal/status/13645...   doc_2  \n",
              "6   https://twitter.com/anmoldhaliwal/status/13645...   doc_3  \n",
              "9   https://twitter.com/anmoldhaliwal/status/13645...   doc_4  \n",
              "10  https://twitter.com/ShariaActivist/status/1364...   doc_5  \n",
              "14  https://twitter.com/KaurDosanjh1979/status/136...   doc_6  \n",
              "16  https://twitter.com/anmoldhaliwal/status/13645...   doc_7  \n",
              "18  https://twitter.com/Satende09192805/status/136...   doc_8  \n",
              "20  https://twitter.com/algo_121/status/1364505443...   doc_9  \n",
              "25  https://twitter.com/anmoldhaliwal/status/13645...  doc_10  \n",
              "26  https://twitter.com/kdhanjal12/status/13645052...  doc_11  "
            ],
            "text/html": [
              "\n",
              "  <div id=\"df-40953cc1-ea2a-443c-9ffa-643eabdb1f6e\" class=\"colab-df-container\">\n",
              "    <div>\n",
              "<style scoped>\n",
              "    .dataframe tbody tr th:only-of-type {\n",
              "        vertical-align: middle;\n",
              "    }\n",
              "\n",
              "    .dataframe tbody tr th {\n",
              "        vertical-align: top;\n",
              "    }\n",
              "\n",
              "    .dataframe thead th {\n",
              "        text-align: right;\n",
              "    }\n",
              "</style>\n",
              "<table border=\"1\" class=\"dataframe\">\n",
              "  <thead>\n",
              "    <tr style=\"text-align: right;\">\n",
              "      <th></th>\n",
              "      <th>id</th>\n",
              "      <th>content</th>\n",
              "      <th>date</th>\n",
              "      <th>hashtags</th>\n",
              "      <th>likes</th>\n",
              "      <th>retweets</th>\n",
              "      <th>url</th>\n",
              "      <th>docId</th>\n",
              "    </tr>\n",
              "  </thead>\n",
              "  <tbody>\n",
              "    <tr>\n",
              "      <th>1</th>\n",
              "      <td>1364506167226032128</td>\n",
              "      <td>watch full video farmersprotest nofarmersnofoo...</td>\n",
              "      <td>2021-02-24T09:23:16+00:00</td>\n",
              "      <td>#farmersprotest #NoFarmersNoFood</td>\n",
              "      <td>0</td>\n",
              "      <td>0</td>\n",
              "      <td>https://twitter.com/anmoldhaliwal/status/13645...</td>\n",
              "      <td>doc_2</td>\n",
              "    </tr>\n",
              "    <tr>\n",
              "      <th>6</th>\n",
              "      <td>1364505991887347714</td>\n",
              "      <td>watch full video farmersprotest nofarmersnofood</td>\n",
              "      <td>2021-02-24T09:22:34+00:00</td>\n",
              "      <td>#farmersprotest #NoFarmersNoFood</td>\n",
              "      <td>0</td>\n",
              "      <td>0</td>\n",
              "      <td>https://twitter.com/anmoldhaliwal/status/13645...</td>\n",
              "      <td>doc_3</td>\n",
              "    </tr>\n",
              "    <tr>\n",
              "      <th>9</th>\n",
              "      <td>1364505813834989568</td>\n",
              "      <td>watch full video farmersprotest nofarmersnofood</td>\n",
              "      <td>2021-02-24T09:21:51+00:00</td>\n",
              "      <td>#farmersprotest #NoFarmersNoFood</td>\n",
              "      <td>0</td>\n",
              "      <td>0</td>\n",
              "      <td>https://twitter.com/anmoldhaliwal/status/13645...</td>\n",
              "      <td>doc_4</td>\n",
              "    </tr>\n",
              "    <tr>\n",
              "      <th>10</th>\n",
              "      <td>1364505749359976448</td>\n",
              "      <td>anoth farmer malkeet singh mahilpur hoshiarpur...</td>\n",
              "      <td>2021-02-24T09:21:36+00:00</td>\n",
              "      <td>#FarmersProtest</td>\n",
              "      <td>3</td>\n",
              "      <td>3</td>\n",
              "      <td>https://twitter.com/ShariaActivist/status/1364...</td>\n",
              "      <td>doc_5</td>\n",
              "    </tr>\n",
              "    <tr>\n",
              "      <th>14</th>\n",
              "      <td>1364505676375076867</td>\n",
              "      <td>hi tell boss modidontsellfarm thank farmerspro...</td>\n",
              "      <td>2021-02-24T09:21:19+00:00</td>\n",
              "      <td>#ModiDontSellFarmers #FarmersProtest</td>\n",
              "      <td>0</td>\n",
              "      <td>0</td>\n",
              "      <td>https://twitter.com/KaurDosanjh1979/status/136...</td>\n",
              "      <td>doc_6</td>\n",
              "    </tr>\n",
              "    <tr>\n",
              "      <th>16</th>\n",
              "      <td>1364505511073300481</td>\n",
              "      <td>watch full video farmersprotest nofarmersnofood</td>\n",
              "      <td>2021-02-24T09:20:39+00:00</td>\n",
              "      <td>#farmersprotest #NoFarmersNoFood</td>\n",
              "      <td>0</td>\n",
              "      <td>0</td>\n",
              "      <td>https://twitter.com/anmoldhaliwal/status/13645...</td>\n",
              "      <td>doc_7</td>\n",
              "    </tr>\n",
              "    <tr>\n",
              "      <th>18</th>\n",
              "      <td>1364505452134817795</td>\n",
              "      <td>despit increas tax petroldiesel must increas t...</td>\n",
              "      <td>2021-02-24T09:20:25+00:00</td>\n",
              "      <td>#taxes #petrolDiesel #taxes #alcohol #cigarett...</td>\n",
              "      <td>1</td>\n",
              "      <td>1</td>\n",
              "      <td>https://twitter.com/Satende09192805/status/136...</td>\n",
              "      <td>doc_8</td>\n",
              "    </tr>\n",
              "    <tr>\n",
              "      <th>20</th>\n",
              "      <td>1364505443997937669</td>\n",
              "      <td>mockeri menac sedit charg farmersprotest</td>\n",
              "      <td>2021-02-24T09:20:23+00:00</td>\n",
              "      <td>#sedition #FarmersProtest</td>\n",
              "      <td>0</td>\n",
              "      <td>0</td>\n",
              "      <td>https://twitter.com/algo_121/status/1364505443...</td>\n",
              "      <td>doc_9</td>\n",
              "    </tr>\n",
              "    <tr>\n",
              "      <th>25</th>\n",
              "      <td>1364505314586951680</td>\n",
              "      <td>watch full video farmersprotest nofarmersnofood</td>\n",
              "      <td>2021-02-24T09:19:52+00:00</td>\n",
              "      <td>#farmersprotest #NoFarmersNoFood</td>\n",
              "      <td>0</td>\n",
              "      <td>0</td>\n",
              "      <td>https://twitter.com/anmoldhaliwal/status/13645...</td>\n",
              "      <td>doc_10</td>\n",
              "    </tr>\n",
              "    <tr>\n",
              "      <th>26</th>\n",
              "      <td>1364505255946379268</td>\n",
              "      <td>left hear modi lol farmersprotest</td>\n",
              "      <td>2021-02-24T09:19:38+00:00</td>\n",
              "      <td>#FarmersProtest</td>\n",
              "      <td>1</td>\n",
              "      <td>0</td>\n",
              "      <td>https://twitter.com/kdhanjal12/status/13645052...</td>\n",
              "      <td>doc_11</td>\n",
              "    </tr>\n",
              "  </tbody>\n",
              "</table>\n",
              "</div>\n",
              "    <div class=\"colab-df-buttons\">\n",
              "\n",
              "  <div class=\"colab-df-container\">\n",
              "    <button class=\"colab-df-convert\" onclick=\"convertToInteractive('df-40953cc1-ea2a-443c-9ffa-643eabdb1f6e')\"\n",
              "            title=\"Convert this dataframe to an interactive table.\"\n",
              "            style=\"display:none;\">\n",
              "\n",
              "  <svg xmlns=\"http://www.w3.org/2000/svg\" height=\"24px\" viewBox=\"0 -960 960 960\">\n",
              "    <path d=\"M120-120v-720h720v720H120Zm60-500h600v-160H180v160Zm220 220h160v-160H400v160Zm0 220h160v-160H400v160ZM180-400h160v-160H180v160Zm440 0h160v-160H620v160ZM180-180h160v-160H180v160Zm440 0h160v-160H620v160Z\"/>\n",
              "  </svg>\n",
              "    </button>\n",
              "\n",
              "  <style>\n",
              "    .colab-df-container {\n",
              "      display:flex;\n",
              "      gap: 12px;\n",
              "    }\n",
              "\n",
              "    .colab-df-convert {\n",
              "      background-color: #E8F0FE;\n",
              "      border: none;\n",
              "      border-radius: 50%;\n",
              "      cursor: pointer;\n",
              "      display: none;\n",
              "      fill: #1967D2;\n",
              "      height: 32px;\n",
              "      padding: 0 0 0 0;\n",
              "      width: 32px;\n",
              "    }\n",
              "\n",
              "    .colab-df-convert:hover {\n",
              "      background-color: #E2EBFA;\n",
              "      box-shadow: 0px 1px 2px rgba(60, 64, 67, 0.3), 0px 1px 3px 1px rgba(60, 64, 67, 0.15);\n",
              "      fill: #174EA6;\n",
              "    }\n",
              "\n",
              "    .colab-df-buttons div {\n",
              "      margin-bottom: 4px;\n",
              "    }\n",
              "\n",
              "    [theme=dark] .colab-df-convert {\n",
              "      background-color: #3B4455;\n",
              "      fill: #D2E3FC;\n",
              "    }\n",
              "\n",
              "    [theme=dark] .colab-df-convert:hover {\n",
              "      background-color: #434B5C;\n",
              "      box-shadow: 0px 1px 3px 1px rgba(0, 0, 0, 0.15);\n",
              "      filter: drop-shadow(0px 1px 2px rgba(0, 0, 0, 0.3));\n",
              "      fill: #FFFFFF;\n",
              "    }\n",
              "  </style>\n",
              "\n",
              "    <script>\n",
              "      const buttonEl =\n",
              "        document.querySelector('#df-40953cc1-ea2a-443c-9ffa-643eabdb1f6e button.colab-df-convert');\n",
              "      buttonEl.style.display =\n",
              "        google.colab.kernel.accessAllowed ? 'block' : 'none';\n",
              "\n",
              "      async function convertToInteractive(key) {\n",
              "        const element = document.querySelector('#df-40953cc1-ea2a-443c-9ffa-643eabdb1f6e');\n",
              "        const dataTable =\n",
              "          await google.colab.kernel.invokeFunction('convertToInteractive',\n",
              "                                                    [key], {});\n",
              "        if (!dataTable) return;\n",
              "\n",
              "        const docLinkHtml = 'Like what you see? Visit the ' +\n",
              "          '<a target=\"_blank\" href=https://colab.research.google.com/notebooks/data_table.ipynb>data table notebook</a>'\n",
              "          + ' to learn more about interactive tables.';\n",
              "        element.innerHTML = '';\n",
              "        dataTable['output_type'] = 'display_data';\n",
              "        await google.colab.output.renderOutput(dataTable, element);\n",
              "        const docLink = document.createElement('div');\n",
              "        docLink.innerHTML = docLinkHtml;\n",
              "        element.appendChild(docLink);\n",
              "      }\n",
              "    </script>\n",
              "  </div>\n",
              "\n",
              "\n",
              "<div id=\"df-2d05910c-ad49-49b8-a986-a313be97203e\">\n",
              "  <button class=\"colab-df-quickchart\" onclick=\"quickchart('df-2d05910c-ad49-49b8-a986-a313be97203e')\"\n",
              "            title=\"Suggest charts\"\n",
              "            style=\"display:none;\">\n",
              "\n",
              "<svg xmlns=\"http://www.w3.org/2000/svg\" height=\"24px\"viewBox=\"0 0 24 24\"\n",
              "     width=\"24px\">\n",
              "    <g>\n",
              "        <path d=\"M19 3H5c-1.1 0-2 .9-2 2v14c0 1.1.9 2 2 2h14c1.1 0 2-.9 2-2V5c0-1.1-.9-2-2-2zM9 17H7v-7h2v7zm4 0h-2V7h2v10zm4 0h-2v-4h2v4z\"/>\n",
              "    </g>\n",
              "</svg>\n",
              "  </button>\n",
              "\n",
              "<style>\n",
              "  .colab-df-quickchart {\n",
              "      --bg-color: #E8F0FE;\n",
              "      --fill-color: #1967D2;\n",
              "      --hover-bg-color: #E2EBFA;\n",
              "      --hover-fill-color: #174EA6;\n",
              "      --disabled-fill-color: #AAA;\n",
              "      --disabled-bg-color: #DDD;\n",
              "  }\n",
              "\n",
              "  [theme=dark] .colab-df-quickchart {\n",
              "      --bg-color: #3B4455;\n",
              "      --fill-color: #D2E3FC;\n",
              "      --hover-bg-color: #434B5C;\n",
              "      --hover-fill-color: #FFFFFF;\n",
              "      --disabled-bg-color: #3B4455;\n",
              "      --disabled-fill-color: #666;\n",
              "  }\n",
              "\n",
              "  .colab-df-quickchart {\n",
              "    background-color: var(--bg-color);\n",
              "    border: none;\n",
              "    border-radius: 50%;\n",
              "    cursor: pointer;\n",
              "    display: none;\n",
              "    fill: var(--fill-color);\n",
              "    height: 32px;\n",
              "    padding: 0;\n",
              "    width: 32px;\n",
              "  }\n",
              "\n",
              "  .colab-df-quickchart:hover {\n",
              "    background-color: var(--hover-bg-color);\n",
              "    box-shadow: 0 1px 2px rgba(60, 64, 67, 0.3), 0 1px 3px 1px rgba(60, 64, 67, 0.15);\n",
              "    fill: var(--button-hover-fill-color);\n",
              "  }\n",
              "\n",
              "  .colab-df-quickchart-complete:disabled,\n",
              "  .colab-df-quickchart-complete:disabled:hover {\n",
              "    background-color: var(--disabled-bg-color);\n",
              "    fill: var(--disabled-fill-color);\n",
              "    box-shadow: none;\n",
              "  }\n",
              "\n",
              "  .colab-df-spinner {\n",
              "    border: 2px solid var(--fill-color);\n",
              "    border-color: transparent;\n",
              "    border-bottom-color: var(--fill-color);\n",
              "    animation:\n",
              "      spin 1s steps(1) infinite;\n",
              "  }\n",
              "\n",
              "  @keyframes spin {\n",
              "    0% {\n",
              "      border-color: transparent;\n",
              "      border-bottom-color: var(--fill-color);\n",
              "      border-left-color: var(--fill-color);\n",
              "    }\n",
              "    20% {\n",
              "      border-color: transparent;\n",
              "      border-left-color: var(--fill-color);\n",
              "      border-top-color: var(--fill-color);\n",
              "    }\n",
              "    30% {\n",
              "      border-color: transparent;\n",
              "      border-left-color: var(--fill-color);\n",
              "      border-top-color: var(--fill-color);\n",
              "      border-right-color: var(--fill-color);\n",
              "    }\n",
              "    40% {\n",
              "      border-color: transparent;\n",
              "      border-right-color: var(--fill-color);\n",
              "      border-top-color: var(--fill-color);\n",
              "    }\n",
              "    60% {\n",
              "      border-color: transparent;\n",
              "      border-right-color: var(--fill-color);\n",
              "    }\n",
              "    80% {\n",
              "      border-color: transparent;\n",
              "      border-right-color: var(--fill-color);\n",
              "      border-bottom-color: var(--fill-color);\n",
              "    }\n",
              "    90% {\n",
              "      border-color: transparent;\n",
              "      border-bottom-color: var(--fill-color);\n",
              "    }\n",
              "  }\n",
              "</style>\n",
              "\n",
              "  <script>\n",
              "    async function quickchart(key) {\n",
              "      const quickchartButtonEl =\n",
              "        document.querySelector('#' + key + ' button');\n",
              "      quickchartButtonEl.disabled = true;  // To prevent multiple clicks.\n",
              "      quickchartButtonEl.classList.add('colab-df-spinner');\n",
              "      try {\n",
              "        const charts = await google.colab.kernel.invokeFunction(\n",
              "            'suggestCharts', [key], {});\n",
              "      } catch (error) {\n",
              "        console.error('Error during call to suggestCharts:', error);\n",
              "      }\n",
              "      quickchartButtonEl.classList.remove('colab-df-spinner');\n",
              "      quickchartButtonEl.classList.add('colab-df-quickchart-complete');\n",
              "    }\n",
              "    (() => {\n",
              "      let quickchartButtonEl =\n",
              "        document.querySelector('#df-2d05910c-ad49-49b8-a986-a313be97203e button');\n",
              "      quickchartButtonEl.style.display =\n",
              "        google.colab.kernel.accessAllowed ? 'block' : 'none';\n",
              "    })();\n",
              "  </script>\n",
              "</div>\n",
              "\n",
              "    </div>\n",
              "  </div>\n"
            ],
            "application/vnd.google.colaboratory.intrinsic+json": {
              "type": "dataframe",
              "variable_name": "tweets_df",
              "repr_error": "0"
            }
          },
          "metadata": {},
          "execution_count": 6
        }
      ]
    },
    {
      "cell_type": "code",
      "source": [
        "tweets_df.info()"
      ],
      "metadata": {
        "colab": {
          "base_uri": "https://localhost:8080/"
        },
        "id": "EGPgPJ36fO8S",
        "outputId": "8e4a7c39-2df3-400f-9cd5-e2b76ff043df"
      },
      "execution_count": 7,
      "outputs": [
        {
          "output_type": "stream",
          "name": "stdout",
          "text": [
            "<class 'pandas.core.frame.DataFrame'>\n",
            "Index: 48427 entries, 1 to 117404\n",
            "Data columns (total 8 columns):\n",
            " #   Column    Non-Null Count  Dtype \n",
            "---  ------    --------------  ----- \n",
            " 0   id        48427 non-null  int64 \n",
            " 1   content   48427 non-null  object\n",
            " 2   date      48427 non-null  object\n",
            " 3   hashtags  48153 non-null  object\n",
            " 4   likes     48427 non-null  int64 \n",
            " 5   retweets  48427 non-null  int64 \n",
            " 6   url       48427 non-null  object\n",
            " 7   docId     48427 non-null  object\n",
            "dtypes: int64(3), object(5)\n",
            "memory usage: 4.3+ MB\n"
          ]
        }
      ]
    },
    {
      "cell_type": "markdown",
      "source": [
        "## Ranking Score"
      ],
      "metadata": {
        "id": "pq96JQx-c3DB"
      }
    },
    {
      "cell_type": "markdown",
      "source": [
        "### TF-IDF + Cosine Similarity"
      ],
      "metadata": {
        "id": "8NJaSQ7VdJ1P"
      }
    },
    {
      "cell_type": "code",
      "source": [
        "# Example query\n",
        "query = \"support farmers\"\n",
        "\n",
        "# TF-IDF Vectorization\n",
        "tfidf_vectorizer = TfidfVectorizer()\n",
        "tfidf_matrix = tfidf_vectorizer.fit_transform(tweets_df['content'])\n",
        "\n",
        "# Calculate TF-IDF for the query\n",
        "query_vector = tfidf_vectorizer.transform([query])\n",
        "\n",
        "# Compute cosine similarities between the query and all tweets\n",
        "cosine_similarities = cosine_similarity(query_vector, tfidf_matrix).flatten()\n",
        "\n",
        "# Rank tweets based on similarity scores\n",
        "top_20_tf_idf = np.argsort(-cosine_similarities)[:20]\n",
        "\n",
        "# Store the scores for the top 20 tweets\n",
        "scores = cosine_similarities[top_20_tf_idf]\n",
        "\n",
        "# Create a DataFrame for the results\n",
        "top_20_tf_idf_tweets = tweets_df.iloc[top_20_tf_idf][['content', 'likes', 'retweets']]\n",
        "top_20_tf_idf_tweets['score'] = scores\n",
        "\n",
        "print(\"Top 20 TF-IDF Ranked Tweets:\")\n",
        "print(top_20_tf_idf_tweets)"
      ],
      "metadata": {
        "colab": {
          "base_uri": "https://localhost:8080/"
        },
        "id": "kU3usOjldXsy",
        "outputId": "c6aa0e12-a9d3-4c44-c930-3c1b0c401ca9"
      },
      "execution_count": 9,
      "outputs": [
        {
          "output_type": "stream",
          "name": "stdout",
          "text": [
            "Top 20 TF-IDF Ranked Tweets:\n",
            "                                                  content  likes  retweets  \\\n",
            "20948   let support farmers also modirojgard farmerspr...      1         1   \n",
            "4718            farmersprotest godimed we support farmers      1         1   \n",
            "15771   petrolpr godimed farmersprotest sav farmers sa...      0         0   \n",
            "43362                              support farmersprotest      5         1   \n",
            "93395                              support farmersprotest      1         0   \n",
            "20750                              support farmersprotest      0         0   \n",
            "25862                            i support farmersprotest      6         5   \n",
            "72590                            i support farmersprotest      0         0   \n",
            "34693                              support farmersprotest      3         2   \n",
            "23493                              support farmersprotest      0         0   \n",
            "92024                              farmersprotest support     31         2   \n",
            "12154                              support farmersprotest      7         7   \n",
            "104694                             support farmersprotest      1         0   \n",
            "73872                              support farmersprotest      2         1   \n",
            "34702                            i support farmersprotest      1         2   \n",
            "52484                              support farmersprotest      2         0   \n",
            "43075                              support farmersprotest      4         1   \n",
            "60196                              support farmersprotest      0         0   \n",
            "86370                            i support farmersprotest      2         0   \n",
            "3148                               support farmersprotest      2         0   \n",
            "\n",
            "           score  \n",
            "20948   0.652917  \n",
            "4718    0.601766  \n",
            "15771   0.348922  \n",
            "43362   0.292598  \n",
            "93395   0.292598  \n",
            "20750   0.292598  \n",
            "25862   0.292598  \n",
            "72590   0.292598  \n",
            "34693   0.292598  \n",
            "23493   0.292598  \n",
            "92024   0.292598  \n",
            "12154   0.292598  \n",
            "104694  0.292598  \n",
            "73872   0.292598  \n",
            "34702   0.292598  \n",
            "52484   0.292598  \n",
            "43075   0.292598  \n",
            "60196   0.292598  \n",
            "86370   0.292598  \n",
            "3148    0.292598  \n"
          ]
        }
      ]
    },
    {
      "cell_type": "markdown",
      "source": [
        "### Our-Score + Cosine Similarity"
      ],
      "metadata": {
        "id": "dw8vtInbdVR5"
      }
    },
    {
      "cell_type": "code",
      "source": [],
      "metadata": {
        "id": "UUdNlBAmdEXW"
      },
      "execution_count": null,
      "outputs": []
    },
    {
      "cell_type": "markdown",
      "source": [
        "### BM25"
      ],
      "metadata": {
        "id": "4jUkPVhldfs6"
      }
    },
    {
      "cell_type": "code",
      "source": [
        "# Tokenize each tweet content\n",
        "tokenized_tweets = [tweet.split(\" \") for tweet in tweets_df['content']]\n",
        "query_tokens = query.split(\" \")\n",
        "\n",
        "# Initialize BM25 and calculate scores\n",
        "bm25 = BM25Okapi(tokenized_tweets)\n",
        "bm25_scores = bm25.get_scores(query_tokens)\n",
        "\n",
        "# Rank tweets based on BM25 scores\n",
        "top_20_bm25 = np.argsort(-bm25_scores)[:20]\n",
        "top_20_bm25_tweets = tweets_df.iloc[top_20_bm25]\n",
        "\n",
        "# Store the scores in the DataFrame\n",
        "top_20_bm25_tweets['bm25_score'] = bm25_scores[top_20_bm25]\n",
        "\n",
        "print(\"Top 20 BM25 Ranked Tweets:\")\n",
        "print(top_20_bm25_tweets[['content', 'likes', 'retweets', 'bm25_score']])"
      ],
      "metadata": {
        "colab": {
          "base_uri": "https://localhost:8080/"
        },
        "id": "AqVDXtiydwZm",
        "outputId": "dfaab17f-5692-4da4-a618-8b3b83471016"
      },
      "execution_count": 11,
      "outputs": [
        {
          "output_type": "stream",
          "name": "stdout",
          "text": [
            "Top 20 BM25 Ranked Tweets:\n",
            "                                                  content  likes  retweets  \\\n",
            "4718            farmersprotest godimed we support farmers      1         1   \n",
            "20948   let support farmers also modirojgard farmerspr...      1         1   \n",
            "15771   petrolpr godimed farmersprotest sav farmers sa...      0         0   \n",
            "85129   chenna metr abb to provid saf tunnel ventilati...      1         4   \n",
            "3046    sal sal indiaonsal but farmers are not on sal ...      0         0   \n",
            "96437   gobackfascistmod gobackmod gobackfascistmod go...      0         0   \n",
            "85814   support farmersprotest support gretathunberg s...      6         1   \n",
            "102967  support farmer support farmer support twitter ...      1         1   \n",
            "91051               support farmer support farmersprotest      0         0   \n",
            "98193                support farmersprotest thank support      0         0   \n",
            "46713   support chakkajam farmersprotest yes support c...      3         2   \n",
            "114826  support farmer mahapanchayatrevolut farmerspro...      0         0   \n",
            "59541   support farmersrprotest support farmersprotest...      0         0   \n",
            "75748         support farmer support human farmersprotest     16        11   \n",
            "114866  support farmer mahapanchayatrevolut farmerspro...      0         0   \n",
            "114963  support farmer mahapanchayatrevolut farmerspro...      2         1   \n",
            "58754   support support farmer nation heart soul farme...      1         0   \n",
            "72310   support farmer support indian youth support fa...      0         0   \n",
            "51153   support farmer support nation farmersprotest r...      0         1   \n",
            "9100    support farmer support truth pagdisambhaljatta...      0         0   \n",
            "\n",
            "        bm25_score  \n",
            "4718     15.073488  \n",
            "20948    14.371644  \n",
            "15771    11.162219  \n",
            "85129     8.810378  \n",
            "3046      8.810378  \n",
            "96437     7.071993  \n",
            "85814     3.983848  \n",
            "102967    3.768288  \n",
            "91051     3.759255  \n",
            "98193     3.759255  \n",
            "46713     3.688092  \n",
            "114826    3.640790  \n",
            "59541     3.640790  \n",
            "75748     3.640790  \n",
            "114866    3.640790  \n",
            "114963    3.640790  \n",
            "58754     3.611239  \n",
            "72310     3.537524  \n",
            "51153     3.529563  \n",
            "9100      3.529563  \n"
          ]
        },
        {
          "output_type": "stream",
          "name": "stderr",
          "text": [
            "<ipython-input-11-5b54ba1a02f0>:14: SettingWithCopyWarning: \n",
            "A value is trying to be set on a copy of a slice from a DataFrame.\n",
            "Try using .loc[row_indexer,col_indexer] = value instead\n",
            "\n",
            "See the caveats in the documentation: https://pandas.pydata.org/pandas-docs/stable/user_guide/indexing.html#returning-a-view-versus-a-copy\n",
            "  top_20_bm25_tweets['bm25_score'] = bm25_scores[top_20_bm25]\n"
          ]
        }
      ]
    },
    {
      "cell_type": "markdown",
      "source": [
        "### Top 20 Documents using Word2Vec + Cosine Similarity"
      ],
      "metadata": {
        "id": "BYdEHCv7dxMt"
      }
    },
    {
      "cell_type": "code",
      "source": [
        "# Get tweet vector by averaging word vectors\n",
        "def tweet2vec(tweet):\n",
        "    words = tweet.split()\n",
        "    word_vectors = [model.wv[word] for word in words if word in model.wv]\n",
        "    return np.mean(word_vectors, axis=0) if word_vectors else np.zeros(model.vector_size)"
      ],
      "metadata": {
        "id": "U-1vhEC8iAAA"
      },
      "execution_count": 12,
      "outputs": []
    },
    {
      "cell_type": "code",
      "source": [
        "# Train Word2Vec model\n",
        "model = Word2Vec(sentences=tokenized_tweets, vector_size=100, window=5, min_count=1, workers=4)\n",
        "\n",
        "# Calculate tweet vectors for each tweet and the query\n",
        "tweet_vectors = np.array([tweet2vec(tweet) for tweet in tweets_df['content']])\n",
        "query_vector = tweet2vec(query)\n",
        "\n",
        "# Calculate cosine similarity between query vector and tweet vectors\n",
        "cosine_similarities_word2vec = cosine_similarity([query_vector], tweet_vectors).flatten()\n",
        "\n",
        "# Rank tweets based on word2vec similarity scores\n",
        "top_20_word2vec = np.argsort(-cosine_similarities_word2vec)[:20]\n",
        "scores_word2vec = cosine_similarities_word2vec[top_20_word2vec]\n",
        "top_20_word2vec_tweets = tweets_df.iloc[top_20_word2vec]\n",
        "top_20_word2vec_tweets['score'] = scores_word2vec\n",
        "\n",
        "print(\"Top 20 Word2Vec Ranked Tweets:\")\n",
        "print(top_20_word2vec_tweets[['content', 'likes', 'retweets', 'score']])"
      ],
      "metadata": {
        "colab": {
          "base_uri": "https://localhost:8080/"
        },
        "id": "FDEp3wjfd8k-",
        "outputId": "cd98dcd5-b7f7-485d-a962-ae43502e46b1"
      },
      "execution_count": 14,
      "outputs": [
        {
          "output_type": "stream",
          "name": "stdout",
          "text": [
            "Top 20 Word2Vec Ranked Tweets:\n",
            "                                                  content  likes  retweets  \\\n",
            "46713   support chakkajam farmersprotest yes support c...      3         2   \n",
            "98193                support farmersprotest thank support      0         0   \n",
            "91051               support farmer support farmersprotest      0         0   \n",
            "36505   thank support support farmer farmersprotest tc...      0         0   \n",
            "101005  thank support farmersprotest india appreci sup...     56        16   \n",
            "19258   support farmer retweet show support farmerspro...      0         0   \n",
            "102967  support farmer support farmer support twitter ...      1         1   \n",
            "114866  support farmer mahapanchayatrevolut farmerspro...      0         0   \n",
            "114826  support farmer mahapanchayatrevolut farmerspro...      0         0   \n",
            "114963  support farmer mahapanchayatrevolut farmerspro...      2         1   \n",
            "17929   support comment stand youth badpolit badleader...     13         7   \n",
            "47019                     support farmersprotest movement      0         0   \n",
            "52383   support call railrokoforfarm farmer support fa...      4         3   \n",
            "52198   support call railrokoforfarm farmer support fa...     45        55   \n",
            "52202   support call railrokoforfarm farmer support fa...      2         3   \n",
            "72897   support farmer support nation remembersirchhot...      0         2   \n",
            "83500                       remind support farmersprotest      5         2   \n",
            "42383   support farmer support nation farmersprotest r...      2         0   \n",
            "58754   support support farmer nation heart soul farme...      1         0   \n",
            "101152                       shown support farmersprotest     16         0   \n",
            "\n",
            "           score  \n",
            "46713   0.941108  \n",
            "98193   0.937708  \n",
            "91051   0.934394  \n",
            "36505   0.928898  \n",
            "101005  0.926244  \n",
            "19258   0.925904  \n",
            "102967  0.922910  \n",
            "114866  0.919994  \n",
            "114826  0.919994  \n",
            "114963  0.919994  \n",
            "17929   0.914534  \n",
            "47019   0.909887  \n",
            "52383   0.908801  \n",
            "52198   0.908801  \n",
            "52202   0.908801  \n",
            "72897   0.907415  \n",
            "83500   0.906564  \n",
            "42383   0.906367  \n",
            "58754   0.906184  \n",
            "101152  0.904109  \n"
          ]
        },
        {
          "output_type": "stream",
          "name": "stderr",
          "text": [
            "<ipython-input-14-f7becb82b0a7>:15: SettingWithCopyWarning: \n",
            "A value is trying to be set on a copy of a slice from a DataFrame.\n",
            "Try using .loc[row_indexer,col_indexer] = value instead\n",
            "\n",
            "See the caveats in the documentation: https://pandas.pydata.org/pandas-docs/stable/user_guide/indexing.html#returning-a-view-versus-a-copy\n",
            "  top_20_word2vec_tweets['score'] = scores_word2vec\n"
          ]
        }
      ]
    },
    {
      "cell_type": "code",
      "source": [],
      "metadata": {
        "id": "ZdfP47g4iE2K"
      },
      "execution_count": null,
      "outputs": []
    }
  ]
}